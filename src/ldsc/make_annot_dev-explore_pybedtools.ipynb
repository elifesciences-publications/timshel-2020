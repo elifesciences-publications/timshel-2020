{
 "cells": [
  {
   "cell_type": "code",
   "execution_count": 1,
   "metadata": {
    "ExecuteTime": {
     "end_time": "2018-12-20T10:25:43.401361Z",
     "start_time": "2018-12-20T10:25:43.279418Z"
    }
   },
   "outputs": [
    {
     "name": "stdout",
     "output_type": "stream",
     "text": [
      "/projects/timshel/sc-genetics/sc-genetics/src/ldsc\r\n"
     ]
    }
   ],
   "source": []
  },
  {
   "cell_type": "code",
   "execution_count": 1,
   "metadata": {
    "ExecuteTime": {
     "end_time": "2019-01-18T10:03:00.498588Z",
     "start_time": "2019-01-18T10:03:00.003947Z"
    },
    "collapsed": true
   },
   "outputs": [],
   "source": [
    "import pybedtools\n",
    "from pybedtools import BedTool\n",
    "\n",
    "import os\n",
    "import pandas as pd\n",
    "import numpy as np"
   ]
  },
  {
   "cell_type": "code",
   "execution_count": 113,
   "metadata": {
    "ExecuteTime": {
     "end_time": "2018-12-18T15:20:26.123434Z",
     "start_time": "2018-12-18T15:20:26.110375Z"
    },
    "collapsed": true
   },
   "outputs": [],
   "source": [
    "list_of_list_iter = [[\"chr22\",\"24008140\",\"24008142\",\"nameA\",\"score_A\"],\n",
    "[\"chr22\",\"24008402\",\"24008404\",\"nameB\",\"score_B\"],\n",
    "[\"chr22\",\"24008408\",\"24008410\",\"nameC\",\"score_C\"],\n",
    "[\"chr22\",\"24008464\",\"24008466\",\"nameD\",\"score_D\"]]"
   ]
  },
  {
   "cell_type": "code",
   "execution_count": 115,
   "metadata": {
    "ExecuteTime": {
     "end_time": "2018-12-18T15:20:50.123787Z",
     "start_time": "2018-12-18T15:20:50.110256Z"
    }
   },
   "outputs": [
    {
     "name": "stdout",
     "output_type": "stream",
     "text": [
      "chr22\t24008140\t24008142\tnameA\tscore_A\n",
      " chr22\t24008402\t24008404\tnameB\tscore_B\n",
      " chr22\t24008408\t24008410\tnameC\tscore_C\n",
      " chr22\t24008464\t24008466\tnameD\tscore_D\n",
      " "
     ]
    }
   ],
   "source": [
    "BedTool(list_of_list_iter).head()"
   ]
  },
  {
   "cell_type": "code",
   "execution_count": 132,
   "metadata": {
    "ExecuteTime": {
     "end_time": "2018-12-18T15:34:02.649064Z",
     "start_time": "2018-12-18T15:34:02.586028Z"
    }
   },
   "outputs": [
    {
     "name": "stdout",
     "output_type": "stream",
     "text": [
      "chr22\n",
      "24008140\n",
      "24008142\n",
      "nameA\n",
      ".\n",
      "chr22\t24008140\t24008142\tnameA\t.\n",
      " chr22\t24008402\t24008404\tnameB\t.\n",
      " chr22\t24008408\t24008410\tnameC\t.\n",
      " chr22\t24008464\t24008466\tnameD\t.\n",
      " "
     ]
    },
    {
     "name": "stderr",
     "output_type": "stream",
     "text": [
      " ***** WARNING: Non numeric value score_A in 5.\n",
      " ***** WARNING: Non numeric value score_B in 5.\n",
      " ***** WARNING: Non numeric value score_C in 5.\n",
      " ***** WARNING: Non numeric value score_D in 5.\n"
     ]
    }
   ],
   "source": [
    "# mymerged = BedTool(list_of_list_iter).sort().merge(c=\"4,5\", o=\"distinct,max\")\n",
    "mymerged = BedTool(list_of_list_iter).sort().merge(c=[4,5], o=[\"distinct\",\"max\"])\n",
    "print(mymerged[0].chrom)\n",
    "print(mymerged[0].start)\n",
    "print(mymerged[0].end)\n",
    "print(mymerged[0].name)\n",
    "print(mymerged[0].score)\n",
    "mymerged.head()"
   ]
  },
  {
   "cell_type": "code",
   "execution_count": null,
   "metadata": {
    "collapsed": true
   },
   "outputs": [],
   "source": [
    "                    sum, min, max, absmin, absmax,\n",
    "                    mean, median, mode, antimode\n",
    "                    stdev, sstdev\n",
    "                    collapse (i.e., print a delimited list (duplicates allowed)), \n",
    "                    distinct (i.e., print a delimited list (NO duplicates allowed))"
   ]
  },
  {
   "cell_type": "code",
   "execution_count": 28,
   "metadata": {
    "ExecuteTime": {
     "end_time": "2018-12-18T12:06:31.380527Z",
     "start_time": "2018-12-18T12:06:31.367595Z"
    }
   },
   "outputs": [
    {
     "data": {
      "text/plain": [
       "['164.gtf',\n",
       " 'BEAF_Kc_Bushey_2009.bed',\n",
       " 'BEAF_Mbn2_Bushey_2009.bed',\n",
       " 'CTCF_Kc_Bushey_2009.bed',\n",
       " 'CTCF_Mbn2_Bushey_2009.bed',\n",
       " 'Cp190_Kc_Bushey_2009.bed',\n",
       " 'Cp190_Mbn2_Bushey_2009.bed',\n",
       " 'SuHw_Kc_Bushey_2009.bed',\n",
       " 'SuHw_Mbn2_Bushey_2009.bed',\n",
       " 'a.bed',\n",
       " 'b.bed',\n",
       " 'bedpe.bed',\n",
       " 'bedpe2.bed',\n",
       " 'c.gff',\n",
       " 'd.gff',\n",
       " 'dm3-chr2L-5M-invalid.gff.gz',\n",
       " 'dm3-chr2L-5M.gff.gz',\n",
       " 'exons.gff',\n",
       " 'expand_test.bed',\n",
       " 'gdc.1.100.bam',\n",
       " 'gdc.50.200.bam',\n",
       " 'gdc.bam',\n",
       " 'gdc.bed',\n",
       " 'gdc.gff',\n",
       " 'gdc.gff.gz',\n",
       " 'gdc.othersort.bam',\n",
       " 'gdc.sorted.bam',\n",
       " 'hg19.gff',\n",
       " 'hg38-base.bed',\n",
       " 'hg38-problem.bed',\n",
       " 'issue_121.bam',\n",
       " 'm1.bed',\n",
       " 'multibamcov_test.bed',\n",
       " 'reads.bam',\n",
       " 'rmsk.hg18.chr21.small.bed',\n",
       " 'rmsk.hg18.chr21.small.bed.gz',\n",
       " 'small.bam',\n",
       " 'snps.bed.gz',\n",
       " 'tag_test1.bed',\n",
       " 'tag_test2.bed',\n",
       " 'test_bedpe.bed',\n",
       " 'test_peaks.bed',\n",
       " 'test_tsses.bed',\n",
       " 'vcf-stderr-test.bed',\n",
       " 'venn.b.bed',\n",
       " 'venn.c.bed',\n",
       " 'x.bam',\n",
       " 'x.bed',\n",
       " 'y.bam']"
      ]
     },
     "execution_count": 28,
     "metadata": {},
     "output_type": "execute_result"
    }
   ],
   "source": [
    "# list the example bed files\n",
    "files = pybedtools.list_example_files()\n",
    "files"
   ]
  },
  {
   "cell_type": "code",
   "execution_count": 29,
   "metadata": {
    "ExecuteTime": {
     "end_time": "2018-12-18T12:07:17.434118Z",
     "start_time": "2018-12-18T12:07:17.422834Z"
    }
   },
   "outputs": [
    {
     "data": {
      "text/plain": [
       "'/tools/anaconda/3-4.4.0/envs/py3_anaconda3_PT180510/lib/python3.6/site-packages/pybedtools/test/data/gdc.gff'"
      ]
     },
     "execution_count": 29,
     "metadata": {},
     "output_type": "execute_result"
    }
   ],
   "source": [
    "# get the full path to an example bed file\n",
    "bedfn = pybedtools.example_filename('a.bed')\n",
    "bedfn = pybedtools.example_filename('gdc.gff')\n",
    "bedfn\n"
   ]
  },
  {
   "cell_type": "code",
   "execution_count": 30,
   "metadata": {
    "ExecuteTime": {
     "end_time": "2018-12-18T12:07:19.512555Z",
     "start_time": "2018-12-18T12:07:19.502909Z"
    },
    "collapsed": true
   },
   "outputs": [],
   "source": [
    "# https://daler.github.io/pybedtools/autodocs/pybedtools.bedtool.BedTool.html\n",
    "# fn is typically the name of a BED-like file, but can also be one of the following:\n",
    "# a string filename\n",
    "# another BedTool object\n",
    "# an iterable of Interval objects\n",
    "# an open file object\n",
    "# a “file contents” string (see below)\n",
    "myBedTool = BedTool(bedfn)"
   ]
  },
  {
   "cell_type": "code",
   "execution_count": 31,
   "metadata": {
    "ExecuteTime": {
     "end_time": "2018-12-18T12:07:20.579660Z",
     "start_time": "2018-12-18T12:07:20.567331Z"
    }
   },
   "outputs": [
    {
     "name": "stdout",
     "output_type": "stream",
     "text": [
      "chr2L\t.\tUTR\t41\t70\t0\t+\t.\tID=mRNA:xs2:UTR:41-70;Parent=mRNA:xs2;\n",
      " chr2L\t.\tCDS\t71\t130\t0\t+\t.\tID=mRNA:xs2:CDS:71-130;Parent=mRNA:xs2;\n",
      " chr2L\t.\tintron\t131\t170\t0\t+\t.\tID=mRNA:xs2:intron:131-170;Parent=mRNA:xs2;\n",
      " chr2L\t.\tCDS\t171\t200\t0\t+\t.\tID=mRNA:xs2:CDS:171-200;Parent=mRNA:xs2;\n",
      " chr2L\t.\tUTR\t201\t220\t0\t+\t.\tID=mRNA:xs2:UTR:201-220;Parent=mRNA:xs2;\n",
      " chr2L\t.\texon\t41\t130\t0\t+\t.\tID=mRNA:xs2:exon:41-130;Parent=mRNA:xs2;\n",
      " chr2L\t.\texon\t171\t220\t0\t+\t.\tID=mRNA:xs2:exon:171-220;Parent=mRNA:xs2;\n",
      " chr2L\t.\tmRNA\t41\t220\t0\t+\t.\tID=mRNA:xs2;Parent=g2;\n",
      " chr2L\t.\tCDS\t161\t230\t0\t-\t.\tID=tRNA:t2:CDS:161-230;Parent=tRNA:t2;\n",
      " chr2L\t.\texon\t161\t230\t0\t-\t.\tID=tRNA:t2:exon:161-230;Parent=tRNA:t2;\n",
      " "
     ]
    }
   ],
   "source": [
    "myBedTool.head()"
   ]
  },
  {
   "cell_type": "code",
   "execution_count": 37,
   "metadata": {
    "ExecuteTime": {
     "end_time": "2018-12-18T12:08:00.376481Z",
     "start_time": "2018-12-18T12:08:00.364948Z"
    }
   },
   "outputs": [
    {
     "data": {
      "text/plain": [
       "pybedtools.bedtool.BedTool"
      ]
     },
     "execution_count": 37,
     "metadata": {},
     "output_type": "execute_result"
    }
   ],
   "source": [
    "type(myBedTool) # pybedtools.bedtool.BedTool"
   ]
  },
  {
   "cell_type": "code",
   "execution_count": 48,
   "metadata": {
    "ExecuteTime": {
     "end_time": "2018-12-18T12:49:00.864068Z",
     "start_time": "2018-12-18T12:49:00.850446Z"
    }
   },
   "outputs": [
    {
     "name": "stdout",
     "output_type": "stream",
     "text": [
      "40\n",
      "0\n"
     ]
    }
   ],
   "source": [
    "print(myBedTool[0].start)\n",
    "print(myBedTool[0].score)"
   ]
  },
  {
   "cell_type": "code",
   "execution_count": 50,
   "metadata": {
    "ExecuteTime": {
     "end_time": "2018-12-18T12:49:23.776537Z",
     "start_time": "2018-12-18T12:49:23.754890Z"
    }
   },
   "outputs": [
    {
     "ename": "KeyError",
     "evalue": "'score'",
     "output_type": "error",
     "traceback": [
      "\u001b[0;31m---------------------------------------------------------------------------\u001b[0m",
      "\u001b[0;31mKeyError\u001b[0m                                  Traceback (most recent call last)",
      "\u001b[0;32m<ipython-input-50-f87f90bb3397>\u001b[0m in \u001b[0;36m<module>\u001b[0;34m()\u001b[0m\n\u001b[0;32m----> 1\u001b[0;31m \u001b[0mmyBedTool\u001b[0m\u001b[0;34m[\u001b[0m\u001b[0;36m0\u001b[0m\u001b[0;34m]\u001b[0m\u001b[0;34m[\u001b[0m\u001b[0;34m\"score\"\u001b[0m\u001b[0;34m]\u001b[0m \u001b[0;34m=\u001b[0m \u001b[0;36m0\u001b[0m\u001b[0;34m\u001b[0m\u001b[0m\n\u001b[0m",
      "\u001b[0;32m/tools/anaconda/3-4.4.0/envs/py3_anaconda3_PT180510/lib/python3.6/site-packages/pybedtools/cbedtools.pyx\u001b[0m in \u001b[0;36mpybedtools.cbedtools.Interval.__setitem__\u001b[0;34m()\u001b[0m\n",
      "\u001b[0;32m/tools/anaconda/3-4.4.0/envs/py3_anaconda3_PT180510/lib/python3.6/site-packages/pybedtools/cbedtools.pyx\u001b[0m in \u001b[0;36mpybedtools.cbedtools.Interval.score.__set__\u001b[0;34m()\u001b[0m\n",
      "\u001b[0;31mKeyError\u001b[0m: 'score'"
     ]
    }
   ],
   "source": [
    "myBedTool[0][\"score\"] = 0"
   ]
  },
  {
   "cell_type": "code",
   "execution_count": 46,
   "metadata": {
    "ExecuteTime": {
     "end_time": "2018-12-18T12:42:54.888258Z",
     "start_time": "2018-12-18T12:42:54.874108Z"
    }
   },
   "outputs": [
    {
     "data": {
      "text/plain": [
       "'gff'"
      ]
     },
     "execution_count": 46,
     "metadata": {},
     "output_type": "execute_result"
    }
   ],
   "source": [
    "myBedTool.file_type"
   ]
  },
  {
   "cell_type": "code",
   "execution_count": 2,
   "metadata": {
    "ExecuteTime": {
     "end_time": "2019-01-18T10:03:07.398134Z",
     "start_time": "2019-01-18T10:03:07.394997Z"
    },
    "collapsed": true
   },
   "outputs": [],
   "source": [
    "bedA = BedTool(pybedtools.example_filename('a.bed'))\n",
    "bedB = BedTool(pybedtools.example_filename('b.bed'))"
   ]
  },
  {
   "cell_type": "code",
   "execution_count": 3,
   "metadata": {
    "ExecuteTime": {
     "end_time": "2019-01-18T09:11:33.333204Z",
     "start_time": "2019-01-18T09:11:33.329575Z"
    }
   },
   "outputs": [
    {
     "name": "stdout",
     "output_type": "stream",
     "text": [
      "chr1\t1\t100\tfeature1\t0\t+\n",
      " chr1\t100\t200\tfeature2\t0\t+\n",
      " chr1\t150\t500\tfeature3\t0\t-\n",
      " chr1\t900\t950\tfeature4\t0\t+\n",
      " None\n",
      "chr1\t155\t200\tfeature5\t0\t-\n",
      " chr1\t800\t901\tfeature6\t0\t+\n",
      " None\n"
     ]
    }
   ],
   "source": [
    "print(bedA.head())\n",
    "print(bedB.head())"
   ]
  },
  {
   "cell_type": "code",
   "execution_count": 6,
   "metadata": {
    "ExecuteTime": {
     "end_time": "2019-01-18T10:03:47.793143Z",
     "start_time": "2019-01-18T10:03:47.782622Z"
    }
   },
   "outputs": [
    {
     "name": "stdout",
     "output_type": "stream",
     "text": [
      "chr1\t155\t200\tfeature2\t0\t+\n",
      " chr1\t155\t200\tfeature3\t0\t-\n",
      " chr1\t900\t901\tfeature4\t0\t+\n",
      " "
     ]
    }
   ],
   "source": [
    "bedA.intersect(bedB).head()"
   ]
  },
  {
   "cell_type": "code",
   "execution_count": 4,
   "metadata": {
    "ExecuteTime": {
     "end_time": "2019-01-18T10:03:29.484217Z",
     "start_time": "2019-01-18T10:03:29.469937Z"
    }
   },
   "outputs": [
    {
     "name": "stdout",
     "output_type": "stream",
     "text": [
      "chr1\t155\t200\tfeature5\t0\t-\n",
      " chr1\t155\t200\tfeature5\t0\t-\n",
      " chr1\t900\t901\tfeature6\t0\t+\n",
      " "
     ]
    }
   ],
   "source": [
    "bedB.intersect(bedA).head()"
   ]
  },
  {
   "cell_type": "code",
   "execution_count": 9,
   "metadata": {
    "ExecuteTime": {
     "end_time": "2019-01-18T10:05:36.732027Z",
     "start_time": "2019-01-18T10:05:36.719819Z"
    }
   },
   "outputs": [
    {
     "name": "stdout",
     "output_type": "stream",
     "text": [
      "chr1\t155\t200\tfeature5\t0\t-\tchr1\t100\t200\tfeature2\t0\t+\n",
      " chr1\t155\t200\tfeature5\t0\t-\tchr1\t150\t500\tfeature3\t0\t-\n",
      " chr1\t800\t901\tfeature6\t0\t+\tchr1\t900\t950\tfeature4\t0\t+\n",
      " "
     ]
    }
   ],
   "source": [
    "annotbed = bedB.intersect(bedA, wa=True, wb=True)\n",
    "annotbed.head()"
   ]
  },
  {
   "cell_type": "code",
   "execution_count": 10,
   "metadata": {
    "ExecuteTime": {
     "end_time": "2019-01-18T10:05:37.751078Z",
     "start_time": "2019-01-18T10:05:37.740677Z"
    }
   },
   "outputs": [
    {
     "data": {
      "text/plain": [
       "'/tmp/pybedtools.UeC3F9.tmp'"
      ]
     },
     "execution_count": 10,
     "metadata": {},
     "output_type": "execute_result"
    }
   ],
   "source": [
    "annotbed.fn"
   ]
  },
  {
   "cell_type": "code",
   "execution_count": 11,
   "metadata": {
    "ExecuteTime": {
     "end_time": "2019-01-18T10:05:38.568884Z",
     "start_time": "2019-01-18T10:05:38.563888Z"
    }
   },
   "outputs": [],
   "source": [
    "\n",
    "bp = [x.start for x in annotbed] # PT NOTE: make list of all bp positions for the overlapping SNPs | All features, no matter what the file type, have chrom, start, stop, name, score, and strand attributes.\n",
    "annotation_value = [x.fields[7] for x in annotbed] # returns list of strings. Extract the 'score' column. This is column 7 in the 0-based column indexing. *OBS*: x.fields[7] is a string.\n",
    "df_annot_overlap_bp = pd.DataFrame({'BP': bp, \"DUMMY\":annotation_value}) # FINUCANE ORIG: df_int = pd.DataFrame({'BP': bp, 'ANNOT':1})"
   ]
  },
  {
   "cell_type": "code",
   "execution_count": 16,
   "metadata": {
    "ExecuteTime": {
     "end_time": "2019-01-18T09:20:03.489804Z",
     "start_time": "2019-01-18T09:20:03.487505Z"
    },
    "collapsed": true
   },
   "outputs": [],
   "source": [
    "os.remove(annotbed.fn)"
   ]
  },
  {
   "cell_type": "code",
   "execution_count": 17,
   "metadata": {
    "ExecuteTime": {
     "end_time": "2019-01-18T09:20:07.092838Z",
     "start_time": "2019-01-18T09:20:07.089255Z"
    }
   },
   "outputs": [
    {
     "data": {
      "text/plain": [
       "[155, 155, 800]"
      ]
     },
     "execution_count": 17,
     "metadata": {},
     "output_type": "execute_result"
    }
   ],
   "source": [
    "bp"
   ]
  },
  {
   "cell_type": "code",
   "execution_count": 18,
   "metadata": {
    "ExecuteTime": {
     "end_time": "2019-01-18T09:20:10.218160Z",
     "start_time": "2019-01-18T09:20:10.215310Z"
    }
   },
   "outputs": [
    {
     "data": {
      "text/plain": [
       "[u'100', u'150', u'900']"
      ]
     },
     "execution_count": 18,
     "metadata": {},
     "output_type": "execute_result"
    }
   ],
   "source": [
    "annotation_value"
   ]
  },
  {
   "cell_type": "code",
   "execution_count": 20,
   "metadata": {
    "ExecuteTime": {
     "end_time": "2019-01-18T09:47:31.855859Z",
     "start_time": "2019-01-18T09:47:31.846202Z"
    }
   },
   "outputs": [
    {
     "ename": "AttributeError",
     "evalue": "'module' object has no attribute 'TEMPFILES'",
     "output_type": "error",
     "traceback": [
      "\u001b[0;31m\u001b[0m",
      "\u001b[0;31mAttributeError\u001b[0mTraceback (most recent call last)",
      "\u001b[0;32m<ipython-input-20-5bf0f9ca8916>\u001b[0m in \u001b[0;36m<module>\u001b[0;34m()\u001b[0m\n\u001b[0;32m----> 1\u001b[0;31m \u001b[0mpybedtools\u001b[0m\u001b[0;34m.\u001b[0m\u001b[0mTEMPFILES\u001b[0m\u001b[0;34m\u001b[0m\u001b[0m\n\u001b[0m",
      "\u001b[0;31mAttributeError\u001b[0m: 'module' object has no attribute 'TEMPFILES'"
     ]
    }
   ],
   "source": [
    "pybedtools.TEMPFILES\n",
    "# https://github.com/daler/pybedtools/blob/master/pybedtools/bedtool.py#L388\n",
    "# class BedTool(object):\n",
    "    # TEMPFILES = filenames.TEMPFILES"
   ]
  },
  {
   "cell_type": "code",
   "execution_count": 22,
   "metadata": {
    "ExecuteTime": {
     "end_time": "2019-01-18T09:54:50.042363Z",
     "start_time": "2019-01-18T09:54:50.039573Z"
    }
   },
   "outputs": [
    {
     "data": {
      "text/plain": [
       "'/tmp/pybedtools.bwlkeQ.tmp'"
      ]
     },
     "execution_count": 22,
     "metadata": {},
     "output_type": "execute_result"
    }
   ],
   "source": [
    "annotbed.fn"
   ]
  },
  {
   "cell_type": "code",
   "execution_count": 21,
   "metadata": {
    "ExecuteTime": {
     "end_time": "2019-01-18T09:54:32.581412Z",
     "start_time": "2019-01-18T09:54:32.578004Z"
    }
   },
   "outputs": [
    {
     "data": {
      "text/plain": [
       "['/tmp/pybedtools.NKZ8wv.tmp',\n",
       " '/tmp/pybedtools.oZ5XFb.tmp',\n",
       " '/tmp/pybedtools.8aD7IM.tmp',\n",
       " '/tmp/pybedtools.e3c_Fu.tmp',\n",
       " '/tmp/pybedtools.bwlkeQ.tmp']"
      ]
     },
     "execution_count": 21,
     "metadata": {},
     "output_type": "execute_result"
    }
   ],
   "source": [
    "annotbed.TEMPFILES"
   ]
  },
  {
   "cell_type": "code",
   "execution_count": 12,
   "metadata": {
    "ExecuteTime": {
     "end_time": "2019-01-18T10:05:43.020863Z",
     "start_time": "2019-01-18T10:05:43.017788Z"
    }
   },
   "outputs": [
    {
     "name": "stdout",
     "output_type": "stream",
     "text": [
      "['/tmp/pybedtools.8cVk8F.tmp', '/tmp/pybedtools.D9YlqL.tmp', '/tmp/pybedtools.UeC3F9.tmp']\n",
      "['/tmp/pybedtools.8cVk8F.tmp', '/tmp/pybedtools.D9YlqL.tmp', '/tmp/pybedtools.UeC3F9.tmp']\n"
     ]
    }
   ],
   "source": [
    "print(bedB.TEMPFILES)\n",
    "print(bedA.TEMPFILES)"
   ]
  },
  {
   "cell_type": "code",
   "execution_count": null,
   "metadata": {
    "collapsed": true
   },
   "outputs": [],
   "source": []
  }
 ],
 "metadata": {
  "kernelspec": {
   "display_name": "Python [conda env:py27_anaconda3_PT170705]",
   "language": "python",
   "name": "conda-env-py27_anaconda3_PT170705-py"
  },
  "language_info": {
   "codemirror_mode": {
    "name": "ipython",
    "version": 2
   },
   "file_extension": ".py",
   "mimetype": "text/x-python",
   "name": "python",
   "nbconvert_exporter": "python",
   "pygments_lexer": "ipython2",
   "version": "2.7.15"
  },
  "toc": {
   "colors": {
    "hover_highlight": "#DAA520",
    "navigate_num": "#000000",
    "navigate_text": "#333333",
    "running_highlight": "#FF0000",
    "selected_highlight": "#FFD700",
    "sidebar_border": "#EEEEEE",
    "wrapper_background": "#FFFFFF"
   },
   "moveMenuLeft": true,
   "nav_menu": {
    "height": "12px",
    "width": "252px"
   },
   "navigate_menu": true,
   "number_sections": true,
   "sideBar": true,
   "threshold": 4,
   "toc_cell": false,
   "toc_section_display": "block",
   "toc_window_display": false,
   "widenNotebook": false
  }
 },
 "nbformat": 4,
 "nbformat_minor": 2
}
