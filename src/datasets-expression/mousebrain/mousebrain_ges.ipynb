{
 "cells": [
  {
   "cell_type": "code",
   "execution_count": 3,
   "metadata": {
    "ExecuteTime": {
     "end_time": "2018-11-14T14:29:40.664900Z",
     "start_time": "2018-11-14T14:29:40.661315Z"
    },
    "collapsed": true,
    "scrolled": true
   },
   "outputs": [],
   "source": [
    "import loompy\n",
    "import numpy as np\n",
    "import pandas as pd\n",
    "\n",
    "from dfply import *\n",
    "\n",
    "### from ggplot import *\n",
    "# from plotnine import *\n",
    "\n",
    "### Make sure you use the Python 3 (py3_anaconda3_PT180510) environment\n",
    "# import sys\n",
    "# print(sys.executable) # /tools/anaconda/3-4.4.0/envs/py3_anaconda3_PT180510/bin/python\n",
    "# print(sys.version) # 3.6.4 |Anaconda, Inc.| (default, Jan 16 2018, 18:10:19) [GCC 7.2.0]"
   ]
  },
  {
   "cell_type": "code",
   "execution_count": 4,
   "metadata": {
    "ExecuteTime": {
     "end_time": "2018-11-14T14:29:40.797061Z",
     "start_time": "2018-11-14T14:29:40.666416Z"
    }
   },
   "outputs": [
    {
     "name": "stdout",
     "output_type": "stream",
     "text": [
      "anova_results.mousebrain-BEFORE_CTC_LOG.csv\r\n",
      "explore_and_export_mousebrain_loom_agg.ipynb\r\n",
      "explore_mousebrain.R\r\n",
      "export_mousebrain_ctc_log_avg_data.ipynb\r\n",
      "export_mousebrain_loom.ipynb\r\n",
      "import_mousebrain_to_seurat.R\r\n",
      "mousebrain_anova.ipynb\r\n",
      "mousebrain_beta.ipynb\r\n",
      "mousebrain.celltype_expr.frac_expr_bgthres.csv.gz\r\n",
      "mousebrain.celltype_expr.frac_expr_nonzero.csv.gz\r\n",
      "mousebrain_ges.ipynb\r\n",
      "mousebrain-L5.average.ensembl_musculus.csv\r\n",
      "mousebrain-L5.ctc_log_average.ensembl_musculus.csv.gz\r\n",
      "mousebrain-L5.log_average.ensembl_musculus.csv\r\n",
      "mousebrain-SEM_models.R\r\n",
      "mousebrain-SEM_models-skene_quick_and_dirty.R\r\n"
     ]
    }
   ],
   "source": [
    "!ls"
   ]
  },
  {
   "cell_type": "markdown",
   "metadata": {
    "ExecuteTime": {
     "end_time": "2018-05-10T18:55:15.289598Z",
     "start_time": "2018-05-10T18:55:15.287125Z"
    },
    "collapsed": true
   },
   "source": [
    "### Coonect to loompy and make data frame"
   ]
  },
  {
   "cell_type": "code",
   "execution_count": 5,
   "metadata": {
    "ExecuteTime": {
     "end_time": "2018-11-14T14:31:49.020550Z",
     "start_time": "2018-11-14T14:29:40.799370Z"
    },
    "collapsed": true
   },
   "outputs": [],
   "source": [
    "file_loom = \"/data/pub-others/zeisel-biorxiv-2018/data/l5_all.loom\"\n",
    "with loompy.connect(file_loom) as ds:\n",
    "    ### Make data frame\n",
    "    # ds.ra.Gene (Gene names) contains 66 duplicate gene names\n",
    "    df = pd.DataFrame(ds[:, :].astype(int), index=ds.ra.Accession, columns=ds.ca.CellID)\n",
    "    df.columns = pd.MultiIndex.from_arrays([ds.ca.CellID, ds.ca.ClusterName], names=[\"CellID\", \"ClusterName\"])"
   ]
  },
  {
   "cell_type": "markdown",
   "metadata": {
    "ExecuteTime": {
     "end_time": "2018-10-31T12:03:11.194493Z",
     "start_time": "2018-10-31T12:03:11.180993Z"
    }
   },
   "source": [
    "### common transcript count (ctc) normalization and log-transformation"
   ]
  },
  {
   "cell_type": "code",
   "execution_count": 6,
   "metadata": {
    "ExecuteTime": {
     "end_time": "2018-11-14T14:36:35.159125Z",
     "start_time": "2018-11-14T14:31:49.022940Z"
    },
    "collapsed": true,
    "scrolled": true
   },
   "outputs": [],
   "source": [
    "### OBS INEFFICIENT: this creates a COPY of the data frame.\n",
    "df_ctc_log = np.log(1+df/df.sum(axis=0)*1e4) # column sum. Seurat default scale.factor is '10000'\n",
    "del df # clean up"
   ]
  },
  {
   "cell_type": "code",
   "execution_count": null,
   "metadata": {
    "collapsed": true
   },
   "outputs": [],
   "source": []
  },
  {
   "cell_type": "markdown",
   "metadata": {},
   "source": [
    "### Gene enrichment score: pre-calculation of f and mu"
   ]
  },
  {
   "cell_type": "code",
   "execution_count": 7,
   "metadata": {
    "ExecuteTime": {
     "end_time": "2018-11-14T14:36:35.167565Z",
     "start_time": "2018-11-14T14:36:35.163282Z"
    },
    "collapsed": true
   },
   "outputs": [],
   "source": [
    "# OBS: here we calculate Gene enrichment scores on log CPM data"
   ]
  },
  {
   "cell_type": "code",
   "execution_count": 9,
   "metadata": {
    "ExecuteTime": {
     "end_time": "2018-11-14T17:49:37.402315Z",
     "start_time": "2018-11-14T14:41:37.235041Z"
    }
   },
   "outputs": [
    {
     "name": "stdout",
     "output_type": "stream",
     "text": [
      "ENT9\n",
      "ENT8\n",
      "ENT6\n",
      "ENT5\n",
      "ENT4\n",
      "ENT7\n",
      "ENT3\n",
      "ENT2\n",
      "ENT1\n",
      "ENTG1\n",
      "ENTG4\n",
      "ENTG2\n",
      "ENTG3\n",
      "ENTG6\n",
      "ENTG5\n",
      "ENTG7\n",
      "ENMFB\n",
      "MOL3\n",
      "MOL2\n",
      "MFOL1\n",
      "MOL1\n",
      "MFOL2\n",
      "NFOL1\n",
      "NFOL2\n",
      "COP2\n",
      "COP1\n",
      "HBSER2\n",
      "HBSER1\n",
      "HBSER3\n",
      "HBSER4\n",
      "HBSER5\n",
      "TEGLU15\n",
      "TEGLU16\n",
      "TEGLU5\n",
      "TEGLU4\n",
      "TEGLU22\n",
      "TEGLU23\n",
      "TEGLU24\n",
      "TEGLU17\n",
      "TEGLU18\n",
      "TEGLU19\n",
      "TEGLU2\n",
      "TEGLU3\n",
      "TEGLU14\n",
      "TEGLU13\n",
      "TEGLU21\n",
      "TEGLU10\n",
      "TEGLU11\n",
      "TEGLU20\n",
      "TEGLU12\n",
      "TEGLU9\n",
      "TEGLU8\n",
      "TEGLU7\n",
      "TEINH10\n",
      "TEINH11\n",
      "TEINH12\n",
      "TEINH9\n",
      "OBINH5\n",
      "TEINH5\n",
      "TEINH6\n",
      "TEINH7\n",
      "TEINH8\n",
      "TEINH4\n",
      "TEINH20\n",
      "TEINH13\n",
      "TEINH14\n",
      "TEINH16\n",
      "TEINH15\n",
      "TEINH19\n",
      "TEINH21\n",
      "HYPEP7\n",
      "HYPEP6\n",
      "DEINH8\n",
      "MBDOP1\n",
      "MBDOP2\n",
      "MEGLU14\n",
      "MEGLU11\n",
      "MEGLU10\n",
      "MEGLU9\n",
      "MEGLU8\n",
      "MEGLU7\n",
      "MEGLU6\n",
      "DEGLU5\n",
      "MEGLU2\n",
      "MEGLU3\n",
      "MEGLU1\n",
      "MEGLU5\n",
      "MEGLU4\n",
      "DEGLU4\n",
      "DEGLU3\n",
      "OBNBL1\n",
      "MBCHO1\n",
      "HBGLU9\n",
      "SCGLU1\n",
      "HBGLU10\n",
      "SCGLU10\n",
      "HBGLU2\n",
      "HBGLU3\n",
      "HBNOR\n",
      "HBGLU1\n",
      "DEGLU2\n",
      "DEGLU1\n",
      "MSN1\n",
      "MSN2\n",
      "MSN3\n",
      "MSN5\n",
      "MSN4\n",
      "MSN6\n",
      "OEC\n",
      "DETPH\n",
      "RGDG\n",
      "RGSZ\n",
      "OPC\n",
      "SZNBL\n",
      "EPMB\n",
      "HYPEN\n",
      "OBDOP2\n",
      "OBINH2\n",
      "OBINH3\n",
      "OBINH1\n",
      "OBINH4\n",
      "OBNBL2\n",
      "TEGLU6\n",
      "TEGLU1\n",
      "DGGRC2\n",
      "DGGRC1\n",
      "DGNBL1\n",
      "DGNBL2\n",
      "OBNBL3\n",
      "HYPEP3\n",
      "HYPEP2\n",
      "HYPEP1\n",
      "CBNBL2\n",
      "CBGRC\n",
      "CR\n",
      "CBNBL1\n",
      "SEPNBL\n",
      "OBNBL5\n",
      "OBNBL4\n",
      "DECHO2\n",
      "HYPEP5\n",
      "DEINH7\n",
      "HYPEP4\n",
      "HBGLU8\n",
      "HBGLU6\n",
      "HBGLU7\n",
      "HBGLU5\n",
      "HBGLU4\n",
      "HBCHO2\n",
      "HBCHO1\n",
      "HBCHO3\n",
      "HBADR\n",
      "HBCHO4\n",
      "TECHO\n",
      "DECHO1\n",
      "SCINH1\n",
      "HBINH8\n",
      "HBINH7\n",
      "HBINH5\n",
      "CBINH2\n",
      "CBPC\n",
      "CBINH1\n",
      "MEINH1\n",
      "TEINH17\n",
      "TEINH18\n",
      "DEINH2\n",
      "DEINH1\n",
      "DEINH6\n",
      "MEINH13\n",
      "MEINH8\n",
      "MEINH14\n",
      "DEINH4\n",
      "DEINH5\n",
      "TEINH2\n",
      "TEINH1\n",
      "HBINH4\n",
      "HBINH3\n",
      "HBINH1\n",
      "SCINH11\n",
      "MEINH3\n",
      "MEINH4\n",
      "DEINH3\n",
      "MEINH2\n",
      "MEINH7\n",
      "MEINH5\n",
      "MEINH12\n",
      "MEINH11\n",
      "MEINH9\n",
      "MEINH10\n",
      "MEINH6\n",
      "HBINH6\n",
      "HBINH2\n",
      "SCGLU8\n",
      "SCGLU9\n",
      "SCGLU7\n",
      "SCGLU2\n",
      "SCGLU3\n",
      "SCGLU4\n",
      "SCGLU6\n",
      "SCGLU5\n",
      "SCINH5\n",
      "SCINH6\n",
      "SCINH7\n",
      "HBINH9\n",
      "SCINH2\n",
      "SCINH4\n",
      "SCINH3\n",
      "SCINH10\n",
      "SCINH9\n",
      "SCINH8\n",
      "TEINH3\n",
      "OBDOP1\n",
      "HYPEP8\n",
      "ABC\n",
      "VLMC2\n",
      "VLMC1\n",
      "VSMCA\n",
      "PER3\n",
      "VECA\n",
      "PER2\n",
      "PER1\n",
      "VECV\n",
      "VECC\n",
      "MGL1\n",
      "MGL2\n",
      "MGL3\n",
      "PVM2\n",
      "PVM1\n",
      "SCHW\n",
      "SATG2\n",
      "SATG1\n",
      "ACBG\n",
      "ACOB\n",
      "ACTE1\n",
      "ACTE2\n",
      "ACNT1\n",
      "ACNT2\n",
      "ACMB\n",
      "EPEN\n",
      "EPSC\n",
      "CHOR\n",
      "SYNOR3\n",
      "SYNOR2\n",
      "SYNOR1\n",
      "SYNOR4\n",
      "SYNOR5\n",
      "SYCHO2\n",
      "SYCHO1\n",
      "PSPEP1\n",
      "PSPEP3\n",
      "PSPEP2\n",
      "PSPEP4\n",
      "PSPEP5\n",
      "PSPEP6\n",
      "PSPEP7\n",
      "PSPEP8\n",
      "PSNF2\n",
      "PSNF3\n",
      "PSNF1\n",
      "PSNP1\n",
      "PSNP3\n",
      "PSNP2\n",
      "PSNP5\n",
      "PSNP4\n",
      "PSNP6\n"
     ]
    }
   ],
   "source": [
    "### RUNTIME smart way: 3h 8m 0s (~0.7 min per cell-type)\n",
    "### RUNTIME {self + others} 'dum way': ~5-7 min per cell-type (if doing mean and frac) --> ESTIMATED TOTAL RUNTIME = ~20 hours\n",
    "\n",
    "cell_types = df_ctc_log.columns.get_level_values(level=\"ClusterName\") # 1 x NCell\n",
    "df_frac_self = pd.DataFrame(index=df_ctc_log.index)\n",
    "df_mu_self = pd.DataFrame(index=df_ctc_log.index)\n",
    "df_var_self = pd.DataFrame(index=df_ctc_log.index)\n",
    "df_n_self = pd.DataFrame(index=cell_types.unique()) # obs different index\n",
    "\n",
    "df_frac_self.index.name=\"gene\"\n",
    "df_mu_self.index.name=\"gene\"\n",
    "df_var_self.index.name=\"gene\"\n",
    "df_n_self.index.name=\"annotation\"\n",
    "\n",
    "# df_frac_others = pd.DataFrame(index=df_ctc_log.index)\n",
    "# df_mu_others = pd.DataFrame(index=df_ctc_log.index)\n",
    "for lvl in cell_types.unique():\n",
    "    print(lvl)\n",
    "    df_tmp_cells_in_cluster = df_ctc_log.loc[:, cell_types.isin([lvl])]\n",
    "    n_cells_in_cluster = df_tmp_cells_in_cluster.shape[1]\n",
    "    # df_tmp_cells_not_in_cluster = df_ctc_log.loc[:, ~cell_types.isin([lvl])]\n",
    "    # n_cells_not_in_cluster = df_tmp_cells_not_in_cluster.shape[1]\n",
    "    # print(n_cells)\n",
    "    df_n_self.loc[lvl, \"n\"] = n_cells_in_cluster\n",
    "    for gene_id in df_ctc_log.index:\n",
    "        df_frac_self.loc[gene_id, lvl] = np.sum(df_tmp_cells_in_cluster.loc[gene_id] > 0)/float(n_cells_in_cluster)\n",
    "        df_mu_self.loc[gene_id, lvl] = df_tmp_cells_in_cluster.loc[gene_id].mean()\n",
    "        df_var_self.loc[gene_id, lvl] = df_tmp_cells_in_cluster.loc[gene_id].var() # Normalized by N-1 by default\n",
    "        # df_frac_others.loc[gene_id, lvl] = np.sum(df_tmp_cells_not_in_cluster.loc[gene_id] > 0)/float(n_cells_not_in_cluster)\n",
    "        # df_mu_others.loc[gene_id, lvl] = df_tmp_cells_not_in_cluster.loc[gene_id].mean()"
   ]
  },
  {
   "cell_type": "code",
   "execution_count": 10,
   "metadata": {
    "ExecuteTime": {
     "end_time": "2018-11-14T17:49:37.448304Z",
     "start_time": "2018-11-14T17:49:37.405511Z"
    }
   },
   "outputs": [
    {
     "name": "stdout",
     "output_type": "stream",
     "text": [
      "                        ENT9      ENT8      ENT6      ENT5      ENT4  \\\n",
      "gene                                                                   \n",
      "ENSMUSG00000024647  0.917160  0.216495  0.118644  0.057915  0.032258   \n",
      "ENSMUSG00000041544  0.313609  0.000000  0.000000  0.000000  0.000000   \n",
      "ENSMUSG00000029503  0.976331  0.628866  0.118644  0.397683  0.309677   \n",
      "ENSMUSG00000039942  0.455621  0.082474  0.177966  0.108108  0.116129   \n",
      "ENSMUSG00000059187  0.988166  0.969072  0.915254  0.729730  0.606452   \n",
      "\n",
      "                        ENT7      ENT3      ENT2      ENT1     ENTG1  \\\n",
      "gene                                                                   \n",
      "ENSMUSG00000024647  0.000000  0.006452  0.018692  0.071429  0.012270   \n",
      "ENSMUSG00000041544  0.032258  0.000000  0.009346  0.000000  0.000000   \n",
      "ENSMUSG00000029503  0.612903  0.625806  0.626168  0.714286  0.006135   \n",
      "ENSMUSG00000039942  0.129032  0.064516  0.130841  0.142857  0.000000   \n",
      "ENSMUSG00000059187  0.709677  0.070968  0.056075  0.857143  0.000000   \n",
      "\n",
      "                      ...       PSPEP8     PSNF2     PSNF3     PSNF1  \\\n",
      "gene                  ...                                              \n",
      "ENSMUSG00000024647    ...     0.000000  0.543860  0.129032  0.842105   \n",
      "ENSMUSG00000041544    ...     0.071429  0.087719  0.096774  0.078947   \n",
      "ENSMUSG00000029503    ...     0.035714  0.000000  0.000000  0.000000   \n",
      "ENSMUSG00000039942    ...     0.000000  0.122807  0.161290  0.052632   \n",
      "ENSMUSG00000059187    ...     0.000000  0.140351  0.387097  0.078947   \n",
      "\n",
      "                       PSNP1     PSNP3     PSNP2     PSNP5     PSNP4     PSNP6  \n",
      "gene                                                                            \n",
      "ENSMUSG00000024647  0.219858  0.000000  0.000000  0.011364  0.000000  0.007576  \n",
      "ENSMUSG00000041544  0.000000  0.003704  0.069444  0.011364  0.000000  0.007576  \n",
      "ENSMUSG00000029503  0.010638  0.003704  0.000000  0.181818  0.022222  0.734848  \n",
      "ENSMUSG00000039942  0.042553  0.037037  0.041667  0.079545  0.155556  0.143939  \n",
      "ENSMUSG00000059187  0.007092  0.011111  0.000000  0.011364  0.000000  0.007576  \n",
      "\n",
      "[5 rows x 265 columns]\n",
      "                        ENT9      ENT8      ENT6      ENT5      ENT4  \\\n",
      "gene                                                                   \n",
      "ENSMUSG00000024647  2.029741  0.176376  0.108033  0.052293  0.028326   \n",
      "ENSMUSG00000041544  0.238551  0.000000  0.000000  0.000000  0.000000   \n",
      "ENSMUSG00000029503  1.855591  0.531197  0.087960  0.417713  0.315584   \n",
      "ENSMUSG00000039942  0.381635  0.047328  0.147160  0.118842  0.114504   \n",
      "ENSMUSG00000059187  2.000372  1.971189  1.505637  1.075453  0.745603   \n",
      "\n",
      "                        ENT7      ENT3      ENT2      ENT1     ENTG1  \\\n",
      "gene                                                                   \n",
      "ENSMUSG00000024647  0.000000  0.006695  0.011060  0.051132  0.016737   \n",
      "ENSMUSG00000041544  0.034350  0.000000  0.006238  0.000000  0.000000   \n",
      "ENSMUSG00000029503  0.671047  0.724751  0.594759  0.842018  0.006533   \n",
      "ENSMUSG00000039942  0.128225  0.055323  0.106273  0.133145  0.000000   \n",
      "ENSMUSG00000059187  0.932725  0.052921  0.047126  1.021252  0.000000   \n",
      "\n",
      "                      ...       PSPEP8     PSNF2     PSNF3     PSNF1  \\\n",
      "gene                  ...                                              \n",
      "ENSMUSG00000024647    ...     0.000000  0.872146  0.135545  1.283194   \n",
      "ENSMUSG00000041544    ...     0.075393  0.062910  0.039704  0.059869   \n",
      "ENSMUSG00000029503    ...     0.017316  0.000000  0.000000  0.000000   \n",
      "ENSMUSG00000039942    ...     0.000000  0.077727  0.116941  0.046735   \n",
      "ENSMUSG00000059187    ...     0.000000  0.145884  0.304648  0.044459   \n",
      "\n",
      "                       PSNP1     PSNP3     PSNP2     PSNP5     PSNP4     PSNP6  \n",
      "gene                                                                            \n",
      "ENSMUSG00000024647  0.172524  0.000000  0.000000  0.008103  0.000000  0.001810  \n",
      "ENSMUSG00000041544  0.000000  0.001054  0.045985  0.007529  0.000000  0.006804  \n",
      "ENSMUSG00000029503  0.006656  0.001902  0.000000  0.130491  0.013577  0.574446  \n",
      "ENSMUSG00000039942  0.027128  0.018362  0.031399  0.045620  0.070678  0.071835  \n",
      "ENSMUSG00000059187  0.005110  0.004870  0.000000  0.005308  0.000000  0.003099  \n",
      "\n",
      "[5 rows x 265 columns]\n",
      "                        ENT9      ENT8      ENT6      ENT5      ENT4  \\\n",
      "gene                                                                   \n",
      "ENSMUSG00000024647  0.780376  0.142621  0.109344  0.051421  0.025975   \n",
      "ENSMUSG00000041544  0.167135  0.000000  0.000000  0.000000  0.000000   \n",
      "ENSMUSG00000029503  0.422935  0.241193  0.071266  0.300830  0.257792   \n",
      "ENSMUSG00000039942  0.247312  0.034830  0.117930  0.129293  0.110441   \n",
      "ENSMUSG00000059187  0.292462  0.337053  0.548985  0.609803  0.475954   \n",
      "\n",
      "                        ENT7      ENT3      ENT2      ENT1     ENTG1  \\\n",
      "gene                                                                   \n",
      "ENSMUSG00000024647  0.000000  0.006948  0.006780  0.036602  0.022875   \n",
      "ENSMUSG00000041544  0.036578  0.000000  0.004164  0.000000  0.000000   \n",
      "ENSMUSG00000029503  0.514790  0.427152  0.298942  0.443432  0.006957   \n",
      "ENSMUSG00000039942  0.116594  0.048102  0.085660  0.189621  0.000000   \n",
      "ENSMUSG00000059187  0.585938  0.040171  0.054745  0.464206  0.000000   \n",
      "\n",
      "                      ...       PSPEP8     PSNF2     PSNF3     PSNF1  \\\n",
      "gene                  ...                                              \n",
      "ENSMUSG00000024647    ...     0.000000  0.768666  0.144086  0.544085   \n",
      "ENSMUSG00000041544    ...     0.085294  0.062425  0.016907  0.044517   \n",
      "ENSMUSG00000029503    ...     0.008396  0.000000  0.000000  0.000000   \n",
      "ENSMUSG00000039942    ...     0.000000  0.048651  0.086392  0.040936   \n",
      "ENSMUSG00000059187    ...     0.000000  0.175289  0.204977  0.028353   \n",
      "\n",
      "                       PSNP1     PSNP3     PSNP2     PSNP5     PSNP4     PSNP6  \n",
      "gene                                                                            \n",
      "ENSMUSG00000024647  0.119063  0.000000  0.000000  0.005778  0.000000  0.000433  \n",
      "ENSMUSG00000041544  0.000000  0.000300  0.035799  0.004988  0.000000  0.006111  \n",
      "ENSMUSG00000029503  0.004162  0.000977  0.000000  0.091620  0.008296  0.178221  \n",
      "ENSMUSG00000039942  0.019146  0.010037  0.024865  0.030377  0.029896  0.036803  \n",
      "ENSMUSG00000059187  0.003676  0.002146  0.000000  0.002479  0.000000  0.001267  \n",
      "\n",
      "[5 rows x 265 columns]\n"
     ]
    }
   ],
   "source": [
    "print(df_frac_self.head())\n",
    "print(df_mu_self.head())\n",
    "print(df_var_self.head())"
   ]
  },
  {
   "cell_type": "code",
   "execution_count": null,
   "metadata": {
    "collapsed": true
   },
   "outputs": [],
   "source": []
  },
  {
   "cell_type": "code",
   "execution_count": null,
   "metadata": {
    "collapsed": true
   },
   "outputs": [],
   "source": []
  },
  {
   "cell_type": "markdown",
   "metadata": {
    "collapsed": true
   },
   "source": [
    "### Write 'pre-calculation' files"
   ]
  },
  {
   "cell_type": "code",
   "execution_count": 11,
   "metadata": {
    "ExecuteTime": {
     "end_time": "2018-11-14T17:51:20.458936Z",
     "start_time": "2018-11-14T17:49:37.450574Z"
    },
    "collapsed": true
   },
   "outputs": [],
   "source": [
    "# df_frac_self.to_csv(\"mousebrain.pre_calc.frac_expr.csv.gz\", compression=\"gzip\")\n",
    "# df_mu_self.to_csv(\"mousebrain.pre_calc.mean.csv.gz\", compression=\"gzip\")\n",
    "# df_var_self.to_csv(\"mousebrain.pre_calc.var.csv.gz\", compression=\"gzip\")\n",
    "# df_n_self.to_csv(\"mousebrain.pre_calc.ncells.csv.gz\", compression=\"gzip\")"
   ]
  },
  {
   "cell_type": "code",
   "execution_count": null,
   "metadata": {
    "ExecuteTime": {
     "end_time": "2018-11-14T11:19:10.116808Z",
     "start_time": "2018-11-14T11:18:09.816292Z"
    },
    "collapsed": true
   },
   "outputs": [],
   "source": []
  },
  {
   "cell_type": "code",
   "execution_count": null,
   "metadata": {
    "collapsed": true
   },
   "outputs": [],
   "source": []
  },
  {
   "cell_type": "markdown",
   "metadata": {
    "collapsed": true
   },
   "source": [
    "### Calculate GES"
   ]
  },
  {
   "cell_type": "raw",
   "metadata": {},
   "source": []
  },
  {
   "cell_type": "code",
   "execution_count": null,
   "metadata": {
    "collapsed": true
   },
   "outputs": [],
   "source": []
  },
  {
   "cell_type": "markdown",
   "metadata": {},
   "source": [
    "### Write GES file"
   ]
  },
  {
   "cell_type": "code",
   "execution_count": null,
   "metadata": {
    "collapsed": true
   },
   "outputs": [],
   "source": [
    "# df_ges.to_csv(\"mousebrain.celltype_expr.beta_bgthres.csv.gz\", compression=\"gzip\")\n",
    "# df_beta_nonzero.to_csv(\"mousebrain.celltype_expr.beta_nonzero.csv.gz\", compression=\"gzip\")"
   ]
  },
  {
   "cell_type": "code",
   "execution_count": null,
   "metadata": {
    "ExecuteTime": {
     "start_time": "2018-07-13T08:39:20.895Z"
    },
    "collapsed": true
   },
   "outputs": [],
   "source": []
  },
  {
   "cell_type": "code",
   "execution_count": null,
   "metadata": {
    "collapsed": true
   },
   "outputs": [],
   "source": []
  }
 ],
 "metadata": {
  "kernelspec": {
   "display_name": "Python [conda env:py3_anaconda3_PT180510]",
   "language": "python",
   "name": "conda-env-py3_anaconda3_PT180510-py"
  },
  "language_info": {
   "codemirror_mode": {
    "name": "ipython",
    "version": 3
   },
   "file_extension": ".py",
   "mimetype": "text/x-python",
   "name": "python",
   "nbconvert_exporter": "python",
   "pygments_lexer": "ipython3",
   "version": "3.6.6"
  },
  "toc": {
   "colors": {
    "hover_highlight": "#DAA520",
    "navigate_num": "#000000",
    "navigate_text": "#333333",
    "running_highlight": "#FF0000",
    "selected_highlight": "#FFD700",
    "sidebar_border": "#EEEEEE",
    "wrapper_background": "#FFFFFF"
   },
   "moveMenuLeft": true,
   "nav_menu": {
    "height": "12px",
    "width": "252px"
   },
   "navigate_menu": true,
   "number_sections": true,
   "sideBar": true,
   "threshold": 4,
   "toc_cell": false,
   "toc_section_display": "block",
   "toc_window_display": false,
   "widenNotebook": false
  }
 },
 "nbformat": 4,
 "nbformat_minor": 2
}
