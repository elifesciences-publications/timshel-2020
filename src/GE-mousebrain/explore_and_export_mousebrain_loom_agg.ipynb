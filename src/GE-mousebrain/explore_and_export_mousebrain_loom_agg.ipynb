{
 "cells": [
  {
   "cell_type": "code",
   "execution_count": 2,
   "metadata": {
    "ExecuteTime": {
     "end_time": "2018-11-19T07:21:07.111902Z",
     "start_time": "2018-11-19T07:20:51.637221Z"
    },
    "collapsed": true,
    "scrolled": true
   },
   "outputs": [],
   "source": [
    "import loompy\n",
    "import numpy as np\n",
    "import pandas as pd\n",
    "\n",
    "\n",
    "from dfply import *\n",
    "\n",
    "### from ggplot import *\n",
    "from plotnine import *\n",
    "\n",
    "# import matplotlib\n",
    "\n",
    "### Make sure you use the Python 3 (py3_anaconda3_PT180510) environment\n",
    "# import sys\n",
    "# print(sys.executable) # /tools/anaconda/3-4.4.0/envs/py3_anaconda3_PT180510/bin/python\n",
    "# print(sys.version) # 3.6.4 |Anaconda, Inc.| (default, Jan 16 2018, 18:10:19) [GCC 7.2.0]"
   ]
  },
  {
   "cell_type": "code",
   "execution_count": 3,
   "metadata": {
    "ExecuteTime": {
     "end_time": "2018-11-19T07:21:07.244493Z",
     "start_time": "2018-11-19T07:21:07.113882Z"
    }
   },
   "outputs": [
    {
     "name": "stdout",
     "output_type": "stream",
     "text": [
      "explore_and_export_mousebrain_loom_agg.ipynb\r\n",
      "explore_mousebrain.R\r\n",
      "export_mousebrain_ctc_log_avg_data.ipynb\r\n",
      "export_mousebrain_loom.ipynb\r\n",
      "import_mousebrain_to_seurat.R\r\n",
      "mousebrain_anova.ipynb\r\n",
      "mousebrain_beta.ipynb\r\n",
      "mousebrain_ges.ipynb\r\n",
      "mousebrain-SEM_models-old_workflow.R\r\n",
      "mousebrain-SEM_models.R\r\n",
      "mousebrain-SEM_models-skene_quick_and_dirty.R\r\n"
     ]
    }
   ],
   "source": [
    "!ls"
   ]
  },
  {
   "cell_type": "markdown",
   "metadata": {
    "ExecuteTime": {
     "end_time": "2018-05-10T18:55:15.289598Z",
     "start_time": "2018-05-10T18:55:15.287125Z"
    },
    "collapsed": true
   },
   "source": [
    "### Coonect to loompy"
   ]
  },
  {
   "cell_type": "code",
   "execution_count": 4,
   "metadata": {
    "ExecuteTime": {
     "end_time": "2018-11-19T07:21:07.284374Z",
     "start_time": "2018-11-19T07:21:07.246516Z"
    }
   },
   "outputs": [],
   "source": [
    "file_loom = \"/data/pub-others/zeisel-biorxiv-2018/data/L5_All.agg.loom\"\n",
    "ds = loompy.connect(file_loom)"
   ]
  },
  {
   "cell_type": "code",
   "execution_count": null,
   "metadata": {
    "ExecuteTime": {
     "end_time": "2018-11-13T16:02:18.460383Z",
     "start_time": "2018-11-13T16:02:18.392951Z"
    },
    "collapsed": true
   },
   "outputs": [],
   "source": []
  },
  {
   "cell_type": "code",
   "execution_count": null,
   "metadata": {
    "ExecuteTime": {
     "end_time": "2018-11-13T15:54:11.215302Z",
     "start_time": "2018-11-13T15:54:11.208815Z"
    },
    "collapsed": true
   },
   "outputs": [],
   "source": []
  },
  {
   "cell_type": "markdown",
   "metadata": {
    "collapsed": true
   },
   "source": [
    "### Export (move this to section another place?)"
   ]
  },
  {
   "cell_type": "code",
   "execution_count": 6,
   "metadata": {
    "ExecuteTime": {
     "end_time": "2018-11-13T16:01:29.024754Z",
     "start_time": "2018-11-13T16:01:28.689844Z"
    },
    "collapsed": true
   },
   "outputs": [],
   "source": [
    "numpy_data = ds[:,:] # get data as numpy_array"
   ]
  },
  {
   "cell_type": "code",
   "execution_count": 7,
   "metadata": {
    "ExecuteTime": {
     "end_time": "2018-11-13T16:01:29.752502Z",
     "start_time": "2018-11-13T16:01:29.092696Z"
    }
   },
   "outputs": [
    {
     "data": {
      "text/plain": [
       "['Neurons_ENT8', 'Neurons_ENT6', 'Neurons_ENT5', 'Neurons_ENT4']"
      ]
     },
     "execution_count": 7,
     "metadata": {},
     "output_type": "execute_result"
    }
   ],
   "source": [
    "column_names = [\"{}_{}\".format(a_, b_) for a_, b_ in zip(ds.ca.Class.tolist(), ds.ca.ClusterName.tolist())]\n",
    "column_names[1:5]"
   ]
  },
  {
   "cell_type": "code",
   "execution_count": 8,
   "metadata": {
    "ExecuteTime": {
     "end_time": "2018-11-13T16:01:30.006132Z",
     "start_time": "2018-11-13T16:01:29.783922Z"
    }
   },
   "outputs": [
    {
     "data": {
      "text/plain": [
       "array(['Ptchd2', 'P2rx2', 'Ptger4', 'Fam19a1'], dtype='<U14')"
      ]
     },
     "execution_count": 8,
     "metadata": {},
     "output_type": "execute_result"
    }
   ],
   "source": [
    "row_names = ds.ra.Gene\n",
    "row_names[1:5]"
   ]
  },
  {
   "cell_type": "code",
   "execution_count": 9,
   "metadata": {
    "ExecuteTime": {
     "end_time": "2018-11-13T16:01:35.282534Z",
     "start_time": "2018-11-13T16:01:33.956511Z"
    }
   },
   "outputs": [
    {
     "data": {
      "text/html": [
       "<div>\n",
       "<style scoped>\n",
       "    .dataframe tbody tr th:only-of-type {\n",
       "        vertical-align: middle;\n",
       "    }\n",
       "\n",
       "    .dataframe tbody tr th {\n",
       "        vertical-align: top;\n",
       "    }\n",
       "\n",
       "    .dataframe thead th {\n",
       "        text-align: right;\n",
       "    }\n",
       "</style>\n",
       "<table border=\"1\" class=\"dataframe\">\n",
       "  <thead>\n",
       "    <tr style=\"text-align: right;\">\n",
       "      <th></th>\n",
       "      <th>Neurons_ENT9</th>\n",
       "      <th>Neurons_ENT8</th>\n",
       "      <th>Neurons_ENT6</th>\n",
       "      <th>Neurons_ENT5</th>\n",
       "      <th>Neurons_ENT4</th>\n",
       "      <th>Neurons_ENT7</th>\n",
       "      <th>Neurons_ENT3</th>\n",
       "      <th>Neurons_ENT2</th>\n",
       "      <th>Neurons_ENT1</th>\n",
       "      <th>PeripheralGlia_ENTG1</th>\n",
       "      <th>...</th>\n",
       "      <th>Neurons_PSPEP8</th>\n",
       "      <th>Neurons_PSNF2</th>\n",
       "      <th>Neurons_PSNF3</th>\n",
       "      <th>Neurons_PSNF1</th>\n",
       "      <th>Neurons_PSNP1</th>\n",
       "      <th>Neurons_PSNP3</th>\n",
       "      <th>Neurons_PSNP2</th>\n",
       "      <th>Neurons_PSNP5</th>\n",
       "      <th>Neurons_PSNP4</th>\n",
       "      <th>Neurons_PSNP6</th>\n",
       "    </tr>\n",
       "  </thead>\n",
       "  <tbody>\n",
       "    <tr>\n",
       "      <th>Cbln2</th>\n",
       "      <td>13.976331</td>\n",
       "      <td>0.422680</td>\n",
       "      <td>0.127119</td>\n",
       "      <td>0.084942</td>\n",
       "      <td>0.038710</td>\n",
       "      <td>0.000000</td>\n",
       "      <td>0.006452</td>\n",
       "      <td>0.018692</td>\n",
       "      <td>0.071429</td>\n",
       "      <td>0.012270</td>\n",
       "      <td>...</td>\n",
       "      <td>0.000000</td>\n",
       "      <td>2.245614</td>\n",
       "      <td>0.193548</td>\n",
       "      <td>3.026316</td>\n",
       "      <td>0.273050</td>\n",
       "      <td>0.000000</td>\n",
       "      <td>0.000000</td>\n",
       "      <td>0.011364</td>\n",
       "      <td>0.000000</td>\n",
       "      <td>0.007576</td>\n",
       "    </tr>\n",
       "    <tr>\n",
       "      <th>Ptchd2</th>\n",
       "      <td>0.390533</td>\n",
       "      <td>0.000000</td>\n",
       "      <td>0.000000</td>\n",
       "      <td>0.000000</td>\n",
       "      <td>0.000000</td>\n",
       "      <td>0.032258</td>\n",
       "      <td>0.000000</td>\n",
       "      <td>0.009346</td>\n",
       "      <td>0.000000</td>\n",
       "      <td>0.000000</td>\n",
       "      <td>...</td>\n",
       "      <td>0.071429</td>\n",
       "      <td>0.105263</td>\n",
       "      <td>0.096774</td>\n",
       "      <td>0.105263</td>\n",
       "      <td>0.000000</td>\n",
       "      <td>0.003704</td>\n",
       "      <td>0.097222</td>\n",
       "      <td>0.011364</td>\n",
       "      <td>0.000000</td>\n",
       "      <td>0.007576</td>\n",
       "    </tr>\n",
       "    <tr>\n",
       "      <th>P2rx2</th>\n",
       "      <td>7.609467</td>\n",
       "      <td>1.381443</td>\n",
       "      <td>0.186441</td>\n",
       "      <td>0.517375</td>\n",
       "      <td>0.412903</td>\n",
       "      <td>1.322581</td>\n",
       "      <td>1.219355</td>\n",
       "      <td>1.373832</td>\n",
       "      <td>1.714286</td>\n",
       "      <td>0.006135</td>\n",
       "      <td>...</td>\n",
       "      <td>0.035714</td>\n",
       "      <td>0.000000</td>\n",
       "      <td>0.000000</td>\n",
       "      <td>0.000000</td>\n",
       "      <td>0.010638</td>\n",
       "      <td>0.003704</td>\n",
       "      <td>0.000000</td>\n",
       "      <td>0.238636</td>\n",
       "      <td>0.022222</td>\n",
       "      <td>1.590909</td>\n",
       "    </tr>\n",
       "    <tr>\n",
       "      <th>Ptger4</th>\n",
       "      <td>0.928994</td>\n",
       "      <td>0.092784</td>\n",
       "      <td>0.194915</td>\n",
       "      <td>0.127413</td>\n",
       "      <td>0.148387</td>\n",
       "      <td>0.193548</td>\n",
       "      <td>0.070968</td>\n",
       "      <td>0.214953</td>\n",
       "      <td>0.142857</td>\n",
       "      <td>0.000000</td>\n",
       "      <td>...</td>\n",
       "      <td>0.000000</td>\n",
       "      <td>0.122807</td>\n",
       "      <td>0.161290</td>\n",
       "      <td>0.052632</td>\n",
       "      <td>0.042553</td>\n",
       "      <td>0.040741</td>\n",
       "      <td>0.055556</td>\n",
       "      <td>0.079545</td>\n",
       "      <td>0.155556</td>\n",
       "      <td>0.159091</td>\n",
       "    </tr>\n",
       "    <tr>\n",
       "      <th>Fam19a1</th>\n",
       "      <td>8.739645</td>\n",
       "      <td>9.000000</td>\n",
       "      <td>3.601695</td>\n",
       "      <td>1.752896</td>\n",
       "      <td>1.103226</td>\n",
       "      <td>1.870968</td>\n",
       "      <td>0.090323</td>\n",
       "      <td>0.065421</td>\n",
       "      <td>2.214286</td>\n",
       "      <td>0.000000</td>\n",
       "      <td>...</td>\n",
       "      <td>0.000000</td>\n",
       "      <td>0.192982</td>\n",
       "      <td>0.548387</td>\n",
       "      <td>0.078947</td>\n",
       "      <td>0.007092</td>\n",
       "      <td>0.011111</td>\n",
       "      <td>0.000000</td>\n",
       "      <td>0.011364</td>\n",
       "      <td>0.000000</td>\n",
       "      <td>0.007576</td>\n",
       "    </tr>\n",
       "  </tbody>\n",
       "</table>\n",
       "<p>5 rows × 265 columns</p>\n",
       "</div>"
      ],
      "text/plain": [
       "         Neurons_ENT9  Neurons_ENT8  Neurons_ENT6  Neurons_ENT5  Neurons_ENT4  \\\n",
       "Cbln2       13.976331      0.422680      0.127119      0.084942      0.038710   \n",
       "Ptchd2       0.390533      0.000000      0.000000      0.000000      0.000000   \n",
       "P2rx2        7.609467      1.381443      0.186441      0.517375      0.412903   \n",
       "Ptger4       0.928994      0.092784      0.194915      0.127413      0.148387   \n",
       "Fam19a1      8.739645      9.000000      3.601695      1.752896      1.103226   \n",
       "\n",
       "         Neurons_ENT7  Neurons_ENT3  Neurons_ENT2  Neurons_ENT1  \\\n",
       "Cbln2        0.000000      0.006452      0.018692      0.071429   \n",
       "Ptchd2       0.032258      0.000000      0.009346      0.000000   \n",
       "P2rx2        1.322581      1.219355      1.373832      1.714286   \n",
       "Ptger4       0.193548      0.070968      0.214953      0.142857   \n",
       "Fam19a1      1.870968      0.090323      0.065421      2.214286   \n",
       "\n",
       "         PeripheralGlia_ENTG1      ...        Neurons_PSPEP8  Neurons_PSNF2  \\\n",
       "Cbln2                0.012270      ...              0.000000       2.245614   \n",
       "Ptchd2               0.000000      ...              0.071429       0.105263   \n",
       "P2rx2                0.006135      ...              0.035714       0.000000   \n",
       "Ptger4               0.000000      ...              0.000000       0.122807   \n",
       "Fam19a1              0.000000      ...              0.000000       0.192982   \n",
       "\n",
       "         Neurons_PSNF3  Neurons_PSNF1  Neurons_PSNP1  Neurons_PSNP3  \\\n",
       "Cbln2         0.193548       3.026316       0.273050       0.000000   \n",
       "Ptchd2        0.096774       0.105263       0.000000       0.003704   \n",
       "P2rx2         0.000000       0.000000       0.010638       0.003704   \n",
       "Ptger4        0.161290       0.052632       0.042553       0.040741   \n",
       "Fam19a1       0.548387       0.078947       0.007092       0.011111   \n",
       "\n",
       "         Neurons_PSNP2  Neurons_PSNP5  Neurons_PSNP4  Neurons_PSNP6  \n",
       "Cbln2         0.000000       0.011364       0.000000       0.007576  \n",
       "Ptchd2        0.097222       0.011364       0.000000       0.007576  \n",
       "P2rx2         0.000000       0.238636       0.022222       1.590909  \n",
       "Ptger4        0.055556       0.079545       0.155556       0.159091  \n",
       "Fam19a1       0.000000       0.011364       0.000000       0.007576  \n",
       "\n",
       "[5 rows x 265 columns]"
      ]
     },
     "execution_count": 9,
     "metadata": {},
     "output_type": "execute_result"
    }
   ],
   "source": [
    "df_export = pd.DataFrame(data=numpy_data, columns=column_names, index=row_names)\n",
    "df_export.head()"
   ]
  },
  {
   "cell_type": "code",
   "execution_count": 46,
   "metadata": {
    "ExecuteTime": {
     "end_time": "2018-07-13T09:14:48.226154Z",
     "start_time": "2018-07-13T09:14:48.223667Z"
    },
    "collapsed": true
   },
   "outputs": [],
   "source": [
    "### write csv\n",
    "# df_export.to_csv(\"mousebrain-agg_L5.csv.gz\",compression=\"gzip\")"
   ]
  },
  {
   "cell_type": "code",
   "execution_count": null,
   "metadata": {
    "collapsed": true
   },
   "outputs": [],
   "source": []
  },
  {
   "cell_type": "markdown",
   "metadata": {},
   "source": [
    "### Export meta data"
   ]
  },
  {
   "cell_type": "code",
   "execution_count": 47,
   "metadata": {
    "ExecuteTime": {
     "end_time": "2018-07-13T09:14:49.744219Z",
     "start_time": "2018-07-13T09:14:49.738307Z"
    }
   },
   "outputs": [
    {
     "data": {
      "text/plain": [
       "['Age_6w',\n",
       " 'Age_?',\n",
       " 'Age_p12, p35',\n",
       " 'Age_p16, p24',\n",
       " 'Age_p19',\n",
       " 'Age_p19, p21',\n",
       " 'Age_p20',\n",
       " 'Age_p21',\n",
       " 'Age_p21, p23',\n",
       " 'Age_p21-23',\n",
       " 'Age_p22',\n",
       " 'Age_p22-24',\n",
       " 'Age_p23',\n",
       " 'Age_p24',\n",
       " 'Age_p25',\n",
       " 'Age_p25-27',\n",
       " 'Age_p26',\n",
       " 'Age_p27',\n",
       " 'Age_p28',\n",
       " 'Age_p29',\n",
       " 'Age_p30',\n",
       " 'Age_p60',\n",
       " 'Bucket',\n",
       " 'Class',\n",
       " 'ClusterName',\n",
       " 'ClusterScore',\n",
       " 'Clusters',\n",
       " 'Comment',\n",
       " 'Description',\n",
       " 'Developmental_compartment',\n",
       " 'LeafOrder',\n",
       " 'Location_based_on',\n",
       " 'MarkerGenes',\n",
       " 'MarkerRobustness',\n",
       " 'MarkerSelectivity',\n",
       " 'MarkerSpecificity',\n",
       " 'NCells',\n",
       " 'Neurotransmitter',\n",
       " 'OriginalClusters',\n",
       " 'Outliers',\n",
       " 'Probable_location',\n",
       " 'Region',\n",
       " 'SampleID_10X01_1',\n",
       " 'SampleID_10X02_1',\n",
       " 'SampleID_10X04_1',\n",
       " 'SampleID_10X04_2',\n",
       " 'SampleID_10X04_4',\n",
       " 'SampleID_10X05_1',\n",
       " 'SampleID_10X05_2',\n",
       " 'SampleID_10X05_3',\n",
       " 'SampleID_10X05_4',\n",
       " 'SampleID_10X06_1',\n",
       " 'SampleID_10X06_2',\n",
       " 'SampleID_10X06_3',\n",
       " 'SampleID_10X07_1',\n",
       " 'SampleID_10X11_1',\n",
       " 'SampleID_10X19_2',\n",
       " 'SampleID_10X20_1',\n",
       " 'SampleID_10X20_2',\n",
       " 'SampleID_10X20_3',\n",
       " 'SampleID_10X20_4',\n",
       " 'SampleID_10X22_1',\n",
       " 'SampleID_10X22_2',\n",
       " 'SampleID_10X22_3',\n",
       " 'SampleID_10X22_4',\n",
       " 'SampleID_10X24_1',\n",
       " 'SampleID_10X24_2',\n",
       " 'SampleID_10X24_3',\n",
       " 'SampleID_10X24_4',\n",
       " 'SampleID_10X26_1',\n",
       " 'SampleID_10X26_2',\n",
       " 'SampleID_10X26_3',\n",
       " 'SampleID_10X26_4',\n",
       " 'SampleID_10X28_2',\n",
       " 'SampleID_10X28_3',\n",
       " 'SampleID_10X28_4',\n",
       " 'SampleID_10X28_5',\n",
       " 'SampleID_10X33_1',\n",
       " 'SampleID_10X33_2',\n",
       " 'SampleID_10X33_3',\n",
       " 'SampleID_10X33_4',\n",
       " 'SampleID_10X34_1',\n",
       " 'SampleID_10X34_2',\n",
       " 'SampleID_10X34_3',\n",
       " 'SampleID_10X34_4',\n",
       " 'SampleID_10X35_1',\n",
       " 'SampleID_10X35_2',\n",
       " 'SampleID_10X35_3',\n",
       " 'SampleID_10X35_4',\n",
       " 'SampleID_10X36_1',\n",
       " 'SampleID_10X36_2',\n",
       " 'SampleID_10X36_3',\n",
       " 'SampleID_10X38_1',\n",
       " 'SampleID_10X38_2',\n",
       " 'SampleID_10X38_3',\n",
       " 'SampleID_10X43_1',\n",
       " 'SampleID_10X43_2',\n",
       " 'SampleID_10X43_3',\n",
       " 'SampleID_10X46_1',\n",
       " 'SampleID_10X46_2',\n",
       " 'SampleID_10X46_3',\n",
       " 'SampleID_10X48_1',\n",
       " 'SampleID_10X48_2',\n",
       " 'SampleID_10X48_3',\n",
       " 'SampleID_10X48_4',\n",
       " 'SampleID_10X49_1',\n",
       " 'SampleID_10X49_2',\n",
       " 'SampleID_10X49_3',\n",
       " 'SampleID_10X49_4',\n",
       " 'SampleID_10X49_5',\n",
       " 'SampleID_10X50_1',\n",
       " 'SampleID_10X50_2',\n",
       " 'SampleID_10X50_3',\n",
       " 'SampleID_10X50_4',\n",
       " 'SampleID_10X50_5',\n",
       " 'SampleID_10X50_6',\n",
       " 'SampleID_10X50_7',\n",
       " 'SampleID_10X50_8',\n",
       " 'SampleID_10X51_1',\n",
       " 'SampleID_10X51_2',\n",
       " 'SampleID_10X51_3',\n",
       " 'SampleID_10X51_4',\n",
       " 'SampleID_10X52_1',\n",
       " 'SampleID_10X52_2',\n",
       " 'SampleID_10X52_3',\n",
       " 'SampleID_10X52_4',\n",
       " 'SampleID_10X52_5',\n",
       " 'SampleID_10X52_6',\n",
       " 'SampleID_10X52_7',\n",
       " 'SampleID_10X52_8',\n",
       " 'SampleID_10X53_1',\n",
       " 'SampleID_10X53_2',\n",
       " 'SampleID_10X53_3',\n",
       " 'SampleID_10X53_4',\n",
       " 'SampleID_10X53_5',\n",
       " 'SampleID_10X53_6',\n",
       " 'SampleID_10X53_7',\n",
       " 'SampleID_10X54_1',\n",
       " 'SampleID_10X54_2',\n",
       " 'SampleID_10X54_3',\n",
       " 'SampleID_10X54_4',\n",
       " 'SampleID_10X54_5',\n",
       " 'SampleID_10X54_6',\n",
       " 'SampleID_10X54_7',\n",
       " 'SampleID_10X54_8',\n",
       " 'SampleID_10X55_1',\n",
       " 'SampleID_10X55_2',\n",
       " 'SampleID_10X55_3',\n",
       " 'SampleID_10X55_4',\n",
       " 'SampleID_10X55_5',\n",
       " 'SampleID_10X55_6',\n",
       " 'SampleID_10X55_7',\n",
       " 'SampleID_10X55_8',\n",
       " 'SampleID_10X56_2',\n",
       " 'SampleID_10X56_3',\n",
       " 'SampleID_10X56_6',\n",
       " 'SampleID_10X57_1',\n",
       " 'SampleID_10X57_2',\n",
       " 'SampleID_10X57_3',\n",
       " 'SampleID_10X57_4',\n",
       " 'SampleID_10X57_5',\n",
       " 'SampleID_10X57_6',\n",
       " 'SampleID_10X57_7',\n",
       " 'SampleID_10X75_1',\n",
       " 'SampleID_10X81_1',\n",
       " 'SampleID_10X81_2',\n",
       " 'SampleID_10X81_3',\n",
       " 'SampleID_10X82_2',\n",
       " 'SampleID_10X86_1',\n",
       " 'SampleID_10X86_3',\n",
       " 'SampleID_10X87_1',\n",
       " 'SampleID_10X87_2',\n",
       " 'SampleID_10X87_4',\n",
       " 'Sex_1F',\n",
       " 'Sex_1M',\n",
       " 'Sex_1M 1F',\n",
       " 'Sex_1M 2F',\n",
       " 'Sex_2M',\n",
       " 'Sex_2M 1F',\n",
       " 'Sex_2M 2F',\n",
       " 'Sex_?',\n",
       " 'Sex_F',\n",
       " 'Sex_M',\n",
       " 'Sex_M, F',\n",
       " 'Sex_nan',\n",
       " 'TaxonomyRank1',\n",
       " 'TaxonomyRank2',\n",
       " 'TaxonomyRank3',\n",
       " 'TaxonomyRank4',\n",
       " 'TaxonomySymbol',\n",
       " 'Tissue_Amygd',\n",
       " 'Tissue_CA1',\n",
       " 'Tissue_CB',\n",
       " 'Tissue_Ctx1',\n",
       " 'Tissue_Ctx1.5',\n",
       " 'Tissue_Ctx2',\n",
       " 'Tissue_Ctx3',\n",
       " 'Tissue_DRG',\n",
       " 'Tissue_DentGyr',\n",
       " 'Tissue_ENS',\n",
       " 'Tissue_HC',\n",
       " 'Tissue_Hypoth',\n",
       " 'Tissue_MBd',\n",
       " 'Tissue_MBv',\n",
       " 'Tissue_Medulla',\n",
       " 'Tissue_OB',\n",
       " 'Tissue_Pons',\n",
       " 'Tissue_SC',\n",
       " 'Tissue_SScortex',\n",
       " 'Tissue_StriatDor',\n",
       " 'Tissue_StriatVent',\n",
       " 'Tissue_Sympath',\n",
       " 'Tissue_Thal',\n",
       " '_Total']"
      ]
     },
     "execution_count": 47,
     "metadata": {},
     "output_type": "execute_result"
    }
   ],
   "source": [
    "ds.ca.keys()"
   ]
  },
  {
   "cell_type": "code",
   "execution_count": 48,
   "metadata": {
    "ExecuteTime": {
     "end_time": "2018-07-13T09:14:50.441651Z",
     "start_time": "2018-07-13T09:14:50.352935Z"
    },
    "collapsed": true
   },
   "outputs": [],
   "source": [
    "dict_ca = {}\n",
    "for ca in ds.ca.keys():\n",
    "    # len(ds.ca[ca]) == 265 for all \n",
    "    dict_ca[ca] = ds.ca[ca]\n"
   ]
  },
  {
   "cell_type": "code",
   "execution_count": 49,
   "metadata": {
    "ExecuteTime": {
     "end_time": "2018-07-13T09:14:50.731137Z",
     "start_time": "2018-07-13T09:14:50.698351Z"
    }
   },
   "outputs": [
    {
     "data": {
      "text/html": [
       "<div>\n",
       "<style scoped>\n",
       "    .dataframe tbody tr th:only-of-type {\n",
       "        vertical-align: middle;\n",
       "    }\n",
       "\n",
       "    .dataframe tbody tr th {\n",
       "        vertical-align: top;\n",
       "    }\n",
       "\n",
       "    .dataframe thead th {\n",
       "        text-align: right;\n",
       "    }\n",
       "</style>\n",
       "<table border=\"1\" class=\"dataframe\">\n",
       "  <thead>\n",
       "    <tr style=\"text-align: right;\">\n",
       "      <th></th>\n",
       "      <th>Age_6w</th>\n",
       "      <th>Age_?</th>\n",
       "      <th>Age_p12, p35</th>\n",
       "      <th>Age_p16, p24</th>\n",
       "      <th>Age_p19</th>\n",
       "      <th>Age_p19, p21</th>\n",
       "      <th>Age_p20</th>\n",
       "      <th>Age_p21</th>\n",
       "      <th>Age_p21, p23</th>\n",
       "      <th>Age_p21-23</th>\n",
       "      <th>...</th>\n",
       "      <th>Tissue_Medulla</th>\n",
       "      <th>Tissue_OB</th>\n",
       "      <th>Tissue_Pons</th>\n",
       "      <th>Tissue_SC</th>\n",
       "      <th>Tissue_SScortex</th>\n",
       "      <th>Tissue_StriatDor</th>\n",
       "      <th>Tissue_StriatVent</th>\n",
       "      <th>Tissue_Sympath</th>\n",
       "      <th>Tissue_Thal</th>\n",
       "      <th>_Total</th>\n",
       "    </tr>\n",
       "  </thead>\n",
       "  <tbody>\n",
       "    <tr>\n",
       "      <th>0</th>\n",
       "      <td>0</td>\n",
       "      <td>0</td>\n",
       "      <td>0</td>\n",
       "      <td>0</td>\n",
       "      <td>0</td>\n",
       "      <td>99</td>\n",
       "      <td>0</td>\n",
       "      <td>0</td>\n",
       "      <td>70</td>\n",
       "      <td>0</td>\n",
       "      <td>...</td>\n",
       "      <td>0</td>\n",
       "      <td>0</td>\n",
       "      <td>0</td>\n",
       "      <td>0</td>\n",
       "      <td>0</td>\n",
       "      <td>0</td>\n",
       "      <td>0</td>\n",
       "      <td>0</td>\n",
       "      <td>0</td>\n",
       "      <td>13680.248521</td>\n",
       "    </tr>\n",
       "    <tr>\n",
       "      <th>1</th>\n",
       "      <td>0</td>\n",
       "      <td>0</td>\n",
       "      <td>0</td>\n",
       "      <td>0</td>\n",
       "      <td>0</td>\n",
       "      <td>62</td>\n",
       "      <td>0</td>\n",
       "      <td>0</td>\n",
       "      <td>35</td>\n",
       "      <td>0</td>\n",
       "      <td>...</td>\n",
       "      <td>0</td>\n",
       "      <td>0</td>\n",
       "      <td>0</td>\n",
       "      <td>0</td>\n",
       "      <td>0</td>\n",
       "      <td>0</td>\n",
       "      <td>0</td>\n",
       "      <td>0</td>\n",
       "      <td>0</td>\n",
       "      <td>13591.360825</td>\n",
       "    </tr>\n",
       "    <tr>\n",
       "      <th>2</th>\n",
       "      <td>0</td>\n",
       "      <td>0</td>\n",
       "      <td>0</td>\n",
       "      <td>0</td>\n",
       "      <td>0</td>\n",
       "      <td>81</td>\n",
       "      <td>0</td>\n",
       "      <td>0</td>\n",
       "      <td>37</td>\n",
       "      <td>0</td>\n",
       "      <td>...</td>\n",
       "      <td>0</td>\n",
       "      <td>0</td>\n",
       "      <td>0</td>\n",
       "      <td>0</td>\n",
       "      <td>0</td>\n",
       "      <td>0</td>\n",
       "      <td>0</td>\n",
       "      <td>0</td>\n",
       "      <td>0</td>\n",
       "      <td>9297.067797</td>\n",
       "    </tr>\n",
       "    <tr>\n",
       "      <th>3</th>\n",
       "      <td>0</td>\n",
       "      <td>0</td>\n",
       "      <td>0</td>\n",
       "      <td>0</td>\n",
       "      <td>0</td>\n",
       "      <td>157</td>\n",
       "      <td>0</td>\n",
       "      <td>0</td>\n",
       "      <td>102</td>\n",
       "      <td>0</td>\n",
       "      <td>...</td>\n",
       "      <td>0</td>\n",
       "      <td>0</td>\n",
       "      <td>0</td>\n",
       "      <td>0</td>\n",
       "      <td>0</td>\n",
       "      <td>0</td>\n",
       "      <td>0</td>\n",
       "      <td>0</td>\n",
       "      <td>0</td>\n",
       "      <td>6484.918919</td>\n",
       "    </tr>\n",
       "    <tr>\n",
       "      <th>4</th>\n",
       "      <td>0</td>\n",
       "      <td>0</td>\n",
       "      <td>0</td>\n",
       "      <td>0</td>\n",
       "      <td>0</td>\n",
       "      <td>103</td>\n",
       "      <td>0</td>\n",
       "      <td>0</td>\n",
       "      <td>52</td>\n",
       "      <td>0</td>\n",
       "      <td>...</td>\n",
       "      <td>0</td>\n",
       "      <td>0</td>\n",
       "      <td>0</td>\n",
       "      <td>0</td>\n",
       "      <td>0</td>\n",
       "      <td>0</td>\n",
       "      <td>0</td>\n",
       "      <td>0</td>\n",
       "      <td>0</td>\n",
       "      <td>6913.400000</td>\n",
       "    </tr>\n",
       "  </tbody>\n",
       "</table>\n",
       "<p>5 rows × 214 columns</p>\n",
       "</div>"
      ],
      "text/plain": [
       "   Age_6w  Age_?  Age_p12, p35  Age_p16, p24  Age_p19  Age_p19, p21  Age_p20  \\\n",
       "0       0      0             0             0        0            99        0   \n",
       "1       0      0             0             0        0            62        0   \n",
       "2       0      0             0             0        0            81        0   \n",
       "3       0      0             0             0        0           157        0   \n",
       "4       0      0             0             0        0           103        0   \n",
       "\n",
       "   Age_p21  Age_p21, p23  Age_p21-23      ...       Tissue_Medulla  Tissue_OB  \\\n",
       "0        0            70           0      ...                    0          0   \n",
       "1        0            35           0      ...                    0          0   \n",
       "2        0            37           0      ...                    0          0   \n",
       "3        0           102           0      ...                    0          0   \n",
       "4        0            52           0      ...                    0          0   \n",
       "\n",
       "   Tissue_Pons  Tissue_SC  Tissue_SScortex  Tissue_StriatDor  \\\n",
       "0            0          0                0                 0   \n",
       "1            0          0                0                 0   \n",
       "2            0          0                0                 0   \n",
       "3            0          0                0                 0   \n",
       "4            0          0                0                 0   \n",
       "\n",
       "   Tissue_StriatVent  Tissue_Sympath  Tissue_Thal        _Total  \n",
       "0                  0               0            0  13680.248521  \n",
       "1                  0               0            0  13591.360825  \n",
       "2                  0               0            0   9297.067797  \n",
       "3                  0               0            0   6484.918919  \n",
       "4                  0               0            0   6913.400000  \n",
       "\n",
       "[5 rows x 214 columns]"
      ]
     },
     "execution_count": 49,
     "metadata": {},
     "output_type": "execute_result"
    }
   ],
   "source": [
    "df_ca = pd.DataFrame(dict_ca)\n",
    "df_ca.head()"
   ]
  },
  {
   "cell_type": "code",
   "execution_count": 50,
   "metadata": {
    "ExecuteTime": {
     "end_time": "2018-07-13T09:14:51.844397Z",
     "start_time": "2018-07-13T09:14:51.810407Z"
    }
   },
   "outputs": [
    {
     "data": {
      "text/html": [
       "<div>\n",
       "<style scoped>\n",
       "    .dataframe tbody tr th:only-of-type {\n",
       "        vertical-align: middle;\n",
       "    }\n",
       "\n",
       "    .dataframe tbody tr th {\n",
       "        vertical-align: top;\n",
       "    }\n",
       "\n",
       "    .dataframe thead th {\n",
       "        text-align: right;\n",
       "    }\n",
       "</style>\n",
       "<table border=\"1\" class=\"dataframe\">\n",
       "  <thead>\n",
       "    <tr style=\"text-align: right;\">\n",
       "      <th></th>\n",
       "      <th>Bucket</th>\n",
       "      <th>Class</th>\n",
       "      <th>ClusterName</th>\n",
       "      <th>ClusterScore</th>\n",
       "      <th>Clusters</th>\n",
       "      <th>Comment</th>\n",
       "      <th>Description</th>\n",
       "      <th>Developmental_compartment</th>\n",
       "      <th>LeafOrder</th>\n",
       "      <th>Location_based_on</th>\n",
       "      <th>...</th>\n",
       "      <th>Tissue_Medulla</th>\n",
       "      <th>Tissue_OB</th>\n",
       "      <th>Tissue_Pons</th>\n",
       "      <th>Tissue_SC</th>\n",
       "      <th>Tissue_SScortex</th>\n",
       "      <th>Tissue_StriatDor</th>\n",
       "      <th>Tissue_StriatVent</th>\n",
       "      <th>Tissue_Sympath</th>\n",
       "      <th>Tissue_Thal</th>\n",
       "      <th>_Total</th>\n",
       "    </tr>\n",
       "  </thead>\n",
       "  <tbody>\n",
       "    <tr>\n",
       "      <th>0</th>\n",
       "      <td>/Users/sten/build_20171205/L4_Enteric_Neurons....</td>\n",
       "      <td>Neurons</td>\n",
       "      <td>ENT9</td>\n",
       "      <td>10.000000</td>\n",
       "      <td>0</td>\n",
       "      <td>Marklund cluster #1</td>\n",
       "      <td>Cholinergic enteric neurons</td>\n",
       "      <td>Neural crest</td>\n",
       "      <td>190</td>\n",
       "      <td>Vip,Cck</td>\n",
       "      <td>...</td>\n",
       "      <td>0</td>\n",
       "      <td>0</td>\n",
       "      <td>0</td>\n",
       "      <td>0</td>\n",
       "      <td>0</td>\n",
       "      <td>0</td>\n",
       "      <td>0</td>\n",
       "      <td>0</td>\n",
       "      <td>0</td>\n",
       "      <td>13680.248521</td>\n",
       "    </tr>\n",
       "    <tr>\n",
       "      <th>1</th>\n",
       "      <td>/Users/sten/build_20171205/L4_Enteric_Neurons....</td>\n",
       "      <td>Neurons</td>\n",
       "      <td>ENT8</td>\n",
       "      <td>7.991871</td>\n",
       "      <td>1</td>\n",
       "      <td>Marklund cluster #3</td>\n",
       "      <td>Cholinergic enteric neurons, VGLUT2</td>\n",
       "      <td>Neural crest</td>\n",
       "      <td>189</td>\n",
       "      <td>Th,Slc6a3,</td>\n",
       "      <td>...</td>\n",
       "      <td>0</td>\n",
       "      <td>0</td>\n",
       "      <td>0</td>\n",
       "      <td>0</td>\n",
       "      <td>0</td>\n",
       "      <td>0</td>\n",
       "      <td>0</td>\n",
       "      <td>0</td>\n",
       "      <td>0</td>\n",
       "      <td>13591.360825</td>\n",
       "    </tr>\n",
       "    <tr>\n",
       "      <th>2</th>\n",
       "      <td>/Users/sten/build_20171205/L4_Enteric_Neurons....</td>\n",
       "      <td>Neurons</td>\n",
       "      <td>ENT6</td>\n",
       "      <td>8.328238</td>\n",
       "      <td>2</td>\n",
       "      <td>Marklund cluster #6</td>\n",
       "      <td>Cholinergic enteric neurons</td>\n",
       "      <td>Neural crest</td>\n",
       "      <td>187</td>\n",
       "      <td>Rorb,Tph2</td>\n",
       "      <td>...</td>\n",
       "      <td>0</td>\n",
       "      <td>0</td>\n",
       "      <td>0</td>\n",
       "      <td>0</td>\n",
       "      <td>0</td>\n",
       "      <td>0</td>\n",
       "      <td>0</td>\n",
       "      <td>0</td>\n",
       "      <td>0</td>\n",
       "      <td>9297.067797</td>\n",
       "    </tr>\n",
       "    <tr>\n",
       "      <th>3</th>\n",
       "      <td>/Users/sten/build_20171205/L4_Enteric_Neurons....</td>\n",
       "      <td>Neurons</td>\n",
       "      <td>ENT5</td>\n",
       "      <td>6.000554</td>\n",
       "      <td>3</td>\n",
       "      <td>Marklund cluster #4</td>\n",
       "      <td>Cholinergic enteric neurons</td>\n",
       "      <td>Neural crest</td>\n",
       "      <td>186</td>\n",
       "      <td>Based on dissection</td>\n",
       "      <td>...</td>\n",
       "      <td>0</td>\n",
       "      <td>0</td>\n",
       "      <td>0</td>\n",
       "      <td>0</td>\n",
       "      <td>0</td>\n",
       "      <td>0</td>\n",
       "      <td>0</td>\n",
       "      <td>0</td>\n",
       "      <td>0</td>\n",
       "      <td>6484.918919</td>\n",
       "    </tr>\n",
       "    <tr>\n",
       "      <th>4</th>\n",
       "      <td>/Users/sten/build_20171205/L4_Enteric_Neurons....</td>\n",
       "      <td>Neurons</td>\n",
       "      <td>ENT4</td>\n",
       "      <td>6.397936</td>\n",
       "      <td>4</td>\n",
       "      <td>No corresponding Marklund cluster</td>\n",
       "      <td>Cholinergic enteric neurons</td>\n",
       "      <td>Neural crest</td>\n",
       "      <td>185</td>\n",
       "      <td>Tph2,Ifit1,Chodl</td>\n",
       "      <td>...</td>\n",
       "      <td>0</td>\n",
       "      <td>0</td>\n",
       "      <td>0</td>\n",
       "      <td>0</td>\n",
       "      <td>0</td>\n",
       "      <td>0</td>\n",
       "      <td>0</td>\n",
       "      <td>0</td>\n",
       "      <td>0</td>\n",
       "      <td>6913.400000</td>\n",
       "    </tr>\n",
       "  </tbody>\n",
       "</table>\n",
       "<p>5 rows × 61 columns</p>\n",
       "</div>"
      ],
      "text/plain": [
       "                                              Bucket    Class ClusterName  \\\n",
       "0  /Users/sten/build_20171205/L4_Enteric_Neurons....  Neurons        ENT9   \n",
       "1  /Users/sten/build_20171205/L4_Enteric_Neurons....  Neurons        ENT8   \n",
       "2  /Users/sten/build_20171205/L4_Enteric_Neurons....  Neurons        ENT6   \n",
       "3  /Users/sten/build_20171205/L4_Enteric_Neurons....  Neurons        ENT5   \n",
       "4  /Users/sten/build_20171205/L4_Enteric_Neurons....  Neurons        ENT4   \n",
       "\n",
       "   ClusterScore  Clusters                            Comment  \\\n",
       "0     10.000000         0                Marklund cluster #1   \n",
       "1      7.991871         1                Marklund cluster #3   \n",
       "2      8.328238         2                Marklund cluster #6   \n",
       "3      6.000554         3                Marklund cluster #4   \n",
       "4      6.397936         4  No corresponding Marklund cluster   \n",
       "\n",
       "                           Description Developmental_compartment  LeafOrder  \\\n",
       "0          Cholinergic enteric neurons              Neural crest        190   \n",
       "1  Cholinergic enteric neurons, VGLUT2              Neural crest        189   \n",
       "2          Cholinergic enteric neurons              Neural crest        187   \n",
       "3          Cholinergic enteric neurons              Neural crest        186   \n",
       "4          Cholinergic enteric neurons              Neural crest        185   \n",
       "\n",
       "     Location_based_on      ...      Tissue_Medulla Tissue_OB Tissue_Pons  \\\n",
       "0              Vip,Cck      ...                   0         0           0   \n",
       "1           Th,Slc6a3,      ...                   0         0           0   \n",
       "2            Rorb,Tph2      ...                   0         0           0   \n",
       "3  Based on dissection      ...                   0         0           0   \n",
       "4     Tph2,Ifit1,Chodl      ...                   0         0           0   \n",
       "\n",
       "  Tissue_SC  Tissue_SScortex Tissue_StriatDor  Tissue_StriatVent  \\\n",
       "0         0                0                0                  0   \n",
       "1         0                0                0                  0   \n",
       "2         0                0                0                  0   \n",
       "3         0                0                0                  0   \n",
       "4         0                0                0                  0   \n",
       "\n",
       "   Tissue_Sympath Tissue_Thal        _Total  \n",
       "0               0           0  13680.248521  \n",
       "1               0           0  13591.360825  \n",
       "2               0           0   9297.067797  \n",
       "3               0           0   6484.918919  \n",
       "4               0           0   6913.400000  \n",
       "\n",
       "[5 rows x 61 columns]"
      ]
     },
     "execution_count": 50,
     "metadata": {},
     "output_type": "execute_result"
    }
   ],
   "source": [
    "### Drop certain columns\n",
    "df_ca = df_ca.loc[:, ~df_ca.columns.str.startswith('Age_')]\n",
    "df_ca = df_ca.loc[:, ~df_ca.columns.str.startswith('SampleID_')]\n",
    "df_ca.head()"
   ]
  },
  {
   "cell_type": "code",
   "execution_count": 51,
   "metadata": {
    "ExecuteTime": {
     "end_time": "2018-07-13T09:14:52.948366Z",
     "start_time": "2018-07-13T09:14:52.933617Z"
    }
   },
   "outputs": [
    {
     "data": {
      "text/plain": [
       "Bucket                       /Users/sten/build_20171205/L4_Enteric_Neurons....\n",
       "Class                        NeuronsNeuronsNeuronsNeuronsNeuronsNeuronsNeur...\n",
       "ClusterName                  ENT9ENT8ENT6ENT5ENT4ENT7ENT3ENT2ENT1ENTG1ENTG4...\n",
       "ClusterScore                                                           1059.94\n",
       "Clusters                                                                 34980\n",
       "Comment                      Marklund cluster #1Marklund cluster #3Marklund...\n",
       "Description                  Cholinergic enteric neuronsCholinergic enteric...\n",
       "Developmental_compartment    Neural crestNeural crestNeural crestNeural cre...\n",
       "LeafOrder                                                                35245\n",
       "Location_based_on            Vip,CckTh,Slc6a3,Rorb,Tph2Based on dissectionT...\n",
       "MarkerGenes                  P2rx2 Krt19 Myl1 Adgrg6 Ano2 Gpr149Ucn3 Phox2a...\n",
       "MarkerRobustness             [ 1.  1.  1.  1.  1.  1.][ 1.  1.  1.  1.  1. ...\n",
       "MarkerSelectivity            [28  1  1  1  1  1][36  2  1  1  1  1][18  1  ...\n",
       "MarkerSpecificity            [ 0.   0.1  0.5  1.   1. ][ 0.   0.   0.5  0.7...\n",
       "NCells                                                                  160796\n",
       "Neurotransmitter             AcetylcholineGlutamate (VGLUT2),AcetylcholineA...\n",
       "OriginalClusters                                                          1700\n",
       "Outliers                                                                     0\n",
       "Probable_location            Myenteric plexus of small intestineMyenteric p...\n",
       "Region                       Enteric nervous systemEnteric nervous systemEn...\n",
       "Sex_1F                                                                   25291\n",
       "Sex_1M                                                                   15309\n",
       "Sex_1M 1F                                                                49313\n",
       "Sex_1M 2F                                                                 1304\n",
       "Sex_2M                                                                      89\n",
       "Sex_2M 1F                                                                 4828\n",
       "Sex_2M 2F                                                                 1317\n",
       "Sex_?                                                                     2293\n",
       "Sex_F                                                                    27705\n",
       "Sex_M                                                                    30904\n",
       "                                                   ...                        \n",
       "Sex_nan                                                                    893\n",
       "TaxonomyRank1                NeuronsNeuronsNeuronsNeuronsNeuronsNeuronsNeur...\n",
       "TaxonomyRank2                PNS neuronsPNS neuronsPNS neuronsPNS neuronsPN...\n",
       "TaxonomyRank3                Enteric neuronsEnteric neuronsEnteric neuronsE...\n",
       "TaxonomyRank4                Enteric neuronsEnteric neuronsEnteric neuronsE...\n",
       "TaxonomySymbol               EnneEnneEnneEnneEnneEnneEnneEnneEnneGentGentGe...\n",
       "Tissue_Amygd                                                              3999\n",
       "Tissue_CA1                                                                5615\n",
       "Tissue_CB                                                                 6671\n",
       "Tissue_Ctx1                                                               7325\n",
       "Tissue_Ctx1.5                                                             1465\n",
       "Tissue_Ctx2                                                               4522\n",
       "Tissue_Ctx3                                                               8985\n",
       "Tissue_DRG                                                                2309\n",
       "Tissue_DentGyr                                                            4273\n",
       "Tissue_ENS                                                               11640\n",
       "Tissue_HC                                                                 8259\n",
       "Tissue_Hypoth                                                             5484\n",
       "Tissue_MBd                                                               15171\n",
       "Tissue_MBv                                                                9279\n",
       "Tissue_Medulla                                                            8486\n",
       "Tissue_OB                                                                14105\n",
       "Tissue_Pons                                                               7305\n",
       "Tissue_SC                                                                10317\n",
       "Tissue_SScortex                                                           2263\n",
       "Tissue_StriatDor                                                          4593\n",
       "Tissue_StriatVent                                                         7512\n",
       "Tissue_Sympath                                                             893\n",
       "Tissue_Thal                                                              10325\n",
       "_Total                                                             1.33751e+06\n",
       "Length: 61, dtype: object"
      ]
     },
     "execution_count": 51,
     "metadata": {},
     "output_type": "execute_result"
    }
   ],
   "source": [
    "df_ca.sum(axis='rows')"
   ]
  },
  {
   "cell_type": "code",
   "execution_count": 52,
   "metadata": {
    "ExecuteTime": {
     "end_time": "2018-07-13T09:14:53.100415Z",
     "start_time": "2018-07-13T09:14:53.097942Z"
    },
    "collapsed": true
   },
   "outputs": [],
   "source": [
    "### Write file\n",
    "# df_ca.to_csv(\"mousebrain-agg_L5.metadata.csv\", index=False)"
   ]
  },
  {
   "cell_type": "code",
   "execution_count": null,
   "metadata": {
    "collapsed": true
   },
   "outputs": [],
   "source": []
  },
  {
   "cell_type": "markdown",
   "metadata": {
    "collapsed": true
   },
   "source": [
    "### Inspect stucture"
   ]
  },
  {
   "cell_type": "code",
   "execution_count": 53,
   "metadata": {
    "ExecuteTime": {
     "end_time": "2018-07-13T09:14:54.001881Z",
     "start_time": "2018-07-13T09:14:53.997956Z"
    }
   },
   "outputs": [
    {
     "data": {
      "text/plain": [
       "['', 'enrichment', 'enrichment_q', 'trinaries', 'trinaries_0.05']"
      ]
     },
     "execution_count": 53,
     "metadata": {},
     "output_type": "execute_result"
    }
   ],
   "source": [
    "ds.layers.keys()"
   ]
  },
  {
   "cell_type": "code",
   "execution_count": 54,
   "metadata": {
    "ExecuteTime": {
     "end_time": "2018-07-13T09:14:54.344291Z",
     "start_time": "2018-07-13T09:14:54.286186Z"
    }
   },
   "outputs": [
    {
     "name": "stdout",
     "output_type": "stream",
     "text": [
      "['Accession', 'Gene', '_LogCV', '_LogMean', '_Selected', '_Total', '_Valid']\n",
      "Accession ['ENSMUSG00000041544' 'ENSMUSG00000029503']\n",
      "Gene ['Ptchd2' 'P2rx2']\n",
      "_LogCV [2.97060523 2.35544823]\n",
      "_LogMean [-5.5494638  -3.16173369]\n",
      "_Selected [0 1]\n",
      "_Total [ 30. 157.]\n",
      "_Valid [1 1]\n"
     ]
    }
   ],
   "source": [
    "print(ds.ra.keys())\n",
    "for key in ds.ra.keys():\n",
    "    print(key, ds.ra[key][1:3])"
   ]
  },
  {
   "cell_type": "code",
   "execution_count": 55,
   "metadata": {
    "ExecuteTime": {
     "end_time": "2018-07-13T09:14:54.559582Z",
     "start_time": "2018-07-13T09:14:54.553661Z"
    }
   },
   "outputs": [
    {
     "data": {
      "text/plain": [
       "['Age_6w',\n",
       " 'Age_?',\n",
       " 'Age_p12, p35',\n",
       " 'Age_p16, p24',\n",
       " 'Age_p19',\n",
       " 'Age_p19, p21',\n",
       " 'Age_p20',\n",
       " 'Age_p21',\n",
       " 'Age_p21, p23',\n",
       " 'Age_p21-23',\n",
       " 'Age_p22',\n",
       " 'Age_p22-24',\n",
       " 'Age_p23',\n",
       " 'Age_p24',\n",
       " 'Age_p25',\n",
       " 'Age_p25-27',\n",
       " 'Age_p26',\n",
       " 'Age_p27',\n",
       " 'Age_p28',\n",
       " 'Age_p29',\n",
       " 'Age_p30',\n",
       " 'Age_p60',\n",
       " 'Bucket',\n",
       " 'Class',\n",
       " 'ClusterName',\n",
       " 'ClusterScore',\n",
       " 'Clusters',\n",
       " 'Comment',\n",
       " 'Description',\n",
       " 'Developmental_compartment',\n",
       " 'LeafOrder',\n",
       " 'Location_based_on',\n",
       " 'MarkerGenes',\n",
       " 'MarkerRobustness',\n",
       " 'MarkerSelectivity',\n",
       " 'MarkerSpecificity',\n",
       " 'NCells',\n",
       " 'Neurotransmitter',\n",
       " 'OriginalClusters',\n",
       " 'Outliers',\n",
       " 'Probable_location',\n",
       " 'Region',\n",
       " 'SampleID_10X01_1',\n",
       " 'SampleID_10X02_1',\n",
       " 'SampleID_10X04_1',\n",
       " 'SampleID_10X04_2',\n",
       " 'SampleID_10X04_4',\n",
       " 'SampleID_10X05_1',\n",
       " 'SampleID_10X05_2',\n",
       " 'SampleID_10X05_3',\n",
       " 'SampleID_10X05_4',\n",
       " 'SampleID_10X06_1',\n",
       " 'SampleID_10X06_2',\n",
       " 'SampleID_10X06_3',\n",
       " 'SampleID_10X07_1',\n",
       " 'SampleID_10X11_1',\n",
       " 'SampleID_10X19_2',\n",
       " 'SampleID_10X20_1',\n",
       " 'SampleID_10X20_2',\n",
       " 'SampleID_10X20_3',\n",
       " 'SampleID_10X20_4',\n",
       " 'SampleID_10X22_1',\n",
       " 'SampleID_10X22_2',\n",
       " 'SampleID_10X22_3',\n",
       " 'SampleID_10X22_4',\n",
       " 'SampleID_10X24_1',\n",
       " 'SampleID_10X24_2',\n",
       " 'SampleID_10X24_3',\n",
       " 'SampleID_10X24_4',\n",
       " 'SampleID_10X26_1',\n",
       " 'SampleID_10X26_2',\n",
       " 'SampleID_10X26_3',\n",
       " 'SampleID_10X26_4',\n",
       " 'SampleID_10X28_2',\n",
       " 'SampleID_10X28_3',\n",
       " 'SampleID_10X28_4',\n",
       " 'SampleID_10X28_5',\n",
       " 'SampleID_10X33_1',\n",
       " 'SampleID_10X33_2',\n",
       " 'SampleID_10X33_3',\n",
       " 'SampleID_10X33_4',\n",
       " 'SampleID_10X34_1',\n",
       " 'SampleID_10X34_2',\n",
       " 'SampleID_10X34_3',\n",
       " 'SampleID_10X34_4',\n",
       " 'SampleID_10X35_1',\n",
       " 'SampleID_10X35_2',\n",
       " 'SampleID_10X35_3',\n",
       " 'SampleID_10X35_4',\n",
       " 'SampleID_10X36_1',\n",
       " 'SampleID_10X36_2',\n",
       " 'SampleID_10X36_3',\n",
       " 'SampleID_10X38_1',\n",
       " 'SampleID_10X38_2',\n",
       " 'SampleID_10X38_3',\n",
       " 'SampleID_10X43_1',\n",
       " 'SampleID_10X43_2',\n",
       " 'SampleID_10X43_3',\n",
       " 'SampleID_10X46_1',\n",
       " 'SampleID_10X46_2',\n",
       " 'SampleID_10X46_3',\n",
       " 'SampleID_10X48_1',\n",
       " 'SampleID_10X48_2',\n",
       " 'SampleID_10X48_3',\n",
       " 'SampleID_10X48_4',\n",
       " 'SampleID_10X49_1',\n",
       " 'SampleID_10X49_2',\n",
       " 'SampleID_10X49_3',\n",
       " 'SampleID_10X49_4',\n",
       " 'SampleID_10X49_5',\n",
       " 'SampleID_10X50_1',\n",
       " 'SampleID_10X50_2',\n",
       " 'SampleID_10X50_3',\n",
       " 'SampleID_10X50_4',\n",
       " 'SampleID_10X50_5',\n",
       " 'SampleID_10X50_6',\n",
       " 'SampleID_10X50_7',\n",
       " 'SampleID_10X50_8',\n",
       " 'SampleID_10X51_1',\n",
       " 'SampleID_10X51_2',\n",
       " 'SampleID_10X51_3',\n",
       " 'SampleID_10X51_4',\n",
       " 'SampleID_10X52_1',\n",
       " 'SampleID_10X52_2',\n",
       " 'SampleID_10X52_3',\n",
       " 'SampleID_10X52_4',\n",
       " 'SampleID_10X52_5',\n",
       " 'SampleID_10X52_6',\n",
       " 'SampleID_10X52_7',\n",
       " 'SampleID_10X52_8',\n",
       " 'SampleID_10X53_1',\n",
       " 'SampleID_10X53_2',\n",
       " 'SampleID_10X53_3',\n",
       " 'SampleID_10X53_4',\n",
       " 'SampleID_10X53_5',\n",
       " 'SampleID_10X53_6',\n",
       " 'SampleID_10X53_7',\n",
       " 'SampleID_10X54_1',\n",
       " 'SampleID_10X54_2',\n",
       " 'SampleID_10X54_3',\n",
       " 'SampleID_10X54_4',\n",
       " 'SampleID_10X54_5',\n",
       " 'SampleID_10X54_6',\n",
       " 'SampleID_10X54_7',\n",
       " 'SampleID_10X54_8',\n",
       " 'SampleID_10X55_1',\n",
       " 'SampleID_10X55_2',\n",
       " 'SampleID_10X55_3',\n",
       " 'SampleID_10X55_4',\n",
       " 'SampleID_10X55_5',\n",
       " 'SampleID_10X55_6',\n",
       " 'SampleID_10X55_7',\n",
       " 'SampleID_10X55_8',\n",
       " 'SampleID_10X56_2',\n",
       " 'SampleID_10X56_3',\n",
       " 'SampleID_10X56_6',\n",
       " 'SampleID_10X57_1',\n",
       " 'SampleID_10X57_2',\n",
       " 'SampleID_10X57_3',\n",
       " 'SampleID_10X57_4',\n",
       " 'SampleID_10X57_5',\n",
       " 'SampleID_10X57_6',\n",
       " 'SampleID_10X57_7',\n",
       " 'SampleID_10X75_1',\n",
       " 'SampleID_10X81_1',\n",
       " 'SampleID_10X81_2',\n",
       " 'SampleID_10X81_3',\n",
       " 'SampleID_10X82_2',\n",
       " 'SampleID_10X86_1',\n",
       " 'SampleID_10X86_3',\n",
       " 'SampleID_10X87_1',\n",
       " 'SampleID_10X87_2',\n",
       " 'SampleID_10X87_4',\n",
       " 'Sex_1F',\n",
       " 'Sex_1M',\n",
       " 'Sex_1M 1F',\n",
       " 'Sex_1M 2F',\n",
       " 'Sex_2M',\n",
       " 'Sex_2M 1F',\n",
       " 'Sex_2M 2F',\n",
       " 'Sex_?',\n",
       " 'Sex_F',\n",
       " 'Sex_M',\n",
       " 'Sex_M, F',\n",
       " 'Sex_nan',\n",
       " 'TaxonomyRank1',\n",
       " 'TaxonomyRank2',\n",
       " 'TaxonomyRank3',\n",
       " 'TaxonomyRank4',\n",
       " 'TaxonomySymbol',\n",
       " 'Tissue_Amygd',\n",
       " 'Tissue_CA1',\n",
       " 'Tissue_CB',\n",
       " 'Tissue_Ctx1',\n",
       " 'Tissue_Ctx1.5',\n",
       " 'Tissue_Ctx2',\n",
       " 'Tissue_Ctx3',\n",
       " 'Tissue_DRG',\n",
       " 'Tissue_DentGyr',\n",
       " 'Tissue_ENS',\n",
       " 'Tissue_HC',\n",
       " 'Tissue_Hypoth',\n",
       " 'Tissue_MBd',\n",
       " 'Tissue_MBv',\n",
       " 'Tissue_Medulla',\n",
       " 'Tissue_OB',\n",
       " 'Tissue_Pons',\n",
       " 'Tissue_SC',\n",
       " 'Tissue_SScortex',\n",
       " 'Tissue_StriatDor',\n",
       " 'Tissue_StriatVent',\n",
       " 'Tissue_Sympath',\n",
       " 'Tissue_Thal',\n",
       " '_Total']"
      ]
     },
     "execution_count": 55,
     "metadata": {},
     "output_type": "execute_result"
    }
   ],
   "source": [
    "ds.ca.keys()"
   ]
  },
  {
   "cell_type": "code",
   "execution_count": 56,
   "metadata": {
    "ExecuteTime": {
     "end_time": "2018-07-13T09:14:55.011200Z",
     "start_time": "2018-07-13T09:14:55.007247Z"
    }
   },
   "outputs": [
    {
     "data": {
      "text/plain": [
       "[]"
      ]
     },
     "execution_count": 56,
     "metadata": {},
     "output_type": "execute_result"
    }
   ],
   "source": [
    "ds.row_graphs.keys()"
   ]
  },
  {
   "cell_type": "code",
   "execution_count": 57,
   "metadata": {
    "ExecuteTime": {
     "end_time": "2018-07-13T09:14:55.852217Z",
     "start_time": "2018-07-13T09:14:55.848441Z"
    }
   },
   "outputs": [
    {
     "data": {
      "text/plain": [
       "[]"
      ]
     },
     "execution_count": 57,
     "metadata": {},
     "output_type": "execute_result"
    }
   ],
   "source": [
    "ds.col_graphs.keys()"
   ]
  },
  {
   "cell_type": "code",
   "execution_count": null,
   "metadata": {
    "collapsed": true
   },
   "outputs": [],
   "source": []
  },
  {
   "cell_type": "code",
   "execution_count": null,
   "metadata": {
    "collapsed": true
   },
   "outputs": [],
   "source": []
  },
  {
   "cell_type": "markdown",
   "metadata": {
    "collapsed": true
   },
   "source": [
    "### Explore cell metadata"
   ]
  },
  {
   "cell_type": "code",
   "execution_count": 58,
   "metadata": {
    "ExecuteTime": {
     "end_time": "2018-07-13T09:14:57.019272Z",
     "start_time": "2018-07-13T09:14:57.013556Z"
    }
   },
   "outputs": [
    {
     "name": "stdout",
     "output_type": "stream",
     "text": [
      "['Astrocytes' 'Ependymal' 'Immune' 'Neurons' 'Oligos' 'PeripheralGlia'\n",
      " 'Vascular']\n",
      "['CNS glia' 'CNS neurons' 'Immune cells' 'Neural crest-like glia'\n",
      " 'PNS neurons' 'Vascular cells']\n",
      "['Amygdala' 'Brain' 'CNS' 'Cerebellum' 'Cortex' 'Dentate gyrus'\n",
      " 'Dorsal root ganglion' 'Dorsal root ganglion,Sympathetic ganglion'\n",
      " 'Enteric nervous system' 'Hippocampus' 'Hippocampus,Cortex'\n",
      " 'Hypothalamus'\n",
      " 'Hypothalamus,Thalamus,Midbrain dorsal,Midbrain ventral,Pons,Medulla,Spinal cord'\n",
      " 'Medulla' 'Medulla,Thalamus' 'Midbrain dorsal'\n",
      " 'Midbrain dorsal,Midbrain ventral' 'Midbrain ventral' 'Olfactory bulb'\n",
      " 'Pallidum' 'Pons' 'Pons,Medullae,Cerebellum' 'Spinal cord'\n",
      " 'Striatum dorsal' 'Striatum dorsal, Striatum ventral'\n",
      " 'Striatum dorsal, Striatum ventral, Dentate gyrus'\n",
      " 'Striatum dorsal, Striatum ventral,Amygdala'\n",
      " 'Striatum dorsal,Striatum ventral' 'Striatum ventral'\n",
      " 'Subcommissural organ' 'Sympathetic ganglion' 'Telencephalon' 'Thalamus']\n"
     ]
    }
   ],
   "source": [
    "print(np.unique(ds.ca[\"Class\"]))\n",
    "print(np.unique(ds.ca[\"TaxonomyRank2\"]))\n",
    "print(np.unique(ds.ca[\"Region\"]))"
   ]
  },
  {
   "cell_type": "code",
   "execution_count": null,
   "metadata": {
    "ExecuteTime": {
     "end_time": "2018-05-18T20:47:53.108069Z",
     "start_time": "2018-05-18T20:47:53.098698Z"
    },
    "collapsed": true
   },
   "outputs": [],
   "source": []
  },
  {
   "cell_type": "code",
   "execution_count": 59,
   "metadata": {
    "ExecuteTime": {
     "end_time": "2018-07-13T09:14:58.214011Z",
     "start_time": "2018-07-13T09:14:58.199369Z"
    }
   },
   "outputs": [
    {
     "data": {
      "text/html": [
       "<div>\n",
       "<style scoped>\n",
       "    .dataframe tbody tr th:only-of-type {\n",
       "        vertical-align: middle;\n",
       "    }\n",
       "\n",
       "    .dataframe tbody tr th {\n",
       "        vertical-align: top;\n",
       "    }\n",
       "\n",
       "    .dataframe thead th {\n",
       "        text-align: right;\n",
       "    }\n",
       "</style>\n",
       "<table border=\"1\" class=\"dataframe\">\n",
       "  <thead>\n",
       "    <tr style=\"text-align: right;\">\n",
       "      <th></th>\n",
       "      <th>ClusterName</th>\n",
       "      <th>Description</th>\n",
       "      <th>NCell</th>\n",
       "    </tr>\n",
       "  </thead>\n",
       "  <tbody>\n",
       "    <tr>\n",
       "      <th>MOL2</th>\n",
       "      <td>MOL2</td>\n",
       "      <td>Mature oligodendrocytes, hindbrain</td>\n",
       "      <td>10011</td>\n",
       "    </tr>\n",
       "    <tr>\n",
       "      <th>MOL1</th>\n",
       "      <td>MOL1</td>\n",
       "      <td>Mature oligodendrocytes</td>\n",
       "      <td>8715</td>\n",
       "    </tr>\n",
       "    <tr>\n",
       "      <th>ACNT1</th>\n",
       "      <td>ACNT1</td>\n",
       "      <td>Non-telencephalon astrocytes, protoplasmic</td>\n",
       "      <td>6642</td>\n",
       "    </tr>\n",
       "    <tr>\n",
       "      <th>PER1</th>\n",
       "      <td>PER1</td>\n",
       "      <td>Pericytes</td>\n",
       "      <td>4725</td>\n",
       "    </tr>\n",
       "    <tr>\n",
       "      <th>CBGRC</th>\n",
       "      <td>CBGRC</td>\n",
       "      <td>Granule neurons, cerebellum</td>\n",
       "      <td>4193</td>\n",
       "    </tr>\n",
       "  </tbody>\n",
       "</table>\n",
       "</div>"
      ],
      "text/plain": [
       "      ClusterName                                 Description  NCell\n",
       "MOL2         MOL2          Mature oligodendrocytes, hindbrain  10011\n",
       "MOL1         MOL1                     Mature oligodendrocytes   8715\n",
       "ACNT1       ACNT1  Non-telencephalon astrocytes, protoplasmic   6642\n",
       "PER1         PER1                                   Pericytes   4725\n",
       "CBGRC       CBGRC                 Granule neurons, cerebellum   4193"
      ]
     },
     "execution_count": 59,
     "metadata": {},
     "output_type": "execute_result"
    }
   ],
   "source": [
    "### \n",
    "df_ca = pd.DataFrame(data={\"ClusterName\":ds.ca[\"ClusterName\"], \n",
    "                           \"NCell\":ds.ca[\"NCells\"],\n",
    "                           \"Description\":ds.ca[\"Description\"]\n",
    "                          }, index=ds.ca[\"ClusterName\"])\n",
    "df_ca.sort_values(by=\"NCell\", ascending=False).head()"
   ]
  },
  {
   "cell_type": "code",
   "execution_count": 60,
   "metadata": {
    "ExecuteTime": {
     "end_time": "2018-07-13T09:14:58.557324Z",
     "start_time": "2018-07-13T09:14:58.543113Z"
    }
   },
   "outputs": [
    {
     "data": {
      "text/html": [
       "<div>\n",
       "<style scoped>\n",
       "    .dataframe tbody tr th:only-of-type {\n",
       "        vertical-align: middle;\n",
       "    }\n",
       "\n",
       "    .dataframe tbody tr th {\n",
       "        vertical-align: top;\n",
       "    }\n",
       "\n",
       "    .dataframe thead th {\n",
       "        text-align: right;\n",
       "    }\n",
       "</style>\n",
       "<table border=\"1\" class=\"dataframe\">\n",
       "  <thead>\n",
       "    <tr style=\"text-align: right;\">\n",
       "      <th></th>\n",
       "      <th>NCell</th>\n",
       "    </tr>\n",
       "  </thead>\n",
       "  <tbody>\n",
       "    <tr>\n",
       "      <th>count</th>\n",
       "      <td>265.000000</td>\n",
       "    </tr>\n",
       "    <tr>\n",
       "      <th>mean</th>\n",
       "      <td>606.777358</td>\n",
       "    </tr>\n",
       "    <tr>\n",
       "      <th>std</th>\n",
       "      <td>1170.877736</td>\n",
       "    </tr>\n",
       "    <tr>\n",
       "      <th>min</th>\n",
       "      <td>7.000000</td>\n",
       "    </tr>\n",
       "    <tr>\n",
       "      <th>25%</th>\n",
       "      <td>71.000000</td>\n",
       "    </tr>\n",
       "    <tr>\n",
       "      <th>50%</th>\n",
       "      <td>167.000000</td>\n",
       "    </tr>\n",
       "    <tr>\n",
       "      <th>75%</th>\n",
       "      <td>654.000000</td>\n",
       "    </tr>\n",
       "    <tr>\n",
       "      <th>max</th>\n",
       "      <td>10011.000000</td>\n",
       "    </tr>\n",
       "  </tbody>\n",
       "</table>\n",
       "</div>"
      ],
      "text/plain": [
       "              NCell\n",
       "count    265.000000\n",
       "mean     606.777358\n",
       "std     1170.877736\n",
       "min        7.000000\n",
       "25%       71.000000\n",
       "50%      167.000000\n",
       "75%      654.000000\n",
       "max    10011.000000"
      ]
     },
     "execution_count": 60,
     "metadata": {},
     "output_type": "execute_result"
    }
   ],
   "source": [
    "df_ca.describe()"
   ]
  },
  {
   "cell_type": "code",
   "execution_count": 61,
   "metadata": {
    "ExecuteTime": {
     "end_time": "2018-07-13T09:15:01.755817Z",
     "start_time": "2018-07-13T09:14:58.695127Z"
    }
   },
   "outputs": [
    {
     "data": {
      "image/png": "[encoded data removed]",
      "text/plain": [
       "<Figure size 640x480 with 1 Axes>"
      ]
     },
     "metadata": {},
     "output_type": "display_data"
    },
    {
     "data": {
      "text/plain": [
       "<ggplot: (8752452074749)>"
      ]
     },
     "execution_count": 61,
     "metadata": {},
     "output_type": "execute_result"
    }
   ],
   "source": [
    "ggplot(df_ca, aes(x='ClusterName', y='NCell')) + geom_col() + theme(axis_text_x=element_text(angle=45))"
   ]
  },
  {
   "cell_type": "markdown",
   "metadata": {},
   "source": [
    "### Enrichment layer: create df and export"
   ]
  },
  {
   "cell_type": "code",
   "execution_count": 62,
   "metadata": {
    "ExecuteTime": {
     "end_time": "2018-07-13T09:15:02.528900Z",
     "start_time": "2018-07-13T09:15:01.757679Z"
    }
   },
   "outputs": [
    {
     "data": {
      "text/plain": [
       "(27998, 265)"
      ]
     },
     "execution_count": 62,
     "metadata": {},
     "output_type": "execute_result"
    }
   ],
   "source": [
    "ds.layers[\"enrichment\"][1:5, :].shape\n",
    "ds.layers[\"enrichment\"][:,:].shape"
   ]
  },
  {
   "cell_type": "code",
   "execution_count": 6,
   "metadata": {
    "ExecuteTime": {
     "end_time": "2018-11-19T07:21:45.452470Z",
     "start_time": "2018-11-19T07:21:44.721237Z"
    },
    "collapsed": true
   },
   "outputs": [],
   "source": [
    "### make dfs\n",
    "df_enrich_val = pd.DataFrame(data=ds.layers[\"enrichment\"][:,:], columns=ds.ca[\"ClusterName\"], index=ds.ra[\"Accession\"]) # or index=ds.ra[\"Accession\"] to get Ensembl ID\n",
    "df_enrich_q = pd.DataFrame(data=ds.layers[\"enrichment_q\"][:,:], columns=ds.ca[\"ClusterName\"], index=ds.ra[\"Accession\"])\n",
    "df_enrich_val.index.name = \"gene\"\n",
    "df_enrich_q.index.name = \"gene\""
   ]
  },
  {
   "cell_type": "code",
   "execution_count": 7,
   "metadata": {
    "ExecuteTime": {
     "end_time": "2018-11-19T07:22:48.701269Z",
     "start_time": "2018-11-19T07:21:52.028050Z"
    },
    "collapsed": true
   },
   "outputs": [],
   "source": [
    "### Export\n",
    "df_enrich_val.to_csv(\"mousebrain-agg_L5.enrichment_values.csv.gz\", compression=\"gzip\")\n",
    "df_enrich_q.to_csv(\"mousebrain-agg_L5.enrichment_q.csv.gz\", compression=\"gzip\")"
   ]
  },
  {
   "cell_type": "code",
   "execution_count": null,
   "metadata": {
    "collapsed": true
   },
   "outputs": [],
   "source": []
  },
  {
   "cell_type": "markdown",
   "metadata": {},
   "source": [
    "### Enrichment layer: inspect and summarize"
   ]
  },
  {
   "cell_type": "code",
   "execution_count": 212,
   "metadata": {
    "ExecuteTime": {
     "end_time": "2018-07-16T12:04:51.698404Z",
     "start_time": "2018-07-16T12:04:51.664723Z"
    }
   },
   "outputs": [
    {
     "data": {
      "text/html": [
       "<div>\n",
       "<style scoped>\n",
       "    .dataframe tbody tr th:only-of-type {\n",
       "        vertical-align: middle;\n",
       "    }\n",
       "\n",
       "    .dataframe tbody tr th {\n",
       "        vertical-align: top;\n",
       "    }\n",
       "\n",
       "    .dataframe thead th {\n",
       "        text-align: right;\n",
       "    }\n",
       "</style>\n",
       "<table border=\"1\" class=\"dataframe\">\n",
       "  <thead>\n",
       "    <tr style=\"text-align: right;\">\n",
       "      <th></th>\n",
       "      <th>ENT9</th>\n",
       "      <th>ENT8</th>\n",
       "      <th>ENT6</th>\n",
       "      <th>ENT5</th>\n",
       "      <th>ENT4</th>\n",
       "      <th>ENT7</th>\n",
       "      <th>ENT3</th>\n",
       "      <th>ENT2</th>\n",
       "      <th>ENT1</th>\n",
       "      <th>ENTG1</th>\n",
       "      <th>...</th>\n",
       "      <th>PSPEP8</th>\n",
       "      <th>PSNF2</th>\n",
       "      <th>PSNF3</th>\n",
       "      <th>PSNF1</th>\n",
       "      <th>PSNP1</th>\n",
       "      <th>PSNP3</th>\n",
       "      <th>PSNP2</th>\n",
       "      <th>PSNP5</th>\n",
       "      <th>PSNP4</th>\n",
       "      <th>PSNP6</th>\n",
       "    </tr>\n",
       "  </thead>\n",
       "  <tbody>\n",
       "    <tr>\n",
       "      <th>Cbln2</th>\n",
       "      <td>942.361034</td>\n",
       "      <td>7.897839</td>\n",
       "      <td>1.725855</td>\n",
       "      <td>0.862498</td>\n",
       "      <td>0.370434</td>\n",
       "      <td>0.057526</td>\n",
       "      <td>0.100657</td>\n",
       "      <td>0.195822</td>\n",
       "      <td>0.803193</td>\n",
       "      <td>0.143708</td>\n",
       "      <td>...</td>\n",
       "      <td>0.057527</td>\n",
       "      <td>84.213976</td>\n",
       "      <td>2.683104</td>\n",
       "      <td>165.787303</td>\n",
       "      <td>5.233028</td>\n",
       "      <td>0.057419</td>\n",
       "      <td>0.057507</td>\n",
       "      <td>0.136813</td>\n",
       "      <td>0.057519</td>\n",
       "      <td>0.108690</td>\n",
       "    </tr>\n",
       "    <tr>\n",
       "      <th>Ptchd2</th>\n",
       "      <td>36.283322</td>\n",
       "      <td>0.216117</td>\n",
       "      <td>0.216091</td>\n",
       "      <td>0.215915</td>\n",
       "      <td>0.216044</td>\n",
       "      <td>1.208592</td>\n",
       "      <td>0.216044</td>\n",
       "      <td>0.457242</td>\n",
       "      <td>0.216220</td>\n",
       "      <td>0.216035</td>\n",
       "      <td>...</td>\n",
       "      <td>3.019325</td>\n",
       "      <td>4.683088</td>\n",
       "      <td>4.545389</td>\n",
       "      <td>4.462801</td>\n",
       "      <td>0.215886</td>\n",
       "      <td>0.306889</td>\n",
       "      <td>3.932603</td>\n",
       "      <td>0.514309</td>\n",
       "      <td>0.216182</td>\n",
       "      <td>0.408624</td>\n",
       "    </tr>\n",
       "    <tr>\n",
       "      <th>P2rx2</th>\n",
       "      <td>3601.674248</td>\n",
       "      <td>330.848998</td>\n",
       "      <td>13.637091</td>\n",
       "      <td>85.767785</td>\n",
       "      <td>55.608005</td>\n",
       "      <td>303.071532</td>\n",
       "      <td>295.174508</td>\n",
       "      <td>328.858368</td>\n",
       "      <td>446.099009</td>\n",
       "      <td>0.540774</td>\n",
       "      <td>...</td>\n",
       "      <td>1.960357</td>\n",
       "      <td>0.315851</td>\n",
       "      <td>0.315889</td>\n",
       "      <td>0.315879</td>\n",
       "      <td>0.721053</td>\n",
       "      <td>0.448548</td>\n",
       "      <td>0.315830</td>\n",
       "      <td>22.248593</td>\n",
       "      <td>1.244313</td>\n",
       "      <td>444.253910</td>\n",
       "    </tr>\n",
       "    <tr>\n",
       "      <th>Ptger4</th>\n",
       "      <td>308.729127</td>\n",
       "      <td>10.455240</td>\n",
       "      <td>31.938721</td>\n",
       "      <td>16.094493</td>\n",
       "      <td>19.189401</td>\n",
       "      <td>25.958315</td>\n",
       "      <td>7.430647</td>\n",
       "      <td>29.106607</td>\n",
       "      <td>20.638741</td>\n",
       "      <td>0.555252</td>\n",
       "      <td>...</td>\n",
       "      <td>0.555470</td>\n",
       "      <td>16.484097</td>\n",
       "      <td>24.913503</td>\n",
       "      <td>5.314398</td>\n",
       "      <td>4.179587</td>\n",
       "      <td>3.877541</td>\n",
       "      <td>5.166472</td>\n",
       "      <td>8.955591</td>\n",
       "      <td>23.569992</td>\n",
       "      <td>23.108129</td>\n",
       "    </tr>\n",
       "    <tr>\n",
       "      <th>Fam19a1</th>\n",
       "      <td>179.321879</td>\n",
       "      <td>178.541005</td>\n",
       "      <td>67.266776</td>\n",
       "      <td>26.882989</td>\n",
       "      <td>14.330682</td>\n",
       "      <td>27.650360</td>\n",
       "      <td>0.310625</td>\n",
       "      <td>0.213207</td>\n",
       "      <td>38.622352</td>\n",
       "      <td>0.018097</td>\n",
       "      <td>...</td>\n",
       "      <td>0.018119</td>\n",
       "      <td>0.884198</td>\n",
       "      <td>4.931883</td>\n",
       "      <td>0.288425</td>\n",
       "      <td>0.033093</td>\n",
       "      <td>0.042415</td>\n",
       "      <td>0.018112</td>\n",
       "      <td>0.043087</td>\n",
       "      <td>0.018117</td>\n",
       "      <td>0.034228</td>\n",
       "    </tr>\n",
       "    <tr>\n",
       "      <th>Slc12a7</th>\n",
       "      <td>453.210751</td>\n",
       "      <td>24.272395</td>\n",
       "      <td>2.662857</td>\n",
       "      <td>3.531491</td>\n",
       "      <td>1.995607</td>\n",
       "      <td>34.995372</td>\n",
       "      <td>1.607959</td>\n",
       "      <td>5.295589</td>\n",
       "      <td>4.981310</td>\n",
       "      <td>4.643287</td>\n",
       "      <td>...</td>\n",
       "      <td>60.758778</td>\n",
       "      <td>3.412744</td>\n",
       "      <td>28.135159</td>\n",
       "      <td>39.145251</td>\n",
       "      <td>105.408018</td>\n",
       "      <td>2.485933</td>\n",
       "      <td>0.970621</td>\n",
       "      <td>0.848712</td>\n",
       "      <td>0.356691</td>\n",
       "      <td>0.674351</td>\n",
       "    </tr>\n",
       "    <tr>\n",
       "      <th>Tlx2</th>\n",
       "      <td>996.489910</td>\n",
       "      <td>344.871865</td>\n",
       "      <td>72.529916</td>\n",
       "      <td>55.777713</td>\n",
       "      <td>27.763564</td>\n",
       "      <td>195.219501</td>\n",
       "      <td>30.072995</td>\n",
       "      <td>56.240696</td>\n",
       "      <td>129.279412</td>\n",
       "      <td>0.300848</td>\n",
       "      <td>...</td>\n",
       "      <td>215.283742</td>\n",
       "      <td>145.635530</td>\n",
       "      <td>241.825833</td>\n",
       "      <td>120.452236</td>\n",
       "      <td>398.368644</td>\n",
       "      <td>842.498784</td>\n",
       "      <td>458.427977</td>\n",
       "      <td>463.566852</td>\n",
       "      <td>770.900446</td>\n",
       "      <td>475.056827</td>\n",
       "    </tr>\n",
       "    <tr>\n",
       "      <th>Hoxa3</th>\n",
       "      <td>195.815962</td>\n",
       "      <td>68.289689</td>\n",
       "      <td>121.580066</td>\n",
       "      <td>90.818332</td>\n",
       "      <td>85.720299</td>\n",
       "      <td>41.478952</td>\n",
       "      <td>56.854629</td>\n",
       "      <td>91.508046</td>\n",
       "      <td>43.653589</td>\n",
       "      <td>6.108701</td>\n",
       "      <td>...</td>\n",
       "      <td>2.910829</td>\n",
       "      <td>1.518865</td>\n",
       "      <td>0.468999</td>\n",
       "      <td>0.468988</td>\n",
       "      <td>4.819156</td>\n",
       "      <td>5.351931</td>\n",
       "      <td>3.436169</td>\n",
       "      <td>1.116003</td>\n",
       "      <td>0.468976</td>\n",
       "      <td>1.358862</td>\n",
       "    </tr>\n",
       "    <tr>\n",
       "      <th>Adgrg6</th>\n",
       "      <td>2139.999261</td>\n",
       "      <td>2.491068</td>\n",
       "      <td>4.522300</td>\n",
       "      <td>0.718826</td>\n",
       "      <td>41.660125</td>\n",
       "      <td>32.018698</td>\n",
       "      <td>13.369845</td>\n",
       "      <td>17.163447</td>\n",
       "      <td>6.151123</td>\n",
       "      <td>50.278072</td>\n",
       "      <td>...</td>\n",
       "      <td>0.087222</td>\n",
       "      <td>0.531270</td>\n",
       "      <td>0.087220</td>\n",
       "      <td>0.087216</td>\n",
       "      <td>0.891768</td>\n",
       "      <td>0.561911</td>\n",
       "      <td>1.174469</td>\n",
       "      <td>0.703578</td>\n",
       "      <td>0.343504</td>\n",
       "      <td>0.989288</td>\n",
       "    </tr>\n",
       "    <tr>\n",
       "      <th>Dgkg</th>\n",
       "      <td>287.406296</td>\n",
       "      <td>50.696640</td>\n",
       "      <td>0.079710</td>\n",
       "      <td>0.138939</td>\n",
       "      <td>0.102828</td>\n",
       "      <td>2.756547</td>\n",
       "      <td>3.970447</td>\n",
       "      <td>10.587617</td>\n",
       "      <td>17.311267</td>\n",
       "      <td>0.099417</td>\n",
       "      <td>...</td>\n",
       "      <td>0.246960</td>\n",
       "      <td>1.333835</td>\n",
       "      <td>1.089207</td>\n",
       "      <td>0.039799</td>\n",
       "      <td>0.055712</td>\n",
       "      <td>16.614024</td>\n",
       "      <td>26.067444</td>\n",
       "      <td>17.402795</td>\n",
       "      <td>10.385440</td>\n",
       "      <td>4.448691</td>\n",
       "    </tr>\n",
       "  </tbody>\n",
       "</table>\n",
       "<p>10 rows × 265 columns</p>\n",
       "</div>"
      ],
      "text/plain": [
       "                ENT9        ENT8        ENT6       ENT5       ENT4  \\\n",
       "Cbln2     942.361034    7.897839    1.725855   0.862498   0.370434   \n",
       "Ptchd2     36.283322    0.216117    0.216091   0.215915   0.216044   \n",
       "P2rx2    3601.674248  330.848998   13.637091  85.767785  55.608005   \n",
       "Ptger4    308.729127   10.455240   31.938721  16.094493  19.189401   \n",
       "Fam19a1   179.321879  178.541005   67.266776  26.882989  14.330682   \n",
       "Slc12a7   453.210751   24.272395    2.662857   3.531491   1.995607   \n",
       "Tlx2      996.489910  344.871865   72.529916  55.777713  27.763564   \n",
       "Hoxa3     195.815962   68.289689  121.580066  90.818332  85.720299   \n",
       "Adgrg6   2139.999261    2.491068    4.522300   0.718826  41.660125   \n",
       "Dgkg      287.406296   50.696640    0.079710   0.138939   0.102828   \n",
       "\n",
       "               ENT7        ENT3        ENT2        ENT1      ENTG1  \\\n",
       "Cbln2      0.057526    0.100657    0.195822    0.803193   0.143708   \n",
       "Ptchd2     1.208592    0.216044    0.457242    0.216220   0.216035   \n",
       "P2rx2    303.071532  295.174508  328.858368  446.099009   0.540774   \n",
       "Ptger4    25.958315    7.430647   29.106607   20.638741   0.555252   \n",
       "Fam19a1   27.650360    0.310625    0.213207   38.622352   0.018097   \n",
       "Slc12a7   34.995372    1.607959    5.295589    4.981310   4.643287   \n",
       "Tlx2     195.219501   30.072995   56.240696  129.279412   0.300848   \n",
       "Hoxa3     41.478952   56.854629   91.508046   43.653589   6.108701   \n",
       "Adgrg6    32.018698   13.369845   17.163447    6.151123  50.278072   \n",
       "Dgkg       2.756547    3.970447   10.587617   17.311267   0.099417   \n",
       "\n",
       "            ...          PSPEP8       PSNF2       PSNF3       PSNF1  \\\n",
       "Cbln2       ...        0.057527   84.213976    2.683104  165.787303   \n",
       "Ptchd2      ...        3.019325    4.683088    4.545389    4.462801   \n",
       "P2rx2       ...        1.960357    0.315851    0.315889    0.315879   \n",
       "Ptger4      ...        0.555470   16.484097   24.913503    5.314398   \n",
       "Fam19a1     ...        0.018119    0.884198    4.931883    0.288425   \n",
       "Slc12a7     ...       60.758778    3.412744   28.135159   39.145251   \n",
       "Tlx2        ...      215.283742  145.635530  241.825833  120.452236   \n",
       "Hoxa3       ...        2.910829    1.518865    0.468999    0.468988   \n",
       "Adgrg6      ...        0.087222    0.531270    0.087220    0.087216   \n",
       "Dgkg        ...        0.246960    1.333835    1.089207    0.039799   \n",
       "\n",
       "              PSNP1       PSNP3       PSNP2       PSNP5       PSNP4  \\\n",
       "Cbln2      5.233028    0.057419    0.057507    0.136813    0.057519   \n",
       "Ptchd2     0.215886    0.306889    3.932603    0.514309    0.216182   \n",
       "P2rx2      0.721053    0.448548    0.315830   22.248593    1.244313   \n",
       "Ptger4     4.179587    3.877541    5.166472    8.955591   23.569992   \n",
       "Fam19a1    0.033093    0.042415    0.018112    0.043087    0.018117   \n",
       "Slc12a7  105.408018    2.485933    0.970621    0.848712    0.356691   \n",
       "Tlx2     398.368644  842.498784  458.427977  463.566852  770.900446   \n",
       "Hoxa3      4.819156    5.351931    3.436169    1.116003    0.468976   \n",
       "Adgrg6     0.891768    0.561911    1.174469    0.703578    0.343504   \n",
       "Dgkg       0.055712   16.614024   26.067444   17.402795   10.385440   \n",
       "\n",
       "              PSNP6  \n",
       "Cbln2      0.108690  \n",
       "Ptchd2     0.408624  \n",
       "P2rx2    444.253910  \n",
       "Ptger4    23.108129  \n",
       "Fam19a1    0.034228  \n",
       "Slc12a7    0.674351  \n",
       "Tlx2     475.056827  \n",
       "Hoxa3      1.358862  \n",
       "Adgrg6     0.989288  \n",
       "Dgkg       4.448691  \n",
       "\n",
       "[10 rows x 265 columns]"
      ]
     },
     "execution_count": 212,
     "metadata": {},
     "output_type": "execute_result"
    }
   ],
   "source": [
    "df_enrich_val.head(10)"
   ]
  },
  {
   "cell_type": "code",
   "execution_count": 173,
   "metadata": {
    "ExecuteTime": {
     "end_time": "2018-07-16T11:18:50.708893Z",
     "start_time": "2018-07-16T11:18:49.626566Z"
    }
   },
   "outputs": [
    {
     "data": {
      "text/html": [
       "<div>\n",
       "<style scoped>\n",
       "    .dataframe tbody tr th:only-of-type {\n",
       "        vertical-align: middle;\n",
       "    }\n",
       "\n",
       "    .dataframe tbody tr th {\n",
       "        vertical-align: top;\n",
       "    }\n",
       "\n",
       "    .dataframe thead th {\n",
       "        text-align: right;\n",
       "    }\n",
       "</style>\n",
       "<table border=\"1\" class=\"dataframe\">\n",
       "  <thead>\n",
       "    <tr style=\"text-align: right;\">\n",
       "      <th></th>\n",
       "      <th>ENT9</th>\n",
       "      <th>ENT8</th>\n",
       "      <th>ENT6</th>\n",
       "      <th>ENT5</th>\n",
       "      <th>ENT4</th>\n",
       "      <th>ENT7</th>\n",
       "      <th>ENT3</th>\n",
       "      <th>ENT2</th>\n",
       "      <th>ENT1</th>\n",
       "      <th>ENTG1</th>\n",
       "      <th>...</th>\n",
       "      <th>PSPEP8</th>\n",
       "      <th>PSNF2</th>\n",
       "      <th>PSNF3</th>\n",
       "      <th>PSNF1</th>\n",
       "      <th>PSNP1</th>\n",
       "      <th>PSNP3</th>\n",
       "      <th>PSNP2</th>\n",
       "      <th>PSNP5</th>\n",
       "      <th>PSNP4</th>\n",
       "      <th>PSNP6</th>\n",
       "    </tr>\n",
       "  </thead>\n",
       "  <tbody>\n",
       "    <tr>\n",
       "      <th>count</th>\n",
       "      <td>27998.000000</td>\n",
       "      <td>27998.000000</td>\n",
       "      <td>27998.000000</td>\n",
       "      <td>27998.000000</td>\n",
       "      <td>27998.000000</td>\n",
       "      <td>27998.000000</td>\n",
       "      <td>27998.000000</td>\n",
       "      <td>27998.000000</td>\n",
       "      <td>27998.000000</td>\n",
       "      <td>27998.000000</td>\n",
       "      <td>...</td>\n",
       "      <td>27998.000000</td>\n",
       "      <td>27998.000000</td>\n",
       "      <td>27998.000000</td>\n",
       "      <td>27998.000000</td>\n",
       "      <td>27998.000000</td>\n",
       "      <td>27998.000000</td>\n",
       "      <td>27998.000000</td>\n",
       "      <td>27998.000000</td>\n",
       "      <td>27998.000000</td>\n",
       "      <td>27998.000000</td>\n",
       "    </tr>\n",
       "    <tr>\n",
       "      <th>mean</th>\n",
       "      <td>6.644436</td>\n",
       "      <td>5.554108</td>\n",
       "      <td>3.453093</td>\n",
       "      <td>2.318940</td>\n",
       "      <td>2.657254</td>\n",
       "      <td>4.397457</td>\n",
       "      <td>3.125233</td>\n",
       "      <td>4.871939</td>\n",
       "      <td>5.249645</td>\n",
       "      <td>5.391569</td>\n",
       "      <td>...</td>\n",
       "      <td>3.083198</td>\n",
       "      <td>3.560267</td>\n",
       "      <td>4.496448</td>\n",
       "      <td>4.182140</td>\n",
       "      <td>5.911765</td>\n",
       "      <td>8.526414</td>\n",
       "      <td>7.425397</td>\n",
       "      <td>6.126660</td>\n",
       "      <td>7.617265</td>\n",
       "      <td>9.504981</td>\n",
       "    </tr>\n",
       "    <tr>\n",
       "      <th>std</th>\n",
       "      <td>53.161371</td>\n",
       "      <td>50.760782</td>\n",
       "      <td>20.527020</td>\n",
       "      <td>12.520953</td>\n",
       "      <td>10.204893</td>\n",
       "      <td>26.413880</td>\n",
       "      <td>16.961775</td>\n",
       "      <td>28.366359</td>\n",
       "      <td>170.151902</td>\n",
       "      <td>56.631479</td>\n",
       "      <td>...</td>\n",
       "      <td>13.571577</td>\n",
       "      <td>19.211954</td>\n",
       "      <td>25.013275</td>\n",
       "      <td>23.772589</td>\n",
       "      <td>62.453955</td>\n",
       "      <td>80.910852</td>\n",
       "      <td>61.979905</td>\n",
       "      <td>41.965324</td>\n",
       "      <td>66.770515</td>\n",
       "      <td>88.775575</td>\n",
       "    </tr>\n",
       "    <tr>\n",
       "      <th>min</th>\n",
       "      <td>0.000471</td>\n",
       "      <td>0.000471</td>\n",
       "      <td>0.000471</td>\n",
       "      <td>0.000470</td>\n",
       "      <td>0.000471</td>\n",
       "      <td>0.000471</td>\n",
       "      <td>0.000617</td>\n",
       "      <td>0.000471</td>\n",
       "      <td>0.000471</td>\n",
       "      <td>0.000471</td>\n",
       "      <td>...</td>\n",
       "      <td>0.000471</td>\n",
       "      <td>0.000471</td>\n",
       "      <td>0.000471</td>\n",
       "      <td>0.000471</td>\n",
       "      <td>0.000470</td>\n",
       "      <td>0.000849</td>\n",
       "      <td>0.000471</td>\n",
       "      <td>0.000471</td>\n",
       "      <td>0.000471</td>\n",
       "      <td>0.000471</td>\n",
       "    </tr>\n",
       "    <tr>\n",
       "      <th>25%</th>\n",
       "      <td>0.991844</td>\n",
       "      <td>0.987148</td>\n",
       "      <td>0.976736</td>\n",
       "      <td>0.921197</td>\n",
       "      <td>0.970681</td>\n",
       "      <td>0.960496</td>\n",
       "      <td>0.980497</td>\n",
       "      <td>0.988486</td>\n",
       "      <td>0.902244</td>\n",
       "      <td>0.886014</td>\n",
       "      <td>...</td>\n",
       "      <td>0.886351</td>\n",
       "      <td>0.919002</td>\n",
       "      <td>0.894353</td>\n",
       "      <td>0.879399</td>\n",
       "      <td>0.965553</td>\n",
       "      <td>0.970902</td>\n",
       "      <td>0.941910</td>\n",
       "      <td>0.953601</td>\n",
       "      <td>0.921592</td>\n",
       "      <td>0.968744</td>\n",
       "    </tr>\n",
       "    <tr>\n",
       "      <th>50%</th>\n",
       "      <td>1.000000</td>\n",
       "      <td>1.000000</td>\n",
       "      <td>1.000000</td>\n",
       "      <td>1.000000</td>\n",
       "      <td>1.000000</td>\n",
       "      <td>1.000000</td>\n",
       "      <td>1.000000</td>\n",
       "      <td>1.000000</td>\n",
       "      <td>1.000000</td>\n",
       "      <td>1.000000</td>\n",
       "      <td>...</td>\n",
       "      <td>0.999316</td>\n",
       "      <td>1.000000</td>\n",
       "      <td>1.000000</td>\n",
       "      <td>0.999316</td>\n",
       "      <td>1.000000</td>\n",
       "      <td>1.000000</td>\n",
       "      <td>1.000000</td>\n",
       "      <td>1.000000</td>\n",
       "      <td>1.000000</td>\n",
       "      <td>1.000000</td>\n",
       "    </tr>\n",
       "    <tr>\n",
       "      <th>75%</th>\n",
       "      <td>4.110449</td>\n",
       "      <td>4.382654</td>\n",
       "      <td>2.592420</td>\n",
       "      <td>1.508138</td>\n",
       "      <td>2.091048</td>\n",
       "      <td>3.401213</td>\n",
       "      <td>2.436482</td>\n",
       "      <td>3.910253</td>\n",
       "      <td>3.162514</td>\n",
       "      <td>1.694617</td>\n",
       "      <td>...</td>\n",
       "      <td>2.254990</td>\n",
       "      <td>2.375691</td>\n",
       "      <td>2.676774</td>\n",
       "      <td>2.286244</td>\n",
       "      <td>2.792420</td>\n",
       "      <td>3.626118</td>\n",
       "      <td>3.416571</td>\n",
       "      <td>3.105862</td>\n",
       "      <td>3.476707</td>\n",
       "      <td>4.371969</td>\n",
       "    </tr>\n",
       "    <tr>\n",
       "      <th>max</th>\n",
       "      <td>3601.674248</td>\n",
       "      <td>6017.553525</td>\n",
       "      <td>1759.036108</td>\n",
       "      <td>796.414190</td>\n",
       "      <td>640.971011</td>\n",
       "      <td>2469.531811</td>\n",
       "      <td>1972.107176</td>\n",
       "      <td>2629.280452</td>\n",
       "      <td>28309.381022</td>\n",
       "      <td>2751.672135</td>\n",
       "      <td>...</td>\n",
       "      <td>941.227165</td>\n",
       "      <td>1254.887595</td>\n",
       "      <td>1429.285708</td>\n",
       "      <td>1569.371698</td>\n",
       "      <td>6281.994794</td>\n",
       "      <td>5632.370579</td>\n",
       "      <td>5237.465698</td>\n",
       "      <td>2725.161493</td>\n",
       "      <td>7557.565681</td>\n",
       "      <td>9045.211730</td>\n",
       "    </tr>\n",
       "  </tbody>\n",
       "</table>\n",
       "<p>8 rows × 265 columns</p>\n",
       "</div>"
      ],
      "text/plain": [
       "               ENT9          ENT8          ENT6          ENT5          ENT4  \\\n",
       "count  27998.000000  27998.000000  27998.000000  27998.000000  27998.000000   \n",
       "mean       6.644436      5.554108      3.453093      2.318940      2.657254   \n",
       "std       53.161371     50.760782     20.527020     12.520953     10.204893   \n",
       "min        0.000471      0.000471      0.000471      0.000470      0.000471   \n",
       "25%        0.991844      0.987148      0.976736      0.921197      0.970681   \n",
       "50%        1.000000      1.000000      1.000000      1.000000      1.000000   \n",
       "75%        4.110449      4.382654      2.592420      1.508138      2.091048   \n",
       "max     3601.674248   6017.553525   1759.036108    796.414190    640.971011   \n",
       "\n",
       "               ENT7          ENT3          ENT2          ENT1         ENTG1  \\\n",
       "count  27998.000000  27998.000000  27998.000000  27998.000000  27998.000000   \n",
       "mean       4.397457      3.125233      4.871939      5.249645      5.391569   \n",
       "std       26.413880     16.961775     28.366359    170.151902     56.631479   \n",
       "min        0.000471      0.000617      0.000471      0.000471      0.000471   \n",
       "25%        0.960496      0.980497      0.988486      0.902244      0.886014   \n",
       "50%        1.000000      1.000000      1.000000      1.000000      1.000000   \n",
       "75%        3.401213      2.436482      3.910253      3.162514      1.694617   \n",
       "max     2469.531811   1972.107176   2629.280452  28309.381022   2751.672135   \n",
       "\n",
       "           ...             PSPEP8         PSNF2         PSNF3         PSNF1  \\\n",
       "count      ...       27998.000000  27998.000000  27998.000000  27998.000000   \n",
       "mean       ...           3.083198      3.560267      4.496448      4.182140   \n",
       "std        ...          13.571577     19.211954     25.013275     23.772589   \n",
       "min        ...           0.000471      0.000471      0.000471      0.000471   \n",
       "25%        ...           0.886351      0.919002      0.894353      0.879399   \n",
       "50%        ...           0.999316      1.000000      1.000000      0.999316   \n",
       "75%        ...           2.254990      2.375691      2.676774      2.286244   \n",
       "max        ...         941.227165   1254.887595   1429.285708   1569.371698   \n",
       "\n",
       "              PSNP1         PSNP3         PSNP2         PSNP5         PSNP4  \\\n",
       "count  27998.000000  27998.000000  27998.000000  27998.000000  27998.000000   \n",
       "mean       5.911765      8.526414      7.425397      6.126660      7.617265   \n",
       "std       62.453955     80.910852     61.979905     41.965324     66.770515   \n",
       "min        0.000470      0.000849      0.000471      0.000471      0.000471   \n",
       "25%        0.965553      0.970902      0.941910      0.953601      0.921592   \n",
       "50%        1.000000      1.000000      1.000000      1.000000      1.000000   \n",
       "75%        2.792420      3.626118      3.416571      3.105862      3.476707   \n",
       "max     6281.994794   5632.370579   5237.465698   2725.161493   7557.565681   \n",
       "\n",
       "              PSNP6  \n",
       "count  27998.000000  \n",
       "mean       9.504981  \n",
       "std       88.775575  \n",
       "min        0.000471  \n",
       "25%        0.968744  \n",
       "50%        1.000000  \n",
       "75%        4.371969  \n",
       "max     9045.211730  \n",
       "\n",
       "[8 rows x 265 columns]"
      ]
     },
     "execution_count": 173,
     "metadata": {},
     "output_type": "execute_result"
    }
   ],
   "source": [
    "df_enrich_val.describe()"
   ]
  },
  {
   "cell_type": "code",
   "execution_count": 115,
   "metadata": {
    "ExecuteTime": {
     "end_time": "2018-07-13T09:43:20.674371Z",
     "start_time": "2018-07-13T09:43:20.647588Z"
    }
   },
   "outputs": [
    {
     "data": {
      "text/html": [
       "<div>\n",
       "<style scoped>\n",
       "    .dataframe tbody tr th:only-of-type {\n",
       "        vertical-align: middle;\n",
       "    }\n",
       "\n",
       "    .dataframe tbody tr th {\n",
       "        vertical-align: top;\n",
       "    }\n",
       "\n",
       "    .dataframe thead th {\n",
       "        text-align: right;\n",
       "    }\n",
       "</style>\n",
       "<table border=\"1\" class=\"dataframe\">\n",
       "  <thead>\n",
       "    <tr style=\"text-align: right;\">\n",
       "      <th></th>\n",
       "      <th>ENT9</th>\n",
       "      <th>ENT8</th>\n",
       "      <th>ENT6</th>\n",
       "      <th>ENT5</th>\n",
       "      <th>ENT4</th>\n",
       "      <th>ENT7</th>\n",
       "      <th>ENT3</th>\n",
       "      <th>ENT2</th>\n",
       "      <th>ENT1</th>\n",
       "      <th>ENTG1</th>\n",
       "      <th>...</th>\n",
       "      <th>PSPEP8</th>\n",
       "      <th>PSNF2</th>\n",
       "      <th>PSNF3</th>\n",
       "      <th>PSNF1</th>\n",
       "      <th>PSNP1</th>\n",
       "      <th>PSNP3</th>\n",
       "      <th>PSNP2</th>\n",
       "      <th>PSNP5</th>\n",
       "      <th>PSNP4</th>\n",
       "      <th>PSNP6</th>\n",
       "    </tr>\n",
       "  </thead>\n",
       "  <tbody>\n",
       "    <tr>\n",
       "      <th>ENSMUSG00000024647</th>\n",
       "      <td>0.0</td>\n",
       "      <td>0.000739</td>\n",
       "      <td>0.095591</td>\n",
       "      <td>1.0</td>\n",
       "      <td>1.0</td>\n",
       "      <td>1.000000</td>\n",
       "      <td>1.000000</td>\n",
       "      <td>1.0</td>\n",
       "      <td>0.820403</td>\n",
       "      <td>1.0</td>\n",
       "      <td>...</td>\n",
       "      <td>1.000000</td>\n",
       "      <td>0.000000</td>\n",
       "      <td>0.331283</td>\n",
       "      <td>0.000000</td>\n",
       "      <td>0.000625</td>\n",
       "      <td>1.000000</td>\n",
       "      <td>1.000000</td>\n",
       "      <td>1.0</td>\n",
       "      <td>1.000000</td>\n",
       "      <td>1.0</td>\n",
       "    </tr>\n",
       "    <tr>\n",
       "      <th>ENSMUSG00000041544</th>\n",
       "      <td>0.0</td>\n",
       "      <td>1.000000</td>\n",
       "      <td>1.000000</td>\n",
       "      <td>1.0</td>\n",
       "      <td>1.0</td>\n",
       "      <td>0.435767</td>\n",
       "      <td>1.000000</td>\n",
       "      <td>1.0</td>\n",
       "      <td>0.941720</td>\n",
       "      <td>1.0</td>\n",
       "      <td>...</td>\n",
       "      <td>0.222279</td>\n",
       "      <td>0.011730</td>\n",
       "      <td>0.106530</td>\n",
       "      <td>0.041232</td>\n",
       "      <td>1.000000</td>\n",
       "      <td>1.000000</td>\n",
       "      <td>0.026164</td>\n",
       "      <td>1.0</td>\n",
       "      <td>1.000000</td>\n",
       "      <td>1.0</td>\n",
       "    </tr>\n",
       "    <tr>\n",
       "      <th>ENSMUSG00000029503</th>\n",
       "      <td>0.0</td>\n",
       "      <td>0.000000</td>\n",
       "      <td>0.000000</td>\n",
       "      <td>0.0</td>\n",
       "      <td>0.0</td>\n",
       "      <td>0.000000</td>\n",
       "      <td>0.000000</td>\n",
       "      <td>0.0</td>\n",
       "      <td>0.000000</td>\n",
       "      <td>1.0</td>\n",
       "      <td>...</td>\n",
       "      <td>0.365756</td>\n",
       "      <td>1.000000</td>\n",
       "      <td>1.000000</td>\n",
       "      <td>1.000000</td>\n",
       "      <td>1.000000</td>\n",
       "      <td>1.000000</td>\n",
       "      <td>1.000000</td>\n",
       "      <td>0.0</td>\n",
       "      <td>0.414041</td>\n",
       "      <td>0.0</td>\n",
       "    </tr>\n",
       "    <tr>\n",
       "      <th>ENSMUSG00000039942</th>\n",
       "      <td>0.0</td>\n",
       "      <td>0.000560</td>\n",
       "      <td>0.000000</td>\n",
       "      <td>0.0</td>\n",
       "      <td>0.0</td>\n",
       "      <td>0.000947</td>\n",
       "      <td>0.004072</td>\n",
       "      <td>0.0</td>\n",
       "      <td>0.020885</td>\n",
       "      <td>1.0</td>\n",
       "      <td>...</td>\n",
       "      <td>0.968476</td>\n",
       "      <td>0.000000</td>\n",
       "      <td>0.002024</td>\n",
       "      <td>0.025399</td>\n",
       "      <td>0.000656</td>\n",
       "      <td>0.001444</td>\n",
       "      <td>0.008402</td>\n",
       "      <td>0.0</td>\n",
       "      <td>0.001321</td>\n",
       "      <td>0.0</td>\n",
       "    </tr>\n",
       "    <tr>\n",
       "      <th>ENSMUSG00000059187</th>\n",
       "      <td>0.0</td>\n",
       "      <td>0.000000</td>\n",
       "      <td>0.000000</td>\n",
       "      <td>0.0</td>\n",
       "      <td>0.0</td>\n",
       "      <td>0.000000</td>\n",
       "      <td>1.000000</td>\n",
       "      <td>1.0</td>\n",
       "      <td>0.004773</td>\n",
       "      <td>1.0</td>\n",
       "      <td>...</td>\n",
       "      <td>1.000000</td>\n",
       "      <td>0.872528</td>\n",
       "      <td>0.084832</td>\n",
       "      <td>1.000000</td>\n",
       "      <td>1.000000</td>\n",
       "      <td>1.000000</td>\n",
       "      <td>1.000000</td>\n",
       "      <td>1.0</td>\n",
       "      <td>1.000000</td>\n",
       "      <td>1.0</td>\n",
       "    </tr>\n",
       "  </tbody>\n",
       "</table>\n",
       "<p>5 rows × 265 columns</p>\n",
       "</div>"
      ],
      "text/plain": [
       "                    ENT9      ENT8      ENT6  ENT5  ENT4      ENT7      ENT3  \\\n",
       "ENSMUSG00000024647   0.0  0.000739  0.095591   1.0   1.0  1.000000  1.000000   \n",
       "ENSMUSG00000041544   0.0  1.000000  1.000000   1.0   1.0  0.435767  1.000000   \n",
       "ENSMUSG00000029503   0.0  0.000000  0.000000   0.0   0.0  0.000000  0.000000   \n",
       "ENSMUSG00000039942   0.0  0.000560  0.000000   0.0   0.0  0.000947  0.004072   \n",
       "ENSMUSG00000059187   0.0  0.000000  0.000000   0.0   0.0  0.000000  1.000000   \n",
       "\n",
       "                    ENT2      ENT1  ENTG1  ...      PSPEP8     PSNF2  \\\n",
       "ENSMUSG00000024647   1.0  0.820403    1.0  ...    1.000000  0.000000   \n",
       "ENSMUSG00000041544   1.0  0.941720    1.0  ...    0.222279  0.011730   \n",
       "ENSMUSG00000029503   0.0  0.000000    1.0  ...    0.365756  1.000000   \n",
       "ENSMUSG00000039942   0.0  0.020885    1.0  ...    0.968476  0.000000   \n",
       "ENSMUSG00000059187   1.0  0.004773    1.0  ...    1.000000  0.872528   \n",
       "\n",
       "                       PSNF3     PSNF1     PSNP1     PSNP3     PSNP2  PSNP5  \\\n",
       "ENSMUSG00000024647  0.331283  0.000000  0.000625  1.000000  1.000000    1.0   \n",
       "ENSMUSG00000041544  0.106530  0.041232  1.000000  1.000000  0.026164    1.0   \n",
       "ENSMUSG00000029503  1.000000  1.000000  1.000000  1.000000  1.000000    0.0   \n",
       "ENSMUSG00000039942  0.002024  0.025399  0.000656  0.001444  0.008402    0.0   \n",
       "ENSMUSG00000059187  0.084832  1.000000  1.000000  1.000000  1.000000    1.0   \n",
       "\n",
       "                       PSNP4  PSNP6  \n",
       "ENSMUSG00000024647  1.000000    1.0  \n",
       "ENSMUSG00000041544  1.000000    1.0  \n",
       "ENSMUSG00000029503  0.414041    0.0  \n",
       "ENSMUSG00000039942  0.001321    0.0  \n",
       "ENSMUSG00000059187  1.000000    1.0  \n",
       "\n",
       "[5 rows x 265 columns]"
      ]
     },
     "execution_count": 115,
     "metadata": {},
     "output_type": "execute_result"
    }
   ],
   "source": [
    "df_enrich_q.head()"
   ]
  },
  {
   "cell_type": "code",
   "execution_count": 184,
   "metadata": {
    "ExecuteTime": {
     "end_time": "2018-07-16T11:37:01.872447Z",
     "start_time": "2018-07-16T11:37:00.264007Z"
    }
   },
   "outputs": [
    {
     "data": {
      "text/html": [
       "<div>\n",
       "<style scoped>\n",
       "    .dataframe tbody tr th:only-of-type {\n",
       "        vertical-align: middle;\n",
       "    }\n",
       "\n",
       "    .dataframe tbody tr th {\n",
       "        vertical-align: top;\n",
       "    }\n",
       "\n",
       "    .dataframe thead th {\n",
       "        text-align: right;\n",
       "    }\n",
       "</style>\n",
       "<table border=\"1\" class=\"dataframe\">\n",
       "  <thead>\n",
       "    <tr style=\"text-align: right;\">\n",
       "      <th></th>\n",
       "      <th>n_fdr_genes_eq_0</th>\n",
       "      <th>n_fdr_genes_eq_1</th>\n",
       "      <th>n_fdr_genes_leq_0.05</th>\n",
       "      <th>n_fdr_genes_leq_0.1</th>\n",
       "      <th>n_genes_enrich_val_leq_1</th>\n",
       "    </tr>\n",
       "  </thead>\n",
       "  <tbody>\n",
       "    <tr>\n",
       "      <th>ENT9</th>\n",
       "      <td>904</td>\n",
       "      <td>2351</td>\n",
       "      <td>10792</td>\n",
       "      <td>11297</td>\n",
       "      <td>14659</td>\n",
       "    </tr>\n",
       "    <tr>\n",
       "      <th>ENT8</th>\n",
       "      <td>718</td>\n",
       "      <td>1670</td>\n",
       "      <td>9909</td>\n",
       "      <td>10825</td>\n",
       "      <td>15329</td>\n",
       "    </tr>\n",
       "    <tr>\n",
       "      <th>ENT6</th>\n",
       "      <td>1088</td>\n",
       "      <td>1838</td>\n",
       "      <td>8730</td>\n",
       "      <td>9776</td>\n",
       "      <td>16076</td>\n",
       "    </tr>\n",
       "    <tr>\n",
       "      <th>ENT5</th>\n",
       "      <td>402</td>\n",
       "      <td>18190</td>\n",
       "      <td>4653</td>\n",
       "      <td>5486</td>\n",
       "      <td>17906</td>\n",
       "    </tr>\n",
       "    <tr>\n",
       "      <th>ENT4</th>\n",
       "      <td>1027</td>\n",
       "      <td>2647</td>\n",
       "      <td>7089</td>\n",
       "      <td>8251</td>\n",
       "      <td>16457</td>\n",
       "    </tr>\n",
       "  </tbody>\n",
       "</table>\n",
       "</div>"
      ],
      "text/plain": [
       "      n_fdr_genes_eq_0  n_fdr_genes_eq_1  n_fdr_genes_leq_0.05  \\\n",
       "ENT9               904              2351                 10792   \n",
       "ENT8               718              1670                  9909   \n",
       "ENT6              1088              1838                  8730   \n",
       "ENT5               402             18190                  4653   \n",
       "ENT4              1027              2647                  7089   \n",
       "\n",
       "      n_fdr_genes_leq_0.1  n_genes_enrich_val_leq_1  \n",
       "ENT9                11297                     14659  \n",
       "ENT8                10825                     15329  \n",
       "ENT6                 9776                     16076  \n",
       "ENT5                 5486                     17906  \n",
       "ENT4                 8251                     16457  "
      ]
     },
     "execution_count": 184,
     "metadata": {},
     "output_type": "execute_result"
    }
   ],
   "source": [
    "### Summarize df_enrich_q and df_enrich_val\n",
    "df_enrich_q_summary = pd.DataFrame({'n_fdr_genes_leq_0.1':df_enrich_q.agg(lambda x: sum(x<=0.1), axis=0), # for each cell, count the number of genes with q_value <= 0.05\n",
    "                                    'n_fdr_genes_leq_0.05':df_enrich_q.agg(lambda x: sum(x<=0.05), axis=0),\n",
    "                                    'n_fdr_genes_eq_0':df_enrich_q.agg(lambda x: sum(x==0), axis=0),\n",
    "                                   'n_fdr_genes_eq_1':df_enrich_q.agg(lambda x: sum(x==1), axis=0)\n",
    "                                   } \n",
    "                                  ) \n",
    "### df_enrich_val\n",
    "df_enrich_summary_tmp_val = pd.DataFrame({'n_genes_enrich_val_leq_1':df_enrich_val.agg(lambda x: sum(x<=1), axis=0)}) \n",
    "\n",
    "### join on indexes (ClusterName)\n",
    "df_enrich_summary = df_enrich_q_summary.join(df_enrich_summary_tmp_val)\n",
    "df_enrich_summary.head()"
   ]
  },
  {
   "cell_type": "code",
   "execution_count": null,
   "metadata": {
    "ExecuteTime": {
     "end_time": "2018-07-16T11:29:45.946928Z",
     "start_time": "2018-07-16T11:29:45.570859Z"
    },
    "collapsed": true
   },
   "outputs": [],
   "source": []
  },
  {
   "cell_type": "code",
   "execution_count": 186,
   "metadata": {
    "ExecuteTime": {
     "end_time": "2018-07-16T11:37:42.233348Z",
     "start_time": "2018-07-16T11:37:42.219847Z"
    }
   },
   "outputs": [
    {
     "data": {
      "text/html": [
       "<div>\n",
       "<style scoped>\n",
       "    .dataframe tbody tr th:only-of-type {\n",
       "        vertical-align: middle;\n",
       "    }\n",
       "\n",
       "    .dataframe tbody tr th {\n",
       "        vertical-align: top;\n",
       "    }\n",
       "\n",
       "    .dataframe thead th {\n",
       "        text-align: right;\n",
       "    }\n",
       "</style>\n",
       "<table border=\"1\" class=\"dataframe\">\n",
       "  <thead>\n",
       "    <tr style=\"text-align: right;\">\n",
       "      <th></th>\n",
       "      <th>ClusterName</th>\n",
       "      <th>Description</th>\n",
       "      <th>NCell</th>\n",
       "      <th>n_fdr_genes_eq_0</th>\n",
       "      <th>n_fdr_genes_eq_1</th>\n",
       "      <th>n_fdr_genes_leq_0.05</th>\n",
       "      <th>n_fdr_genes_leq_0.1</th>\n",
       "      <th>n_genes_enrich_val_leq_1</th>\n",
       "    </tr>\n",
       "  </thead>\n",
       "  <tbody>\n",
       "    <tr>\n",
       "      <th>ENT9</th>\n",
       "      <td>ENT9</td>\n",
       "      <td>Cholinergic enteric neurons</td>\n",
       "      <td>169</td>\n",
       "      <td>904</td>\n",
       "      <td>2351</td>\n",
       "      <td>10792</td>\n",
       "      <td>11297</td>\n",
       "      <td>14659</td>\n",
       "    </tr>\n",
       "    <tr>\n",
       "      <th>ENT8</th>\n",
       "      <td>ENT8</td>\n",
       "      <td>Cholinergic enteric neurons, VGLUT2</td>\n",
       "      <td>97</td>\n",
       "      <td>718</td>\n",
       "      <td>1670</td>\n",
       "      <td>9909</td>\n",
       "      <td>10825</td>\n",
       "      <td>15329</td>\n",
       "    </tr>\n",
       "    <tr>\n",
       "      <th>ENT6</th>\n",
       "      <td>ENT6</td>\n",
       "      <td>Cholinergic enteric neurons</td>\n",
       "      <td>118</td>\n",
       "      <td>1088</td>\n",
       "      <td>1838</td>\n",
       "      <td>8730</td>\n",
       "      <td>9776</td>\n",
       "      <td>16076</td>\n",
       "    </tr>\n",
       "    <tr>\n",
       "      <th>ENT5</th>\n",
       "      <td>ENT5</td>\n",
       "      <td>Cholinergic enteric neurons</td>\n",
       "      <td>259</td>\n",
       "      <td>402</td>\n",
       "      <td>18190</td>\n",
       "      <td>4653</td>\n",
       "      <td>5486</td>\n",
       "      <td>17906</td>\n",
       "    </tr>\n",
       "    <tr>\n",
       "      <th>ENT4</th>\n",
       "      <td>ENT4</td>\n",
       "      <td>Cholinergic enteric neurons</td>\n",
       "      <td>155</td>\n",
       "      <td>1027</td>\n",
       "      <td>2647</td>\n",
       "      <td>7089</td>\n",
       "      <td>8251</td>\n",
       "      <td>16457</td>\n",
       "    </tr>\n",
       "  </tbody>\n",
       "</table>\n",
       "</div>"
      ],
      "text/plain": [
       "     ClusterName                          Description  NCell  \\\n",
       "ENT9        ENT9          Cholinergic enteric neurons    169   \n",
       "ENT8        ENT8  Cholinergic enteric neurons, VGLUT2     97   \n",
       "ENT6        ENT6          Cholinergic enteric neurons    118   \n",
       "ENT5        ENT5          Cholinergic enteric neurons    259   \n",
       "ENT4        ENT4          Cholinergic enteric neurons    155   \n",
       "\n",
       "      n_fdr_genes_eq_0  n_fdr_genes_eq_1  n_fdr_genes_leq_0.05  \\\n",
       "ENT9               904              2351                 10792   \n",
       "ENT8               718              1670                  9909   \n",
       "ENT6              1088              1838                  8730   \n",
       "ENT5               402             18190                  4653   \n",
       "ENT4              1027              2647                  7089   \n",
       "\n",
       "      n_fdr_genes_leq_0.1  n_genes_enrich_val_leq_1  \n",
       "ENT9                11297                     14659  \n",
       "ENT8                10825                     15329  \n",
       "ENT6                 9776                     16076  \n",
       "ENT5                 5486                     17906  \n",
       "ENT4                 8251                     16457  "
      ]
     },
     "execution_count": 186,
     "metadata": {},
     "output_type": "execute_result"
    }
   ],
   "source": [
    "### Join cell meta data\n",
    "df_enrich_summary_meta = df_ca.join(df_enrich_summary)\n",
    "df_enrich_summary_meta.head()"
   ]
  },
  {
   "cell_type": "code",
   "execution_count": 206,
   "metadata": {
    "ExecuteTime": {
     "end_time": "2018-07-16T11:52:08.564803Z",
     "start_time": "2018-07-16T11:52:08.540184Z"
    }
   },
   "outputs": [
    {
     "data": {
      "text/html": [
       "<div>\n",
       "<style scoped>\n",
       "    .dataframe tbody tr th:only-of-type {\n",
       "        vertical-align: middle;\n",
       "    }\n",
       "\n",
       "    .dataframe tbody tr th {\n",
       "        vertical-align: top;\n",
       "    }\n",
       "\n",
       "    .dataframe thead th {\n",
       "        text-align: right;\n",
       "    }\n",
       "</style>\n",
       "<table border=\"1\" class=\"dataframe\">\n",
       "  <thead>\n",
       "    <tr style=\"text-align: right;\">\n",
       "      <th></th>\n",
       "      <th>NCell</th>\n",
       "      <th>n_fdr_genes_eq_0</th>\n",
       "      <th>n_fdr_genes_eq_1</th>\n",
       "      <th>n_fdr_genes_leq_0.05</th>\n",
       "      <th>n_fdr_genes_leq_0.1</th>\n",
       "      <th>n_genes_enrich_val_leq_1</th>\n",
       "    </tr>\n",
       "  </thead>\n",
       "  <tbody>\n",
       "    <tr>\n",
       "      <th>count</th>\n",
       "      <td>265.000000</td>\n",
       "      <td>265.000000</td>\n",
       "      <td>265.000000</td>\n",
       "      <td>265.000000</td>\n",
       "      <td>265.000000</td>\n",
       "      <td>265.000000</td>\n",
       "    </tr>\n",
       "    <tr>\n",
       "      <th>mean</th>\n",
       "      <td>606.777358</td>\n",
       "      <td>599.418868</td>\n",
       "      <td>14365.286792</td>\n",
       "      <td>3291.098113</td>\n",
       "      <td>3825.558491</td>\n",
       "      <td>20723.075472</td>\n",
       "    </tr>\n",
       "    <tr>\n",
       "      <th>std</th>\n",
       "      <td>1170.877736</td>\n",
       "      <td>892.702996</td>\n",
       "      <td>10142.276273</td>\n",
       "      <td>3080.492983</td>\n",
       "      <td>3304.068197</td>\n",
       "      <td>3337.865015</td>\n",
       "    </tr>\n",
       "    <tr>\n",
       "      <th>min</th>\n",
       "      <td>7.000000</td>\n",
       "      <td>1.000000</td>\n",
       "      <td>0.000000</td>\n",
       "      <td>3.000000</td>\n",
       "      <td>11.000000</td>\n",
       "      <td>14659.000000</td>\n",
       "    </tr>\n",
       "    <tr>\n",
       "      <th>25%</th>\n",
       "      <td>71.000000</td>\n",
       "      <td>75.000000</td>\n",
       "      <td>4993.000000</td>\n",
       "      <td>549.000000</td>\n",
       "      <td>851.000000</td>\n",
       "      <td>17853.000000</td>\n",
       "    </tr>\n",
       "    <tr>\n",
       "      <th>50%</th>\n",
       "      <td>167.000000</td>\n",
       "      <td>225.000000</td>\n",
       "      <td>9879.000000</td>\n",
       "      <td>2193.000000</td>\n",
       "      <td>2852.000000</td>\n",
       "      <td>20501.000000</td>\n",
       "    </tr>\n",
       "    <tr>\n",
       "      <th>75%</th>\n",
       "      <td>654.000000</td>\n",
       "      <td>625.000000</td>\n",
       "      <td>25042.000000</td>\n",
       "      <td>5663.000000</td>\n",
       "      <td>6734.000000</td>\n",
       "      <td>23301.000000</td>\n",
       "    </tr>\n",
       "    <tr>\n",
       "      <th>max</th>\n",
       "      <td>10011.000000</td>\n",
       "      <td>5252.000000</td>\n",
       "      <td>27921.000000</td>\n",
       "      <td>10792.000000</td>\n",
       "      <td>11297.000000</td>\n",
       "      <td>27409.000000</td>\n",
       "    </tr>\n",
       "  </tbody>\n",
       "</table>\n",
       "</div>"
      ],
      "text/plain": [
       "              NCell  n_fdr_genes_eq_0  n_fdr_genes_eq_1  n_fdr_genes_leq_0.05  \\\n",
       "count    265.000000        265.000000        265.000000            265.000000   \n",
       "mean     606.777358        599.418868      14365.286792           3291.098113   \n",
       "std     1170.877736        892.702996      10142.276273           3080.492983   \n",
       "min        7.000000          1.000000          0.000000              3.000000   \n",
       "25%       71.000000         75.000000       4993.000000            549.000000   \n",
       "50%      167.000000        225.000000       9879.000000           2193.000000   \n",
       "75%      654.000000        625.000000      25042.000000           5663.000000   \n",
       "max    10011.000000       5252.000000      27921.000000          10792.000000   \n",
       "\n",
       "       n_fdr_genes_leq_0.1  n_genes_enrich_val_leq_1  \n",
       "count           265.000000                265.000000  \n",
       "mean           3825.558491              20723.075472  \n",
       "std            3304.068197               3337.865015  \n",
       "min              11.000000              14659.000000  \n",
       "25%             851.000000              17853.000000  \n",
       "50%            2852.000000              20501.000000  \n",
       "75%            6734.000000              23301.000000  \n",
       "max           11297.000000              27409.000000  "
      ]
     },
     "execution_count": 206,
     "metadata": {},
     "output_type": "execute_result"
    }
   ],
   "source": [
    "df_enrich_summary_meta.describe()"
   ]
  },
  {
   "cell_type": "code",
   "execution_count": 188,
   "metadata": {
    "ExecuteTime": {
     "end_time": "2018-07-16T11:37:46.081385Z",
     "start_time": "2018-07-16T11:37:45.895362Z"
    }
   },
   "outputs": [
    {
     "data": {
      "image/png": "[encoded data removed]",
      "text/plain": [
       "<Figure size 640x480 with 1 Axes>"
      ]
     },
     "metadata": {},
     "output_type": "display_data"
    },
    {
     "data": {
      "text/plain": [
       "<ggplot: (8752280463673)>"
      ]
     },
     "execution_count": 188,
     "metadata": {},
     "output_type": "execute_result"
    }
   ],
   "source": [
    "ggplot(df_enrich_summary_meta, aes(x='NCell', y=\"n_fdr_genes_leq_0.05\")) + geom_point()"
   ]
  },
  {
   "cell_type": "code",
   "execution_count": 207,
   "metadata": {
    "ExecuteTime": {
     "end_time": "2018-07-16T11:54:45.783785Z",
     "start_time": "2018-07-16T11:54:45.562239Z"
    }
   },
   "outputs": [
    {
     "data": {
      "image/png": "[encoded data removed]",
      "text/plain": [
       "<Figure size 640x480 with 1 Axes>"
      ]
     },
     "metadata": {},
     "output_type": "display_data"
    },
    {
     "data": {
      "text/plain": [
       "<ggplot: (-9223363284573750889)>"
      ]
     },
     "execution_count": 207,
     "metadata": {},
     "output_type": "execute_result"
    }
   ],
   "source": [
    "ggplot(df_enrich_summary_meta, aes(x='NCell', y=\"n_fdr_genes_eq_0\")) + geom_point()"
   ]
  },
  {
   "cell_type": "markdown",
   "metadata": {},
   "source": [
    "### plot: enrichment_value v q (fdr)"
   ]
  },
  {
   "cell_type": "code",
   "execution_count": 124,
   "metadata": {
    "ExecuteTime": {
     "end_time": "2018-07-13T09:50:32.729893Z",
     "start_time": "2018-07-13T09:50:32.654987Z"
    },
    "collapsed": true
   },
   "outputs": [],
   "source": [
    "### Concat: 'rowbind' (column names are matched, so we don't have to worry about this)\n",
    "df_enrich_concat = pd.concat([df_enrich_val, df_enrich_q], \n",
    "                             keys=['enrich_val', 'enrich_q'], \n",
    "                             names=['value_type', 'Accession']) # 'names' arg it set for convenience to avoid doing 'df_enrich_concat.index.names = [xxx, ...]'\n",
    "df_enrich_concat.reset_index(inplace=True) # free Multi-index to columns"
   ]
  },
  {
   "cell_type": "code",
   "execution_count": 125,
   "metadata": {
    "ExecuteTime": {
     "end_time": "2018-07-13T09:50:33.064917Z",
     "start_time": "2018-07-13T09:50:33.062289Z"
    },
    "collapsed": true
   },
   "outputs": [],
   "source": [
    "# df_enrich_concat.sort_values(by=\"Accession\")\n",
    "#df_enrich_concat.head()\n",
    "# df_enrich_concat.tail()\n",
    "#df_enrich_concat.describe()"
   ]
  },
  {
   "cell_type": "code",
   "execution_count": 126,
   "metadata": {
    "ExecuteTime": {
     "end_time": "2018-07-13T09:50:34.415166Z",
     "start_time": "2018-07-13T09:50:33.432896Z"
    },
    "scrolled": true
   },
   "outputs": [
    {
     "data": {
      "text/html": [
       "<div>\n",
       "<style scoped>\n",
       "    .dataframe tbody tr th:only-of-type {\n",
       "        vertical-align: middle;\n",
       "    }\n",
       "\n",
       "    .dataframe tbody tr th {\n",
       "        vertical-align: top;\n",
       "    }\n",
       "\n",
       "    .dataframe thead th {\n",
       "        text-align: right;\n",
       "    }\n",
       "</style>\n",
       "<table border=\"1\" class=\"dataframe\">\n",
       "  <thead>\n",
       "    <tr style=\"text-align: right;\">\n",
       "      <th></th>\n",
       "      <th>value_type</th>\n",
       "      <th>Accession</th>\n",
       "      <th>ClusterName</th>\n",
       "      <th>value</th>\n",
       "    </tr>\n",
       "  </thead>\n",
       "  <tbody>\n",
       "    <tr>\n",
       "      <th>0</th>\n",
       "      <td>enrich_val</td>\n",
       "      <td>ENSMUSG00000024647</td>\n",
       "      <td>ENT9</td>\n",
       "      <td>942.361034</td>\n",
       "    </tr>\n",
       "    <tr>\n",
       "      <th>1</th>\n",
       "      <td>enrich_val</td>\n",
       "      <td>ENSMUSG00000041544</td>\n",
       "      <td>ENT9</td>\n",
       "      <td>36.283322</td>\n",
       "    </tr>\n",
       "    <tr>\n",
       "      <th>2</th>\n",
       "      <td>enrich_val</td>\n",
       "      <td>ENSMUSG00000029503</td>\n",
       "      <td>ENT9</td>\n",
       "      <td>3601.674248</td>\n",
       "    </tr>\n",
       "    <tr>\n",
       "      <th>3</th>\n",
       "      <td>enrich_val</td>\n",
       "      <td>ENSMUSG00000039942</td>\n",
       "      <td>ENT9</td>\n",
       "      <td>308.729127</td>\n",
       "    </tr>\n",
       "    <tr>\n",
       "      <th>4</th>\n",
       "      <td>enrich_val</td>\n",
       "      <td>ENSMUSG00000059187</td>\n",
       "      <td>ENT9</td>\n",
       "      <td>179.321879</td>\n",
       "    </tr>\n",
       "  </tbody>\n",
       "</table>\n",
       "</div>"
      ],
      "text/plain": [
       "   value_type           Accession ClusterName        value\n",
       "0  enrich_val  ENSMUSG00000024647        ENT9   942.361034\n",
       "1  enrich_val  ENSMUSG00000041544        ENT9    36.283322\n",
       "2  enrich_val  ENSMUSG00000029503        ENT9  3601.674248\n",
       "3  enrich_val  ENSMUSG00000039942        ENT9   308.729127\n",
       "4  enrich_val  ENSMUSG00000059187        ENT9   179.321879"
      ]
     },
     "execution_count": 126,
     "metadata": {},
     "output_type": "execute_result"
    }
   ],
   "source": [
    "df_enrich_concat_melt = df_enrich_concat.melt(id_vars=[\"value_type\", \"Accession\"], var_name=\"ClusterName\")\n",
    "df_enrich_concat_melt.head()"
   ]
  },
  {
   "cell_type": "code",
   "execution_count": null,
   "metadata": {
    "ExecuteTime": {
     "end_time": "2018-05-19T00:17:21.394383Z",
     "start_time": "2018-05-19T00:17:21.377479Z"
    },
    "collapsed": true
   },
   "outputs": [],
   "source": []
  },
  {
   "cell_type": "code",
   "execution_count": 70,
   "metadata": {
    "ExecuteTime": {
     "end_time": "2018-07-13T09:15:08.165404Z",
     "start_time": "2018-07-13T09:15:08.161778Z"
    },
    "collapsed": true
   },
   "outputs": [],
   "source": [
    "# df_x = df_enrich_concat_melt >> spread('value_type', 'value') # super-slow = 2m 49s\n",
    "# result is nice though\n",
    "# \tAccession\tClusterName\tenrich_q\tenrich_val\n",
    "# 0\tENSMUSG00000000001\tABC\t0.055294\t2.626374\n",
    "# 1\tENSMUSG00000000001\tACBG\t1.000000\t0.787547\n",
    "# 2\tENSMUSG00000000001\tACMB\t1.000000\t0.773508\n",
    "# 3\tENSMUSG00000000001\tACNT1\t1.000000\t0.205454\n",
    "# 4\tENSMUSG00000000001\tACNT2\t1.000000\t0.398013"
   ]
  },
  {
   "cell_type": "code",
   "execution_count": null,
   "metadata": {
    "ExecuteTime": {
     "end_time": "2018-05-19T00:23:34.927892Z",
     "start_time": "2018-05-19T00:23:34.911934Z"
    },
    "collapsed": true
   },
   "outputs": [],
   "source": []
  },
  {
   "cell_type": "code",
   "execution_count": null,
   "metadata": {
    "collapsed": true
   },
   "outputs": [],
   "source": []
  },
  {
   "cell_type": "code",
   "execution_count": 157,
   "metadata": {
    "ExecuteTime": {
     "end_time": "2018-07-13T10:05:07.793014Z",
     "start_time": "2018-07-13T10:04:52.978439Z"
    }
   },
   "outputs": [
    {
     "name": "stdout",
     "output_type": "stream",
     "text": [
      "(7419470, 2)\n"
     ]
    },
    {
     "data": {
      "text/html": [
       "<div>\n",
       "<style scoped>\n",
       "    .dataframe tbody tr th:only-of-type {\n",
       "        vertical-align: middle;\n",
       "    }\n",
       "\n",
       "    .dataframe tbody tr th {\n",
       "        vertical-align: top;\n",
       "    }\n",
       "\n",
       "    .dataframe thead tr th {\n",
       "        text-align: left;\n",
       "    }\n",
       "\n",
       "    .dataframe thead tr:last-of-type th {\n",
       "        text-align: right;\n",
       "    }\n",
       "</style>\n",
       "<table border=\"1\" class=\"dataframe\">\n",
       "  <thead>\n",
       "    <tr>\n",
       "      <th></th>\n",
       "      <th></th>\n",
       "      <th colspan=\"2\" halign=\"left\">value</th>\n",
       "    </tr>\n",
       "    <tr>\n",
       "      <th></th>\n",
       "      <th>value_type</th>\n",
       "      <th>enrich_q</th>\n",
       "      <th>enrich_val</th>\n",
       "    </tr>\n",
       "    <tr>\n",
       "      <th>ClusterName</th>\n",
       "      <th>Accession</th>\n",
       "      <th></th>\n",
       "      <th></th>\n",
       "    </tr>\n",
       "  </thead>\n",
       "  <tbody>\n",
       "    <tr>\n",
       "      <th rowspan=\"5\" valign=\"top\">ABC</th>\n",
       "      <th>ENSMUSG00000000001</th>\n",
       "      <td>0.055294</td>\n",
       "      <td>2.626374</td>\n",
       "    </tr>\n",
       "    <tr>\n",
       "      <th>ENSMUSG00000000003</th>\n",
       "      <td>0.982410</td>\n",
       "      <td>1.000000</td>\n",
       "    </tr>\n",
       "    <tr>\n",
       "      <th>ENSMUSG00000000028</th>\n",
       "      <td>0.200561</td>\n",
       "      <td>1.855631</td>\n",
       "    </tr>\n",
       "    <tr>\n",
       "      <th>ENSMUSG00000000031</th>\n",
       "      <td>0.000000</td>\n",
       "      <td>26.753307</td>\n",
       "    </tr>\n",
       "    <tr>\n",
       "      <th>ENSMUSG00000000037</th>\n",
       "      <td>0.460542</td>\n",
       "      <td>1.463931</td>\n",
       "    </tr>\n",
       "  </tbody>\n",
       "</table>\n",
       "</div>"
      ],
      "text/plain": [
       "                                   value           \n",
       "value_type                      enrich_q enrich_val\n",
       "ClusterName Accession                              \n",
       "ABC         ENSMUSG00000000001  0.055294   2.626374\n",
       "            ENSMUSG00000000003  0.982410   1.000000\n",
       "            ENSMUSG00000000028  0.200561   1.855631\n",
       "            ENSMUSG00000000031  0.000000  26.753307\n",
       "            ENSMUSG00000000037  0.460542   1.463931"
      ]
     },
     "execution_count": 157,
     "metadata": {},
     "output_type": "execute_result"
    }
   ],
   "source": [
    "### tidyr:'spread'-like function\n",
    "# REF: https://stackoverflow.com/questions/43973999/how-to-spread-a-column-in-a-pandas-data-frame\n",
    "df_enrich_concat_melt_spread = df_enrich_concat_melt.set_index(['value_type','ClusterName','Accession']).unstack('value_type') #16.9s\n",
    "\n",
    "#### ALTERNATIVE: groupby summarize\n",
    "# See here:https://stackoverflow.com/questions/38127209/how-to-use-groupby-to-concatenate-strings-in-python-pandas\n",
    "# \n",
    "\n",
    "### Pivot\n",
    "# df_enrich_concat_melt_spread = df_enrich_concat_melt.pivot(index='ClusterName', columns='value_type', values='value') # FAILS\n",
    "# df_enrich_concat_melt_spread = df_enrich_concat_melt.pivot(columns='value_type', values='value') #  FAILS\n",
    "\n",
    "# df_enrich_concat_melt_spread = df_enrich_concat_melt.pivot(columns='value_type', values='value') # does NOT fail, but does not work\n",
    "# value_type\tenrich_q\tenrich_val\n",
    "# 0\tNaN\t0.0\n",
    "# 1\tNaN\t0.0\n",
    "# 2\tNaN\t0.0\n",
    "# 3\tNaN\t0.0\n",
    "# 4\tNaN\t0.0\n",
    "\n",
    "### 'Second' melting --> does also not work.\n",
    "# df_enrich_concat_melt_spread = df_enrich_concat_melt.melt(id_vars=[\"Accession\", \"ClusterName\"], value_vars=[\"value_type\", \"value\"])\n",
    "# print(df_enrich_concat_melt_spread.shape)\n",
    "# df_enrich_concat_melt_spread.head()\n",
    "\n",
    "print(df_enrich_concat_melt_spread.shape)\n",
    "df_enrich_concat_melt_spread.head()"
   ]
  },
  {
   "cell_type": "code",
   "execution_count": 158,
   "metadata": {
    "ExecuteTime": {
     "end_time": "2018-07-13T10:05:08.310979Z",
     "start_time": "2018-07-13T10:05:07.794474Z"
    },
    "collapsed": true
   },
   "outputs": [],
   "source": [
    "### The index of df_enrich_concat_melt_spread is a MultiIndex.\n",
    "### print(type(df_enrich_concat_melt_spread.index)) # --> MultiIndex\n",
    "### print(df_enrich_concat_melt_spread.index.names) # --> ['ClusterName', 'Accession']\n",
    "\n",
    "### reset index to make columns available\n",
    "df_enrich_concat_melt_spread.reset_index(inplace=True)\n",
    "# ---> now the columns are a MultiIndex\n",
    "# ***ANNOYING***: this column names we want to used is partitioned into two different 'levels' of the MultiIndex\n",
    "# df_enrich_concat_melt_spread.columns.get_level_values(0): Index(['ClusterName', 'Accession', 'value', 'value'], dtype='object')\n",
    "# df_enrich_concat_melt_spread.columns.get_level_values(1): Index(['', '', 'enrich_q', 'enrich_val'], dtype='object', name='value_type')\n",
    "\n",
    "### flatten a hierarchical index in columns\n",
    "# *UPDATE*: you can disregard this step because we only get 'one level' of the column names.\n",
    "df_enrich_concat_melt_spread.columns = df_enrich_concat_melt_spread.columns.get_level_values(1) # REF: https://stackoverflow.com/questions/14507794/python-pandas-how-to-flatten-a-hierarchical-index-in-columns\n",
    "\n",
    "df_enrich_concat_melt_spread.columns.name = \"\" # removing value_type - NOT necessary"
   ]
  },
  {
   "cell_type": "code",
   "execution_count": 165,
   "metadata": {
    "ExecuteTime": {
     "end_time": "2018-07-13T10:09:06.920091Z",
     "start_time": "2018-07-13T10:09:06.916835Z"
    },
    "collapsed": true
   },
   "outputs": [],
   "source": [
    "### ***HACKY*** way of setting column names, but it is the only practical way I found.\n",
    "df_enrich_concat_melt_spread.columns = ['ClusterName', 'Accession', 'enrich_q', 'enrich_val']"
   ]
  },
  {
   "cell_type": "code",
   "execution_count": 166,
   "metadata": {
    "ExecuteTime": {
     "end_time": "2018-07-13T10:09:08.635817Z",
     "start_time": "2018-07-13T10:09:08.626321Z"
    }
   },
   "outputs": [
    {
     "data": {
      "text/html": [
       "<div>\n",
       "<style scoped>\n",
       "    .dataframe tbody tr th:only-of-type {\n",
       "        vertical-align: middle;\n",
       "    }\n",
       "\n",
       "    .dataframe tbody tr th {\n",
       "        vertical-align: top;\n",
       "    }\n",
       "\n",
       "    .dataframe thead th {\n",
       "        text-align: right;\n",
       "    }\n",
       "</style>\n",
       "<table border=\"1\" class=\"dataframe\">\n",
       "  <thead>\n",
       "    <tr style=\"text-align: right;\">\n",
       "      <th></th>\n",
       "      <th>ClusterName</th>\n",
       "      <th>Accession</th>\n",
       "      <th>enrich_q</th>\n",
       "      <th>enrich_val</th>\n",
       "    </tr>\n",
       "  </thead>\n",
       "  <tbody>\n",
       "    <tr>\n",
       "      <th>0</th>\n",
       "      <td>ABC</td>\n",
       "      <td>ENSMUSG00000000001</td>\n",
       "      <td>0.055294</td>\n",
       "      <td>2.626374</td>\n",
       "    </tr>\n",
       "    <tr>\n",
       "      <th>1</th>\n",
       "      <td>ABC</td>\n",
       "      <td>ENSMUSG00000000003</td>\n",
       "      <td>0.982410</td>\n",
       "      <td>1.000000</td>\n",
       "    </tr>\n",
       "    <tr>\n",
       "      <th>2</th>\n",
       "      <td>ABC</td>\n",
       "      <td>ENSMUSG00000000028</td>\n",
       "      <td>0.200561</td>\n",
       "      <td>1.855631</td>\n",
       "    </tr>\n",
       "    <tr>\n",
       "      <th>3</th>\n",
       "      <td>ABC</td>\n",
       "      <td>ENSMUSG00000000031</td>\n",
       "      <td>0.000000</td>\n",
       "      <td>26.753307</td>\n",
       "    </tr>\n",
       "    <tr>\n",
       "      <th>4</th>\n",
       "      <td>ABC</td>\n",
       "      <td>ENSMUSG00000000037</td>\n",
       "      <td>0.460542</td>\n",
       "      <td>1.463931</td>\n",
       "    </tr>\n",
       "  </tbody>\n",
       "</table>\n",
       "</div>"
      ],
      "text/plain": [
       "  ClusterName           Accession  enrich_q  enrich_val\n",
       "0         ABC  ENSMUSG00000000001  0.055294    2.626374\n",
       "1         ABC  ENSMUSG00000000003  0.982410    1.000000\n",
       "2         ABC  ENSMUSG00000000028  0.200561    1.855631\n",
       "3         ABC  ENSMUSG00000000031  0.000000   26.753307\n",
       "4         ABC  ENSMUSG00000000037  0.460542    1.463931"
      ]
     },
     "execution_count": 166,
     "metadata": {},
     "output_type": "execute_result"
    }
   ],
   "source": [
    "df_enrich_concat_melt_spread.head()"
   ]
  },
  {
   "cell_type": "code",
   "execution_count": 189,
   "metadata": {
    "ExecuteTime": {
     "end_time": "2018-07-16T11:39:40.105239Z",
     "start_time": "2018-07-16T11:39:39.356034Z"
    },
    "collapsed": true
   },
   "outputs": [],
   "source": [
    "### Subset/filter\n",
    "CELL_TYPE_TMP_FILTER = \"ENT9\" # \"ABC\"\n",
    "# df_tmp_plot = df_enrich_concat_melt_spread.loc[df_enrich_concat_melt_spread[\"ClusterName\"]=='ABC',:] # pandas\n",
    "df_tmp_plot = df_enrich_concat_melt_spread >> mask(X.ClusterName==CELL_TYPE_TMP_FILTER) # dfply 'filter' function\n"
   ]
  },
  {
   "cell_type": "code",
   "execution_count": 190,
   "metadata": {
    "ExecuteTime": {
     "end_time": "2018-07-16T11:39:43.543921Z",
     "start_time": "2018-07-16T11:39:40.912163Z"
    }
   },
   "outputs": [
    {
     "data": {
      "image/png": "[encoded data removed]",
      "text/plain": [
       "<Figure size 640x480 with 1 Axes>"
      ]
     },
     "metadata": {},
     "output_type": "display_data"
    },
    {
     "data": {
      "text/plain": [
       "<ggplot: (-9223363284574550738)>"
      ]
     },
     "execution_count": 190,
     "metadata": {},
     "output_type": "execute_result"
    }
   ],
   "source": [
    "ggplot(df_tmp_plot, aes(x=\"enrich_q\", y=\"enrich_val\", color=\"ClusterName\")) + geom_point() #+scale_x_log10()\n",
    "# ---> CONCLUSION: only genes with a fdr value = 0, has a non-zero enrichment value"
   ]
  },
  {
   "cell_type": "code",
   "execution_count": 195,
   "metadata": {
    "ExecuteTime": {
     "end_time": "2018-07-16T11:42:12.948594Z",
     "start_time": "2018-07-16T11:42:11.621523Z"
    }
   },
   "outputs": [
    {
     "name": "stderr",
     "output_type": "stream",
     "text": [
      "/tools/anaconda/3-4.4.0/envs/py3_anaconda3_PT180510/lib/python3.6/site-packages/plotnine/layer.py:450: UserWarning: geom_point : Removed 18476 rows containing missing values.\n",
      "  self.data = self.geom.handle_na(self.data)\n"
     ]
    },
    {
     "data": {
      "image/png": "[encoded data removed]",
      "text/plain": [
       "<Figure size 640x480 with 1 Axes>"
      ]
     },
     "metadata": {},
     "output_type": "display_data"
    },
    {
     "data": {
      "text/plain": [
       "<ggplot: (-9223363284575188599)>"
      ]
     },
     "execution_count": 195,
     "metadata": {},
     "output_type": "execute_result"
    }
   ],
   "source": [
    "ggplot(df_tmp_plot, aes(x=\"enrich_q\", y=\"enrich_val\", color=\"ClusterName\")) + geom_point() + xlim([0,0.01]) + scale_y_log10()"
   ]
  },
  {
   "cell_type": "code",
   "execution_count": 205,
   "metadata": {
    "ExecuteTime": {
     "end_time": "2018-07-16T11:50:39.457439Z",
     "start_time": "2018-07-16T11:50:38.674805Z"
    }
   },
   "outputs": [
    {
     "name": "stderr",
     "output_type": "stream",
     "text": [
      "/tools/anaconda/3-4.4.0/envs/py3_anaconda3_PT180510/lib/python3.6/site-packages/plotnine/layer.py:450: UserWarning: geom_point : Removed 24259 rows containing missing values.\n",
      "  self.data = self.geom.handle_na(self.data)\n"
     ]
    },
    {
     "data": {
      "image/png": "[encoded data removed]",
      "text/plain": [
       "<Figure size 640x480 with 1 Axes>"
      ]
     },
     "metadata": {},
     "output_type": "display_data"
    },
    {
     "data": {
      "text/plain": [
       "<ggplot: (-9223363284575037005)>"
      ]
     },
     "execution_count": 205,
     "metadata": {},
     "output_type": "execute_result"
    }
   ],
   "source": [
    "ggplot(df_tmp_plot, aes(x=\"enrich_q\", y=\"enrich_val\", color=\"ClusterName\")) + geom_point() + xlim([0.0025,0.001]) + ylim([0,15])"
   ]
  },
  {
   "cell_type": "code",
   "execution_count": null,
   "metadata": {
    "collapsed": true
   },
   "outputs": [],
   "source": [
    "np.log10()"
   ]
  }
 ],
 "metadata": {
  "kernelspec": {
   "display_name": "Python [conda env:py3_anaconda3_PT180510]",
   "language": "python",
   "name": "conda-env-py3_anaconda3_PT180510-py"
  },
  "language_info": {
   "codemirror_mode": {
    "name": "ipython",
    "version": 3
   },
   "file_extension": ".py",
   "mimetype": "text/x-python",
   "name": "python",
   "nbconvert_exporter": "python",
   "pygments_lexer": "ipython3",
   "version": "3.6.6"
  },
  "toc": {
   "colors": {
    "hover_highlight": "#DAA520",
    "navigate_num": "#000000",
    "navigate_text": "#333333",
    "running_highlight": "#FF0000",
    "selected_highlight": "#FFD700",
    "sidebar_border": "#EEEEEE",
    "wrapper_background": "#FFFFFF"
   },
   "moveMenuLeft": true,
   "nav_menu": {
    "height": "12px",
    "width": "252px"
   },
   "navigate_menu": true,
   "number_sections": true,
   "sideBar": true,
   "threshold": 4,
   "toc_cell": false,
   "toc_section_display": "block",
   "toc_window_display": false,
   "widenNotebook": false
  }
 },
 "nbformat": 4,
 "nbformat_minor": 2
}
