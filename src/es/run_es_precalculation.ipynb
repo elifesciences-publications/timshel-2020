{
 "cells": [
  {
   "cell_type": "code",
   "execution_count": null,
   "metadata": {
    "ExecuteTime": {
     "end_time": "2019-08-08T15:44:04.535286Z",
     "start_time": "2019-08-08T15:44:04.260393Z"
    }
   },
   "outputs": [],
   "source": [
    "import os\n",
    "import sys\n",
    "\n",
    "import numpy as np\n",
    "import pandas as pd\n"
   ]
  },
  {
   "cell_type": "code",
   "execution_count": null,
   "metadata": {
    "ExecuteTime": {
     "end_time": "2019-08-08T15:44:05.270155Z",
     "start_time": "2019-08-08T15:44:05.218030Z"
    }
   },
   "outputs": [],
   "source": [
    "import git\n",
    "path_repo_root = git.Repo('.', search_parent_directories=True).working_tree_dir"
   ]
  },
  {
   "cell_type": "code",
   "execution_count": null,
   "metadata": {
    "ExecuteTime": {
     "end_time": "2019-08-08T15:44:05.835544Z",
     "start_time": "2019-08-08T15:44:05.595283Z"
    }
   },
   "outputs": [],
   "source": [
    "path_lib = os.path.join(path_repo_root, \"src/lib\")\n",
    "sys.path.insert(1, path_lib)\n",
    "from es_precalculation import *"
   ]
  },
  {
   "cell_type": "markdown",
   "metadata": {},
   "source": [
    "# Constants"
   ]
  },
  {
   "cell_type": "code",
   "execution_count": null,
   "metadata": {
    "ExecuteTime": {
     "end_time": "2019-08-08T15:44:07.084925Z",
     "start_time": "2019-08-08T15:44:07.080781Z"
    }
   },
   "outputs": [],
   "source": [
    "### Constants\n",
    "input_dir = os.path.join(path_repo_root, \"tmp-data/expression\")\n",
    "output_dir = os.path.join(path_repo_root, \"tmp-data/expression-precalc\")\n",
    "assert(os.path.exists(output_dir)) # output_dir must exists"
   ]
  },
  {
   "cell_type": "markdown",
   "metadata": {},
   "source": [
    "# Functions"
   ]
  },
  {
   "cell_type": "code",
   "execution_count": null,
   "metadata": {
    "ExecuteTime": {
     "end_time": "2019-08-08T15:44:07.693950Z",
     "start_time": "2019-08-08T15:44:07.689977Z"
    }
   },
   "outputs": [],
   "source": [
    "def utils_celldata_reader(input_dir, prefix):\n",
    "    \"\"\" Helper function to read .metadata.csv and .umi.csv.gz files in stored input_dir (tmp-data/expression)\"\"\"\n",
    "\n",
    "    ### Metadata\n",
    "    file_metadata = os.path.join(input_dir, \"{}.metadata.csv\".format(prefix))\n",
    "    df_metadata = pd.read_csv(file_metadata, index_col=False)\n",
    "    ### Data\n",
    "    print(\"Reading UMI data...\")\n",
    "    file_data = os.path.join(input_dir, \"{}.umi.csv.gz\".format(prefix))\n",
    "    df_data = pd.read_csv(file_data, index_col=False) # this takes 12-14 min for tabula_muris! (Pandas is slow!)\n",
    "    print(\"Done reading UMI data\")\n",
    "    df_data.set_index(\"gene\", inplace=True) # set index\n",
    "    ### [*IMPORTANT*] Check that all metadata cell_ids are identical to data columnnames. \n",
    "    ### We need to ensure this before we can use the metadata cell-types as annotations.\n",
    "    assert(np.all(df_data.columns.values == df_metadata[\"cell_id\"].values)) # ---> True\n",
    "    return [df_metadata, df_data]"
   ]
  },
  {
   "cell_type": "markdown",
   "metadata": {},
   "source": [
    "# Mousebrain"
   ]
  },
  {
   "cell_type": "code",
   "execution_count": null,
   "metadata": {
    "ExecuteTime": {
     "end_time": "2019-08-08T15:44:09.173579Z",
     "start_time": "2019-08-08T15:44:09.104032Z"
    }
   },
   "outputs": [],
   "source": [
    "import loompy # version 2"
   ]
  },
  {
   "cell_type": "code",
   "execution_count": null,
   "metadata": {
    "ExecuteTime": {
     "end_time": "2019-08-08T15:44:09.391260Z",
     "start_time": "2019-08-08T15:44:09.387385Z"
    }
   },
   "outputs": [],
   "source": [
    "### Variables\n",
    "out_prefix = os.path.join(output_dir, \"mousebrain\")\n",
    "annotation_column = \"ClusterName\""
   ]
  },
  {
   "cell_type": "code",
   "execution_count": null,
   "metadata": {
    "ExecuteTime": {
     "end_time": "2019-08-08T15:45:50.211935Z",
     "start_time": "2019-08-08T15:44:09.814731Z"
    }
   },
   "outputs": [],
   "source": [
    "file_loom = os.path.join(input_dir, \"mousebrain-l5_all.loom\")\n",
    "# file_loom = \"/scratch/data-for_fast_access/pub-others/zeisel-biorxiv-2018/l5_all2.loom\"\n",
    "with loompy.connect(file_loom) as ds:\n",
    "    ### Make data frame. Use Ensembl GeneIDs\n",
    "    # ds.ra.Gene (Gene names) contains 66 duplicate gene names\n",
    "    df_data = pd.DataFrame(ds[:, :].astype(int), index=ds.ra.Accession, columns=ds.ca.CellID)\n",
    "    df_data.columns = pd.MultiIndex.from_arrays([ds.ca.CellID, ds.ca.ClusterName], names=[\"CellID\", \"ClusterName\"])"
   ]
  },
  {
   "cell_type": "code",
   "execution_count": null,
   "metadata": {
    "ExecuteTime": {
     "start_time": "2019-08-08T15:44:11.167Z"
    }
   },
   "outputs": [],
   "source": [
    "df_ctc_log = ctc_log_normalize(df_data)\n",
    "del df_data"
   ]
  },
  {
   "cell_type": "code",
   "execution_count": null,
   "metadata": {
    "ExecuteTime": {
     "start_time": "2019-08-08T15:44:11.347Z"
    }
   },
   "outputs": [],
   "source": [
    "annotations = df_ctc_log.columns.get_level_values(level=annotation_column) # 1 x NCell"
   ]
  },
  {
   "cell_type": "code",
   "execution_count": null,
   "metadata": {
    "ExecuteTime": {
     "start_time": "2019-08-08T15:44:11.523Z"
    },
    "scrolled": true
   },
   "outputs": [],
   "source": [
    "df_anova = calculate_anova_sporadically_expressed_genes(df_ctc_log, annotations, out_prefix)"
   ]
  },
  {
   "cell_type": "code",
   "execution_count": null,
   "metadata": {
    "ExecuteTime": {
     "start_time": "2019-08-08T15:44:11.847Z"
    }
   },
   "outputs": [],
   "source": [
    "(df_frac, df_mu, df_var, df_n) = calculate_per_anno_summary_stats(df_ctc_log, annotations, out_prefix, permute_annotations=False)"
   ]
  },
  {
   "cell_type": "code",
   "execution_count": null,
   "metadata": {
    "ExecuteTime": {
     "start_time": "2019-08-08T15:44:12.338Z"
    }
   },
   "outputs": [],
   "source": [
    "(df_frac_null, df_mu_null, df_var_null, df_n_null) = calculate_per_anno_summary_stats(df_ctc_log, annotations, out_prefix, permute_annotations=True)"
   ]
  },
  {
   "cell_type": "code",
   "execution_count": null,
   "metadata": {},
   "outputs": [],
   "source": []
  },
  {
   "cell_type": "markdown",
   "metadata": {},
   "source": [
    "# Tabula Muris"
   ]
  },
  {
   "cell_type": "code",
   "execution_count": null,
   "metadata": {
    "ExecuteTime": {
     "end_time": "2019-08-08T10:48:28.183278Z",
     "start_time": "2019-08-08T10:48:28.181044Z"
    }
   },
   "outputs": [],
   "source": [
    "### Variables\n",
    "out_prefix = os.path.join(output_dir, \"tabula_muris\")\n",
    "annotation_column = \"tissue_celltype\""
   ]
  },
  {
   "cell_type": "code",
   "execution_count": null,
   "metadata": {
    "ExecuteTime": {
     "start_time": "2019-08-08T10:48:32.835Z"
    }
   },
   "outputs": [],
   "source": [
    "[df_metadata, df_data] = utils_celldata_reader(input_dir, prefix=\"tabula_muris\")"
   ]
  },
  {
   "cell_type": "code",
   "execution_count": null,
   "metadata": {
    "ExecuteTime": {
     "start_time": "2019-08-08T10:48:33.013Z"
    }
   },
   "outputs": [],
   "source": [
    "df_ctc_log = ctc_log_normalize(df_data)\n",
    "del df_data"
   ]
  },
  {
   "cell_type": "code",
   "execution_count": null,
   "metadata": {
    "ExecuteTime": {
     "start_time": "2019-08-08T10:48:33.161Z"
    }
   },
   "outputs": [],
   "source": [
    "### Set annotations\n",
    "annotations = df_metadata[annotation_column].values"
   ]
  },
  {
   "cell_type": "code",
   "execution_count": null,
   "metadata": {
    "ExecuteTime": {
     "start_time": "2019-08-08T10:48:33.310Z"
    }
   },
   "outputs": [],
   "source": [
    "df_anova = calculate_anova_sporadically_expressed_genes(df_ctc_log, annotations, out_prefix)"
   ]
  },
  {
   "cell_type": "code",
   "execution_count": null,
   "metadata": {
    "ExecuteTime": {
     "start_time": "2019-08-08T10:48:33.449Z"
    }
   },
   "outputs": [],
   "source": [
    "(df_frac, df_mu, df_var, df_n) = calculate_per_anno_summary_stats(df_ctc_log, annotations, out_prefix, permute_annotations=False)"
   ]
  },
  {
   "cell_type": "code",
   "execution_count": null,
   "metadata": {
    "ExecuteTime": {
     "start_time": "2019-08-08T10:48:33.661Z"
    }
   },
   "outputs": [],
   "source": [
    "(df_frac_null, df_mu_null, df_var_null, df_n_null) = calculate_per_anno_summary_stats(df_ctc_log, annotations, out_prefix, permute_annotations=True)"
   ]
  },
  {
   "cell_type": "code",
   "execution_count": null,
   "metadata": {},
   "outputs": [],
   "source": []
  },
  {
   "cell_type": "code",
   "execution_count": null,
   "metadata": {},
   "outputs": [],
   "source": []
  },
  {
   "cell_type": "code",
   "execution_count": null,
   "metadata": {},
   "outputs": [],
   "source": []
  },
  {
   "cell_type": "markdown",
   "metadata": {},
   "source": [
    "# Campbell2017"
   ]
  },
  {
   "cell_type": "code",
   "execution_count": null,
   "metadata": {},
   "outputs": [],
   "source": []
  },
  {
   "cell_type": "code",
   "execution_count": null,
   "metadata": {
    "ExecuteTime": {
     "start_time": "2019-08-08T10:48:34.717Z"
    }
   },
   "outputs": [],
   "source": [
    "### Variables\n",
    "dict_run = {os.path.join(output_dir, \"campbell2017_lvl1\"):\"cell_type_all_lvl1\",\n",
    "            os.path.join(output_dir, \"campbell2017_lvl2\"):\"cell_type_all_lvl2\"} # {out_prefix:annotation_column}"
   ]
  },
  {
   "cell_type": "code",
   "execution_count": null,
   "metadata": {
    "ExecuteTime": {
     "start_time": "2019-08-08T10:48:35.984Z"
    }
   },
   "outputs": [],
   "source": [
    "[df_metadata, df_data] = utils_celldata_reader(input_dir, prefix=\"campbell2017\")"
   ]
  },
  {
   "cell_type": "code",
   "execution_count": null,
   "metadata": {
    "ExecuteTime": {
     "start_time": "2019-08-08T10:48:36.136Z"
    }
   },
   "outputs": [],
   "source": [
    "df_ctc_log = ctc_log_normalize(df_data)\n",
    "del df_data"
   ]
  },
  {
   "cell_type": "code",
   "execution_count": null,
   "metadata": {
    "ExecuteTime": {
     "start_time": "2019-08-08T10:48:36.523Z"
    }
   },
   "outputs": [],
   "source": [
    "for out_prefix in dict_run:\n",
    "    print(out_prefix)\n",
    "    annotations = df_metadata[dict_run[out_prefix]].values # get annotations\n",
    "    df_anova = calculate_anova_sporadically_expressed_genes(df_ctc_log, annotations, out_prefix)\n",
    "    (df_frac, df_mu, df_var, df_n) = calculate_per_anno_summary_stats(df_ctc_log, annotations, out_prefix, permute_annotations=False)\n",
    "    (df_frac_null, df_mu_null, df_var_null, df_n_null) = calculate_per_anno_summary_stats(df_ctc_log, annotations, out_prefix, permute_annotations=True)"
   ]
  },
  {
   "cell_type": "code",
   "execution_count": null,
   "metadata": {},
   "outputs": [],
   "source": []
  },
  {
   "cell_type": "markdown",
   "metadata": {},
   "source": [
    "# Campbell2017 neurons"
   ]
  },
  {
   "cell_type": "code",
   "execution_count": null,
   "metadata": {},
   "outputs": [],
   "source": [
    "### Variables\n",
    "dict_run = {os.path.join(output_dir, \"campbell2017_lvl1_neur\"):\"cell_type_all_lvl1\",\n",
    "            os.path.join(output_dir, \"campbell2017_lvl2_neur\"):\"cell_type_all_lvl2\"} # {out_prefix:annotation_column}"
   ]
  },
  {
   "cell_type": "code",
   "execution_count": null,
   "metadata": {},
   "outputs": [],
   "source": [
    "dict_run"
   ]
  },
  {
   "cell_type": "code",
   "execution_count": null,
   "metadata": {},
   "outputs": [],
   "source": [
    "[df_metadata, df_data] = utils_celldata_reader(input_dir, prefix=\"campbell2017_neur\")"
   ]
  },
  {
   "cell_type": "code",
   "execution_count": null,
   "metadata": {},
   "outputs": [],
   "source": [
    "df_ctc_log = ctc_log_normalize(df_data)\n",
    "del df_data"
   ]
  },
  {
   "cell_type": "code",
   "execution_count": null,
   "metadata": {},
   "outputs": [],
   "source": [
    "for out_prefix in dict_run:\n",
    "    print(out_prefix)\n",
    "    annotations = df_metadata[dict_run[out_prefix]].values # get annotations\n",
    "    df_anova = calculate_anova_sporadically_expressed_genes(df_ctc_log, annotations, out_prefix)\n",
    "    (df_frac, df_mu, df_var, df_n) = calculate_per_anno_summary_stats(df_ctc_log, annotations, out_prefix, permute_annotations=False)\n",
    "    (df_frac_null, df_mu_null, df_var_null, df_n_null) = calculate_per_anno_summary_stats(df_ctc_log, annotations, out_prefix, permute_annotations=True)"
   ]
  },
  {
   "cell_type": "code",
   "execution_count": null,
   "metadata": {},
   "outputs": [],
   "source": []
  },
  {
   "cell_type": "markdown",
   "metadata": {},
   "source": [
    "# Chen2017"
   ]
  },
  {
   "cell_type": "code",
   "execution_count": null,
   "metadata": {},
   "outputs": [],
   "source": [
    "### Variables\n",
    "dict_run = {os.path.join(output_dir, \"chen2017\"):\"SVM_clusterID\"} # {out_prefix:annotation_column}"
   ]
  },
  {
   "cell_type": "code",
   "execution_count": null,
   "metadata": {},
   "outputs": [],
   "source": [
    "[df_metadata, df_data] = utils_celldata_reader(input_dir, prefix=\"chen2017\")"
   ]
  },
  {
   "cell_type": "code",
   "execution_count": null,
   "metadata": {},
   "outputs": [],
   "source": [
    "df_ctc_log = ctc_log_normalize(df_data)\n",
    "del df_data"
   ]
  },
  {
   "cell_type": "code",
   "execution_count": null,
   "metadata": {},
   "outputs": [],
   "source": [
    "for out_prefix in dict_run:\n",
    "    print(out_prefix)\n",
    "    annotations = df_metadata[dict_run[out_prefix]].values # get annotations\n",
    "    df_anova = calculate_anova_sporadically_expressed_genes(df_ctc_log, annotations, out_prefix)\n",
    "    (df_frac, df_mu, df_var, df_n) = calculate_per_anno_summary_stats(df_ctc_log, annotations, out_prefix, permute_annotations=False)\n",
    "    (df_frac_null, df_mu_null, df_var_null, df_n_null) = calculate_per_anno_summary_stats(df_ctc_log, annotations, out_prefix, permute_annotations=True)"
   ]
  },
  {
   "cell_type": "markdown",
   "metadata": {},
   "source": [
    "# Romanov2017"
   ]
  },
  {
   "cell_type": "code",
   "execution_count": null,
   "metadata": {},
   "outputs": [],
   "source": [
    "### Variables\n",
    "dict_run = {os.path.join(output_dir, \"romanov2017\"):\"cell_type\"} # {out_prefix:annotation_column}"
   ]
  },
  {
   "cell_type": "code",
   "execution_count": null,
   "metadata": {},
   "outputs": [],
   "source": [
    "[df_metadata, df_data] = utils_celldata_reader(input_dir, prefix=\"romanov2017\")"
   ]
  },
  {
   "cell_type": "code",
   "execution_count": null,
   "metadata": {},
   "outputs": [],
   "source": [
    "df_ctc_log = ctc_log_normalize(df_data)\n",
    "del df_data"
   ]
  },
  {
   "cell_type": "code",
   "execution_count": null,
   "metadata": {},
   "outputs": [],
   "source": [
    "for out_prefix in dict_run:\n",
    "    print(out_prefix)\n",
    "    annotations = df_metadata[dict_run[out_prefix]].values # get annotations\n",
    "    df_anova = calculate_anova_sporadically_expressed_genes(df_ctc_log, annotations, out_prefix)\n",
    "    (df_frac, df_mu, df_var, df_n) = calculate_per_anno_summary_stats(df_ctc_log, annotations, out_prefix, permute_annotations=False)\n",
    "    (df_frac_null, df_mu_null, df_var_null, df_n_null) = calculate_per_anno_summary_stats(df_ctc_log, annotations, out_prefix, permute_annotations=True)"
   ]
  },
  {
   "cell_type": "markdown",
   "metadata": {},
   "source": [
    "# Moffit2018"
   ]
  },
  {
   "cell_type": "code",
   "execution_count": null,
   "metadata": {},
   "outputs": [],
   "source": [
    "### Variables\n",
    "dict_run = {os.path.join(output_dir, \"moffitt2018\"):\"cell_type\"} # {out_prefix:annotation_column}"
   ]
  },
  {
   "cell_type": "code",
   "execution_count": null,
   "metadata": {},
   "outputs": [],
   "source": [
    "[df_metadata, df_data] = utils_celldata_reader(input_dir, prefix=\"moffitt2018\")"
   ]
  },
  {
   "cell_type": "code",
   "execution_count": null,
   "metadata": {},
   "outputs": [],
   "source": [
    "df_ctc_log = ctc_log_normalize(df_data)\n",
    "del df_data"
   ]
  },
  {
   "cell_type": "code",
   "execution_count": null,
   "metadata": {},
   "outputs": [],
   "source": [
    "for out_prefix in dict_run:\n",
    "    print(out_prefix)\n",
    "    annotations = df_metadata[dict_run[out_prefix]].values # get annotations\n",
    "    df_anova = calculate_anova_sporadically_expressed_genes(df_ctc_log, annotations, out_prefix)\n",
    "    (df_frac, df_mu, df_var, df_n) = calculate_per_anno_summary_stats(df_ctc_log, annotations, out_prefix, permute_annotations=False)\n",
    "    (df_frac_null, df_mu_null, df_var_null, df_n_null) = calculate_per_anno_summary_stats(df_ctc_log, annotations, out_prefix, permute_annotations=True)"
   ]
  },
  {
   "cell_type": "markdown",
   "metadata": {},
   "source": [
    "# Mikkelsen 2019"
   ]
  },
  {
   "cell_type": "code",
   "execution_count": null,
   "metadata": {},
   "outputs": [],
   "source": [
    "### Variables\n",
    "dict_run = {os.path.join(output_dir, \"mikkelsen2019\"):\"cell_type\"} # {out_prefix:annotation_column}"
   ]
  },
  {
   "cell_type": "code",
   "execution_count": null,
   "metadata": {},
   "outputs": [],
   "source": [
    "[df_metadata, df_data] = utils_celldata_reader(input_dir, prefix=\"mikkelsen2019\")"
   ]
  },
  {
   "cell_type": "code",
   "execution_count": null,
   "metadata": {},
   "outputs": [],
   "source": [
    "df_data.head()"
   ]
  },
  {
   "cell_type": "code",
   "execution_count": null,
   "metadata": {},
   "outputs": [],
   "source": [
    "df_ctc_log = ctc_log_normalize(df_data)\n",
    "del df_data"
   ]
  },
  {
   "cell_type": "code",
   "execution_count": null,
   "metadata": {},
   "outputs": [],
   "source": [
    "for out_prefix in dict_run:\n",
    "    print(out_prefix)\n",
    "    annotations = df_metadata[dict_run[out_prefix]].values # get annotations\n",
    "    df_anova = calculate_anova_sporadically_expressed_genes(df_ctc_log, annotations, out_prefix)\n",
    "    (df_frac, df_mu, df_var, df_n) = calculate_per_anno_summary_stats(df_ctc_log, annotations, out_prefix, permute_annotations=False)\n",
    "    (df_frac_null, df_mu_null, df_var_null, df_n_null) = calculate_per_anno_summary_stats(df_ctc_log, annotations, out_prefix, permute_annotations=True)"
   ]
  },
  {
   "cell_type": "markdown",
   "metadata": {},
   "source": [
    "## Kim2019VMH_smartseq"
   ]
  },
  {
   "cell_type": "code",
   "execution_count": null,
   "metadata": {},
   "outputs": [],
   "source": [
    "### Variables\n",
    "dict_run = {os.path.join(output_dir, \"kimVMH2019_smartseq\"):\"cell_type\"} # {out_prefix:annotation_column}"
   ]
  },
  {
   "cell_type": "code",
   "execution_count": null,
   "metadata": {},
   "outputs": [],
   "source": [
    "[df_metadata, df_data] = utils_celldata_reader(input_dir, prefix=\"kimVMH2019_smartseq\")"
   ]
  },
  {
   "cell_type": "code",
   "execution_count": null,
   "metadata": {},
   "outputs": [],
   "source": [
    "df_data.head()"
   ]
  },
  {
   "cell_type": "code",
   "execution_count": null,
   "metadata": {},
   "outputs": [],
   "source": [
    "df_ctc_log = ctc_log_normalize(df_data)\n",
    "del df_data"
   ]
  },
  {
   "cell_type": "code",
   "execution_count": null,
   "metadata": {},
   "outputs": [],
   "source": [
    "for out_prefix in dict_run:\n",
    "    print(out_prefix)\n",
    "    annotations = df_metadata[dict_run[out_prefix]].values # get annotations\n",
    "    df_anova = calculate_anova_sporadically_expressed_genes(df_ctc_log, annotations, out_prefix)\n",
    "    (df_frac, df_mu, df_var, df_n) = calculate_per_anno_summary_stats(df_ctc_log, annotations, out_prefix, permute_annotations=False)\n",
    "    (df_frac_null, df_mu_null, df_var_null, df_n_null) = calculate_per_anno_summary_stats(df_ctc_log, annotations, out_prefix, permute_annotations=True)"
   ]
  },
  {
   "cell_type": "code",
   "execution_count": null,
   "metadata": {},
   "outputs": [],
   "source": [
    "## Kim2019VMH_10x"
   ]
  },
  {
   "cell_type": "code",
   "execution_count": null,
   "metadata": {},
   "outputs": [],
   "source": [
    "### Variables\n",
    "dict_run = {os.path.join(output_dir, \"kimVMH2019_10x\"):\"cell_type\"} # {out_prefix:annotation_column}"
   ]
  },
  {
   "cell_type": "code",
   "execution_count": null,
   "metadata": {},
   "outputs": [],
   "source": [
    "[df_metadata, df_data] = utils_celldata_reader(input_dir, prefix=\"kimVMH2019_10x\")"
   ]
  },
  {
   "cell_type": "code",
   "execution_count": null,
   "metadata": {},
   "outputs": [],
   "source": [
    "df_data.head()"
   ]
  },
  {
   "cell_type": "code",
   "execution_count": null,
   "metadata": {},
   "outputs": [],
   "source": [
    "df_ctc_log = ctc_log_normalize(df_data)\n",
    "del df_data"
   ]
  },
  {
   "cell_type": "code",
   "execution_count": null,
   "metadata": {},
   "outputs": [],
   "source": [
    "for out_prefix in dict_run:\n",
    "    print(out_prefix)\n",
    "    annotations = df_metadata[dict_run[out_prefix]].values # get annotations\n",
    "    df_anova = calculate_anova_sporadically_expressed_genes(df_ctc_log, annotations, out_prefix)\n",
    "    (df_frac, df_mu, df_var, df_n) = calculate_per_anno_summary_stats(df_ctc_log, annotations, out_prefix, permute_annotations=False)\n",
    "    (df_frac_null, df_mu_null, df_var_null, df_n_null) = calculate_per_anno_summary_stats(df_ctc_log, annotations, out_prefix, permute_annotations=True)"
   ]
  },
  {
   "cell_type": "markdown",
   "metadata": {},
   "source": [
    "# GTEx all \n",
    "## UPDATE: DO NOT RUN; RUN PRECALC + CELLECT IN SEPARATE SCRIPT TO AVOID ASSUMPTION OF MOUSE GENE IDS"
   ]
  },
  {
   "cell_type": "code",
   "execution_count": null,
   "metadata": {},
   "outputs": [],
   "source": [
    "### Variables\n",
    "dict_run = {os.path.join(output_dir, \"GTEx_v8_genecounts_SMTSD_all\"):\"SMTSD\"} # {out_prefix:annotation_column}"
   ]
  },
  {
   "cell_type": "code",
   "execution_count": null,
   "metadata": {},
   "outputs": [],
   "source": [
    "### Metadata\n",
    "file_metadata = os.path.join(input_dir, \"gtex.lognorm.metadata.csv\")\n",
    "df_metadata = pd.read_csv(file_metadata, index_col=False)\n",
    "### Data\n",
    "file_data = os.path.join(input_dir, \"gtex.lognorm.csv.gz\")\n",
    "df_data = pd.read_csv(file_data, index_col=False) # this takes 12-14 min for tabula_muris! (Pandas is slow!)\n",
    "print(\"Done reading UMI data\")\n",
    "df_data.set_index(\"gene\", inplace=True) # set index\n",
    "### [*IMPORTANT*] Check that all metadata cell_ids are identical to data columnnames. \n",
    "### We need to ensure this before we can use the metadata cell-types as annotations.\n"
   ]
  },
  {
   "cell_type": "code",
   "execution_count": null,
   "metadata": {},
   "outputs": [],
   "source": [
    "assert(np.all(df_data.columns.values == df_metadata[\"SAMPID\"].values))"
   ]
  },
  {
   "cell_type": "code",
   "execution_count": null,
   "metadata": {},
   "outputs": [],
   "source": [
    "df_data.head()"
   ]
  },
  {
   "cell_type": "code",
   "execution_count": null,
   "metadata": {},
   "outputs": [],
   "source": [
    "# data is already log normalised\n",
    "df_ctc_log = df_data\n",
    "del df_data"
   ]
  },
  {
   "cell_type": "code",
   "execution_count": 40,
   "metadata": {},
   "outputs": [
    {
     "name": "stdout",
     "output_type": "stream",
     "text": [
      "Writing files...\n"
     ]
    }
   ],
   "source": [
    "for out_prefix in dict_run:\n",
    "    print(out_prefix)\n",
    "    annotations = df_metadata[dict_run[out_prefix]].values # get annotations\n",
    "    df_anova = calculate_anova_sporadically_expressed_genes(df_ctc_log, annotations, out_prefix)\n",
    "    (df_frac, df_mu, df_var, df_n) = calculate_per_anno_summary_stats(df_ctc_log, annotations, out_prefix, permute_annotations=False)\n",
    "    (df_frac_null, df_mu_null, df_var_null, df_n_null) = calculate_per_anno_summary_stats(df_ctc_log, annotations, out_prefix, permute_annotations=True)"
   ]
  },
  {
   "cell_type": "code",
   "execution_count": null,
   "metadata": {},
   "outputs": [],
   "source": []
  }
 ],
 "metadata": {
  "kernelspec": {
   "display_name": "Python [conda env:CELLECT]",
   "language": "python",
   "name": "conda-env-CELLECT-py"
  },
  "language_info": {
   "codemirror_mode": {
    "name": "ipython",
    "version": 3
   },
   "file_extension": ".py",
   "mimetype": "text/x-python",
   "name": "python",
   "nbconvert_exporter": "python",
   "pygments_lexer": "ipython3",
   "version": "3.7.3"
  },
  "toc": {
   "colors": {
    "hover_highlight": "#DAA520",
    "navigate_num": "#000000",
    "navigate_text": "#333333",
    "running_highlight": "#FF0000",
    "selected_highlight": "#FFD700",
    "sidebar_border": "#EEEEEE",
    "wrapper_background": "#FFFFFF"
   },
   "moveMenuLeft": true,
   "nav_menu": {
    "height": "138px",
    "width": "252px"
   },
   "navigate_menu": true,
   "number_sections": true,
   "sideBar": true,
   "threshold": 4,
   "toc_cell": false,
   "toc_section_display": "block",
   "toc_window_display": false,
   "widenNotebook": false
  }
 },
 "nbformat": 4,
 "nbformat_minor": 4
}
