{
 "cells": [
  {
   "cell_type": "code",
   "execution_count": 1,
   "metadata": {
    "ExecuteTime": {
     "end_time": "2018-11-08T15:21:10.913520Z",
     "start_time": "2018-11-08T15:21:05.585373Z"
    },
    "collapsed": true,
    "scrolled": true
   },
   "outputs": [],
   "source": [
    "import loompy\n",
    "import numpy as np\n",
    "import pandas as pd\n",
    "\n",
    "from dfply import *\n",
    "\n",
    "### from ggplot import *\n",
    "# from plotnine import *\n",
    "\n",
    "### Make sure you use the Python 3 (py3_anaconda3_PT180510) environment\n",
    "# import sys\n",
    "# print(sys.executable) # /tools/anaconda/3-4.4.0/envs/py3_anaconda3_PT180510/bin/python\n",
    "# print(sys.version) # 3.6.4 |Anaconda, Inc.| (default, Jan 16 2018, 18:10:19) [GCC 7.2.0]"
   ]
  },
  {
   "cell_type": "code",
   "execution_count": 2,
   "metadata": {
    "ExecuteTime": {
     "end_time": "2018-11-08T15:21:15.727400Z",
     "start_time": "2018-11-08T15:21:15.595285Z"
    }
   },
   "outputs": [
    {
     "name": "stdout",
     "output_type": "stream",
     "text": [
      "explore_and_export_mousebrain_loom_agg.ipynb\r\n",
      "explore_mousebrain.R\r\n",
      "export_mousebrain_averaged_CPM_log_data.ipynb\r\n",
      "export_mousebrain_loom.ipynb\r\n",
      "import_mousebrain_to_seurat.R\r\n",
      "mousebrain-SEM_models.R\r\n",
      "mousebrain-SEM_models-skene_quick_and_dirty.R\r\n"
     ]
    }
   ],
   "source": [
    "!ls"
   ]
  },
  {
   "cell_type": "markdown",
   "metadata": {
    "ExecuteTime": {
     "end_time": "2018-05-10T18:55:15.289598Z",
     "start_time": "2018-05-10T18:55:15.287125Z"
    },
    "collapsed": true
   },
   "source": [
    "### Coonect to loompy"
   ]
  },
  {
   "cell_type": "code",
   "execution_count": 3,
   "metadata": {
    "ExecuteTime": {
     "end_time": "2018-11-08T15:21:18.128698Z",
     "start_time": "2018-11-08T15:21:18.100068Z"
    },
    "collapsed": true
   },
   "outputs": [],
   "source": [
    "file_loom = \"/data/pub-others/zeisel-biorxiv-2018/data/l5_all.loom\"\n",
    "ds = loompy.connect(file_loom)"
   ]
  },
  {
   "cell_type": "code",
   "execution_count": 4,
   "metadata": {
    "ExecuteTime": {
     "end_time": "2018-11-08T15:21:36.610753Z",
     "start_time": "2018-11-08T15:21:19.197741Z"
    }
   },
   "outputs": [
    {
     "data": {
      "text/html": [
       "<p>27998 rows, 160796 columns, 1 layer<br/>(showing up to 10x10)<br/>/data/pub-others/zeisel-biorxiv-2018/data/l5_all.loom<br/>name: <em>2018/01/26 22:15:53</em><br/>name: <em>[b'0.2.0']</em><br/>name: <em>[b'20180912T144731.452622Z']</em><br/><table><tr><td>&nbsp;</td><td>&nbsp;</td><td>&nbsp;</td><td>&nbsp;</td><td>&nbsp;</td><td>&nbsp;</td><td>&nbsp;</td><td><strong>Age</strong></td><td>p21, p23</td><td>p21, p23</td><td>p21, p23</td><td>p21, p23</td><td>p21, p23</td><td>p21, p23</td><td>p19, p21</td><td>p19, p21</td><td>p21, p23</td><td>p19, p21</td><td>...</td></tr><tr><td>&nbsp;</td><td>&nbsp;</td><td>&nbsp;</td><td>&nbsp;</td><td>&nbsp;</td><td>&nbsp;</td><td>&nbsp;</td><td><strong>AnalysisPool</strong></td><td>Enteric</td><td>Enteric</td><td>Enteric</td><td>Enteric</td><td>Enteric</td><td>Enteric</td><td>Enteric</td><td>Enteric</td><td>Enteric</td><td>Enteric</td><td>...</td></tr><tr><td>&nbsp;</td><td>&nbsp;</td><td>&nbsp;</td><td>&nbsp;</td><td>&nbsp;</td><td>&nbsp;</td><td>&nbsp;</td><td><strong>AnalysisProject</strong></td><td>Adolescent</td><td>Adolescent</td><td>Adolescent</td><td>Adolescent</td><td>Adolescent</td><td>Adolescent</td><td>Adolescent</td><td>Adolescent</td><td>Adolescent</td><td>Adolescent</td><td>...</td></tr><tr><td>&nbsp;</td><td>&nbsp;</td><td>&nbsp;</td><td>&nbsp;</td><td>&nbsp;</td><td>&nbsp;</td><td>&nbsp;</td><td><strong>Bucket</strong></td><td>/Users/sten/build_20171205/L4_Enteric_Neurons.loom</td><td>/Users/sten/build_20171205/L4_Enteric_Neurons.loom</td><td>/Users/sten/build_20171205/L4_Enteric_Neurons.loom</td><td>/Users/sten/build_20171205/L4_Enteric_Neurons.loom</td><td>/Users/sten/build_20171205/L4_Enteric_Neurons.loom</td><td>/Users/sten/build_20171205/L4_Enteric_Neurons.loom</td><td>/Users/sten/build_20171205/L4_Enteric_Neurons.loom</td><td>/Users/sten/build_20171205/L4_Enteric_Neurons.loom</td><td>/Users/sten/build_20171205/L4_Enteric_Neurons.loom</td><td>/Users/sten/build_20171205/L4_Enteric_Neurons.loom</td><td>...</td></tr><tr><td>&nbsp;</td><td>&nbsp;</td><td>&nbsp;</td><td>&nbsp;</td><td>&nbsp;</td><td>&nbsp;</td><td>&nbsp;</td><td><strong>CellConc</strong></td><td>1000</td><td>1000</td><td>1000</td><td>1000</td><td>1000</td><td>1000</td><td>1000</td><td>1000</td><td>1000</td><td>1000</td><td>...</td></tr><tr><td>&nbsp;</td><td>&nbsp;</td><td>&nbsp;</td><td>&nbsp;</td><td>&nbsp;</td><td>&nbsp;</td><td>&nbsp;</td><td><strong>CellID</strong></td><td>10X82_2_TCTCTCACCAGTTA-</td><td>10X82_2_TATTATCTACCAGA-</td><td>10X82_2_TATCCCAGATGGCA-</td><td>10X82_2_ATTACGTATGAATG-</td><td>10X82_2_ATACGTCAATAAGG-</td><td>10X82_2_TACAGTCTTCGGTC-</td><td>10X81_2_CGTAACATTCGACA-</td><td>10X81_3_TGATGAGATACACA-</td><td>10X82_2_GCCAGGTAGGACAC-</td><td>10X81_2_AGATCAGTCCGTAT-</td><td>...</td></tr><tr><td>&nbsp;</td><td>&nbsp;</td><td>&nbsp;</td><td>&nbsp;</td><td>&nbsp;</td><td>&nbsp;</td><td>&nbsp;</td><td><strong>Cell_Conc</strong></td><td>1000</td><td>1000</td><td>1000</td><td>1000</td><td>1000</td><td>1000</td><td>1000</td><td>1000</td><td>1000</td><td>1000</td><td>...</td></tr><tr><td>&nbsp;</td><td>&nbsp;</td><td>&nbsp;</td><td>&nbsp;</td><td>&nbsp;</td><td>&nbsp;</td><td>&nbsp;</td><td><strong>ChipID</strong></td><td>10X82</td><td>10X82</td><td>10X82</td><td>10X82</td><td>10X82</td><td>10X82</td><td>10X81</td><td>10X81</td><td>10X82</td><td>10X81</td><td>...</td></tr><tr><td>&nbsp;</td><td>&nbsp;</td><td>&nbsp;</td><td>&nbsp;</td><td>&nbsp;</td><td>&nbsp;</td><td>&nbsp;</td><td><strong>Class</strong></td><td>Neurons</td><td>Neurons</td><td>Neurons</td><td>Neurons</td><td>Neurons</td><td>Neurons</td><td>Neurons</td><td>Neurons</td><td>Neurons</td><td>Neurons</td><td>...</td></tr><tr><td>&nbsp;</td><td>&nbsp;</td><td>&nbsp;</td><td>&nbsp;</td><td>&nbsp;</td><td>&nbsp;</td><td>&nbsp;</td><td><strong>ClassProbability_Astrocyte</strong></td><td>0.0019066928357193203</td><td>0.0016280432367160702</td><td>0.001442371119771456</td><td>0.0014588527727608211</td><td>0.0013114769769024266</td><td>0.001401728372893371</td><td>0.0015184785192116678</td><td>0.0016035799690204849</td><td>0.0014427321058514797</td><td>0.0014199397313300632</td><td>...</td></tr><tr><td>&nbsp;</td><td>&nbsp;</td><td>&nbsp;</td><td>&nbsp;</td><td>&nbsp;</td><td>&nbsp;</td><td>&nbsp;</td><td><strong>ClassProbability_Astrocyte,Immune</strong></td><td>0.00048062321574226374</td><td>0.0004227793201626071</td><td>0.0003650463779465638</td><td>0.0003772070059891973</td><td>0.0003417394428646381</td><td>0.0003580446839276589</td><td>0.00040760794015975554</td><td>0.00043385576285106896</td><td>0.0003785113441852317</td><td>0.00038650050961498917</td><td>...</td></tr><tr><td>&nbsp;</td><td>&nbsp;</td><td>&nbsp;</td><td>&nbsp;</td><td>&nbsp;</td><td>&nbsp;</td><td>&nbsp;</td><td><strong>ClassProbability_Astrocyte,Neurons</strong></td><td>0.0025533596211774617</td><td>0.0023433597390213642</td><td>0.0021114112935140326</td><td>0.0021700394870497754</td><td>0.0020681886584825023</td><td>0.0020929032661028517</td><td>0.002376750903863037</td><td>0.0024868854826892712</td><td>0.0021762483715224044</td><td>0.002345536255842545</td><td>...</td></tr><tr><td>&nbsp;</td><td>&nbsp;</td><td>&nbsp;</td><td>&nbsp;</td><td>&nbsp;</td><td>&nbsp;</td><td>&nbsp;</td><td><strong>ClassProbability_Astrocyte,Oligos</strong></td><td>0.0006670936568702583</td><td>0.0005877984495726976</td><td>0.0005211472861012347</td><td>0.0005339644891281178</td><td>0.0004908467278871925</td><td>0.0005062413192018135</td><td>0.0005659122144918332</td><td>0.0005973698254594816</td><td>0.000530535089388164</td><td>0.000538903900860415</td><td>...</td></tr><tr><td>&nbsp;</td><td>&nbsp;</td><td>&nbsp;</td><td>&nbsp;</td><td>&nbsp;</td><td>&nbsp;</td><td>&nbsp;</td><td><strong>ClassProbability_Astrocyte,Vascular</strong></td><td>0.00032890901956911695</td><td>0.0002906662972148636</td><td>0.00025268148831791056</td><td>0.0002597507160844444</td><td>0.00023794409272694705</td><td>0.0002486386902480219</td><td>0.0002801259249998828</td><td>0.0002975176483252554</td><td>0.00026153497673650966</td><td>0.0002661326579808874</td><td>...</td></tr><tr><td>&nbsp;</td><td>&nbsp;</td><td>&nbsp;</td><td>&nbsp;</td><td>&nbsp;</td><td>&nbsp;</td><td>&nbsp;</td><td><strong>ClassProbability_Bergmann-glia</strong></td><td>0.0006021304061321051</td><td>0.0005278648514793478</td><td>0.0004678213347881837</td><td>0.00047719474519461805</td><td>0.0004406837947840928</td><td>0.00046078317754746266</td><td>0.0005064487585028127</td><td>0.0005368181151650369</td><td>0.00047662006611402113</td><td>0.0004817954779698832</td><td>...</td></tr><tr><td>&nbsp;</td><td>&nbsp;</td><td>&nbsp;</td><td>&nbsp;</td><td>&nbsp;</td><td>&nbsp;</td><td>&nbsp;</td><td><strong>ClassProbability_Blood</strong></td><td>0.0028788790687086685</td><td>0.0025276473701734887</td><td>0.00221540763927398</td><td>0.002249612262305765</td><td>0.002011442694227042</td><td>0.0021633251871957205</td><td>0.00237481062651619</td><td>0.0024802405666547794</td><td>0.0022545500552425893</td><td>0.0022348517671300005</td><td>...</td></tr><tr><td>&nbsp;</td><td>&nbsp;</td><td>&nbsp;</td><td>&nbsp;</td><td>&nbsp;</td><td>&nbsp;</td><td>&nbsp;</td><td><strong>ClassProbability_Blood,Vascular</strong></td><td>0.0006191506117083463</td><td>0.0005432699373263684</td><td>0.0004715683880311031</td><td>0.0004837026812500848</td><td>0.00044107362712457406</td><td>0.00046171952307332893</td><td>0.0005215727029937826</td><td>0.0005541879512596946</td><td>0.0004870991929730752</td><td>0.0004943284246369773</td><td>...</td></tr><tr><td>&nbsp;</td><td>&nbsp;</td><td>&nbsp;</td><td>&nbsp;</td><td>&nbsp;</td><td>&nbsp;</td><td>&nbsp;</td><td><strong>ClassProbability_Enteric-glia</strong></td><td>0.0018833626694920674</td><td>0.001555933690571393</td><td>0.0013386089563396262</td><td>0.0013702341092527693</td><td>0.0012169049925699633</td><td>0.0012943680233867612</td><td>0.0014253060724085265</td><td>0.001529759264519993</td><td>0.0013451520244624285</td><td>0.0013204379302521757</td><td>...</td></tr><tr><td>&nbsp;</td><td>&nbsp;</td><td>&nbsp;</td><td>&nbsp;</td><td>&nbsp;</td><td>&nbsp;</td><td>&nbsp;</td><td><strong>ClassProbability_Enteric-glia,Cycling</strong></td><td>0.00047371208486702963</td><td>0.0004116661928577629</td><td>0.0003498495465004705</td><td>0.00036327737285287234</td><td>0.00032524500659529494</td><td>0.000341831387994125</td><td>0.0003970912862876594</td><td>0.000425305378127812</td><td>0.00036481084043019687</td><td>0.0003746522731756592</td><td>...</td></tr><tr><td>&nbsp;</td><td>&nbsp;</td><td>&nbsp;</td><td>&nbsp;</td><td>&nbsp;</td><td>&nbsp;</td><td>&nbsp;</td><td><strong>ClassProbability_Ependymal</strong></td><td>0.002207593331001832</td><td>0.0017137425761195512</td><td>0.001448426749887809</td><td>0.001489316002423615</td><td>0.001297622227911684</td><td>0.001410177627135135</td><td>0.0015263668049394822</td><td>0.0016482237845108297</td><td>0.0014415617032493228</td><td>0.0013892018482000903</td><td>...</td></tr><tr><td>&nbsp;</td><td>&nbsp;</td><td>&nbsp;</td><td>&nbsp;</td><td>&nbsp;</td><td>&nbsp;</td><td>&nbsp;</td><td><strong>ClassProbability_Ex-Neurons</strong></td><td>0.0010045876405575405</td><td>0.000934480249678178</td><td>0.0008501175711066832</td><td>0.0008660609326529496</td><td>0.0007870884251839895</td><td>0.0008529612141203163</td><td>0.0008961281623621632</td><td>0.0009354131474982341</td><td>0.000858550530183164</td><td>0.0008528275142150483</td><td>...</td></tr><tr><td>&nbsp;</td><td>&nbsp;</td><td>&nbsp;</td><td>&nbsp;</td><td>&nbsp;</td><td>&nbsp;</td><td>&nbsp;</td><td><strong>ClassProbability_Ex-Vascular</strong></td><td>0.0001459938990927071</td><td>0.00012996447114368918</td><td>0.0001125315289540204</td><td>0.00011635881251914295</td><td>0.00010698314201590162</td><td>0.00011149998273658719</td><td>0.0001256730913305302</td><td>0.0001336946829648558</td><td>0.00011715623615897768</td><td>0.00011960279079757614</td><td>...</td></tr><tr><td>&nbsp;</td><td>&nbsp;</td><td>&nbsp;</td><td>&nbsp;</td><td>&nbsp;</td><td>&nbsp;</td><td>&nbsp;</td><td><strong>ClassProbability_Immune</strong></td><td>0.00350454518599244</td><td>0.0023966934094545376</td><td>0.0018945780964320729</td><td>0.001975812539235326</td><td>0.0016064712709044312</td><td>0.001810457046817763</td><td>0.0020512641976741836</td><td>0.002279009112190006</td><td>0.0018806947914581894</td><td>0.001811732236276707</td><td>...</td></tr><tr><td>&nbsp;</td><td>&nbsp;</td><td>&nbsp;</td><td>&nbsp;</td><td>&nbsp;</td><td>&nbsp;</td><td>&nbsp;</td><td><strong>ClassProbability_Immune,Neurons</strong></td><td>0.000662257665583963</td><td>0.0005969179558071455</td><td>0.0005281250377622326</td><td>0.0005417530371840914</td><td>0.0005011195224285445</td><td>0.0005259130316756918</td><td>0.0005736832092977721</td><td>0.0006013171845747656</td><td>0.0005454504666898827</td><td>0.000549063733293101</td><td>...</td></tr><tr><td>&nbsp;</td><td>&nbsp;</td><td>&nbsp;</td><td>&nbsp;</td><td>&nbsp;</td><td>&nbsp;</td><td>&nbsp;</td><td><strong>ClassProbability_Immune,Oligos</strong></td><td>0.0005286917231799758</td><td>0.0004692380898272252</td><td>0.00040958797214321884</td><td>0.000421880764328479</td><td>0.0003877967236936938</td><td>0.0004032499492749987</td><td>0.00045158033934496585</td><td>0.0004788000472432216</td><td>0.0004234154917911925</td><td>0.0004297297779643804</td><td>...</td></tr><tr><td>&nbsp;</td><td>&nbsp;</td><td>&nbsp;</td><td>&nbsp;</td><td>&nbsp;</td><td>&nbsp;</td><td>&nbsp;</td><td><strong>ClassProbability_Neurons</strong></td><td>0.9608778033827706</td><td>0.9670839756118221</td><td>0.9711858571438227</td><td>0.9704583367058057</td><td>0.9733968765565986</td><td>0.971787620395414</td><td>0.9693982218875178</td><td>0.9675929256897675</td><td>0.9709620487633494</td><td>0.9713714761825613</td><td>...</td></tr><tr><td>&nbsp;</td><td>&nbsp;</td><td>&nbsp;</td><td>&nbsp;</td><td>&nbsp;</td><td>&nbsp;</td><td>&nbsp;</td><td><strong>ClassProbability_Neurons,Cycling</strong></td><td>0.0011134257010490987</td><td>0.0009976737748063492</td><td>0.000894143447099845</td><td>0.000909070542749431</td><td>0.000853522766554483</td><td>0.0008616755586599845</td><td>0.0009780047953115165</td><td>0.0010234886495545574</td><td>0.0009149361693981203</td><td>0.0009375396198144895</td><td>...</td></tr><tr><td>&nbsp;</td><td>&nbsp;</td><td>&nbsp;</td><td>&nbsp;</td><td>&nbsp;</td><td>&nbsp;</td><td>&nbsp;</td><td><strong>ClassProbability_Neurons,Oligos</strong></td><td>0.004569397477944349</td><td>0.00432233409916403</td><td>0.003966201226114598</td><td>0.0041383771754911714</td><td>0.003954267031061573</td><td>0.0040438057309485015</td><td>0.0041264048499484035</td><td>0.004330825315328404</td><td>0.004071890520905673</td><td>0.0039786237636289705</td><td>...</td></tr><tr><td>&nbsp;</td><td>&nbsp;</td><td>&nbsp;</td><td>&nbsp;</td><td>&nbsp;</td><td>&nbsp;</td><td>&nbsp;</td><td><strong>ClassProbability_Neurons,Satellite-glia</strong></td><td>0.00011917354467899535</td><td>0.00010657583976920006</td><td>9.201380323388765e-05</td><td>9.551082255737832e-05</td><td>8.795992650451692e-05</td><td>9.0948283685343e-05</td><td>0.00010422325669351476</td><td>0.00011150437298716692</td><td>9.622525198705592e-05</td><td>9.993050431941479e-05</td><td>...</td></tr><tr><td>&nbsp;</td><td>&nbsp;</td><td>&nbsp;</td><td>&nbsp;</td><td>&nbsp;</td><td>&nbsp;</td><td>&nbsp;</td><td><strong>ClassProbability_Neurons,Vascular</strong></td><td>0.00011276573122429777</td><td>0.00010140124966108102</td><td>8.83794498169256e-05</td><td>9.13128084981721e-05</td><td>8.462548574785925e-05</td><td>8.722530143227708e-05</td><td>9.913539984068001e-05</td><td>0.0001056946167785987</td><td>9.220445356816403e-05</td><td>9.517306109228991e-05</td><td>...</td></tr><tr><td>&nbsp;</td><td>&nbsp;</td><td>&nbsp;</td><td>&nbsp;</td><td>&nbsp;</td><td>&nbsp;</td><td>&nbsp;</td><td><strong>ClassProbability_OEC</strong></td><td>0.0001273784837035599</td><td>0.00011422944188442962</td><td>9.826260067867309e-05</td><td>0.0001016637030129996</td><td>9.501059598103876e-05</td><td>9.867209143435547e-05</td><td>0.00011143396360607158</td><td>0.00011866028286648155</td><td>0.00010318921970184461</td><td>0.00010663644541525065</td><td>...</td></tr><tr><td>&nbsp;</td><td>&nbsp;</td><td>&nbsp;</td><td>&nbsp;</td><td>&nbsp;</td><td>&nbsp;</td><td>&nbsp;</td><td><strong>ClassProbability_Oligos</strong></td><td>0.004646110245557772</td><td>0.004021176792157159</td><td>0.003629215089204772</td><td>0.0036620596076758524</td><td>0.003241417555106437</td><td>0.003510086719711667</td><td>0.003577694603900779</td><td>0.0036590750099886656</td><td>0.0035075735320976202</td><td>0.003262772831235093</td><td>...</td></tr><tr><td>&nbsp;</td><td>&nbsp;</td><td>&nbsp;</td><td>&nbsp;</td><td>&nbsp;</td><td>&nbsp;</td><td>&nbsp;</td><td><strong>ClassProbability_Oligos,Cycling</strong></td><td>0.0008492396681580167</td><td>0.0007789840343775811</td><td>0.0006912113968388298</td><td>0.0006999272936358772</td><td>0.0006582995831538452</td><td>0.000692705544945497</td><td>0.0007430570450894784</td><td>0.0007695432925836191</td><td>0.0007093656920054993</td><td>0.0007081109119086842</td><td>...</td></tr><tr><td>&nbsp;</td><td>&nbsp;</td><td>&nbsp;</td><td>&nbsp;</td><td>&nbsp;</td><td>&nbsp;</td><td>&nbsp;</td><td><strong>ClassProbability_Oligos,Vascular</strong></td><td>0.00044734236326048694</td><td>0.0003959615154809052</td><td>0.0003458461534185453</td><td>0.00035599865104449767</td><td>0.0003263037684400728</td><td>0.0003396006067486628</td><td>0.00038034640807156774</td><td>0.00040426687366851955</td><td>0.0003565833628555505</td><td>0.0003611263166656032</td><td>...</td></tr><tr><td>&nbsp;</td><td>&nbsp;</td><td>&nbsp;</td><td>&nbsp;</td><td>&nbsp;</td><td>&nbsp;</td><td>&nbsp;</td><td><strong>ClassProbability_Satellite-glia</strong></td><td>0.0003198394263748218</td><td>0.0002823588536054894</td><td>0.00026210771663682766</td><td>0.0002656090391901621</td><td>0.0002469711101888922</td><td>0.00025032057292416997</td><td>0.0002786549662178134</td><td>0.00028554749282341997</td><td>0.00026516051976470286</td><td>0.00026108750375122543</td><td>...</td></tr><tr><td>&nbsp;</td><td>&nbsp;</td><td>&nbsp;</td><td>&nbsp;</td><td>&nbsp;</td><td>&nbsp;</td><td>&nbsp;</td><td><strong>ClassProbability_Satellite-glia,Cycling</strong></td><td>0.00031143287757219053</td><td>0.0002722614721149537</td><td>0.0002320911708352696</td><td>0.0002409822937349214</td><td>0.00021680934266293675</td><td>0.0002275317176734654</td><td>0.00026284531002142666</td><td>0.00028134880754832563</td><td>0.000242000218188224</td><td>0.0002484659501323428</td><td>...</td></tr><tr><td>&nbsp;</td><td>&nbsp;</td><td>&nbsp;</td><td>&nbsp;</td><td>&nbsp;</td><td>&nbsp;</td><td>&nbsp;</td><td><strong>ClassProbability_Satellite-glia,Schwann</strong></td><td>0.000204879407444955</td><td>0.00017951044376732936</td><td>0.0001525469966284366</td><td>0.00015871598464544458</td><td>0.00014323729203419516</td><td>0.00015011282840564333</td><td>0.00017336895824917947</td><td>0.00018589579625749553</td><td>0.0001594853656834523</td><td>0.00016404846237627957</td><td>...</td></tr><tr><td>&nbsp;</td><td>&nbsp;</td><td>&nbsp;</td><td>&nbsp;</td><td>&nbsp;</td><td>&nbsp;</td><td>&nbsp;</td><td><strong>ClassProbability_Schwann</strong></td><td>0.0003018007082601168</td><td>0.000263412918037679</td><td>0.00022391286052999182</td><td>0.00023269471204325523</td><td>0.0002090192477423631</td><td>0.00021944489947869672</td><td>0.0002544092131019499</td><td>0.00027263737233490195</td><td>0.00023376437151241832</td><td>0.00024037985916786466</td><td>...</td></tr><tr><td>&nbsp;</td><td>&nbsp;</td><td>&nbsp;</td><td>&nbsp;</td><td>&nbsp;</td><td>&nbsp;</td><td>&nbsp;</td><td><strong>ClassProbability_Ttr</strong></td><td>0.002193334639829723</td><td>0.0017568948288843357</td><td>0.0014951906324907269</td><td>0.0015356311462925445</td><td>0.0013264012039518815</td><td>0.0014388724903934204</td><td>0.0015905669238582378</td><td>0.0017104055623614156</td><td>0.001495124947323497</td><td>0.00145068131476841</td><td>...</td></tr><tr><td>&nbsp;</td><td>&nbsp;</td><td>&nbsp;</td><td>&nbsp;</td><td>&nbsp;</td><td>&nbsp;</td><td>&nbsp;</td><td><strong>ClassProbability_Vascular</strong></td><td>0.003358493706775345</td><td>0.0022431832873399432</td><td>0.0018637399257799545</td><td>0.001899091783409728</td><td>0.0015866512079684655</td><td>0.0017575347748135983</td><td>0.0019228316641868618</td><td>0.0021262029420957874</td><td>0.0018058243252222716</td><td>0.0016987104436226007</td><td>...</td></tr><tr><td>&nbsp;</td><td>&nbsp;</td><td>&nbsp;</td><td>&nbsp;</td><td>&nbsp;</td><td>&nbsp;</td><td>&nbsp;</td><td><strong>ClusterName</strong></td><td>ENT9</td><td>ENT9</td><td>ENT9</td><td>ENT9</td><td>ENT9</td><td>ENT9</td><td>ENT9</td><td>ENT9</td><td>ENT9</td><td>ENT9</td><td>...</td></tr><tr><td>&nbsp;</td><td>&nbsp;</td><td>&nbsp;</td><td>&nbsp;</td><td>&nbsp;</td><td>&nbsp;</td><td>&nbsp;</td><td><strong>Clusters</strong></td><td>0</td><td>0</td><td>0</td><td>0</td><td>0</td><td>0</td><td>0</td><td>0</td><td>0</td><td>0</td><td>...</td></tr><tr><td>&nbsp;</td><td>&nbsp;</td><td>&nbsp;</td><td>&nbsp;</td><td>&nbsp;</td><td>&nbsp;</td><td>&nbsp;</td><td><strong>Comment</strong></td><td>Marklund cluster #1</td><td>Marklund cluster #1</td><td>Marklund cluster #1</td><td>Marklund cluster #1</td><td>Marklund cluster #1</td><td>Marklund cluster #1</td><td>Marklund cluster #1</td><td>Marklund cluster #1</td><td>Marklund cluster #1</td><td>Marklund cluster #1</td><td>...</td></tr><tr><td>&nbsp;</td><td>&nbsp;</td><td>&nbsp;</td><td>&nbsp;</td><td>&nbsp;</td><td>&nbsp;</td><td>&nbsp;</td><td><strong>Comments</strong></td><td>Wnt1 FACS (CMB), quite healthy suspension. Emulsion fine.</td><td>Wnt1 FACS (CMB), quite healthy suspension. Emulsion fine.</td><td>Wnt1 FACS (CMB), quite healthy suspension. Emulsion fine.</td><td>Wnt1 FACS (CMB), quite healthy suspension. Emulsion fine.</td><td>Wnt1 FACS (CMB), quite healthy suspension. Emulsion fine.</td><td>Wnt1 FACS (CMB), quite healthy suspension. Emulsion fine.</td><td>Wnt1 FACS (CMB), strong fluorescence and quite healthy suspension. Emulsions fine.</td><td>Wnt1 FACS (CMB), strong fluorescence and quite healthy suspension. Emulsions fine.</td><td>Wnt1 FACS (CMB), quite healthy suspension. Emulsion fine.</td><td>Wnt1 FACS (CMB), strong fluorescence and quite healthy suspension. Emulsions fine.</td><td>...</td></tr><tr><td>&nbsp;</td><td>&nbsp;</td><td>&nbsp;</td><td>&nbsp;</td><td>&nbsp;</td><td>&nbsp;</td><td>&nbsp;</td><td><strong>DateCaptured</strong></td><td>2017-04-06 00:00:00</td><td>2017-04-06 00:00:00</td><td>2017-04-06 00:00:00</td><td>2017-04-06 00:00:00</td><td>2017-04-06 00:00:00</td><td>2017-04-06 00:00:00</td><td>2017-04-04 00:00:00</td><td>2017-04-04 00:00:00</td><td>2017-04-06 00:00:00</td><td>2017-04-04 00:00:00</td><td>...</td></tr><tr><td>&nbsp;</td><td>&nbsp;</td><td>&nbsp;</td><td>&nbsp;</td><td>&nbsp;</td><td>&nbsp;</td><td>&nbsp;</td><td><strong>Date_Captured</strong></td><td>2017-04-06</td><td>2017-04-06</td><td>2017-04-06</td><td>2017-04-06</td><td>2017-04-06</td><td>2017-04-06</td><td>2017-04-04</td><td>2017-04-04</td><td>2017-04-06</td><td>2017-04-04</td><td>...</td></tr><tr><td>&nbsp;</td><td>&nbsp;</td><td>&nbsp;</td><td>&nbsp;</td><td>&nbsp;</td><td>&nbsp;</td><td>&nbsp;</td><td><strong>Description</strong></td><td>Cholinergic enteric neurons</td><td>Cholinergic enteric neurons</td><td>Cholinergic enteric neurons</td><td>Cholinergic enteric neurons</td><td>Cholinergic enteric neurons</td><td>Cholinergic enteric neurons</td><td>Cholinergic enteric neurons</td><td>Cholinergic enteric neurons</td><td>Cholinergic enteric neurons</td><td>Cholinergic enteric neurons</td><td>...</td></tr><tr><td>&nbsp;</td><td>&nbsp;</td><td>&nbsp;</td><td>&nbsp;</td><td>&nbsp;</td><td>&nbsp;</td><td>&nbsp;</td><td><strong>Developmental_compartment</strong></td><td>Neural crest</td><td>Neural crest</td><td>Neural crest</td><td>Neural crest</td><td>Neural crest</td><td>Neural crest</td><td>Neural crest</td><td>Neural crest</td><td>Neural crest</td><td>Neural crest</td><td>...</td></tr><tr><td>&nbsp;</td><td>&nbsp;</td><td>&nbsp;</td><td>&nbsp;</td><td>&nbsp;</td><td>&nbsp;</td><td>&nbsp;</td><td><strong>DonorID</strong></td><td>nan</td><td>nan</td><td>nan</td><td>nan</td><td>nan</td><td>nan</td><td>nan</td><td>nan</td><td>nan</td><td>nan</td><td>...</td></tr><tr><td>&nbsp;</td><td>&nbsp;</td><td>&nbsp;</td><td>&nbsp;</td><td>&nbsp;</td><td>&nbsp;</td><td>&nbsp;</td><td><strong>Estimated Number of Cells</strong></td><td>4,374</td><td>4,374</td><td>4,374</td><td>4,374</td><td>4,374</td><td>4,374</td><td>4,237</td><td>4,508</td><td>4,374</td><td>4,237</td><td>...</td></tr><tr><td>&nbsp;</td><td>&nbsp;</td><td>&nbsp;</td><td>&nbsp;</td><td>&nbsp;</td><td>&nbsp;</td><td>&nbsp;</td><td><strong>Flowcell</strong></td><td>HJJTVBBXX</td><td>HJJTVBBXX</td><td>HJJTVBBXX</td><td>HJJTVBBXX</td><td>HJJTVBBXX</td><td>HJJTVBBXX</td><td>HJJTVBBXX</td><td>HJJTVBBXX</td><td>HJJTVBBXX</td><td>HJJTVBBXX</td><td>...</td></tr><tr><td>&nbsp;</td><td>&nbsp;</td><td>&nbsp;</td><td>&nbsp;</td><td>&nbsp;</td><td>&nbsp;</td><td>&nbsp;</td><td><strong>Fraction Reads in Cells</strong></td><td>67.9%</td><td>67.9%</td><td>67.9%</td><td>67.9%</td><td>67.9%</td><td>67.9%</td><td>86.4%</td><td>86.3%</td><td>67.9%</td><td>86.4%</td><td>...</td></tr><tr><td>&nbsp;</td><td>&nbsp;</td><td>&nbsp;</td><td>&nbsp;</td><td>&nbsp;</td><td>&nbsp;</td><td>&nbsp;</td><td><strong>Label</strong></td><td></td><td></td><td></td><td></td><td></td><td></td><td></td><td></td><td></td><td></td><td>...</td></tr><tr><td>&nbsp;</td><td>&nbsp;</td><td>&nbsp;</td><td>&nbsp;</td><td>&nbsp;</td><td>&nbsp;</td><td>&nbsp;</td><td><strong>LeafOrder</strong></td><td>190</td><td>190</td><td>190</td><td>190</td><td>190</td><td>190</td><td>190</td><td>190</td><td>190</td><td>190</td><td>...</td></tr><tr><td>&nbsp;</td><td>&nbsp;</td><td>&nbsp;</td><td>&nbsp;</td><td>&nbsp;</td><td>&nbsp;</td><td>&nbsp;</td><td><strong>Location_based_on</strong></td><td>Vip,Cck</td><td>Vip,Cck</td><td>Vip,Cck</td><td>Vip,Cck</td><td>Vip,Cck</td><td>Vip,Cck</td><td>Vip,Cck</td><td>Vip,Cck</td><td>Vip,Cck</td><td>Vip,Cck</td><td>...</td></tr><tr><td>&nbsp;</td><td>&nbsp;</td><td>&nbsp;</td><td>&nbsp;</td><td>&nbsp;</td><td>&nbsp;</td><td>&nbsp;</td><td><strong>Mean Reads per Cell</strong></td><td>42,629</td><td>42,629</td><td>42,629</td><td>42,629</td><td>42,629</td><td>42,629</td><td>38,601</td><td>52,152</td><td>42,629</td><td>38,601</td><td>...</td></tr><tr><td>&nbsp;</td><td>&nbsp;</td><td>&nbsp;</td><td>&nbsp;</td><td>&nbsp;</td><td>&nbsp;</td><td>&nbsp;</td><td><strong>Median Genes per Cell</strong></td><td>1,474</td><td>1,474</td><td>1,474</td><td>1,474</td><td>1,474</td><td>1,474</td><td>1,464</td><td>1,441</td><td>1,474</td><td>1,464</td><td>...</td></tr><tr><td>&nbsp;</td><td>&nbsp;</td><td>&nbsp;</td><td>&nbsp;</td><td>&nbsp;</td><td>&nbsp;</td><td>&nbsp;</td><td><strong>Median UMI Counts per Cell</strong></td><td>2,967</td><td>2,967</td><td>2,967</td><td>2,967</td><td>2,967</td><td>2,967</td><td>2,943</td><td>2,850</td><td>2,967</td><td>2,943</td><td>...</td></tr><tr><td>&nbsp;</td><td>&nbsp;</td><td>&nbsp;</td><td>&nbsp;</td><td>&nbsp;</td><td>&nbsp;</td><td>&nbsp;</td><td><strong>MitoRiboRatio</strong></td><td>0.7716325</td><td>0.57526696</td><td>0.4877193</td><td>0.53085184</td><td>0.69559526</td><td>0.71948695</td><td>0.82857144</td><td>5.344262</td><td>0.5333985</td><td>0.4720859</td><td>...</td></tr><tr><td>&nbsp;</td><td>&nbsp;</td><td>&nbsp;</td><td>&nbsp;</td><td>&nbsp;</td><td>&nbsp;</td><td>&nbsp;</td><td><strong>NGI_PlateWell</strong></td><td></td><td></td><td></td><td></td><td></td><td></td><td></td><td></td><td></td><td></td><td>...</td></tr><tr><td>&nbsp;</td><td>&nbsp;</td><td>&nbsp;</td><td>&nbsp;</td><td>&nbsp;</td><td>&nbsp;</td><td>&nbsp;</td><td><strong>Neurotransmitter</strong></td><td>Acetylcholine</td><td>Acetylcholine</td><td>Acetylcholine</td><td>Acetylcholine</td><td>Acetylcholine</td><td>Acetylcholine</td><td>Acetylcholine</td><td>Acetylcholine</td><td>Acetylcholine</td><td>Acetylcholine</td><td>...</td></tr><tr><td>&nbsp;</td><td>&nbsp;</td><td>&nbsp;</td><td>&nbsp;</td><td>&nbsp;</td><td>&nbsp;</td><td>&nbsp;</td><td><strong>NumPooledAnimals</strong></td><td>2.0</td><td>2.0</td><td>2.0</td><td>2.0</td><td>2.0</td><td>2.0</td><td>2.0</td><td>2.0</td><td>2.0</td><td>2.0</td><td>...</td></tr><tr><td>&nbsp;</td><td>&nbsp;</td><td>&nbsp;</td><td>&nbsp;</td><td>&nbsp;</td><td>&nbsp;</td><td>&nbsp;</td><td><strong>Num_Pooled_Animals</strong></td><td>2</td><td>2</td><td>2</td><td>2</td><td>2</td><td>2</td><td>2</td><td>2</td><td>2</td><td>2</td><td>...</td></tr><tr><td>&nbsp;</td><td>&nbsp;</td><td>&nbsp;</td><td>&nbsp;</td><td>&nbsp;</td><td>&nbsp;</td><td>&nbsp;</td><td><strong>Number of Reads</strong></td><td>186,462,928</td><td>186,462,928</td><td>186,462,928</td><td>186,462,928</td><td>186,462,928</td><td>186,462,928</td><td>163,555,774</td><td>235,102,264</td><td>186,462,928</td><td>163,555,774</td><td>...</td></tr><tr><td>&nbsp;</td><td>&nbsp;</td><td>&nbsp;</td><td>&nbsp;</td><td>&nbsp;</td><td>&nbsp;</td><td>&nbsp;</td><td><strong>OriginalClusters</strong></td><td>8</td><td>8</td><td>8</td><td>8</td><td>8</td><td>8</td><td>8</td><td>8</td><td>8</td><td>8</td><td>...</td></tr><tr><td>&nbsp;</td><td>&nbsp;</td><td>&nbsp;</td><td>&nbsp;</td><td>&nbsp;</td><td>&nbsp;</td><td>&nbsp;</td><td><strong>Outliers</strong></td><td>0</td><td>0</td><td>0</td><td>0</td><td>0</td><td>0</td><td>0</td><td>0</td><td>0</td><td>0</td><td>...</td></tr><tr><td>&nbsp;</td><td>&nbsp;</td><td>&nbsp;</td><td>&nbsp;</td><td>&nbsp;</td><td>&nbsp;</td><td>&nbsp;</td><td><strong>PCRCycles</strong></td><td>13.0</td><td>13.0</td><td>13.0</td><td>13.0</td><td>13.0</td><td>13.0</td><td>13.0</td><td>13.0</td><td>13.0</td><td>13.0</td><td>...</td></tr><tr><td>&nbsp;</td><td>&nbsp;</td><td>&nbsp;</td><td>&nbsp;</td><td>&nbsp;</td><td>&nbsp;</td><td>&nbsp;</td><td><strong>PCR_Cycles</strong></td><td>13</td><td>13</td><td>13</td><td>13</td><td>13</td><td>13</td><td>13</td><td>13</td><td>13</td><td>13</td><td>...</td></tr><tr><td>&nbsp;</td><td>&nbsp;</td><td>&nbsp;</td><td>&nbsp;</td><td>&nbsp;</td><td>&nbsp;</td><td>&nbsp;</td><td><strong>PassedQC</strong></td><td>OK</td><td>OK</td><td>OK</td><td>OK</td><td>OK</td><td>OK</td><td>OK</td><td>OK</td><td>OK</td><td>OK</td><td>...</td></tr><tr><td>&nbsp;</td><td>&nbsp;</td><td>&nbsp;</td><td>&nbsp;</td><td>&nbsp;</td><td>&nbsp;</td><td>&nbsp;</td><td><strong>PlugDate</strong></td><td>NaT</td><td>NaT</td><td>NaT</td><td>NaT</td><td>NaT</td><td>NaT</td><td>NaT</td><td>NaT</td><td>NaT</td><td>NaT</td><td>...</td></tr><tr><td>&nbsp;</td><td>&nbsp;</td><td>&nbsp;</td><td>&nbsp;</td><td>&nbsp;</td><td>&nbsp;</td><td>&nbsp;</td><td><strong>Plug_Date</strong></td><td></td><td></td><td></td><td></td><td></td><td></td><td></td><td></td><td></td><td></td><td>...</td></tr><tr><td>&nbsp;</td><td>&nbsp;</td><td>&nbsp;</td><td>&nbsp;</td><td>&nbsp;</td><td>&nbsp;</td><td>&nbsp;</td><td><strong>Probable_location</strong></td><td>Myenteric plexus of small intestine</td><td>Myenteric plexus of small intestine</td><td>Myenteric plexus of small intestine</td><td>Myenteric plexus of small intestine</td><td>Myenteric plexus of small intestine</td><td>Myenteric plexus of small intestine</td><td>Myenteric plexus of small intestine</td><td>Myenteric plexus of small intestine</td><td>Myenteric plexus of small intestine</td><td>Myenteric plexus of small intestine</td><td>...</td></tr><tr><td>&nbsp;</td><td>&nbsp;</td><td>&nbsp;</td><td>&nbsp;</td><td>&nbsp;</td><td>&nbsp;</td><td>&nbsp;</td><td><strong>Project</strong></td><td>Adolescent</td><td>Adolescent</td><td>Adolescent</td><td>Adolescent</td><td>Adolescent</td><td>Adolescent</td><td>Adolescent</td><td>Adolescent</td><td>Adolescent</td><td>Adolescent</td><td>...</td></tr><tr><td>&nbsp;</td><td>&nbsp;</td><td>&nbsp;</td><td>&nbsp;</td><td>&nbsp;</td><td>&nbsp;</td><td>&nbsp;</td><td><strong>Q30 Bases in Barcode</strong></td><td>98.5%</td><td>98.5%</td><td>98.5%</td><td>98.5%</td><td>98.5%</td><td>98.5%</td><td>98.5%</td><td>98.5%</td><td>98.5%</td><td>98.5%</td><td>...</td></tr><tr><td>&nbsp;</td><td>&nbsp;</td><td>&nbsp;</td><td>&nbsp;</td><td>&nbsp;</td><td>&nbsp;</td><td>&nbsp;</td><td><strong>Q30 Bases in RNA Read</strong></td><td>86.6%</td><td>86.6%</td><td>86.6%</td><td>86.6%</td><td>86.6%</td><td>86.6%</td><td>86.3%</td><td>86.1%</td><td>86.6%</td><td>86.3%</td><td>...</td></tr><tr><td>&nbsp;</td><td>&nbsp;</td><td>&nbsp;</td><td>&nbsp;</td><td>&nbsp;</td><td>&nbsp;</td><td>&nbsp;</td><td><strong>Q30 Bases in Sample Index</strong></td><td>97.1%</td><td>97.1%</td><td>97.1%</td><td>97.1%</td><td>97.1%</td><td>97.1%</td><td>96.9%</td><td>96.4%</td><td>97.1%</td><td>96.9%</td><td>...</td></tr><tr><td>&nbsp;</td><td>&nbsp;</td><td>&nbsp;</td><td>&nbsp;</td><td>&nbsp;</td><td>&nbsp;</td><td>&nbsp;</td><td><strong>Q30 Bases in UMI</strong></td><td>98.5%</td><td>98.5%</td><td>98.5%</td><td>98.5%</td><td>98.5%</td><td>98.5%</td><td>98.5%</td><td>98.5%</td><td>98.5%</td><td>98.5%</td><td>...</td></tr><tr><td>&nbsp;</td><td>&nbsp;</td><td>&nbsp;</td><td>&nbsp;</td><td>&nbsp;</td><td>&nbsp;</td><td>&nbsp;</td><td><strong>Reads Mapped Confidently to Exonic Regions</strong></td><td>60.1%</td><td>60.1%</td><td>60.1%</td><td>60.1%</td><td>60.1%</td><td>60.1%</td><td>56.2%</td><td>56.2%</td><td>60.1%</td><td>56.2%</td><td>...</td></tr><tr><td>&nbsp;</td><td>&nbsp;</td><td>&nbsp;</td><td>&nbsp;</td><td>&nbsp;</td><td>&nbsp;</td><td>&nbsp;</td><td><strong>Reads Mapped Confidently to Intergenic Regions</strong></td><td>9.3%</td><td>9.3%</td><td>9.3%</td><td>9.3%</td><td>9.3%</td><td>9.3%</td><td>9.4%</td><td>9.4%</td><td>9.3%</td><td>9.4%</td><td>...</td></tr><tr><td>&nbsp;</td><td>&nbsp;</td><td>&nbsp;</td><td>&nbsp;</td><td>&nbsp;</td><td>&nbsp;</td><td>&nbsp;</td><td><strong>Reads Mapped Confidently to Intronic Regions</strong></td><td>22.9%</td><td>22.9%</td><td>22.9%</td><td>22.9%</td><td>22.9%</td><td>22.9%</td><td>26.1%</td><td>26.5%</td><td>22.9%</td><td>26.1%</td><td>...</td></tr><tr><td>&nbsp;</td><td>&nbsp;</td><td>&nbsp;</td><td>&nbsp;</td><td>&nbsp;</td><td>&nbsp;</td><td>&nbsp;</td><td><strong>Reads Mapped Confidently to Transcriptome</strong></td><td>56.5%</td><td>56.5%</td><td>56.5%</td><td>56.5%</td><td>56.5%</td><td>56.5%</td><td>52.5%</td><td>52.6%</td><td>56.5%</td><td>52.5%</td><td>...</td></tr><tr><td>&nbsp;</td><td>&nbsp;</td><td>&nbsp;</td><td>&nbsp;</td><td>&nbsp;</td><td>&nbsp;</td><td>&nbsp;</td><td><strong>Region</strong></td><td>Enteric nervous system</td><td>Enteric nervous system</td><td>Enteric nervous system</td><td>Enteric nervous system</td><td>Enteric nervous system</td><td>Enteric nervous system</td><td>Enteric nervous system</td><td>Enteric nervous system</td><td>Enteric nervous system</td><td>Enteric nervous system</td><td>...</td></tr><tr><td>&nbsp;</td><td>&nbsp;</td><td>&nbsp;</td><td>&nbsp;</td><td>&nbsp;</td><td>&nbsp;</td><td>&nbsp;</td><td><strong>SampleID</strong></td><td>10X82_2</td><td>10X82_2</td><td>10X82_2</td><td>10X82_2</td><td>10X82_2</td><td>10X82_2</td><td>10X81_2</td><td>10X81_3</td><td>10X82_2</td><td>10X81_2</td><td>...</td></tr><tr><td>&nbsp;</td><td>&nbsp;</td><td>&nbsp;</td><td>&nbsp;</td><td>&nbsp;</td><td>&nbsp;</td><td>&nbsp;</td><td><strong>SampleIndex</strong></td><td>SI-GA-G5</td><td>SI-GA-G5</td><td>SI-GA-G5</td><td>SI-GA-G5</td><td>SI-GA-G5</td><td>SI-GA-G5</td><td>SI-GA-D5</td><td>SI-GA-E5</td><td>SI-GA-G5</td><td>SI-GA-D5</td><td>...</td></tr><tr><td>&nbsp;</td><td>&nbsp;</td><td>&nbsp;</td><td>&nbsp;</td><td>&nbsp;</td><td>&nbsp;</td><td>&nbsp;</td><td><strong>SampleOK</strong></td><td></td><td></td><td></td><td></td><td></td><td></td><td></td><td></td><td></td><td></td><td>...</td></tr><tr><td>&nbsp;</td><td>&nbsp;</td><td>&nbsp;</td><td>&nbsp;</td><td>&nbsp;</td><td>&nbsp;</td><td>&nbsp;</td><td><strong>Sample_Index</strong></td><td></td><td></td><td></td><td></td><td></td><td></td><td></td><td></td><td></td><td></td><td>...</td></tr><tr><td>&nbsp;</td><td>&nbsp;</td><td>&nbsp;</td><td>&nbsp;</td><td>&nbsp;</td><td>&nbsp;</td><td>&nbsp;</td><td><strong>SeqComment</strong></td><td>nan</td><td>nan</td><td>nan</td><td>nan</td><td>nan</td><td>nan</td><td>nan</td><td>nan</td><td>nan</td><td>nan</td><td>...</td></tr><tr><td>&nbsp;</td><td>&nbsp;</td><td>&nbsp;</td><td>&nbsp;</td><td>&nbsp;</td><td>&nbsp;</td><td>&nbsp;</td><td><strong>SeqLibDate</strong></td><td>NaT</td><td>NaT</td><td>NaT</td><td>NaT</td><td>NaT</td><td>NaT</td><td>NaT</td><td>NaT</td><td>NaT</td><td>NaT</td><td>...</td></tr><tr><td>&nbsp;</td><td>&nbsp;</td><td>&nbsp;</td><td>&nbsp;</td><td>&nbsp;</td><td>&nbsp;</td><td>&nbsp;</td><td><strong>SeqLibOk</strong></td><td>nan</td><td>nan</td><td>nan</td><td>nan</td><td>nan</td><td>nan</td><td>nan</td><td>nan</td><td>nan</td><td>nan</td><td>...</td></tr><tr><td>&nbsp;</td><td>&nbsp;</td><td>&nbsp;</td><td>&nbsp;</td><td>&nbsp;</td><td>&nbsp;</td><td>&nbsp;</td><td><strong>Seq_Comment</strong></td><td></td><td></td><td></td><td></td><td></td><td></td><td></td><td></td><td></td><td></td><td>...</td></tr><tr><td>&nbsp;</td><td>&nbsp;</td><td>&nbsp;</td><td>&nbsp;</td><td>&nbsp;</td><td>&nbsp;</td><td>&nbsp;</td><td><strong>Seq_Lib_Date</strong></td><td></td><td></td><td></td><td></td><td></td><td></td><td></td><td></td><td></td><td></td><td>...</td></tr><tr><td>&nbsp;</td><td>&nbsp;</td><td>&nbsp;</td><td>&nbsp;</td><td>&nbsp;</td><td>&nbsp;</td><td>&nbsp;</td><td><strong>Seq_Lib_Ok</strong></td><td></td><td></td><td></td><td></td><td></td><td></td><td></td><td></td><td></td><td></td><td>...</td></tr><tr><td>&nbsp;</td><td>&nbsp;</td><td>&nbsp;</td><td>&nbsp;</td><td>&nbsp;</td><td>&nbsp;</td><td>&nbsp;</td><td><strong>Sequencing Saturation</strong></td><td>74.7%</td><td>74.7%</td><td>74.7%</td><td>74.7%</td><td>74.7%</td><td>74.7%</td><td>77.8%</td><td>83.5%</td><td>74.7%</td><td>77.8%</td><td>...</td></tr><tr><td>&nbsp;</td><td>&nbsp;</td><td>&nbsp;</td><td>&nbsp;</td><td>&nbsp;</td><td>&nbsp;</td><td>&nbsp;</td><td><strong>Serial_Number</strong></td><td>321</td><td>321</td><td>321</td><td>321</td><td>321</td><td>321</td><td>318</td><td>319</td><td>321</td><td>318</td><td>...</td></tr><tr><td>&nbsp;</td><td>&nbsp;</td><td>&nbsp;</td><td>&nbsp;</td><td>&nbsp;</td><td>&nbsp;</td><td>&nbsp;</td><td><strong>Sex</strong></td><td>1M 1F</td><td>1M 1F</td><td>1M 1F</td><td>1M 1F</td><td>1M 1F</td><td>1M 1F</td><td>1M 1F</td><td>1M 1F</td><td>1M 1F</td><td>1M 1F</td><td>...</td></tr><tr><td>&nbsp;</td><td>&nbsp;</td><td>&nbsp;</td><td>&nbsp;</td><td>&nbsp;</td><td>&nbsp;</td><td>&nbsp;</td><td><strong>Species</strong></td><td>Mm</td><td>Mm</td><td>Mm</td><td>Mm</td><td>Mm</td><td>Mm</td><td>Mm</td><td>Mm</td><td>Mm</td><td>Mm</td><td>...</td></tr><tr><td>&nbsp;</td><td>&nbsp;</td><td>&nbsp;</td><td>&nbsp;</td><td>&nbsp;</td><td>&nbsp;</td><td>&nbsp;</td><td><strong>Strain</strong></td><td>Wnt1Cre-R26Rtomato-C57BL/6J</td><td>Wnt1Cre-R26Rtomato-C57BL/6J</td><td>Wnt1Cre-R26Rtomato-C57BL/6J</td><td>Wnt1Cre-R26Rtomato-C57BL/6J</td><td>Wnt1Cre-R26Rtomato-C57BL/6J</td><td>Wnt1Cre-R26Rtomato-C57BL/6J</td><td>Wnt1Cre-R26Rtomato-C57BL/6J</td><td>Wnt1Cre-R26Rtomato-C57BL/6J</td><td>Wnt1Cre-R26Rtomato-C57BL/6J</td><td>Wnt1Cre-R26Rtomato-C57BL/6J</td><td>...</td></tr><tr><td>&nbsp;</td><td>&nbsp;</td><td>&nbsp;</td><td>&nbsp;</td><td>&nbsp;</td><td>&nbsp;</td><td>&nbsp;</td><td><strong>Subclass</strong></td><td>Neurons</td><td>Neurons</td><td>Neurons</td><td>Neurons</td><td>Neurons</td><td>Neurons</td><td>Neurons</td><td>Neurons</td><td>Neurons</td><td>Neurons</td><td>...</td></tr><tr><td>&nbsp;</td><td>&nbsp;</td><td>&nbsp;</td><td>&nbsp;</td><td>&nbsp;</td><td>&nbsp;</td><td>&nbsp;</td><td><strong>TargetNumCells</strong></td><td>5000</td><td>5000</td><td>5000</td><td>5000</td><td>5000</td><td>5000</td><td>5000</td><td>5000</td><td>5000</td><td>5000</td><td>...</td></tr><tr><td>&nbsp;</td><td>&nbsp;</td><td>&nbsp;</td><td>&nbsp;</td><td>&nbsp;</td><td>&nbsp;</td><td>&nbsp;</td><td><strong>Target_Num_Cells</strong></td><td>5000</td><td>5000</td><td>5000</td><td>5000</td><td>5000</td><td>5000</td><td>5000</td><td>5000</td><td>5000</td><td>5000</td><td>...</td></tr><tr><td>&nbsp;</td><td>&nbsp;</td><td>&nbsp;</td><td>&nbsp;</td><td>&nbsp;</td><td>&nbsp;</td><td>&nbsp;</td><td><strong>TaxonomyRank1</strong></td><td>Neurons</td><td>Neurons</td><td>Neurons</td><td>Neurons</td><td>Neurons</td><td>Neurons</td><td>Neurons</td><td>Neurons</td><td>Neurons</td><td>Neurons</td><td>...</td></tr><tr><td>&nbsp;</td><td>&nbsp;</td><td>&nbsp;</td><td>&nbsp;</td><td>&nbsp;</td><td>&nbsp;</td><td>&nbsp;</td><td><strong>TaxonomyRank2</strong></td><td>PNS neurons</td><td>PNS neurons</td><td>PNS neurons</td><td>PNS neurons</td><td>PNS neurons</td><td>PNS neurons</td><td>PNS neurons</td><td>PNS neurons</td><td>PNS neurons</td><td>PNS neurons</td><td>...</td></tr><tr><td>&nbsp;</td><td>&nbsp;</td><td>&nbsp;</td><td>&nbsp;</td><td>&nbsp;</td><td>&nbsp;</td><td>&nbsp;</td><td><strong>TaxonomyRank3</strong></td><td>Enteric neurons</td><td>Enteric neurons</td><td>Enteric neurons</td><td>Enteric neurons</td><td>Enteric neurons</td><td>Enteric neurons</td><td>Enteric neurons</td><td>Enteric neurons</td><td>Enteric neurons</td><td>Enteric neurons</td><td>...</td></tr><tr><td>&nbsp;</td><td>&nbsp;</td><td>&nbsp;</td><td>&nbsp;</td><td>&nbsp;</td><td>&nbsp;</td><td>&nbsp;</td><td><strong>TaxonomyRank4</strong></td><td>Enteric neurons</td><td>Enteric neurons</td><td>Enteric neurons</td><td>Enteric neurons</td><td>Enteric neurons</td><td>Enteric neurons</td><td>Enteric neurons</td><td>Enteric neurons</td><td>Enteric neurons</td><td>Enteric neurons</td><td>...</td></tr><tr><td>&nbsp;</td><td>&nbsp;</td><td>&nbsp;</td><td>&nbsp;</td><td>&nbsp;</td><td>&nbsp;</td><td>&nbsp;</td><td><strong>TaxonomySymbol</strong></td><td>Enne</td><td>Enne</td><td>Enne</td><td>Enne</td><td>Enne</td><td>Enne</td><td>Enne</td><td>Enne</td><td>Enne</td><td>Enne</td><td>...</td></tr><tr><td>&nbsp;</td><td>&nbsp;</td><td>&nbsp;</td><td>&nbsp;</td><td>&nbsp;</td><td>&nbsp;</td><td>&nbsp;</td><td><strong>Taxonomy_group</strong></td><td>Enteric neurons</td><td>Enteric neurons</td><td>Enteric neurons</td><td>Enteric neurons</td><td>Enteric neurons</td><td>Enteric neurons</td><td>Enteric neurons</td><td>Enteric neurons</td><td>Enteric neurons</td><td>Enteric neurons</td><td>...</td></tr><tr><td>&nbsp;</td><td>&nbsp;</td><td>&nbsp;</td><td>&nbsp;</td><td>&nbsp;</td><td>&nbsp;</td><td>&nbsp;</td><td><strong>TimepointPool</strong></td><td>nan</td><td>nan</td><td>nan</td><td>nan</td><td>nan</td><td>nan</td><td>nan</td><td>nan</td><td>nan</td><td>nan</td><td>...</td></tr><tr><td>&nbsp;</td><td>&nbsp;</td><td>&nbsp;</td><td>&nbsp;</td><td>&nbsp;</td><td>&nbsp;</td><td>&nbsp;</td><td><strong>Tissue</strong></td><td>ENS</td><td>ENS</td><td>ENS</td><td>ENS</td><td>ENS</td><td>ENS</td><td>ENS</td><td>ENS</td><td>ENS</td><td>ENS</td><td>...</td></tr><tr><td>&nbsp;</td><td>&nbsp;</td><td>&nbsp;</td><td>&nbsp;</td><td>&nbsp;</td><td>&nbsp;</td><td>&nbsp;</td><td><strong>Total Genes Detected</strong></td><td>18,120</td><td>18,120</td><td>18,120</td><td>18,120</td><td>18,120</td><td>18,120</td><td>18,168</td><td>18,252</td><td>18,120</td><td>18,168</td><td>...</td></tr><tr><td>&nbsp;</td><td>&nbsp;</td><td>&nbsp;</td><td>&nbsp;</td><td>&nbsp;</td><td>&nbsp;</td><td>&nbsp;</td><td><strong>Transcriptome</strong></td><td>mm10</td><td>mm10</td><td>mm10</td><td>mm10</td><td>mm10</td><td>mm10</td><td>mm10</td><td>mm10</td><td>mm10</td><td>mm10</td><td>...</td></tr><tr><td>&nbsp;</td><td>&nbsp;</td><td>&nbsp;</td><td>&nbsp;</td><td>&nbsp;</td><td>&nbsp;</td><td>&nbsp;</td><td><strong>Valid Barcodes</strong></td><td>98.3%</td><td>98.3%</td><td>98.3%</td><td>98.3%</td><td>98.3%</td><td>98.3%</td><td>98.1%</td><td>98.2%</td><td>98.3%</td><td>98.1%</td><td>...</td></tr><tr><td>&nbsp;</td><td>&nbsp;</td><td>&nbsp;</td><td>&nbsp;</td><td>&nbsp;</td><td>&nbsp;</td><td>&nbsp;</td><td><strong>_KMeans_10</strong></td><td>6.0</td><td>6.0</td><td>6.0</td><td>6.0</td><td>6.0</td><td>6.0</td><td>4.0</td><td>5.0</td><td>6.0</td><td>4.0</td><td>...</td></tr><tr><td>&nbsp;</td><td>&nbsp;</td><td>&nbsp;</td><td>&nbsp;</td><td>&nbsp;</td><td>&nbsp;</td><td>&nbsp;</td><td><strong>_LogCV</strong></td><td>3.1908913783603063</td><td>3.167351500625122</td><td>2.9904214870833776</td><td>2.822815534443724</td><td>3.1277965891473065</td><td>3.3192176319142175</td><td>3.1989066144208227</td><td>3.948901530102022</td><td>2.987633061728192</td><td>2.7924016918290224</td><td>...</td></tr><tr><td>&nbsp;</td><td>&nbsp;</td><td>&nbsp;</td><td>&nbsp;</td><td>&nbsp;</td><td>&nbsp;</td><td>&nbsp;</td><td><strong>_LogMean</strong></td><td>-0.5543971870580796</td><td>-0.37315747486311507</td><td>-0.5170486762369298</td><td>0.13549715551603134</td><td>-0.7693425700796889</td><td>-0.8472036311342495</td><td>0.09491819394568078</td><td>-1.839529951096004</td><td>-0.3916284152311094</td><td>-0.07818856623038073</td><td>...</td></tr><tr><td>&nbsp;</td><td>&nbsp;</td><td>&nbsp;</td><td>&nbsp;</td><td>&nbsp;</td><td>&nbsp;</td><td>&nbsp;</td><td><strong>_NGenes</strong></td><td>4966.0</td><td>5170.0</td><td>4901.0</td><td>6163.0</td><td>4441.0</td><td>4177.0</td><td>6291.0</td><td>3194.0</td><td>5096.0</td><td>6286.0</td><td>...</td></tr><tr><td>&nbsp;</td><td>&nbsp;</td><td>&nbsp;</td><td>&nbsp;</td><td>&nbsp;</td><td>&nbsp;</td><td>&nbsp;</td><td><strong>_PC1</strong></td><td>-65.27535421448539</td><td>-68.95510759143025</td><td>-65.23438872542643</td><td>-71.94204482687141</td><td>-61.80121557714286</td><td>-60.24304904777661</td><td>95.32222226357811</td><td>85.61136680508369</td><td>-66.45551994815037</td><td>84.01459919133823</td><td>...</td></tr><tr><td>&nbsp;</td><td>&nbsp;</td><td>&nbsp;</td><td>&nbsp;</td><td>&nbsp;</td><td>&nbsp;</td><td>&nbsp;</td><td><strong>_PC2</strong></td><td>-6.920831125319342</td><td>-6.064292802219843</td><td>-7.719227989659785</td><td>-9.778616706469663</td><td>-5.362512208402256</td><td>-4.087377717670975</td><td>-1.1779252488682292</td><td>0.3861744167498913</td><td>-7.2672667231519945</td><td>-1.4644867037545195</td><td>...</td></tr><tr><td>&nbsp;</td><td>&nbsp;</td><td>&nbsp;</td><td>&nbsp;</td><td>&nbsp;</td><td>&nbsp;</td><td>&nbsp;</td><td><strong>_Total</strong></td><td>19065.0</td><td>21617.0</td><td>19565.0</td><td>30755.0</td><td>16426.0</td><td>15563.0</td><td>29902.0</td><td>7823.0</td><td>21342.0</td><td>26521.0</td><td>...</td></tr><tr><td>&nbsp;</td><td>&nbsp;</td><td>&nbsp;</td><td>&nbsp;</td><td>&nbsp;</td><td>&nbsp;</td><td>&nbsp;</td><td><strong>_Valid</strong></td><td>1</td><td>1</td><td>1</td><td>1</td><td>1</td><td>1</td><td>1</td><td>1</td><td>1</td><td>1</td><td>...</td></tr><tr><td>&nbsp;</td><td>&nbsp;</td><td>&nbsp;</td><td>&nbsp;</td><td>&nbsp;</td><td>&nbsp;</td><td>&nbsp;</td><td><strong>_X</strong></td><td>32.19324891399081</td><td>32.22355098229663</td><td>32.218911527247535</td><td>32.18716616749913</td><td>32.25464658453466</td><td>32.19684108148269</td><td>32.22388887448665</td><td>32.941288813217824</td><td>32.245982009961985</td><td>32.151367314515</td><td>...</td></tr><tr><td>&nbsp;</td><td>&nbsp;</td><td>&nbsp;</td><td>&nbsp;</td><td>&nbsp;</td><td>&nbsp;</td><td>&nbsp;</td><td><strong>_Y</strong></td><td>57.79691077977488</td><td>57.314148909688996</td><td>57.5484721634755</td><td>57.61263111519109</td><td>57.59189746580034</td><td>57.72763921265182</td><td>57.40857378711385</td><td>56.932511762955315</td><td>57.52203608521606</td><td>57.01308084558094</td><td>...</td></tr><tr><td>&nbsp;</td><td>&nbsp;</td><td>&nbsp;</td><td>&nbsp;</td><td>&nbsp;</td><td>&nbsp;</td><td>&nbsp;</td><td><strong>_tSNE1</strong></td><td>-25.77719735472452</td><td>-25.667509448348913</td><td>-26.298034758632546</td><td>-26.154148674564897</td><td>-25.976201930893737</td><td>-25.950600353468474</td><td>10.833668805797094</td><td>46.387855269473945</td><td>-25.85796531989773</td><td>10.658282771575102</td><td>...</td></tr><tr><td>&nbsp;</td><td>&nbsp;</td><td>&nbsp;</td><td>&nbsp;</td><td>&nbsp;</td><td>&nbsp;</td><td>&nbsp;</td><td><strong>_tSNE2</strong></td><td>33.125469751214034</td><td>33.253273215484846</td><td>33.27313959698363</td><td>33.878698140493384</td><td>32.505965033332124</td><td>32.12761769264904</td><td>41.688696651843884</td><td>-8.68927484206353</td><td>32.869454997701304</td><td>41.45535872326401</td><td>...</td></tr><tr><td>&nbsp;</td><td>&nbsp;</td><td>&nbsp;</td><td>&nbsp;</td><td>&nbsp;</td><td>&nbsp;</td><td>&nbsp;</td><td><strong>cDNAConcNanogramPerMicroliter</strong></td><td>7.4</td><td>7.4</td><td>7.4</td><td>7.4</td><td>7.4</td><td>7.4</td><td>4.2</td><td>4.5</td><td>7.4</td><td>4.2</td><td>...</td></tr><tr><td>&nbsp;</td><td>&nbsp;</td><td>&nbsp;</td><td>&nbsp;</td><td>&nbsp;</td><td>&nbsp;</td><td>&nbsp;</td><td><strong>cDNALibOk</strong></td><td>Y</td><td>Y</td><td>Y</td><td>Y</td><td>Y</td><td>Y</td><td>Y</td><td>Y</td><td>Y</td><td>Y</td><td>...</td></tr><tr><td>&nbsp;</td><td>&nbsp;</td><td>&nbsp;</td><td>&nbsp;</td><td>&nbsp;</td><td>&nbsp;</td><td>&nbsp;</td><td><strong>cDNA_Lib_Ok</strong></td><td>Y</td><td>Y</td><td>Y</td><td>Y</td><td>Y</td><td>Y</td><td>Y</td><td>Y</td><td>Y</td><td>Y</td><td>...</td></tr><tr><td>&nbsp;</td><td>&nbsp;</td><td>&nbsp;</td><td>&nbsp;</td><td>&nbsp;</td><td>&nbsp;</td><td>&nbsp;</td><td><strong>ident</strong></td><td>b'ENT9'</td><td>b'ENT9'</td><td>b'ENT9'</td><td>b'ENT9'</td><td>b'ENT9'</td><td>b'ENT9'</td><td>b'ENT9'</td><td>b'ENT9'</td><td>b'ENT9'</td><td>b'ENT9'</td><td>...</td></tr><tr><td>&nbsp;</td><td>&nbsp;</td><td>&nbsp;</td><td>&nbsp;</td><td>&nbsp;</td><td>&nbsp;</td><td>&nbsp;</td><td><strong>ngperul_cDNA</strong></td><td>7,4</td><td>7,4</td><td>7,4</td><td>7,4</td><td>7,4</td><td>7,4</td><td>4,2</td><td>4,5</td><td>7,4</td><td>4,2</td><td>...</td></tr><tr><td><strong>Accession</strong></td><td><strong>Gene</strong></td><td><strong>_LogCV</strong></td><td><strong>_LogMean</strong></td><td><strong>_Selected</strong></td><td><strong>_Total</strong></td><td><strong>_Valid</strong></td><td>&nbsp;</td><td>&nbsp;</td><td>&nbsp;</td><td>&nbsp;</td><td>&nbsp;</td><td>&nbsp;</td><td>&nbsp;</td><td>&nbsp;</td><td>&nbsp;</td><td>&nbsp;</td><td>&nbsp;</td><td>...</td></tr><tr><td>ENSMUSG00000024647</td><td>Cbln2</td><td>2.7558882942204663</td><td>-2.8864988135661296</td><td>0</td><td>190.0</td><td>1</td><td>&nbsp;</td><td>21.0</td><td>28.0</td><td>28.0</td><td>48.0</td><td>31.0</td><td>29.0</td><td>66.0</td><td>13.0</td><td>22.0</td><td>45.0</td><td>...</td></tr><tr><td>ENSMUSG00000041544</td><td>Ptchd2</td><td>2.970605232151276</td><td>-5.549463799793425</td><td>0</td><td>30.0</td><td>1</td><td>&nbsp;</td><td>1.0</td><td>1.0</td><td>0.0</td><td>0.0</td><td>0.0</td><td>0.0</td><td>1.0</td><td>2.0</td><td>0.0</td><td>0.0</td><td>...</td></tr><tr><td>ENSMUSG00000029503</td><td>P2rx2</td><td>2.355448230718427</td><td>-3.161733688193744</td><td>1</td><td>157.0</td><td>1</td><td>&nbsp;</td><td>14.0</td><td>11.0</td><td>7.0</td><td>13.0</td><td>11.0</td><td>7.0</td><td>16.0</td><td>7.0</td><td>14.0</td><td>9.0</td><td>...</td></tr><tr><td>ENSMUSG00000039942</td><td>Ptger4</td><td>2.14331116452879</td><td>-4.030089634846269</td><td>0</td><td>86.0</td><td>1</td><td>&nbsp;</td><td>2.0</td><td>1.0</td><td>2.0</td><td>2.0</td><td>2.0</td><td>1.0</td><td>0.0</td><td>0.0</td><td>1.0</td><td>1.0</td><td>...</td></tr><tr><td>ENSMUSG00000059187</td><td>Fam19a1</td><td>2.4735615552289905</td><td>-3.561536678627471</td><td>0</td><td>119.0</td><td>1</td><td>&nbsp;</td><td>8.0</td><td>7.0</td><td>9.0</td><td>20.0</td><td>4.0</td><td>11.0</td><td>20.0</td><td>4.0</td><td>16.0</td><td>18.0</td><td>...</td></tr><tr><td>ENSMUSG00000017756</td><td>Slc12a7</td><td>1.8020226105785193</td><td>-3.0900322269204503</td><td>0</td><td>165.0</td><td>1</td><td>&nbsp;</td><td>0.0</td><td>3.0</td><td>1.0</td><td>7.0</td><td>2.0</td><td>1.0</td><td>4.0</td><td>1.0</td><td>1.0</td><td>2.0</td><td>...</td></tr><tr><td>ENSMUSG00000068327</td><td>Tlx2</td><td>0.6651576988132731</td><td>1.820351653100106</td><td>0</td><td>4962.0</td><td>1</td><td>&nbsp;</td><td>14.0</td><td>16.0</td><td>32.0</td><td>40.0</td><td>29.0</td><td>14.0</td><td>42.0</td><td>9.0</td><td>30.0</td><td>39.0</td><td>...</td></tr><tr><td>ENSMUSG00000079560</td><td>Hoxa3</td><td>2.9497811872870185</td><td>-5.812498255967974</td><td>0</td><td>25.0</td><td>1</td><td>&nbsp;</td><td>1.0</td><td>2.0</td><td>2.0</td><td>1.0</td><td>1.0</td><td>2.0</td><td>2.0</td><td>2.0</td><td>3.0</td><td>2.0</td><td>...</td></tr><tr><td>ENSMUSG00000039116</td><td>Adgrg6</td><td>1.2609992224499391</td><td>-2.321928073389531</td><td>0</td><td>281.0</td><td>1</td><td>&nbsp;</td><td>20.0</td><td>72.0</td><td>32.0</td><td>53.0</td><td>23.0</td><td>17.0</td><td>102.0</td><td>27.0</td><td>44.0</td><td>78.0</td><td>...</td></tr><tr><td>ENSMUSG00000022861</td><td>Dgkg</td><td>1.6668044826099966</td><td>-2.6234644077323357</td><td>0</td><td>228.0</td><td>1</td><td>&nbsp;</td><td>18.0</td><td>9.0</td><td>9.0</td><td>15.0</td><td>6.0</td><td>13.0</td><td>16.0</td><td>3.0</td><td>13.0</td><td>17.0</td><td>...</td></tr><tr><td>...</td><td>...</td><td>...</td><td>...</td><td>...</td><td>...</td><td>...</td><td>...</td><td>...</td><td>...</td><td>...</td><td>...</td><td>...</td><td>...</td><td>...</td><td>...</td><td>...</td><td>...</td><td>...</td></tr></table>"
      ],
      "text/plain": [
       "<loompy.loompy.LoomConnection at 0x7f070ce69518>"
      ]
     },
     "execution_count": 4,
     "metadata": {},
     "output_type": "execute_result"
    }
   ],
   "source": [
    "ds"
   ]
  },
  {
   "cell_type": "code",
   "execution_count": null,
   "metadata": {
    "collapsed": true
   },
   "outputs": [],
   "source": []
  },
  {
   "cell_type": "markdown",
   "metadata": {},
   "source": [
    "### Define and EXPORT top cell types"
   ]
  },
  {
   "cell_type": "code",
   "execution_count": 33,
   "metadata": {
    "ExecuteTime": {
     "end_time": "2018-10-24T15:06:05.683794Z",
     "start_time": "2018-10-24T15:06:05.680809Z"
    },
    "collapsed": true
   },
   "outputs": [],
   "source": [
    "cell_types_extract = [\"MEINH7\",\"HBINH9\",\"DEGLU4\",\"MEINH2\",\"MEGLU6\",\"DEINH3\",\"HBINH3\",\"HBGLU10\",\"HBINH4\",\"HBGLU3\"]"
   ]
  },
  {
   "cell_type": "code",
   "execution_count": 34,
   "metadata": {
    "ExecuteTime": {
     "end_time": "2018-10-24T15:06:06.048470Z",
     "start_time": "2018-10-24T15:06:05.685270Z"
    }
   },
   "outputs": [
    {
     "data": {
      "text/plain": [
       "1584"
      ]
     },
     "execution_count": 34,
     "metadata": {},
     "output_type": "execute_result"
    }
   ],
   "source": [
    "bool_cells_extract = np.isin(ds.ca.ClusterName, cell_types_extract)\n",
    "sum(bool_cells_extract)"
   ]
  },
  {
   "cell_type": "code",
   "execution_count": 35,
   "metadata": {
    "ExecuteTime": {
     "end_time": "2018-10-24T15:07:31.724347Z",
     "start_time": "2018-10-24T15:06:06.050158Z"
    },
    "collapsed": true
   },
   "outputs": [],
   "source": [
    "### Extact\n",
    "ds_extract = ds[:, bool_cells_extract].astype(int)"
   ]
  },
  {
   "cell_type": "code",
   "execution_count": 36,
   "metadata": {
    "ExecuteTime": {
     "end_time": "2018-10-24T15:07:31.751885Z",
     "start_time": "2018-10-24T15:07:31.726381Z"
    }
   },
   "outputs": [
    {
     "data": {
      "text/html": [
       "<div>\n",
       "<style scoped>\n",
       "    .dataframe tbody tr th:only-of-type {\n",
       "        vertical-align: middle;\n",
       "    }\n",
       "\n",
       "    .dataframe tbody tr th {\n",
       "        vertical-align: top;\n",
       "    }\n",
       "\n",
       "    .dataframe thead th {\n",
       "        text-align: right;\n",
       "    }\n",
       "</style>\n",
       "<table border=\"1\" class=\"dataframe\">\n",
       "  <thead>\n",
       "    <tr style=\"text-align: right;\">\n",
       "      <th></th>\n",
       "      <th>10X57_3_ACTACTACCTCC-</th>\n",
       "      <th>10X20_3_CTTTACGAGAGATA-1</th>\n",
       "      <th>10X52_3_GAGAGAGTCGTA-</th>\n",
       "      <th>10X52_4_GCCCACAGTCGT-</th>\n",
       "      <th>10X52_1_AGTCGAAAAGCA-</th>\n",
       "      <th>10X52_3_ATCAGAACGGTT-</th>\n",
       "      <th>10X20_4_ACTCAGGAGTCTTT-1</th>\n",
       "      <th>10X52_2_CGTATGCCTACC-</th>\n",
       "      <th>10X57_2_AGGTCTACTACG-</th>\n",
       "      <th>10X57_3_AGTCTGAGTCTG-</th>\n",
       "      <th>...</th>\n",
       "      <th>10X54_4_CGTATTCTTTACGT-</th>\n",
       "      <th>10X54_4_TTCCCCACCCATGG-</th>\n",
       "      <th>10X54_3_ACTCCGTGTGGTTT-</th>\n",
       "      <th>10X54_2_AGTAGTCCGAACGC-</th>\n",
       "      <th>10X48_1_ATCCGAGTCTGA-</th>\n",
       "      <th>10X54_2_ACGTCGTAGAGGAA-</th>\n",
       "      <th>10X55_1_GCAGCGTAGCTCCG-</th>\n",
       "      <th>10X33_1_AGAATTTGCTTGCC-1</th>\n",
       "      <th>10X55_4_GACCTCACAGATTC-</th>\n",
       "      <th>10X48_2_CCTAACGGACAG-</th>\n",
       "    </tr>\n",
       "  </thead>\n",
       "  <tbody>\n",
       "    <tr>\n",
       "      <th>Cbln2</th>\n",
       "      <td>2</td>\n",
       "      <td>5</td>\n",
       "      <td>4</td>\n",
       "      <td>9</td>\n",
       "      <td>6</td>\n",
       "      <td>2</td>\n",
       "      <td>4</td>\n",
       "      <td>6</td>\n",
       "      <td>4</td>\n",
       "      <td>0</td>\n",
       "      <td>...</td>\n",
       "      <td>0</td>\n",
       "      <td>0</td>\n",
       "      <td>0</td>\n",
       "      <td>1</td>\n",
       "      <td>0</td>\n",
       "      <td>0</td>\n",
       "      <td>0</td>\n",
       "      <td>0</td>\n",
       "      <td>0</td>\n",
       "      <td>0</td>\n",
       "    </tr>\n",
       "    <tr>\n",
       "      <th>Ptchd2</th>\n",
       "      <td>0</td>\n",
       "      <td>0</td>\n",
       "      <td>0</td>\n",
       "      <td>0</td>\n",
       "      <td>0</td>\n",
       "      <td>0</td>\n",
       "      <td>0</td>\n",
       "      <td>0</td>\n",
       "      <td>0</td>\n",
       "      <td>0</td>\n",
       "      <td>...</td>\n",
       "      <td>0</td>\n",
       "      <td>0</td>\n",
       "      <td>0</td>\n",
       "      <td>0</td>\n",
       "      <td>0</td>\n",
       "      <td>0</td>\n",
       "      <td>0</td>\n",
       "      <td>1</td>\n",
       "      <td>0</td>\n",
       "      <td>0</td>\n",
       "    </tr>\n",
       "    <tr>\n",
       "      <th>P2rx2</th>\n",
       "      <td>0</td>\n",
       "      <td>0</td>\n",
       "      <td>0</td>\n",
       "      <td>0</td>\n",
       "      <td>0</td>\n",
       "      <td>0</td>\n",
       "      <td>0</td>\n",
       "      <td>0</td>\n",
       "      <td>0</td>\n",
       "      <td>0</td>\n",
       "      <td>...</td>\n",
       "      <td>0</td>\n",
       "      <td>0</td>\n",
       "      <td>0</td>\n",
       "      <td>0</td>\n",
       "      <td>0</td>\n",
       "      <td>0</td>\n",
       "      <td>0</td>\n",
       "      <td>0</td>\n",
       "      <td>0</td>\n",
       "      <td>0</td>\n",
       "    </tr>\n",
       "    <tr>\n",
       "      <th>Ptger4</th>\n",
       "      <td>0</td>\n",
       "      <td>0</td>\n",
       "      <td>0</td>\n",
       "      <td>0</td>\n",
       "      <td>0</td>\n",
       "      <td>0</td>\n",
       "      <td>0</td>\n",
       "      <td>0</td>\n",
       "      <td>0</td>\n",
       "      <td>0</td>\n",
       "      <td>...</td>\n",
       "      <td>0</td>\n",
       "      <td>0</td>\n",
       "      <td>0</td>\n",
       "      <td>0</td>\n",
       "      <td>0</td>\n",
       "      <td>0</td>\n",
       "      <td>0</td>\n",
       "      <td>0</td>\n",
       "      <td>0</td>\n",
       "      <td>0</td>\n",
       "    </tr>\n",
       "    <tr>\n",
       "      <th>Fam19a1</th>\n",
       "      <td>5</td>\n",
       "      <td>1</td>\n",
       "      <td>0</td>\n",
       "      <td>7</td>\n",
       "      <td>2</td>\n",
       "      <td>1</td>\n",
       "      <td>2</td>\n",
       "      <td>3</td>\n",
       "      <td>5</td>\n",
       "      <td>0</td>\n",
       "      <td>...</td>\n",
       "      <td>0</td>\n",
       "      <td>0</td>\n",
       "      <td>0</td>\n",
       "      <td>0</td>\n",
       "      <td>0</td>\n",
       "      <td>0</td>\n",
       "      <td>0</td>\n",
       "      <td>0</td>\n",
       "      <td>0</td>\n",
       "      <td>0</td>\n",
       "    </tr>\n",
       "  </tbody>\n",
       "</table>\n",
       "<p>5 rows × 1584 columns</p>\n",
       "</div>"
      ],
      "text/plain": [
       "         10X57_3_ACTACTACCTCC-  10X20_3_CTTTACGAGAGATA-1  \\\n",
       "Cbln2                        2                         5   \n",
       "Ptchd2                       0                         0   \n",
       "P2rx2                        0                         0   \n",
       "Ptger4                       0                         0   \n",
       "Fam19a1                      5                         1   \n",
       "\n",
       "         10X52_3_GAGAGAGTCGTA-  10X52_4_GCCCACAGTCGT-  10X52_1_AGTCGAAAAGCA-  \\\n",
       "Cbln2                        4                      9                      6   \n",
       "Ptchd2                       0                      0                      0   \n",
       "P2rx2                        0                      0                      0   \n",
       "Ptger4                       0                      0                      0   \n",
       "Fam19a1                      0                      7                      2   \n",
       "\n",
       "         10X52_3_ATCAGAACGGTT-  10X20_4_ACTCAGGAGTCTTT-1  \\\n",
       "Cbln2                        2                         4   \n",
       "Ptchd2                       0                         0   \n",
       "P2rx2                        0                         0   \n",
       "Ptger4                       0                         0   \n",
       "Fam19a1                      1                         2   \n",
       "\n",
       "         10X52_2_CGTATGCCTACC-  10X57_2_AGGTCTACTACG-  10X57_3_AGTCTGAGTCTG-  \\\n",
       "Cbln2                        6                      4                      0   \n",
       "Ptchd2                       0                      0                      0   \n",
       "P2rx2                        0                      0                      0   \n",
       "Ptger4                       0                      0                      0   \n",
       "Fam19a1                      3                      5                      0   \n",
       "\n",
       "                 ...            10X54_4_CGTATTCTTTACGT-  \\\n",
       "Cbln2            ...                                  0   \n",
       "Ptchd2           ...                                  0   \n",
       "P2rx2            ...                                  0   \n",
       "Ptger4           ...                                  0   \n",
       "Fam19a1          ...                                  0   \n",
       "\n",
       "         10X54_4_TTCCCCACCCATGG-  10X54_3_ACTCCGTGTGGTTT-  \\\n",
       "Cbln2                          0                        0   \n",
       "Ptchd2                         0                        0   \n",
       "P2rx2                          0                        0   \n",
       "Ptger4                         0                        0   \n",
       "Fam19a1                        0                        0   \n",
       "\n",
       "         10X54_2_AGTAGTCCGAACGC-  10X48_1_ATCCGAGTCTGA-  \\\n",
       "Cbln2                          1                      0   \n",
       "Ptchd2                         0                      0   \n",
       "P2rx2                          0                      0   \n",
       "Ptger4                         0                      0   \n",
       "Fam19a1                        0                      0   \n",
       "\n",
       "         10X54_2_ACGTCGTAGAGGAA-  10X55_1_GCAGCGTAGCTCCG-  \\\n",
       "Cbln2                          0                        0   \n",
       "Ptchd2                         0                        0   \n",
       "P2rx2                          0                        0   \n",
       "Ptger4                         0                        0   \n",
       "Fam19a1                        0                        0   \n",
       "\n",
       "         10X33_1_AGAATTTGCTTGCC-1  10X55_4_GACCTCACAGATTC-  \\\n",
       "Cbln2                           0                        0   \n",
       "Ptchd2                          1                        0   \n",
       "P2rx2                           0                        0   \n",
       "Ptger4                          0                        0   \n",
       "Fam19a1                         0                        0   \n",
       "\n",
       "         10X48_2_CCTAACGGACAG-  \n",
       "Cbln2                        0  \n",
       "Ptchd2                       0  \n",
       "P2rx2                        0  \n",
       "Ptger4                       0  \n",
       "Fam19a1                      0  \n",
       "\n",
       "[5 rows x 1584 columns]"
      ]
     },
     "execution_count": 36,
     "metadata": {},
     "output_type": "execute_result"
    }
   ],
   "source": [
    "### Convert to data frame\n",
    "df_extract = pd.DataFrame(ds_extract, index=ds.ra.Gene, columns=ds.ca.CellID[bool_cells_extract])\n",
    "df_extract.head()"
   ]
  },
  {
   "cell_type": "code",
   "execution_count": 37,
   "metadata": {
    "ExecuteTime": {
     "end_time": "2018-10-24T15:07:31.832083Z",
     "start_time": "2018-10-24T15:07:31.753263Z"
    },
    "scrolled": false
   },
   "outputs": [
    {
     "name": "stdout",
     "output_type": "stream",
     "text": [
      "(1584, 128)\n"
     ]
    },
    {
     "data": {
      "text/html": [
       "<div>\n",
       "<style scoped>\n",
       "    .dataframe tbody tr th:only-of-type {\n",
       "        vertical-align: middle;\n",
       "    }\n",
       "\n",
       "    .dataframe tbody tr th {\n",
       "        vertical-align: top;\n",
       "    }\n",
       "\n",
       "    .dataframe thead th {\n",
       "        text-align: right;\n",
       "    }\n",
       "</style>\n",
       "<table border=\"1\" class=\"dataframe\">\n",
       "  <thead>\n",
       "    <tr style=\"text-align: right;\">\n",
       "      <th></th>\n",
       "      <th>Age</th>\n",
       "      <th>AnalysisPool</th>\n",
       "      <th>AnalysisProject</th>\n",
       "      <th>Bucket</th>\n",
       "      <th>CellConc</th>\n",
       "      <th>CellID</th>\n",
       "      <th>Cell_Conc</th>\n",
       "      <th>ChipID</th>\n",
       "      <th>Class</th>\n",
       "      <th>ClassProbability_Astrocyte</th>\n",
       "      <th>...</th>\n",
       "      <th>_Valid</th>\n",
       "      <th>_X</th>\n",
       "      <th>_Y</th>\n",
       "      <th>_tSNE1</th>\n",
       "      <th>_tSNE2</th>\n",
       "      <th>cDNAConcNanogramPerMicroliter</th>\n",
       "      <th>cDNALibOk</th>\n",
       "      <th>cDNA_Lib_Ok</th>\n",
       "      <th>ident</th>\n",
       "      <th>ngperul_cDNA</th>\n",
       "    </tr>\n",
       "  </thead>\n",
       "  <tbody>\n",
       "    <tr>\n",
       "      <th>0</th>\n",
       "      <td>p25-27</td>\n",
       "      <td>MidbrainDorsal</td>\n",
       "      <td>Adolescent</td>\n",
       "      <td>/Users/sten/build_20171205/L4_Mesencephalon_Ex...</td>\n",
       "      <td>1000</td>\n",
       "      <td>10X57_3_ACTACTACCTCC-</td>\n",
       "      <td>1000</td>\n",
       "      <td>10X57</td>\n",
       "      <td>Neurons</td>\n",
       "      <td>0.000003</td>\n",
       "      <td>...</td>\n",
       "      <td>1</td>\n",
       "      <td>-32.498073</td>\n",
       "      <td>33.273279</td>\n",
       "      <td>-40.188528</td>\n",
       "      <td>9.791136</td>\n",
       "      <td>7.7</td>\n",
       "      <td>Y</td>\n",
       "      <td>Y</td>\n",
       "      <td>b'MEGLU6'</td>\n",
       "      <td>7.7</td>\n",
       "    </tr>\n",
       "    <tr>\n",
       "      <th>1</th>\n",
       "      <td>p22</td>\n",
       "      <td>MidbrainDorsal</td>\n",
       "      <td>Adolescent</td>\n",
       "      <td>/Users/sten/build_20171205/L4_Mesencephalon_Ex...</td>\n",
       "      <td>600</td>\n",
       "      <td>10X20_3_CTTTACGAGAGATA-1</td>\n",
       "      <td>600</td>\n",
       "      <td>10x20</td>\n",
       "      <td>Neurons</td>\n",
       "      <td>0.000002</td>\n",
       "      <td>...</td>\n",
       "      <td>1</td>\n",
       "      <td>-32.334977</td>\n",
       "      <td>33.420311</td>\n",
       "      <td>-15.130097</td>\n",
       "      <td>28.422395</td>\n",
       "      <td>2.8</td>\n",
       "      <td>nan</td>\n",
       "      <td></td>\n",
       "      <td>b'MEGLU6'</td>\n",
       "      <td>2.8</td>\n",
       "    </tr>\n",
       "    <tr>\n",
       "      <th>2</th>\n",
       "      <td>p20</td>\n",
       "      <td>MidbrainDorsal</td>\n",
       "      <td>Adolescent</td>\n",
       "      <td>/Users/sten/build_20171205/L4_Mesencephalon_Ex...</td>\n",
       "      <td>1000</td>\n",
       "      <td>10X52_3_GAGAGAGTCGTA-</td>\n",
       "      <td>1000</td>\n",
       "      <td>10X52</td>\n",
       "      <td>Neurons</td>\n",
       "      <td>0.000005</td>\n",
       "      <td>...</td>\n",
       "      <td>1</td>\n",
       "      <td>-32.774164</td>\n",
       "      <td>32.154477</td>\n",
       "      <td>-9.805529</td>\n",
       "      <td>19.277381</td>\n",
       "      <td>5.9</td>\n",
       "      <td>Y</td>\n",
       "      <td>Y</td>\n",
       "      <td>b'MEGLU6'</td>\n",
       "      <td>5.9</td>\n",
       "    </tr>\n",
       "    <tr>\n",
       "      <th>3</th>\n",
       "      <td>p20</td>\n",
       "      <td>MidbrainDorsal</td>\n",
       "      <td>Adolescent</td>\n",
       "      <td>/Users/sten/build_20171205/L4_Mesencephalon_Ex...</td>\n",
       "      <td>1000</td>\n",
       "      <td>10X52_4_GCCCACAGTCGT-</td>\n",
       "      <td>1000</td>\n",
       "      <td>10X52</td>\n",
       "      <td>Neurons</td>\n",
       "      <td>0.000003</td>\n",
       "      <td>...</td>\n",
       "      <td>1</td>\n",
       "      <td>-32.462244</td>\n",
       "      <td>33.395171</td>\n",
       "      <td>5.513229</td>\n",
       "      <td>29.129026</td>\n",
       "      <td>6.1</td>\n",
       "      <td>Y</td>\n",
       "      <td>Y</td>\n",
       "      <td>b'MEGLU6'</td>\n",
       "      <td>6.1</td>\n",
       "    </tr>\n",
       "    <tr>\n",
       "      <th>4</th>\n",
       "      <td>p20</td>\n",
       "      <td>MidbrainDorsal</td>\n",
       "      <td>Adolescent</td>\n",
       "      <td>/Users/sten/build_20171205/L4_Mesencephalon_Ex...</td>\n",
       "      <td>1000</td>\n",
       "      <td>10X52_1_AGTCGAAAAGCA-</td>\n",
       "      <td>1000</td>\n",
       "      <td>10X52</td>\n",
       "      <td>Neurons</td>\n",
       "      <td>0.000002</td>\n",
       "      <td>...</td>\n",
       "      <td>1</td>\n",
       "      <td>-32.486180</td>\n",
       "      <td>33.330950</td>\n",
       "      <td>3.474674</td>\n",
       "      <td>0.422312</td>\n",
       "      <td>4.7</td>\n",
       "      <td>Y</td>\n",
       "      <td>Y</td>\n",
       "      <td>b'MEGLU6'</td>\n",
       "      <td>4.7</td>\n",
       "    </tr>\n",
       "  </tbody>\n",
       "</table>\n",
       "<p>5 rows × 128 columns</p>\n",
       "</div>"
      ],
      "text/plain": [
       "      Age    AnalysisPool AnalysisProject  \\\n",
       "0  p25-27  MidbrainDorsal      Adolescent   \n",
       "1     p22  MidbrainDorsal      Adolescent   \n",
       "2     p20  MidbrainDorsal      Adolescent   \n",
       "3     p20  MidbrainDorsal      Adolescent   \n",
       "4     p20  MidbrainDorsal      Adolescent   \n",
       "\n",
       "                                              Bucket CellConc  \\\n",
       "0  /Users/sten/build_20171205/L4_Mesencephalon_Ex...     1000   \n",
       "1  /Users/sten/build_20171205/L4_Mesencephalon_Ex...      600   \n",
       "2  /Users/sten/build_20171205/L4_Mesencephalon_Ex...     1000   \n",
       "3  /Users/sten/build_20171205/L4_Mesencephalon_Ex...     1000   \n",
       "4  /Users/sten/build_20171205/L4_Mesencephalon_Ex...     1000   \n",
       "\n",
       "                     CellID Cell_Conc ChipID    Class  \\\n",
       "0     10X57_3_ACTACTACCTCC-      1000  10X57  Neurons   \n",
       "1  10X20_3_CTTTACGAGAGATA-1       600  10x20  Neurons   \n",
       "2     10X52_3_GAGAGAGTCGTA-      1000  10X52  Neurons   \n",
       "3     10X52_4_GCCCACAGTCGT-      1000  10X52  Neurons   \n",
       "4     10X52_1_AGTCGAAAAGCA-      1000  10X52  Neurons   \n",
       "\n",
       "   ClassProbability_Astrocyte      ...       _Valid         _X         _Y  \\\n",
       "0                    0.000003      ...            1 -32.498073  33.273279   \n",
       "1                    0.000002      ...            1 -32.334977  33.420311   \n",
       "2                    0.000005      ...            1 -32.774164  32.154477   \n",
       "3                    0.000003      ...            1 -32.462244  33.395171   \n",
       "4                    0.000002      ...            1 -32.486180  33.330950   \n",
       "\n",
       "      _tSNE1     _tSNE2  cDNAConcNanogramPerMicroliter  cDNALibOk  \\\n",
       "0 -40.188528   9.791136                            7.7          Y   \n",
       "1 -15.130097  28.422395                            2.8        nan   \n",
       "2  -9.805529  19.277381                            5.9          Y   \n",
       "3   5.513229  29.129026                            6.1          Y   \n",
       "4   3.474674   0.422312                            4.7          Y   \n",
       "\n",
       "   cDNA_Lib_Ok      ident  ngperul_cDNA  \n",
       "0            Y  b'MEGLU6'           7.7  \n",
       "1               b'MEGLU6'           2.8  \n",
       "2            Y  b'MEGLU6'           5.9  \n",
       "3            Y  b'MEGLU6'           6.1  \n",
       "4            Y  b'MEGLU6'           4.7  \n",
       "\n",
       "[5 rows x 128 columns]"
      ]
     },
     "execution_count": 37,
     "metadata": {},
     "output_type": "execute_result"
    }
   ],
   "source": [
    "### Get metadata\n",
    "dict_ca = {}\n",
    "for ca in ds.ca.keys():\n",
    "    # len(ds.ca[ca]) == 265 for all \n",
    "    dict_ca[ca] = ds.ca[ca][bool_cells_extract] # OBS: bool_cells_extract\n",
    "df_ca = pd.DataFrame(dict_ca)\n",
    "print(df_ca.shape)\n",
    "df_ca.head()"
   ]
  },
  {
   "cell_type": "code",
   "execution_count": 38,
   "metadata": {
    "ExecuteTime": {
     "end_time": "2018-10-24T15:07:31.835330Z",
     "start_time": "2018-10-24T15:07:31.833468Z"
    },
    "collapsed": true
   },
   "outputs": [],
   "source": [
    "### Write two data frames\n",
    "# df_ca.to_csv(\"mousebrain-L5.top10_cts.metadata.csv\", index=False)"
   ]
  },
  {
   "cell_type": "code",
   "execution_count": 39,
   "metadata": {
    "ExecuteTime": {
     "end_time": "2018-10-24T15:07:31.839481Z",
     "start_time": "2018-10-24T15:07:31.837145Z"
    },
    "collapsed": true
   },
   "outputs": [],
   "source": [
    "# df_extract.to_csv(\"mousebrain-L5.top10_cts.csv.gz\", index=True, compression=\"gzip\")"
   ]
  },
  {
   "cell_type": "code",
   "execution_count": 40,
   "metadata": {
    "ExecuteTime": {
     "end_time": "2018-10-24T15:07:31.843267Z",
     "start_time": "2018-10-24T15:07:31.840849Z"
    }
   },
   "outputs": [
    {
     "name": "stdout",
     "output_type": "stream",
     "text": [
      "X\n"
     ]
    }
   ],
   "source": [
    "print(\"X\")"
   ]
  },
  {
   "cell_type": "code",
   "execution_count": null,
   "metadata": {
    "collapsed": true
   },
   "outputs": [],
   "source": []
  },
  {
   "cell_type": "code",
   "execution_count": null,
   "metadata": {
    "collapsed": true
   },
   "outputs": [],
   "source": []
  },
  {
   "cell_type": "code",
   "execution_count": null,
   "metadata": {
    "collapsed": true
   },
   "outputs": [],
   "source": []
  },
  {
   "cell_type": "markdown",
   "metadata": {},
   "source": [
    "### ALL CELLS: Export meta data"
   ]
  },
  {
   "cell_type": "code",
   "execution_count": 15,
   "metadata": {
    "ExecuteTime": {
     "end_time": "2018-10-22T10:22:08.566556Z",
     "start_time": "2018-10-22T10:22:08.561691Z"
    }
   },
   "outputs": [
    {
     "data": {
      "text/plain": [
       "['Age',\n",
       " 'AnalysisPool',\n",
       " 'AnalysisProject',\n",
       " 'Bucket',\n",
       " 'CellConc',\n",
       " 'CellID',\n",
       " 'Cell_Conc',\n",
       " 'ChipID',\n",
       " 'Class',\n",
       " 'ClassProbability_Astrocyte',\n",
       " 'ClassProbability_Astrocyte,Immune',\n",
       " 'ClassProbability_Astrocyte,Neurons',\n",
       " 'ClassProbability_Astrocyte,Oligos',\n",
       " 'ClassProbability_Astrocyte,Vascular',\n",
       " 'ClassProbability_Bergmann-glia',\n",
       " 'ClassProbability_Blood',\n",
       " 'ClassProbability_Blood,Vascular',\n",
       " 'ClassProbability_Enteric-glia',\n",
       " 'ClassProbability_Enteric-glia,Cycling',\n",
       " 'ClassProbability_Ependymal',\n",
       " 'ClassProbability_Ex-Neurons',\n",
       " 'ClassProbability_Ex-Vascular',\n",
       " 'ClassProbability_Immune',\n",
       " 'ClassProbability_Immune,Neurons',\n",
       " 'ClassProbability_Immune,Oligos',\n",
       " 'ClassProbability_Neurons',\n",
       " 'ClassProbability_Neurons,Cycling',\n",
       " 'ClassProbability_Neurons,Oligos',\n",
       " 'ClassProbability_Neurons,Satellite-glia',\n",
       " 'ClassProbability_Neurons,Vascular',\n",
       " 'ClassProbability_OEC',\n",
       " 'ClassProbability_Oligos',\n",
       " 'ClassProbability_Oligos,Cycling',\n",
       " 'ClassProbability_Oligos,Vascular',\n",
       " 'ClassProbability_Satellite-glia',\n",
       " 'ClassProbability_Satellite-glia,Cycling',\n",
       " 'ClassProbability_Satellite-glia,Schwann',\n",
       " 'ClassProbability_Schwann',\n",
       " 'ClassProbability_Ttr',\n",
       " 'ClassProbability_Vascular',\n",
       " 'ClusterName',\n",
       " 'Clusters',\n",
       " 'Comment',\n",
       " 'Comments',\n",
       " 'DateCaptured',\n",
       " 'Date_Captured',\n",
       " 'Description',\n",
       " 'Developmental_compartment',\n",
       " 'DonorID',\n",
       " 'Estimated Number of Cells',\n",
       " 'Flowcell',\n",
       " 'Fraction Reads in Cells',\n",
       " 'Label',\n",
       " 'LeafOrder',\n",
       " 'Location_based_on',\n",
       " 'Mean Reads per Cell',\n",
       " 'Median Genes per Cell',\n",
       " 'Median UMI Counts per Cell',\n",
       " 'MitoRiboRatio',\n",
       " 'NGI_PlateWell',\n",
       " 'Neurotransmitter',\n",
       " 'NumPooledAnimals',\n",
       " 'Num_Pooled_Animals',\n",
       " 'Number of Reads',\n",
       " 'OriginalClusters',\n",
       " 'Outliers',\n",
       " 'PCRCycles',\n",
       " 'PCR_Cycles',\n",
       " 'PassedQC',\n",
       " 'PlugDate',\n",
       " 'Plug_Date',\n",
       " 'Probable_location',\n",
       " 'Project',\n",
       " 'Q30 Bases in Barcode',\n",
       " 'Q30 Bases in RNA Read',\n",
       " 'Q30 Bases in Sample Index',\n",
       " 'Q30 Bases in UMI',\n",
       " 'Reads Mapped Confidently to Exonic Regions',\n",
       " 'Reads Mapped Confidently to Intergenic Regions',\n",
       " 'Reads Mapped Confidently to Intronic Regions',\n",
       " 'Reads Mapped Confidently to Transcriptome',\n",
       " 'Region',\n",
       " 'SampleID',\n",
       " 'SampleIndex',\n",
       " 'SampleOK',\n",
       " 'Sample_Index',\n",
       " 'SeqComment',\n",
       " 'SeqLibDate',\n",
       " 'SeqLibOk',\n",
       " 'Seq_Comment',\n",
       " 'Seq_Lib_Date',\n",
       " 'Seq_Lib_Ok',\n",
       " 'Sequencing Saturation',\n",
       " 'Serial_Number',\n",
       " 'Sex',\n",
       " 'Species',\n",
       " 'Strain',\n",
       " 'Subclass',\n",
       " 'TargetNumCells',\n",
       " 'Target_Num_Cells',\n",
       " 'TaxonomyRank1',\n",
       " 'TaxonomyRank2',\n",
       " 'TaxonomyRank3',\n",
       " 'TaxonomyRank4',\n",
       " 'TaxonomySymbol',\n",
       " 'Taxonomy_group',\n",
       " 'TimepointPool',\n",
       " 'Tissue',\n",
       " 'Total Genes Detected',\n",
       " 'Transcriptome',\n",
       " 'Valid Barcodes',\n",
       " '_KMeans_10',\n",
       " '_LogCV',\n",
       " '_LogMean',\n",
       " '_NGenes',\n",
       " '_PC1',\n",
       " '_PC2',\n",
       " '_Total',\n",
       " '_Valid',\n",
       " '_X',\n",
       " '_Y',\n",
       " '_tSNE1',\n",
       " '_tSNE2',\n",
       " 'cDNAConcNanogramPerMicroliter',\n",
       " 'cDNALibOk',\n",
       " 'cDNA_Lib_Ok',\n",
       " 'ident',\n",
       " 'ngperul_cDNA']"
      ]
     },
     "execution_count": 15,
     "metadata": {},
     "output_type": "execute_result"
    }
   ],
   "source": [
    "ds.ca.keys()"
   ]
  },
  {
   "cell_type": "code",
   "execution_count": 16,
   "metadata": {
    "ExecuteTime": {
     "end_time": "2018-10-22T10:22:08.937339Z",
     "start_time": "2018-10-22T10:22:08.934437Z"
    },
    "collapsed": true
   },
   "outputs": [],
   "source": [
    "dict_ca = {}\n",
    "for ca in ds.ca.keys():\n",
    "    # len(ds.ca[ca]) == 265 for all \n",
    "    dict_ca[ca] = ds.ca[ca]\n"
   ]
  },
  {
   "cell_type": "code",
   "execution_count": 17,
   "metadata": {
    "ExecuteTime": {
     "end_time": "2018-10-22T10:22:10.827340Z",
     "start_time": "2018-10-22T10:22:09.325578Z"
    }
   },
   "outputs": [
    {
     "data": {
      "text/html": [
       "<div>\n",
       "<style scoped>\n",
       "    .dataframe tbody tr th:only-of-type {\n",
       "        vertical-align: middle;\n",
       "    }\n",
       "\n",
       "    .dataframe tbody tr th {\n",
       "        vertical-align: top;\n",
       "    }\n",
       "\n",
       "    .dataframe thead th {\n",
       "        text-align: right;\n",
       "    }\n",
       "</style>\n",
       "<table border=\"1\" class=\"dataframe\">\n",
       "  <thead>\n",
       "    <tr style=\"text-align: right;\">\n",
       "      <th></th>\n",
       "      <th>Age</th>\n",
       "      <th>AnalysisPool</th>\n",
       "      <th>AnalysisProject</th>\n",
       "      <th>Bucket</th>\n",
       "      <th>CellConc</th>\n",
       "      <th>CellID</th>\n",
       "      <th>Cell_Conc</th>\n",
       "      <th>ChipID</th>\n",
       "      <th>Class</th>\n",
       "      <th>ClassProbability_Astrocyte</th>\n",
       "      <th>...</th>\n",
       "      <th>_Valid</th>\n",
       "      <th>_X</th>\n",
       "      <th>_Y</th>\n",
       "      <th>_tSNE1</th>\n",
       "      <th>_tSNE2</th>\n",
       "      <th>cDNAConcNanogramPerMicroliter</th>\n",
       "      <th>cDNALibOk</th>\n",
       "      <th>cDNA_Lib_Ok</th>\n",
       "      <th>ident</th>\n",
       "      <th>ngperul_cDNA</th>\n",
       "    </tr>\n",
       "  </thead>\n",
       "  <tbody>\n",
       "    <tr>\n",
       "      <th>0</th>\n",
       "      <td>p21, p23</td>\n",
       "      <td>Enteric</td>\n",
       "      <td>Adolescent</td>\n",
       "      <td>/Users/sten/build_20171205/L4_Enteric_Neurons....</td>\n",
       "      <td>1000</td>\n",
       "      <td>10X82_2_TCTCTCACCAGTTA-</td>\n",
       "      <td>1000</td>\n",
       "      <td>10X82</td>\n",
       "      <td>Neurons</td>\n",
       "      <td>0.001907</td>\n",
       "      <td>...</td>\n",
       "      <td>1</td>\n",
       "      <td>32.193249</td>\n",
       "      <td>57.796911</td>\n",
       "      <td>-25.777197</td>\n",
       "      <td>33.125470</td>\n",
       "      <td>7.4</td>\n",
       "      <td>Y</td>\n",
       "      <td>Y</td>\n",
       "      <td>b'ENT9'</td>\n",
       "      <td>7,4</td>\n",
       "    </tr>\n",
       "    <tr>\n",
       "      <th>1</th>\n",
       "      <td>p21, p23</td>\n",
       "      <td>Enteric</td>\n",
       "      <td>Adolescent</td>\n",
       "      <td>/Users/sten/build_20171205/L4_Enteric_Neurons....</td>\n",
       "      <td>1000</td>\n",
       "      <td>10X82_2_TATTATCTACCAGA-</td>\n",
       "      <td>1000</td>\n",
       "      <td>10X82</td>\n",
       "      <td>Neurons</td>\n",
       "      <td>0.001628</td>\n",
       "      <td>...</td>\n",
       "      <td>1</td>\n",
       "      <td>32.223551</td>\n",
       "      <td>57.314149</td>\n",
       "      <td>-25.667509</td>\n",
       "      <td>33.253273</td>\n",
       "      <td>7.4</td>\n",
       "      <td>Y</td>\n",
       "      <td>Y</td>\n",
       "      <td>b'ENT9'</td>\n",
       "      <td>7,4</td>\n",
       "    </tr>\n",
       "    <tr>\n",
       "      <th>2</th>\n",
       "      <td>p21, p23</td>\n",
       "      <td>Enteric</td>\n",
       "      <td>Adolescent</td>\n",
       "      <td>/Users/sten/build_20171205/L4_Enteric_Neurons....</td>\n",
       "      <td>1000</td>\n",
       "      <td>10X82_2_TATCCCAGATGGCA-</td>\n",
       "      <td>1000</td>\n",
       "      <td>10X82</td>\n",
       "      <td>Neurons</td>\n",
       "      <td>0.001442</td>\n",
       "      <td>...</td>\n",
       "      <td>1</td>\n",
       "      <td>32.218912</td>\n",
       "      <td>57.548472</td>\n",
       "      <td>-26.298035</td>\n",
       "      <td>33.273140</td>\n",
       "      <td>7.4</td>\n",
       "      <td>Y</td>\n",
       "      <td>Y</td>\n",
       "      <td>b'ENT9'</td>\n",
       "      <td>7,4</td>\n",
       "    </tr>\n",
       "    <tr>\n",
       "      <th>3</th>\n",
       "      <td>p21, p23</td>\n",
       "      <td>Enteric</td>\n",
       "      <td>Adolescent</td>\n",
       "      <td>/Users/sten/build_20171205/L4_Enteric_Neurons....</td>\n",
       "      <td>1000</td>\n",
       "      <td>10X82_2_ATTACGTATGAATG-</td>\n",
       "      <td>1000</td>\n",
       "      <td>10X82</td>\n",
       "      <td>Neurons</td>\n",
       "      <td>0.001459</td>\n",
       "      <td>...</td>\n",
       "      <td>1</td>\n",
       "      <td>32.187166</td>\n",
       "      <td>57.612631</td>\n",
       "      <td>-26.154149</td>\n",
       "      <td>33.878698</td>\n",
       "      <td>7.4</td>\n",
       "      <td>Y</td>\n",
       "      <td>Y</td>\n",
       "      <td>b'ENT9'</td>\n",
       "      <td>7,4</td>\n",
       "    </tr>\n",
       "    <tr>\n",
       "      <th>4</th>\n",
       "      <td>p21, p23</td>\n",
       "      <td>Enteric</td>\n",
       "      <td>Adolescent</td>\n",
       "      <td>/Users/sten/build_20171205/L4_Enteric_Neurons....</td>\n",
       "      <td>1000</td>\n",
       "      <td>10X82_2_ATACGTCAATAAGG-</td>\n",
       "      <td>1000</td>\n",
       "      <td>10X82</td>\n",
       "      <td>Neurons</td>\n",
       "      <td>0.001311</td>\n",
       "      <td>...</td>\n",
       "      <td>1</td>\n",
       "      <td>32.254647</td>\n",
       "      <td>57.591897</td>\n",
       "      <td>-25.976202</td>\n",
       "      <td>32.505965</td>\n",
       "      <td>7.4</td>\n",
       "      <td>Y</td>\n",
       "      <td>Y</td>\n",
       "      <td>b'ENT9'</td>\n",
       "      <td>7,4</td>\n",
       "    </tr>\n",
       "  </tbody>\n",
       "</table>\n",
       "<p>5 rows × 128 columns</p>\n",
       "</div>"
      ],
      "text/plain": [
       "        Age AnalysisPool AnalysisProject  \\\n",
       "0  p21, p23      Enteric      Adolescent   \n",
       "1  p21, p23      Enteric      Adolescent   \n",
       "2  p21, p23      Enteric      Adolescent   \n",
       "3  p21, p23      Enteric      Adolescent   \n",
       "4  p21, p23      Enteric      Adolescent   \n",
       "\n",
       "                                              Bucket CellConc  \\\n",
       "0  /Users/sten/build_20171205/L4_Enteric_Neurons....     1000   \n",
       "1  /Users/sten/build_20171205/L4_Enteric_Neurons....     1000   \n",
       "2  /Users/sten/build_20171205/L4_Enteric_Neurons....     1000   \n",
       "3  /Users/sten/build_20171205/L4_Enteric_Neurons....     1000   \n",
       "4  /Users/sten/build_20171205/L4_Enteric_Neurons....     1000   \n",
       "\n",
       "                    CellID Cell_Conc ChipID    Class  \\\n",
       "0  10X82_2_TCTCTCACCAGTTA-      1000  10X82  Neurons   \n",
       "1  10X82_2_TATTATCTACCAGA-      1000  10X82  Neurons   \n",
       "2  10X82_2_TATCCCAGATGGCA-      1000  10X82  Neurons   \n",
       "3  10X82_2_ATTACGTATGAATG-      1000  10X82  Neurons   \n",
       "4  10X82_2_ATACGTCAATAAGG-      1000  10X82  Neurons   \n",
       "\n",
       "   ClassProbability_Astrocyte      ...       _Valid         _X         _Y  \\\n",
       "0                    0.001907      ...            1  32.193249  57.796911   \n",
       "1                    0.001628      ...            1  32.223551  57.314149   \n",
       "2                    0.001442      ...            1  32.218912  57.548472   \n",
       "3                    0.001459      ...            1  32.187166  57.612631   \n",
       "4                    0.001311      ...            1  32.254647  57.591897   \n",
       "\n",
       "      _tSNE1     _tSNE2  cDNAConcNanogramPerMicroliter  cDNALibOk  \\\n",
       "0 -25.777197  33.125470                            7.4          Y   \n",
       "1 -25.667509  33.253273                            7.4          Y   \n",
       "2 -26.298035  33.273140                            7.4          Y   \n",
       "3 -26.154149  33.878698                            7.4          Y   \n",
       "4 -25.976202  32.505965                            7.4          Y   \n",
       "\n",
       "   cDNA_Lib_Ok    ident  ngperul_cDNA  \n",
       "0            Y  b'ENT9'           7,4  \n",
       "1            Y  b'ENT9'           7,4  \n",
       "2            Y  b'ENT9'           7,4  \n",
       "3            Y  b'ENT9'           7,4  \n",
       "4            Y  b'ENT9'           7,4  \n",
       "\n",
       "[5 rows x 128 columns]"
      ]
     },
     "execution_count": 17,
     "metadata": {},
     "output_type": "execute_result"
    }
   ],
   "source": [
    "df_ca = pd.DataFrame(dict_ca)\n",
    "df_ca.head()"
   ]
  },
  {
   "cell_type": "code",
   "execution_count": 28,
   "metadata": {
    "ExecuteTime": {
     "end_time": "2018-10-24T14:56:25.046958Z",
     "start_time": "2018-10-24T14:56:25.042926Z"
    }
   },
   "outputs": [
    {
     "data": {
      "text/plain": [
       "Index(['CellID', 'ClusterName', '_Valid'], dtype='object')"
      ]
     },
     "execution_count": 28,
     "metadata": {},
     "output_type": "execute_result"
    }
   ],
   "source": []
  },
  {
   "cell_type": "code",
   "execution_count": 18,
   "metadata": {
    "ExecuteTime": {
     "end_time": "2018-10-22T10:22:10.847458Z",
     "start_time": "2018-10-22T10:22:10.830188Z"
    }
   },
   "outputs": [
    {
     "data": {
      "text/html": [
       "<div>\n",
       "<style scoped>\n",
       "    .dataframe tbody tr th:only-of-type {\n",
       "        vertical-align: middle;\n",
       "    }\n",
       "\n",
       "    .dataframe tbody tr th {\n",
       "        vertical-align: top;\n",
       "    }\n",
       "\n",
       "    .dataframe thead th {\n",
       "        text-align: right;\n",
       "    }\n",
       "</style>\n",
       "<table border=\"1\" class=\"dataframe\">\n",
       "  <thead>\n",
       "    <tr style=\"text-align: right;\">\n",
       "      <th></th>\n",
       "      <th>CellID</th>\n",
       "      <th>ClusterName</th>\n",
       "      <th>_Valid</th>\n",
       "    </tr>\n",
       "  </thead>\n",
       "  <tbody>\n",
       "    <tr>\n",
       "      <th>0</th>\n",
       "      <td>10X82_2_TCTCTCACCAGTTA-</td>\n",
       "      <td>ENT9</td>\n",
       "      <td>1</td>\n",
       "    </tr>\n",
       "    <tr>\n",
       "      <th>1</th>\n",
       "      <td>10X82_2_TATTATCTACCAGA-</td>\n",
       "      <td>ENT9</td>\n",
       "      <td>1</td>\n",
       "    </tr>\n",
       "    <tr>\n",
       "      <th>2</th>\n",
       "      <td>10X82_2_TATCCCAGATGGCA-</td>\n",
       "      <td>ENT9</td>\n",
       "      <td>1</td>\n",
       "    </tr>\n",
       "    <tr>\n",
       "      <th>3</th>\n",
       "      <td>10X82_2_ATTACGTATGAATG-</td>\n",
       "      <td>ENT9</td>\n",
       "      <td>1</td>\n",
       "    </tr>\n",
       "    <tr>\n",
       "      <th>4</th>\n",
       "      <td>10X82_2_ATACGTCAATAAGG-</td>\n",
       "      <td>ENT9</td>\n",
       "      <td>1</td>\n",
       "    </tr>\n",
       "  </tbody>\n",
       "</table>\n",
       "</div>"
      ],
      "text/plain": [
       "                    CellID ClusterName  _Valid\n",
       "0  10X82_2_TCTCTCACCAGTTA-        ENT9       1\n",
       "1  10X82_2_TATTATCTACCAGA-        ENT9       1\n",
       "2  10X82_2_TATCCCAGATGGCA-        ENT9       1\n",
       "3  10X82_2_ATTACGTATGAATG-        ENT9       1\n",
       "4  10X82_2_ATACGTCAATAAGG-        ENT9       1"
      ]
     },
     "execution_count": 18,
     "metadata": {},
     "output_type": "execute_result"
    }
   ],
   "source": [
    "### Drop certain columns\n",
    "# df_ca = df_ca.loc[:, ~df_ca.columns.str.startswith('Age_')]\n",
    "# df_ca = df_ca.loc[:, ~df_ca.columns.str.startswith('SampleID_')]\n",
    "# df_ca = df_ca.loc[:, ~df_ca.columns.str.startswith('ClassProbability_')]\n",
    "# df_ca.head()\n",
    "\n",
    "### keep only certain columns\n",
    "# cols_keep = ['CellID',\n",
    "# 'ClusterName',\n",
    "# 'Clusters',\n",
    "# 'Comment',\n",
    "# 'Comments',\n",
    "# 'Description',\n",
    "# 'Developmental_compartment',\n",
    "# 'Neurotransmitter',\n",
    "# 'Region',\n",
    "# 'Age',\n",
    "# 'Class',\n",
    "# 'Sex',\n",
    "# 'Species',\n",
    "# 'Strain',\n",
    "# 'Subclass',\n",
    "# 'TaxonomyRank1',\n",
    "# 'TaxonomyRank2',\n",
    "# 'TaxonomyRank3',\n",
    "# 'TaxonomyRank4',\n",
    "# 'TaxonomySymbol',\n",
    "# 'Taxonomy_group']\n",
    "\n",
    "cols_keep = ['CellID','ClusterName', '_Valid']\n",
    "\n",
    "df_ca = df_ca.loc[:, cols_keep]\n",
    "df_ca.head()"
   ]
  },
  {
   "cell_type": "code",
   "execution_count": 25,
   "metadata": {
    "ExecuteTime": {
     "end_time": "2018-10-22T10:28:49.999378Z",
     "start_time": "2018-10-22T10:28:49.984009Z"
    }
   },
   "outputs": [
    {
     "data": {
      "text/plain": [
       "0         False\n",
       "1         False\n",
       "2         False\n",
       "3         False\n",
       "4         False\n",
       "5         False\n",
       "6         False\n",
       "7         False\n",
       "8         False\n",
       "9         False\n",
       "10        False\n",
       "11        False\n",
       "12        False\n",
       "13        False\n",
       "14        False\n",
       "15        False\n",
       "16        False\n",
       "17        False\n",
       "18        False\n",
       "19        False\n",
       "20        False\n",
       "21        False\n",
       "22        False\n",
       "23        False\n",
       "24        False\n",
       "25        False\n",
       "26        False\n",
       "27        False\n",
       "28        False\n",
       "29        False\n",
       "          ...  \n",
       "160766    False\n",
       "160767    False\n",
       "160768    False\n",
       "160769    False\n",
       "160770    False\n",
       "160771    False\n",
       "160772    False\n",
       "160773    False\n",
       "160774    False\n",
       "160775    False\n",
       "160776    False\n",
       "160777    False\n",
       "160778    False\n",
       "160779    False\n",
       "160780    False\n",
       "160781    False\n",
       "160782    False\n",
       "160783    False\n",
       "160784    False\n",
       "160785    False\n",
       "160786    False\n",
       "160787    False\n",
       "160788    False\n",
       "160789    False\n",
       "160790    False\n",
       "160791    False\n",
       "160792    False\n",
       "160793    False\n",
       "160794    False\n",
       "160795    False\n",
       "Name: ClusterName, Length: 160796, dtype: bool"
      ]
     },
     "execution_count": 25,
     "metadata": {},
     "output_type": "execute_result"
    }
   ],
   "source": [
    "sum(df_ca['_Valid'])\n",
    "df_ca['ClusterName'].isnull()\n",
    "#df_ca.groupby('ClusterName').size().sort_values()"
   ]
  },
  {
   "cell_type": "code",
   "execution_count": 13,
   "metadata": {
    "ExecuteTime": {
     "end_time": "2018-10-22T10:07:19.630453Z",
     "start_time": "2018-10-22T10:07:17.865904Z"
    },
    "collapsed": true
   },
   "outputs": [],
   "source": [
    "### Write file\n",
    "df_ca.to_csv(\"mousebrain-L5.metadata_cluster_name.csv.gz\", index=False, compression=\"gzip\")"
   ]
  },
  {
   "cell_type": "code",
   "execution_count": null,
   "metadata": {
    "ExecuteTime": {
     "start_time": "2018-07-13T08:39:20.895Z"
    },
    "collapsed": true
   },
   "outputs": [],
   "source": []
  },
  {
   "cell_type": "code",
   "execution_count": null,
   "metadata": {
    "collapsed": true
   },
   "outputs": [],
   "source": []
  }
 ],
 "metadata": {
  "kernelspec": {
   "display_name": "Python [conda env:py3_anaconda3_PT180510]",
   "language": "python",
   "name": "conda-env-py3_anaconda3_PT180510-py"
  },
  "language_info": {
   "codemirror_mode": {
    "name": "ipython",
    "version": 3
   },
   "file_extension": ".py",
   "mimetype": "text/x-python",
   "name": "python",
   "nbconvert_exporter": "python",
   "pygments_lexer": "ipython3",
   "version": "3.6.6"
  },
  "toc": {
   "colors": {
    "hover_highlight": "#DAA520",
    "navigate_num": "#000000",
    "navigate_text": "#333333",
    "running_highlight": "#FF0000",
    "selected_highlight": "#FFD700",
    "sidebar_border": "#EEEEEE",
    "wrapper_background": "#FFFFFF"
   },
   "moveMenuLeft": true,
   "nav_menu": {
    "height": "12px",
    "width": "252px"
   },
   "navigate_menu": true,
   "number_sections": true,
   "sideBar": true,
   "threshold": 4,
   "toc_cell": false,
   "toc_section_display": "block",
   "toc_window_display": false,
   "widenNotebook": false
  }
 },
 "nbformat": 4,
 "nbformat_minor": 2
}
