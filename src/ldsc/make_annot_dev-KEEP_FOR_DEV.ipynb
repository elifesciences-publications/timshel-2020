{
 "cells": [
  {
   "cell_type": "code",
   "execution_count": 94,
   "metadata": {
    "ExecuteTime": {
     "end_time": "2019-01-07T10:22:54.432080Z",
     "start_time": "2019-01-07T10:22:54.409587Z"
    },
    "collapsed": true
   },
   "outputs": [],
   "source": [
    "from __future__ import print_function\n",
    "\n",
    "import multiprocessing\n",
    "import os\n",
    "import sys\n",
    "import subprocess\n",
    "\n",
    "import itertools\n",
    "import functools\n",
    "\n",
    "import pandas as pd\n",
    "import numpy as np\n",
    "import argparse\n",
    "\n",
    "\n"
   ]
  },
  {
   "cell_type": "code",
   "execution_count": 95,
   "metadata": {
    "ExecuteTime": {
     "end_time": "2019-01-07T10:22:54.673055Z",
     "start_time": "2019-01-07T10:22:54.660153Z"
    },
    "collapsed": true
   },
   "outputs": [],
   "source": [
    "# use the below if running script within anaconda:\n",
    "# os.environ[\"PATH\"] += os.pathsep + \"/tools/bedtools/2.27.1/bin/\"\n",
    "# os.environ[\"PATH\"] += os.pathsep + \"/tools/htslib/1.6/bin/\"\n",
    "\n",
    "from pybedtools import BedTool \n",
    "# ^ some/all of pybedtools requires 'bedtools' to be available on your PATH /tools/bedtools/2.27.1/bin/bedtools\n",
    "# BedTool(..).sort(): \"sortBed\" does not appear to be installed or on the path, so this method is disabled. Please install a more recent version of BEDTools and re-import to use this method."
   ]
  },
  {
   "cell_type": "code",
   "execution_count": 96,
   "metadata": {
    "ExecuteTime": {
     "end_time": "2019-01-07T10:22:54.873948Z",
     "start_time": "2019-01-07T10:22:54.860666Z"
    },
    "collapsed": true
   },
   "outputs": [],
   "source": [
    "import sys\n",
    "\n",
    "sys.path.insert(0, \"/projects/timshel/sc-genetics/sc-genetics/src/ldsc\")\n",
    "from make_annot_from_geneset_all_chr import *"
   ]
  },
  {
   "cell_type": "code",
   "execution_count": 97,
   "metadata": {
    "ExecuteTime": {
     "end_time": "2019-01-07T10:22:56.264552Z",
     "start_time": "2019-01-07T10:22:56.250457Z"
    }
   },
   "outputs": [
    {
     "name": "stdout",
     "output_type": "stream",
     "text": [
      "The autoreload extension is already loaded. To reload it, use:\n",
      "  %reload_ext autoreload\n"
     ]
    }
   ],
   "source": [
    "%load_ext autoreload\n",
    "%autoreload 2"
   ]
  },
  {
   "cell_type": "code",
   "execution_count": 98,
   "metadata": {
    "ExecuteTime": {
     "end_time": "2019-01-07T10:22:56.457267Z",
     "start_time": "2019-01-07T10:22:56.444318Z"
    },
    "collapsed": true
   },
   "outputs": [],
   "source": [
    "import shlex"
   ]
  },
  {
   "cell_type": "code",
   "execution_count": 99,
   "metadata": {
    "ExecuteTime": {
     "end_time": "2019-01-07T10:22:57.471412Z",
     "start_time": "2019-01-07T10:22:57.452379Z"
    }
   },
   "outputs": [
    {
     "data": {
      "text/plain": [
       "_StoreAction(option_strings=['--n_parallel_jobs'], dest='n_parallel_jobs', nargs=None, const=None, default=22, type=<class 'int'>, choices=None, help='Number of processes. Default 22 (the number of chromosomes)', metavar=None)"
      ]
     },
     "execution_count": 99,
     "metadata": {},
     "output_type": "execute_result"
    }
   ],
   "source": [
    "parser = argparse.ArgumentParser()\n",
    "parser.add_argument('--file_multi_gene_set', type=str, help='a file of gene names, one line per gene.')\n",
    "parser.add_argument('--file_gene_coord', type=str, help='a file with columns GENE, CHR, START, and END, where START and END are base pair coordinates of TSS and TES. This file can contain more genes than are in the gene set. We provide ENSG_coord.txt as a default.')\n",
    "parser.add_argument('--windowsize', type=int, help='how many base pairs to add around the transcribed region to make the annotation? Finucane uses 100 kb.')\n",
    "parser.add_argument('--bimfile_basename', type=str, help='plink bim BASENAME for the dataset you will use to compute LD scores. If argument is \"1000G.EUR.QC\", then the files \"1000G.EUR.QC.1.bim\", \"1000G.EUR.QC.2.bim\", ..., \"1000G.EUR.QC.22.bim\" will be loaded')\n",
    "parser.add_argument('--out_dir', type=str, help='output directory to write annot files. Relative or absolute. Dir be created if it does not exist. ')\n",
    "parser.add_argument('--out_prefix', type=str, help='Prefix for output files. Outputfiles will be <out_dir>/<out_prefix>.<name_annotation>.<chromosome>.annot.gz')\n",
    "parser.add_argument('--flag_annot_file_per_geneset', action='store_true', help='set flag to write one annot file per gene set per chromosome. Default is to write a combined annot file per chromosome containing all gene sets. NB: the annotation files are always split per chromosome.')\n",
    "parser.add_argument('--flag_encode_as_binary_annotation', action='store_true', help='set flag if LDSC annotations should be encoded as binary annotations {0,1}. The default is to use the continuous annotations, which require an appropriate field in the file_multi_gene_set')\n",
    "parser.add_argument('--flag_wgcna', action='store_true', help='set flag if file_multi_gene_set input is from WGCNA pipeline')\n",
    "parser.add_argument('--flag_mouse', action='store_true', help='set flag if ile_multi_gene_set input has mouse genes (instead of human)')\n",
    "parser.add_argument('--n_parallel_jobs', type=int, default=22, help='Number of processes. Default 22 (the number of chromosomes)')\n"
   ]
  },
  {
   "cell_type": "code",
   "execution_count": 100,
   "metadata": {
    "ExecuteTime": {
     "end_time": "2019-01-07T10:22:59.489322Z",
     "start_time": "2019-01-07T10:22:59.474096Z"
    },
    "collapsed": true
   },
   "outputs": [],
   "source": [
    "# /projects/timshel/sc-genetics/sc-genetics/data/gene_lists/mludwig_thesis_hypothalamus_wgcna_modules.csv\n",
    "### --flag_wgcna\n",
    "argString = \"\"\"--file_multi_gene_set /projects/timshel/sc-genetics/sc-genetics/src/ldsc/multi_geneset_files/test_file_multi_gene_set_wgcna200.csv \\\n",
    "--file_gene_coord /projects/timshel/sc-genetics/ldsc/data/gene_coords/gene_annotation.hsapiens_all_genes.GRCh37.ens_v91.LDSC_fmt.txt \\\n",
    "--windowsize 100000 \\\n",
    "--bimfile_basename /projects/timshel/sc-genetics/ldsc/data/1000G_EUR_Phase3_plink/1000G.EUR.QC \\\n",
    "--out_dir /scratch/sc-ldsc/TMP_TESTING_CONTINUOUS \\\n",
    "--out_prefix hypothalamus_mette_thesis \\\n",
    "--flag_wgcna \\\n",
    "--flag_mouse\"\"\"\n",
    "\n",
    "\n",
    "### no --flag_wgcna\n",
    "# argString = \"--file_multi_gene_set /projects/timshel/sc-genetics/sc-genetics/src/GE-mousebrain/multi_geneset.mousebrain_all.mean.txt --file_gene_coord /projects/timshel/sc-genetics/ldsc/data/gene_coords/gene_annotation.hsapiens_all_genes.GRCh37.ens_v91.LDSC_fmt.txt --windowsize 100000 --bimfile_basename /projects/timshel/sc-genetics/ldsc/data/1000G_EUR_Phase3_plink/1000G.EUR.QC --out_dir /scratch/sc-ldsc/celltypes.mousebrain.all.mean --out_prefix celltypes.mousebrain.all.mean --n_parallel_jobs 5\"\n",
    "\n",
    "args = parser.parse_args(shlex.split(argString))"
   ]
  },
  {
   "cell_type": "code",
   "execution_count": 101,
   "metadata": {
    "ExecuteTime": {
     "end_time": "2019-01-07T10:23:08.430372Z",
     "start_time": "2019-01-07T10:23:08.416820Z"
    },
    "collapsed": true
   },
   "outputs": [],
   "source": [
    "out_prefix = args.out_prefix\n",
    "out_dir = args.out_dir\n",
    "### Make out_dir\n",
    "if not os.path.exists(out_dir):\n",
    "    print(\"Making output dir {}\".format(out_dir))\n",
    "    os.makedirs(out_dir)"
   ]
  },
  {
   "cell_type": "code",
   "execution_count": 102,
   "metadata": {
    "ExecuteTime": {
     "end_time": "2019-01-07T10:23:09.742418Z",
     "start_time": "2019-01-07T10:23:09.632230Z"
    }
   },
   "outputs": [
    {
     "data": {
      "text/html": [
       "<div>\n",
       "<style scoped>\n",
       "    .dataframe tbody tr th:only-of-type {\n",
       "        vertical-align: middle;\n",
       "    }\n",
       "\n",
       "    .dataframe tbody tr th {\n",
       "        vertical-align: top;\n",
       "    }\n",
       "\n",
       "    .dataframe thead th {\n",
       "        text-align: right;\n",
       "    }\n",
       "</style>\n",
       "<table border=\"1\" class=\"dataframe\">\n",
       "  <thead>\n",
       "    <tr style=\"text-align: right;\">\n",
       "      <th></th>\n",
       "      <th>GENE</th>\n",
       "      <th>CHR</th>\n",
       "      <th>START</th>\n",
       "      <th>END</th>\n",
       "      <th>gene_biotype</th>\n",
       "    </tr>\n",
       "  </thead>\n",
       "  <tbody>\n",
       "    <tr>\n",
       "      <th>0</th>\n",
       "      <td>ENSG00000261657</td>\n",
       "      <td>HG991_PATCH</td>\n",
       "      <td>66119285</td>\n",
       "      <td>66465398</td>\n",
       "      <td>protein_coding</td>\n",
       "    </tr>\n",
       "    <tr>\n",
       "      <th>1</th>\n",
       "      <td>ENSG00000223116</td>\n",
       "      <td>13</td>\n",
       "      <td>23551994</td>\n",
       "      <td>23552136</td>\n",
       "      <td>miRNA</td>\n",
       "    </tr>\n",
       "    <tr>\n",
       "      <th>2</th>\n",
       "      <td>ENSG00000233440</td>\n",
       "      <td>13</td>\n",
       "      <td>23708313</td>\n",
       "      <td>23708703</td>\n",
       "      <td>pseudogene</td>\n",
       "    </tr>\n",
       "    <tr>\n",
       "      <th>3</th>\n",
       "      <td>ENSG00000207157</td>\n",
       "      <td>13</td>\n",
       "      <td>23726725</td>\n",
       "      <td>23726825</td>\n",
       "      <td>misc_RNA</td>\n",
       "    </tr>\n",
       "    <tr>\n",
       "      <th>4</th>\n",
       "      <td>ENSG00000229483</td>\n",
       "      <td>13</td>\n",
       "      <td>23743974</td>\n",
       "      <td>23744736</td>\n",
       "      <td>lincRNA</td>\n",
       "    </tr>\n",
       "  </tbody>\n",
       "</table>\n",
       "</div>"
      ],
      "text/plain": [
       "              GENE          CHR     START       END    gene_biotype\n",
       "0  ENSG00000261657  HG991_PATCH  66119285  66465398  protein_coding\n",
       "1  ENSG00000223116           13  23551994  23552136           miRNA\n",
       "2  ENSG00000233440           13  23708313  23708703      pseudogene\n",
       "3  ENSG00000207157           13  23726725  23726825        misc_RNA\n",
       "4  ENSG00000229483           13  23743974  23744736         lincRNA"
      ]
     },
     "execution_count": 102,
     "metadata": {},
     "output_type": "execute_result"
    }
   ],
   "source": [
    "### read coord file\n",
    "df_gene_coord = pd.read_csv(args.file_gene_coord, delim_whitespace = True)\n",
    "df_gene_coord.head()"
   ]
  },
  {
   "cell_type": "code",
   "execution_count": 112,
   "metadata": {
    "ExecuteTime": {
     "end_time": "2019-01-07T10:31:38.683498Z",
     "start_time": "2019-01-07T10:31:38.590055Z"
    }
   },
   "outputs": [
    {
     "name": "stdout",
     "output_type": "stream",
     "text": [
      "Read file_multi_gene_set. Header of the parsed/processed file:\n",
      "             cell_cluster      annotation          gene_input           hgcn  \\\n",
      "0  Aorta_endothelial cell  antiquewhite32  ENSMUSG00000017639      Rab11fip4   \n",
      "1  Aorta_endothelial cell   antiquewhite3  ENSMUSG00000004233          Wars2   \n",
      "2  Aorta_endothelial cell   antiquewhite3  ENSMUSG00000031487           Brf2   \n",
      "3  Aorta_endothelial cell   antiquewhite3  ENSMUSG00000032997           Chpf   \n",
      "4  Aorta_endothelial cell   antiquewhite3  ENSMUSG00000022311          Csmd3   \n",
      "5  Aorta_endothelial cell   antiquewhite3  ENSMUSG00000042208  0610010F05Rik   \n",
      "6  Aorta_endothelial cell   antiquewhite3  ENSMUSG00000073176         Zfp449   \n",
      "7  Aorta_endothelial cell   antiquewhite3  ENSMUSG00000054320         Lrrc36   \n",
      "8  Aorta_endothelial cell   antiquewhite3  ENSMUSG00000022325           Pop1   \n",
      "9  Aorta_endothelial cell   antiquewhite3  ENSMUSG00000089872        Rps6kc1   \n",
      "\n",
      "   annotation_value  \n",
      "0          0.888954  \n",
      "1          0.860975  \n",
      "2          0.855920  \n",
      "3          0.824265  \n",
      "4          0.820682  \n",
      "5          0.815140  \n",
      "6          0.766029  \n",
      "7          0.748867  \n",
      "8          0.746651  \n",
      "9          0.739115  \n",
      "Annotation value summary stats:\n",
      "                    mean       std       max       min  count\n",
      "annotation                                                   \n",
      "antiquewhite3   0.504021  0.172993  0.860975  0.197602     71\n",
      "antiquewhite32  0.888954       NaN  0.888954  0.888954      1\n",
      "blue1           0.493654  0.166816  0.953638  0.202139    126\n",
      "chocolate       0.979035       NaN  0.979035  0.979035      1\n",
      "========================== STATS file_multi_gene_set ====================\n",
      "Number of gene sets: 4\n",
      "=========================================================================\n",
      "Mapping from mouse to human genes\n",
      "file_out_multi_geneset=/scratch/sc-ldsc/TMP_TESTING_CONTINUOUS/log.hypothalamus_mette_thesis.multi_geneset.txt exists. Check that all of df_multi_gene_set matches (a subset) of its content.\n",
      "df_multi_gene_set contains n=1 annotation-gene combinations not found in existing file_out_multi_geneset.\n",
      "Annotation names with annotation-gene combinations not in existing file are:\n",
      "antiquewhite32\n",
      "Header of df_multi_gene_set not in existing file:\n",
      "       annotation             gene  annotation_value            cell_cluster  \\\n",
      "0  antiquewhite32  ENSG00000131242          0.888954  Aorta_endothelial cell   \n",
      "\n",
      "           gene_input       hgcn  \n",
      "0  ENSMUSG00000017639  Rab11fip4  \n"
     ]
    },
    {
     "name": "stderr",
     "output_type": "stream",
     "text": [
      "/projects/timshel/sc-genetics/sc-genetics/src/ldsc/make_annot_from_geneset_all_chr.py:194: FutureWarning: using a dict on a Series for aggregation\n",
      "is deprecated and will be removed in a future version\n",
      "  'pct_genes_not_mapped': lambda x: \"{:.2f}\".format(sum(pd.isnull(x))/float(len(x))*100)})\n"
     ]
    },
    {
     "ename": "ValueError",
     "evalue": "df_multi_gene_set contains new annotation-gene combinations",
     "output_type": "error",
     "traceback": [
      "\u001b[0;31m---------------------------------------------------------------------------\u001b[0m",
      "\u001b[0;31mValueError\u001b[0m                                Traceback (most recent call last)",
      "\u001b[0;32m<ipython-input-112-da9416722161>\u001b[0m in \u001b[0;36m<module>\u001b[0;34m()\u001b[0m\n\u001b[1;32m      1\u001b[0m \u001b[0;31m### read gene list file (a list of gene list files)\u001b[0m\u001b[0;34m\u001b[0m\u001b[0;34m\u001b[0m\u001b[0m\n\u001b[1;32m      2\u001b[0m \u001b[0;31m# df_multi_gene_set = read_multi_gene_set_file(args.file_multi_gene_set, flag_wgcna=args.flag_wgcna, flag_mouse=args.flag_mouse)\u001b[0m\u001b[0;34m\u001b[0m\u001b[0;34m\u001b[0m\u001b[0m\n\u001b[0;32m----> 3\u001b[0;31m \u001b[0mdf_multi_gene_set\u001b[0m \u001b[0;34m=\u001b[0m \u001b[0mread_multi_gene_set_file\u001b[0m\u001b[0;34m(\u001b[0m\u001b[0margs\u001b[0m\u001b[0;34m)\u001b[0m\u001b[0;34m\u001b[0m\u001b[0m\n\u001b[0m\u001b[1;32m      4\u001b[0m \u001b[0mdf_multi_gene_set\u001b[0m\u001b[0;34m.\u001b[0m\u001b[0mhead\u001b[0m\u001b[0;34m(\u001b[0m\u001b[0;34m)\u001b[0m\u001b[0;34m\u001b[0m\u001b[0m\n",
      "\u001b[0;32m/projects/timshel/sc-genetics/sc-genetics/src/ldsc/make_annot_from_geneset_all_chr.py\u001b[0m in \u001b[0;36mread_multi_gene_set_file\u001b[0;34m(args)\u001b[0m\n\u001b[1;32m    367\u001b[0m         \u001b[0mdf_multi_gene_set\u001b[0m \u001b[0;34m=\u001b[0m \u001b[0mdf_multi_gene_set\u001b[0m\u001b[0;34m[\u001b[0m\u001b[0mcols\u001b[0m\u001b[0;34m]\u001b[0m \u001b[0;31m# ALT df.reindex(columns=cols)\u001b[0m\u001b[0;34m\u001b[0m\u001b[0m\n\u001b[1;32m    368\u001b[0m         \u001b[0;31m### write_multi_geneset_file\u001b[0m\u001b[0;34m\u001b[0m\u001b[0;34m\u001b[0m\u001b[0m\n\u001b[0;32m--> 369\u001b[0;31m         \u001b[0mwrite_multi_geneset_file\u001b[0m\u001b[0;34m(\u001b[0m\u001b[0mdf_multi_gene_set\u001b[0m\u001b[0;34m,\u001b[0m \u001b[0margs\u001b[0m\u001b[0;34m)\u001b[0m\u001b[0;34m\u001b[0m\u001b[0m\n\u001b[0m\u001b[1;32m    370\u001b[0m         \u001b[0;32mreturn\u001b[0m \u001b[0mdf_multi_gene_set\u001b[0m\u001b[0;34m\u001b[0m\u001b[0m\n\u001b[1;32m    371\u001b[0m \u001b[0;34m\u001b[0m\u001b[0m\n",
      "\u001b[0;32m/projects/timshel/sc-genetics/sc-genetics/src/ldsc/make_annot_from_geneset_all_chr.py\u001b[0m in \u001b[0;36mwrite_multi_geneset_file\u001b[0;34m(df_multi_gene_set, args)\u001b[0m\n\u001b[1;32m    227\u001b[0m                         \u001b[0mprint\u001b[0m\u001b[0;34m(\u001b[0m\u001b[0;34m\"Header of df_multi_gene_set not in existing file:\"\u001b[0m\u001b[0;34m)\u001b[0m\u001b[0;34m\u001b[0m\u001b[0m\n\u001b[1;32m    228\u001b[0m                         \u001b[0mprint\u001b[0m\u001b[0;34m(\u001b[0m\u001b[0mdf_multi_gene_set\u001b[0m\u001b[0;34m.\u001b[0m\u001b[0mloc\u001b[0m\u001b[0;34m[\u001b[0m\u001b[0;34m~\u001b[0m\u001b[0mbool_idx_exists\u001b[0m\u001b[0;34m]\u001b[0m\u001b[0;34m.\u001b[0m\u001b[0mhead\u001b[0m\u001b[0;34m(\u001b[0m\u001b[0;34m)\u001b[0m\u001b[0;34m)\u001b[0m\u001b[0;34m\u001b[0m\u001b[0m\n\u001b[0;32m--> 229\u001b[0;31m                         \u001b[0;32mraise\u001b[0m \u001b[0mValueError\u001b[0m\u001b[0;34m(\u001b[0m\u001b[0;34m\"df_multi_gene_set contains new annotation-gene combinations\"\u001b[0m\u001b[0;34m)\u001b[0m\u001b[0;34m\u001b[0m\u001b[0m\n\u001b[0m\u001b[1;32m    230\u001b[0m                 \u001b[0;31m### Check if the any annotation values differ between annotations found in both new and existing df_multi_gene_set.\u001b[0m\u001b[0;34m\u001b[0m\u001b[0;34m\u001b[0m\u001b[0m\n\u001b[1;32m    231\u001b[0m                 \u001b[0mdf_merge\u001b[0m \u001b[0;34m=\u001b[0m \u001b[0mpd\u001b[0m\u001b[0;34m.\u001b[0m\u001b[0mmerge\u001b[0m\u001b[0;34m(\u001b[0m\u001b[0mdf_existing\u001b[0m\u001b[0;34m,\u001b[0m \u001b[0mdf_multi_gene_set\u001b[0m\u001b[0;34m,\u001b[0m \u001b[0mon\u001b[0m\u001b[0;34m=\u001b[0m\u001b[0;34m[\u001b[0m\u001b[0;34m\"annotation\"\u001b[0m\u001b[0;34m,\u001b[0m \u001b[0;34m\"gene\"\u001b[0m\u001b[0;34m]\u001b[0m\u001b[0;34m)\u001b[0m\u001b[0;34m\u001b[0m\u001b[0m\n",
      "\u001b[0;31mValueError\u001b[0m: df_multi_gene_set contains new annotation-gene combinations"
     ]
    }
   ],
   "source": [
    "### read gene list file (a list of gene list files)\n",
    "# df_multi_gene_set = read_multi_gene_set_file(args.file_multi_gene_set, flag_wgcna=args.flag_wgcna, flag_mouse=args.flag_mouse)\n",
    "df_multi_gene_set = read_multi_gene_set_file(args)\n",
    "df_multi_gene_set.head()"
   ]
  },
  {
   "cell_type": "code",
   "execution_count": 30,
   "metadata": {
    "ExecuteTime": {
     "end_time": "2019-01-06T17:51:59.847674Z",
     "start_time": "2019-01-06T17:51:59.821589Z"
    }
   },
   "outputs": [
    {
     "data": {
      "text/html": [
       "<div>\n",
       "<style scoped>\n",
       "    .dataframe tbody tr th:only-of-type {\n",
       "        vertical-align: middle;\n",
       "    }\n",
       "\n",
       "    .dataframe tbody tr th {\n",
       "        vertical-align: top;\n",
       "    }\n",
       "\n",
       "    .dataframe thead th {\n",
       "        text-align: right;\n",
       "    }\n",
       "</style>\n",
       "<table border=\"1\" class=\"dataframe\">\n",
       "  <thead>\n",
       "    <tr style=\"text-align: right;\">\n",
       "      <th></th>\n",
       "      <th>annotation</th>\n",
       "      <th>gene</th>\n",
       "      <th>annotation_value</th>\n",
       "      <th>cell_cluster</th>\n",
       "      <th>gene_input</th>\n",
       "      <th>hgcn</th>\n",
       "    </tr>\n",
       "  </thead>\n",
       "  <tbody>\n",
       "    <tr>\n",
       "      <th>0</th>\n",
       "      <td>antiquewhite3</td>\n",
       "      <td>ENSG00000131242</td>\n",
       "      <td>0.888954</td>\n",
       "      <td>Aorta_endothelial cell</td>\n",
       "      <td>ENSMUSG00000017639</td>\n",
       "      <td>Rab11fip4</td>\n",
       "    </tr>\n",
       "    <tr>\n",
       "      <th>1</th>\n",
       "      <td>antiquewhite3</td>\n",
       "      <td>ENSG00000116874</td>\n",
       "      <td>0.860975</td>\n",
       "      <td>Aorta_endothelial cell</td>\n",
       "      <td>ENSMUSG00000004233</td>\n",
       "      <td>Wars2</td>\n",
       "    </tr>\n",
       "    <tr>\n",
       "      <th>2</th>\n",
       "      <td>antiquewhite3</td>\n",
       "      <td>ENSG00000104221</td>\n",
       "      <td>0.855920</td>\n",
       "      <td>Aorta_endothelial cell</td>\n",
       "      <td>ENSMUSG00000031487</td>\n",
       "      <td>Brf2</td>\n",
       "    </tr>\n",
       "    <tr>\n",
       "      <th>3</th>\n",
       "      <td>antiquewhite3</td>\n",
       "      <td>ENSG00000123989</td>\n",
       "      <td>0.824265</td>\n",
       "      <td>Aorta_endothelial cell</td>\n",
       "      <td>ENSMUSG00000032997</td>\n",
       "      <td>Chpf</td>\n",
       "    </tr>\n",
       "    <tr>\n",
       "      <th>4</th>\n",
       "      <td>antiquewhite3</td>\n",
       "      <td>ENSG00000164796</td>\n",
       "      <td>0.820682</td>\n",
       "      <td>Aorta_endothelial cell</td>\n",
       "      <td>ENSMUSG00000022311</td>\n",
       "      <td>Csmd3</td>\n",
       "    </tr>\n",
       "  </tbody>\n",
       "</table>\n",
       "</div>"
      ],
      "text/plain": [
       "      annotation             gene  annotation_value            cell_cluster  \\\n",
       "0  antiquewhite3  ENSG00000131242          0.888954  Aorta_endothelial cell   \n",
       "1  antiquewhite3  ENSG00000116874          0.860975  Aorta_endothelial cell   \n",
       "2  antiquewhite3  ENSG00000104221          0.855920  Aorta_endothelial cell   \n",
       "3  antiquewhite3  ENSG00000123989          0.824265  Aorta_endothelial cell   \n",
       "4  antiquewhite3  ENSG00000164796          0.820682  Aorta_endothelial cell   \n",
       "\n",
       "           gene_input       hgcn  \n",
       "0  ENSMUSG00000017639  Rab11fip4  \n",
       "1  ENSMUSG00000004233      Wars2  \n",
       "2  ENSMUSG00000031487       Brf2  \n",
       "3  ENSMUSG00000032997       Chpf  \n",
       "4  ENSMUSG00000022311      Csmd3  "
      ]
     },
     "execution_count": 30,
     "metadata": {},
     "output_type": "execute_result"
    }
   ],
   "source": [
    "df_multi_gene_set.head()"
   ]
  },
  {
   "cell_type": "code",
   "execution_count": 83,
   "metadata": {
    "ExecuteTime": {
     "end_time": "2019-01-06T19:10:06.290904Z",
     "start_time": "2019-01-06T19:10:06.248208Z"
    }
   },
   "outputs": [
    {
     "name": "stdout",
     "output_type": "stream",
     "text": [
      "file_out_multi_geneset=/scratch/sc-ldsc/TMP_TESTING_CONTINUOUS/log.hypothalamus_mette_thesis.multi_geneset.txt exists. Will merge df_multi_gene_set with its content.\n"
     ]
    }
   ],
   "source": []
  },
  {
   "cell_type": "code",
   "execution_count": 93,
   "metadata": {
    "ExecuteTime": {
     "end_time": "2019-01-06T19:33:06.596383Z",
     "start_time": "2019-01-06T19:33:06.573154Z"
    }
   },
   "outputs": [
    {
     "name": "stdout",
     "output_type": "stream",
     "text": [
      "Added n=111 new annotation-gene entries to existing file_out_multi_geneset\n",
      "Unique new annotation names are:\n",
      "blue1\n",
      "chocolate\n"
     ]
    }
   ],
   "source": []
  },
  {
   "cell_type": "code",
   "execution_count": 80,
   "metadata": {
    "ExecuteTime": {
     "end_time": "2019-01-06T18:56:49.900346Z",
     "start_time": "2019-01-06T18:56:49.877822Z"
    }
   },
   "outputs": [
    {
     "data": {
      "text/html": [
       "<div>\n",
       "<style scoped>\n",
       "    .dataframe tbody tr th:only-of-type {\n",
       "        vertical-align: middle;\n",
       "    }\n",
       "\n",
       "    .dataframe tbody tr th {\n",
       "        vertical-align: top;\n",
       "    }\n",
       "\n",
       "    .dataframe thead th {\n",
       "        text-align: right;\n",
       "    }\n",
       "</style>\n",
       "<table border=\"1\" class=\"dataframe\">\n",
       "  <thead>\n",
       "    <tr style=\"text-align: right;\">\n",
       "      <th></th>\n",
       "      <th>annotation</th>\n",
       "      <th>gene</th>\n",
       "      <th>annotation_value</th>\n",
       "      <th>cell_cluster</th>\n",
       "      <th>gene_input</th>\n",
       "      <th>hgcn</th>\n",
       "    </tr>\n",
       "  </thead>\n",
       "  <tbody>\n",
       "    <tr>\n",
       "      <th>0</th>\n",
       "      <td>antiquewhite31</td>\n",
       "      <td>ENSG00000131242</td>\n",
       "      <td>0.288954</td>\n",
       "      <td>Aorta_endothelial cell</td>\n",
       "      <td>ENSMUSG00000017639</td>\n",
       "      <td>Rab11fip4</td>\n",
       "    </tr>\n",
       "    <tr>\n",
       "      <th>1</th>\n",
       "      <td>antiquewhite3</td>\n",
       "      <td>ENSG00000116874</td>\n",
       "      <td>0.860975</td>\n",
       "      <td>Aorta_endothelial cell</td>\n",
       "      <td>ENSMUSG00000004233</td>\n",
       "      <td>Wars2</td>\n",
       "    </tr>\n",
       "    <tr>\n",
       "      <th>2</th>\n",
       "      <td>antiquewhite3</td>\n",
       "      <td>ENSG00000104221</td>\n",
       "      <td>0.855920</td>\n",
       "      <td>Aorta_endothelial cell</td>\n",
       "      <td>ENSMUSG00000031487</td>\n",
       "      <td>Brf2</td>\n",
       "    </tr>\n",
       "    <tr>\n",
       "      <th>3</th>\n",
       "      <td>antiquewhite3</td>\n",
       "      <td>ENSG00000123989</td>\n",
       "      <td>0.824265</td>\n",
       "      <td>Aorta_endothelial cell</td>\n",
       "      <td>ENSMUSG00000032997</td>\n",
       "      <td>Chpf</td>\n",
       "    </tr>\n",
       "    <tr>\n",
       "      <th>4</th>\n",
       "      <td>antiquewhite3</td>\n",
       "      <td>ENSG00000164796</td>\n",
       "      <td>0.820682</td>\n",
       "      <td>Aorta_endothelial cell</td>\n",
       "      <td>ENSMUSG00000022311</td>\n",
       "      <td>Csmd3</td>\n",
       "    </tr>\n",
       "  </tbody>\n",
       "</table>\n",
       "</div>"
      ],
      "text/plain": [
       "       annotation             gene  annotation_value            cell_cluster  \\\n",
       "0  antiquewhite31  ENSG00000131242          0.288954  Aorta_endothelial cell   \n",
       "1   antiquewhite3  ENSG00000116874          0.860975  Aorta_endothelial cell   \n",
       "2   antiquewhite3  ENSG00000104221          0.855920  Aorta_endothelial cell   \n",
       "3   antiquewhite3  ENSG00000123989          0.824265  Aorta_endothelial cell   \n",
       "4   antiquewhite3  ENSG00000164796          0.820682  Aorta_endothelial cell   \n",
       "\n",
       "           gene_input       hgcn  \n",
       "0  ENSMUSG00000017639  Rab11fip4  \n",
       "1  ENSMUSG00000004233      Wars2  \n",
       "2  ENSMUSG00000031487       Brf2  \n",
       "3  ENSMUSG00000032997       Chpf  \n",
       "4  ENSMUSG00000022311      Csmd3  "
      ]
     },
     "execution_count": 80,
     "metadata": {},
     "output_type": "execute_result"
    }
   ],
   "source": [
    "df_existing.head()"
   ]
  },
  {
   "cell_type": "code",
   "execution_count": null,
   "metadata": {
    "ExecuteTime": {
     "end_time": "2019-01-06T18:12:30.421181Z",
     "start_time": "2019-01-06T18:12:30.397498Z"
    },
    "collapsed": true
   },
   "outputs": [],
   "source": []
  },
  {
   "cell_type": "code",
   "execution_count": 81,
   "metadata": {
    "ExecuteTime": {
     "end_time": "2019-01-06T18:56:51.532552Z",
     "start_time": "2019-01-06T18:56:51.497948Z"
    }
   },
   "outputs": [
    {
     "data": {
      "text/html": [
       "<div>\n",
       "<style scoped>\n",
       "    .dataframe tbody tr th:only-of-type {\n",
       "        vertical-align: middle;\n",
       "    }\n",
       "\n",
       "    .dataframe tbody tr th {\n",
       "        vertical-align: top;\n",
       "    }\n",
       "\n",
       "    .dataframe thead th {\n",
       "        text-align: right;\n",
       "    }\n",
       "</style>\n",
       "<table border=\"1\" class=\"dataframe\">\n",
       "  <thead>\n",
       "    <tr style=\"text-align: right;\">\n",
       "      <th></th>\n",
       "      <th></th>\n",
       "      <th>gene</th>\n",
       "      <th>annotation_value</th>\n",
       "      <th>cell_cluster</th>\n",
       "      <th>hgcn</th>\n",
       "    </tr>\n",
       "    <tr>\n",
       "      <th>annotation</th>\n",
       "      <th>gene_input</th>\n",
       "      <th></th>\n",
       "      <th></th>\n",
       "      <th></th>\n",
       "      <th></th>\n",
       "    </tr>\n",
       "  </thead>\n",
       "  <tbody>\n",
       "    <tr>\n",
       "      <th rowspan=\"5\" valign=\"top\">antiquewhite3</th>\n",
       "      <th>ENSMUSG00000001288</th>\n",
       "      <td>ENSG00000172819</td>\n",
       "      <td>0.373470</td>\n",
       "      <td>Aorta_endothelial cell</td>\n",
       "      <td>Rarg</td>\n",
       "    </tr>\n",
       "    <tr>\n",
       "      <th>ENSMUSG00000001467</th>\n",
       "      <td>ENSG00000001630</td>\n",
       "      <td>0.678483</td>\n",
       "      <td>Aorta_endothelial cell</td>\n",
       "      <td>Cyp51</td>\n",
       "    </tr>\n",
       "    <tr>\n",
       "      <th>ENSMUSG00000001663</th>\n",
       "      <td>ENSG00000184674</td>\n",
       "      <td>0.512886</td>\n",
       "      <td>Aorta_endothelial cell</td>\n",
       "      <td>Gstt1</td>\n",
       "    </tr>\n",
       "    <tr>\n",
       "      <th>ENSMUSG00000001786</th>\n",
       "      <td>ENSG00000100225</td>\n",
       "      <td>0.455188</td>\n",
       "      <td>Aorta_endothelial cell</td>\n",
       "      <td>Fbxo7</td>\n",
       "    </tr>\n",
       "    <tr>\n",
       "      <th>ENSMUSG00000002043</th>\n",
       "      <td>ENSG00000007255</td>\n",
       "      <td>0.422013</td>\n",
       "      <td>Aorta_endothelial cell</td>\n",
       "      <td>Trappc6a</td>\n",
       "    </tr>\n",
       "  </tbody>\n",
       "</table>\n",
       "</div>"
      ],
      "text/plain": [
       "                                             gene  annotation_value  \\\n",
       "annotation    gene_input                                              \n",
       "antiquewhite3 ENSMUSG00000001288  ENSG00000172819          0.373470   \n",
       "              ENSMUSG00000001467  ENSG00000001630          0.678483   \n",
       "              ENSMUSG00000001663  ENSG00000184674          0.512886   \n",
       "              ENSMUSG00000001786  ENSG00000100225          0.455188   \n",
       "              ENSMUSG00000002043  ENSG00000007255          0.422013   \n",
       "\n",
       "                                            cell_cluster      hgcn  \n",
       "annotation    gene_input                                            \n",
       "antiquewhite3 ENSMUSG00000001288  Aorta_endothelial cell      Rarg  \n",
       "              ENSMUSG00000001467  Aorta_endothelial cell     Cyp51  \n",
       "              ENSMUSG00000001663  Aorta_endothelial cell     Gstt1  \n",
       "              ENSMUSG00000001786  Aorta_endothelial cell     Fbxo7  \n",
       "              ENSMUSG00000002043  Aorta_endothelial cell  Trappc6a  "
      ]
     },
     "execution_count": 81,
     "metadata": {},
     "output_type": "execute_result"
    }
   ],
   "source": []
  },
  {
   "cell_type": "code",
   "execution_count": 82,
   "metadata": {
    "ExecuteTime": {
     "end_time": "2019-01-06T18:56:52.210466Z",
     "start_time": "2019-01-06T18:56:52.187761Z"
    },
    "collapsed": true
   },
   "outputs": [],
   "source": []
  },
  {
   "cell_type": "code",
   "execution_count": null,
   "metadata": {
    "ExecuteTime": {
     "end_time": "2019-01-06T18:32:55.016190Z",
     "start_time": "2019-01-06T18:32:54.996993Z"
    },
    "collapsed": true
   },
   "outputs": [],
   "source": []
  },
  {
   "cell_type": "code",
   "execution_count": 30,
   "metadata": {
    "ExecuteTime": {
     "end_time": "2018-12-20T17:15:22.339216Z",
     "start_time": "2018-12-20T17:14:52.647661Z"
    }
   },
   "outputs": [
    {
     "name": "stdout",
     "output_type": "stream",
     "text": [
      "making gene set bed files\n",
      "Merging input multi gene set with gene coordinates for annotation = mousebrain_all.ABC.sem_mean\n",
      "Merging input multi gene set with gene coordinates for annotation = mousebrain_all.ACBG.sem_mean\n",
      "Merging input multi gene set with gene coordinates for annotation = mousebrain_all.ACMB.sem_mean\n",
      "Merging input multi gene set with gene coordinates for annotation = mousebrain_all.ACNT1.sem_mean\n",
      "Merging input multi gene set with gene coordinates for annotation = mousebrain_all.ACNT2.sem_mean\n",
      "Merging input multi gene set with gene coordinates for annotation = mousebrain_all.ACOB.sem_mean\n",
      "Merging input multi gene set with gene coordinates for annotation = mousebrain_all.ACTE1.sem_mean\n",
      "Merging input multi gene set with gene coordinates for annotation = mousebrain_all.ACTE2.sem_mean\n",
      "Merging input multi gene set with gene coordinates for annotation = mousebrain_all.CBGRC.sem_mean\n",
      "Merging input multi gene set with gene coordinates for annotation = mousebrain_all.CBINH1.sem_mean\n",
      "Merging input multi gene set with gene coordinates for annotation = mousebrain_all.CBINH2.sem_mean\n",
      "Merging input multi gene set with gene coordinates for annotation = mousebrain_all.CBNBL1.sem_mean\n",
      "Merging input multi gene set with gene coordinates for annotation = mousebrain_all.CBNBL2.sem_mean\n",
      "Merging input multi gene set with gene coordinates for annotation = mousebrain_all.CBPC.sem_mean\n",
      "Merging input multi gene set with gene coordinates for annotation = mousebrain_all.CHOR.sem_mean\n",
      "Merging input multi gene set with gene coordinates for annotation = mousebrain_all.COP1.sem_mean\n",
      "Merging input multi gene set with gene coordinates for annotation = mousebrain_all.COP2.sem_mean\n",
      "Merging input multi gene set with gene coordinates for annotation = mousebrain_all.CR.sem_mean\n",
      "Merging input multi gene set with gene coordinates for annotation = mousebrain_all.DECHO1.sem_mean\n",
      "Merging input multi gene set with gene coordinates for annotation = mousebrain_all.DECHO2.sem_mean\n",
      "Merging input multi gene set with gene coordinates for annotation = mousebrain_all.DEGLU1.sem_mean\n",
      "Merging input multi gene set with gene coordinates for annotation = mousebrain_all.DEGLU2.sem_mean\n",
      "Merging input multi gene set with gene coordinates for annotation = mousebrain_all.DEGLU3.sem_mean\n",
      "Merging input multi gene set with gene coordinates for annotation = mousebrain_all.DEGLU4.sem_mean\n",
      "Merging input multi gene set with gene coordinates for annotation = mousebrain_all.DEGLU5.sem_mean\n",
      "Merging input multi gene set with gene coordinates for annotation = mousebrain_all.DEINH1.sem_mean\n",
      "Merging input multi gene set with gene coordinates for annotation = mousebrain_all.DEINH2.sem_mean\n",
      "Merging input multi gene set with gene coordinates for annotation = mousebrain_all.DEINH3.sem_mean\n",
      "Merging input multi gene set with gene coordinates for annotation = mousebrain_all.DEINH4.sem_mean\n",
      "Merging input multi gene set with gene coordinates for annotation = mousebrain_all.DEINH5.sem_mean\n",
      "Merging input multi gene set with gene coordinates for annotation = mousebrain_all.DEINH6.sem_mean\n",
      "Merging input multi gene set with gene coordinates for annotation = mousebrain_all.DEINH7.sem_mean\n",
      "Merging input multi gene set with gene coordinates for annotation = mousebrain_all.DEINH8.sem_mean\n",
      "Merging input multi gene set with gene coordinates for annotation = mousebrain_all.DETPH.sem_mean\n",
      "Merging input multi gene set with gene coordinates for annotation = mousebrain_all.DGGRC1.sem_mean\n",
      "Merging input multi gene set with gene coordinates for annotation = mousebrain_all.DGGRC2.sem_mean\n",
      "Merging input multi gene set with gene coordinates for annotation = mousebrain_all.DGNBL1.sem_mean\n",
      "Merging input multi gene set with gene coordinates for annotation = mousebrain_all.DGNBL2.sem_mean\n",
      "Merging input multi gene set with gene coordinates for annotation = mousebrain_all.ENMFB.sem_mean\n",
      "Merging input multi gene set with gene coordinates for annotation = mousebrain_all.ENT1.sem_mean\n",
      "Merging input multi gene set with gene coordinates for annotation = mousebrain_all.ENT2.sem_mean\n",
      "Merging input multi gene set with gene coordinates for annotation = mousebrain_all.ENT3.sem_mean\n",
      "Merging input multi gene set with gene coordinates for annotation = mousebrain_all.ENT4.sem_mean\n",
      "Merging input multi gene set with gene coordinates for annotation = mousebrain_all.ENT5.sem_mean\n",
      "Merging input multi gene set with gene coordinates for annotation = mousebrain_all.ENT6.sem_mean\n",
      "Merging input multi gene set with gene coordinates for annotation = mousebrain_all.ENT7.sem_mean\n",
      "Merging input multi gene set with gene coordinates for annotation = mousebrain_all.ENT8.sem_mean\n",
      "Merging input multi gene set with gene coordinates for annotation = mousebrain_all.ENT9.sem_mean\n",
      "Merging input multi gene set with gene coordinates for annotation = mousebrain_all.ENTG1.sem_mean\n",
      "Merging input multi gene set with gene coordinates for annotation = mousebrain_all.ENTG2.sem_mean\n",
      "Merging input multi gene set with gene coordinates for annotation = mousebrain_all.ENTG3.sem_mean\n",
      "Merging input multi gene set with gene coordinates for annotation = mousebrain_all.ENTG4.sem_mean\n",
      "Merging input multi gene set with gene coordinates for annotation = mousebrain_all.ENTG5.sem_mean\n",
      "Merging input multi gene set with gene coordinates for annotation = mousebrain_all.ENTG6.sem_mean\n",
      "Merging input multi gene set with gene coordinates for annotation = mousebrain_all.ENTG7.sem_mean\n",
      "Merging input multi gene set with gene coordinates for annotation = mousebrain_all.EPEN.sem_mean\n",
      "Merging input multi gene set with gene coordinates for annotation = mousebrain_all.EPMB.sem_mean\n",
      "Merging input multi gene set with gene coordinates for annotation = mousebrain_all.EPSC.sem_mean\n",
      "Merging input multi gene set with gene coordinates for annotation = mousebrain_all.HBADR.sem_mean\n",
      "Merging input multi gene set with gene coordinates for annotation = mousebrain_all.HBCHO1.sem_mean\n",
      "Merging input multi gene set with gene coordinates for annotation = mousebrain_all.HBCHO2.sem_mean\n",
      "Merging input multi gene set with gene coordinates for annotation = mousebrain_all.HBCHO3.sem_mean\n",
      "Merging input multi gene set with gene coordinates for annotation = mousebrain_all.HBCHO4.sem_mean\n",
      "Merging input multi gene set with gene coordinates for annotation = mousebrain_all.HBGLU1.sem_mean\n",
      "Merging input multi gene set with gene coordinates for annotation = mousebrain_all.HBGLU10.sem_mean\n",
      "Merging input multi gene set with gene coordinates for annotation = mousebrain_all.HBGLU2.sem_mean\n",
      "Merging input multi gene set with gene coordinates for annotation = mousebrain_all.HBGLU3.sem_mean\n",
      "Merging input multi gene set with gene coordinates for annotation = mousebrain_all.HBGLU4.sem_mean\n",
      "Merging input multi gene set with gene coordinates for annotation = mousebrain_all.HBGLU5.sem_mean\n",
      "Merging input multi gene set with gene coordinates for annotation = mousebrain_all.HBGLU6.sem_mean\n",
      "Merging input multi gene set with gene coordinates for annotation = mousebrain_all.HBGLU7.sem_mean\n",
      "Merging input multi gene set with gene coordinates for annotation = mousebrain_all.HBGLU8.sem_mean\n",
      "Merging input multi gene set with gene coordinates for annotation = mousebrain_all.HBGLU9.sem_mean\n",
      "Merging input multi gene set with gene coordinates for annotation = mousebrain_all.HBINH1.sem_mean\n",
      "Merging input multi gene set with gene coordinates for annotation = mousebrain_all.HBINH2.sem_mean\n",
      "Merging input multi gene set with gene coordinates for annotation = mousebrain_all.HBINH3.sem_mean\n",
      "Merging input multi gene set with gene coordinates for annotation = mousebrain_all.HBINH4.sem_mean\n",
      "Merging input multi gene set with gene coordinates for annotation = mousebrain_all.HBINH5.sem_mean\n",
      "Merging input multi gene set with gene coordinates for annotation = mousebrain_all.HBINH6.sem_mean\n",
      "Merging input multi gene set with gene coordinates for annotation = mousebrain_all.HBINH7.sem_mean\n",
      "Merging input multi gene set with gene coordinates for annotation = mousebrain_all.HBINH8.sem_mean\n",
      "Merging input multi gene set with gene coordinates for annotation = mousebrain_all.HBINH9.sem_mean\n",
      "Merging input multi gene set with gene coordinates for annotation = mousebrain_all.HBNOR.sem_mean\n",
      "Merging input multi gene set with gene coordinates for annotation = mousebrain_all.HBSER1.sem_mean\n",
      "Merging input multi gene set with gene coordinates for annotation = mousebrain_all.HBSER2.sem_mean\n"
     ]
    },
    {
     "name": "stdout",
     "output_type": "stream",
     "text": [
      "Merging input multi gene set with gene coordinates for annotation = mousebrain_all.HBSER3.sem_mean\n",
      "Merging input multi gene set with gene coordinates for annotation = mousebrain_all.HBSER4.sem_mean\n",
      "Merging input multi gene set with gene coordinates for annotation = mousebrain_all.HBSER5.sem_mean\n",
      "Merging input multi gene set with gene coordinates for annotation = mousebrain_all.HYPEN.sem_mean\n",
      "Merging input multi gene set with gene coordinates for annotation = mousebrain_all.HYPEP1.sem_mean\n",
      "Merging input multi gene set with gene coordinates for annotation = mousebrain_all.HYPEP2.sem_mean\n",
      "Merging input multi gene set with gene coordinates for annotation = mousebrain_all.HYPEP3.sem_mean\n",
      "Merging input multi gene set with gene coordinates for annotation = mousebrain_all.HYPEP4.sem_mean\n",
      "Merging input multi gene set with gene coordinates for annotation = mousebrain_all.HYPEP5.sem_mean\n",
      "Merging input multi gene set with gene coordinates for annotation = mousebrain_all.HYPEP6.sem_mean\n",
      "Merging input multi gene set with gene coordinates for annotation = mousebrain_all.HYPEP7.sem_mean\n",
      "Merging input multi gene set with gene coordinates for annotation = mousebrain_all.HYPEP8.sem_mean\n",
      "Merging input multi gene set with gene coordinates for annotation = mousebrain_all.MBCHO1.sem_mean\n",
      "Merging input multi gene set with gene coordinates for annotation = mousebrain_all.MBDOP1.sem_mean\n",
      "Merging input multi gene set with gene coordinates for annotation = mousebrain_all.MBDOP2.sem_mean\n",
      "Merging input multi gene set with gene coordinates for annotation = mousebrain_all.MEGLU1.sem_mean\n",
      "Merging input multi gene set with gene coordinates for annotation = mousebrain_all.MEGLU10.sem_mean\n",
      "Merging input multi gene set with gene coordinates for annotation = mousebrain_all.MEGLU11.sem_mean\n",
      "Merging input multi gene set with gene coordinates for annotation = mousebrain_all.MEGLU14.sem_mean\n",
      "Merging input multi gene set with gene coordinates for annotation = mousebrain_all.MEGLU2.sem_mean\n",
      "Merging input multi gene set with gene coordinates for annotation = mousebrain_all.MEGLU3.sem_mean\n",
      "Merging input multi gene set with gene coordinates for annotation = mousebrain_all.MEGLU4.sem_mean\n",
      "Merging input multi gene set with gene coordinates for annotation = mousebrain_all.MEGLU5.sem_mean\n",
      "Merging input multi gene set with gene coordinates for annotation = mousebrain_all.MEGLU6.sem_mean\n",
      "Merging input multi gene set with gene coordinates for annotation = mousebrain_all.MEGLU7.sem_mean\n",
      "Merging input multi gene set with gene coordinates for annotation = mousebrain_all.MEGLU8.sem_mean\n",
      "Merging input multi gene set with gene coordinates for annotation = mousebrain_all.MEGLU9.sem_mean\n",
      "Merging input multi gene set with gene coordinates for annotation = mousebrain_all.MEINH1.sem_mean\n",
      "Merging input multi gene set with gene coordinates for annotation = mousebrain_all.MEINH10.sem_mean\n",
      "Merging input multi gene set with gene coordinates for annotation = mousebrain_all.MEINH11.sem_mean\n",
      "Merging input multi gene set with gene coordinates for annotation = mousebrain_all.MEINH12.sem_mean\n",
      "Merging input multi gene set with gene coordinates for annotation = mousebrain_all.MEINH13.sem_mean\n",
      "Merging input multi gene set with gene coordinates for annotation = mousebrain_all.MEINH14.sem_mean\n",
      "Merging input multi gene set with gene coordinates for annotation = mousebrain_all.MEINH2.sem_mean\n",
      "Merging input multi gene set with gene coordinates for annotation = mousebrain_all.MEINH3.sem_mean\n",
      "Merging input multi gene set with gene coordinates for annotation = mousebrain_all.MEINH4.sem_mean\n",
      "Merging input multi gene set with gene coordinates for annotation = mousebrain_all.MEINH5.sem_mean\n",
      "Merging input multi gene set with gene coordinates for annotation = mousebrain_all.MEINH6.sem_mean\n",
      "Merging input multi gene set with gene coordinates for annotation = mousebrain_all.MEINH7.sem_mean\n",
      "Merging input multi gene set with gene coordinates for annotation = mousebrain_all.MEINH8.sem_mean\n",
      "Merging input multi gene set with gene coordinates for annotation = mousebrain_all.MEINH9.sem_mean\n",
      "Merging input multi gene set with gene coordinates for annotation = mousebrain_all.MFOL1.sem_mean\n",
      "Merging input multi gene set with gene coordinates for annotation = mousebrain_all.MFOL2.sem_mean\n",
      "Merging input multi gene set with gene coordinates for annotation = mousebrain_all.MGL1.sem_mean\n",
      "Merging input multi gene set with gene coordinates for annotation = mousebrain_all.MGL2.sem_mean\n",
      "Merging input multi gene set with gene coordinates for annotation = mousebrain_all.MGL3.sem_mean\n",
      "Merging input multi gene set with gene coordinates for annotation = mousebrain_all.MOL1.sem_mean\n",
      "Merging input multi gene set with gene coordinates for annotation = mousebrain_all.MOL2.sem_mean\n",
      "Merging input multi gene set with gene coordinates for annotation = mousebrain_all.MOL3.sem_mean\n",
      "Merging input multi gene set with gene coordinates for annotation = mousebrain_all.MSN1.sem_mean\n",
      "Merging input multi gene set with gene coordinates for annotation = mousebrain_all.MSN2.sem_mean\n",
      "Merging input multi gene set with gene coordinates for annotation = mousebrain_all.MSN3.sem_mean\n",
      "Merging input multi gene set with gene coordinates for annotation = mousebrain_all.MSN4.sem_mean\n",
      "Merging input multi gene set with gene coordinates for annotation = mousebrain_all.MSN5.sem_mean\n",
      "Merging input multi gene set with gene coordinates for annotation = mousebrain_all.MSN6.sem_mean\n",
      "Merging input multi gene set with gene coordinates for annotation = mousebrain_all.NFOL1.sem_mean\n",
      "Merging input multi gene set with gene coordinates for annotation = mousebrain_all.NFOL2.sem_mean\n",
      "Merging input multi gene set with gene coordinates for annotation = mousebrain_all.OBDOP1.sem_mean\n",
      "Merging input multi gene set with gene coordinates for annotation = mousebrain_all.OBDOP2.sem_mean\n",
      "Merging input multi gene set with gene coordinates for annotation = mousebrain_all.OBINH1.sem_mean\n",
      "Merging input multi gene set with gene coordinates for annotation = mousebrain_all.OBINH2.sem_mean\n",
      "Merging input multi gene set with gene coordinates for annotation = mousebrain_all.OBINH3.sem_mean\n",
      "Merging input multi gene set with gene coordinates for annotation = mousebrain_all.OBINH4.sem_mean\n",
      "Merging input multi gene set with gene coordinates for annotation = mousebrain_all.OBINH5.sem_mean\n",
      "Merging input multi gene set with gene coordinates for annotation = mousebrain_all.OBNBL1.sem_mean\n",
      "Merging input multi gene set with gene coordinates for annotation = mousebrain_all.OBNBL2.sem_mean\n",
      "Merging input multi gene set with gene coordinates for annotation = mousebrain_all.OBNBL3.sem_mean\n",
      "Merging input multi gene set with gene coordinates for annotation = mousebrain_all.OBNBL4.sem_mean\n",
      "Merging input multi gene set with gene coordinates for annotation = mousebrain_all.OBNBL5.sem_mean\n",
      "Merging input multi gene set with gene coordinates for annotation = mousebrain_all.OEC.sem_mean\n",
      "Merging input multi gene set with gene coordinates for annotation = mousebrain_all.OPC.sem_mean\n",
      "Merging input multi gene set with gene coordinates for annotation = mousebrain_all.PER1.sem_mean\n",
      "Merging input multi gene set with gene coordinates for annotation = mousebrain_all.PER2.sem_mean\n",
      "Merging input multi gene set with gene coordinates for annotation = mousebrain_all.PER3.sem_mean\n",
      "Merging input multi gene set with gene coordinates for annotation = mousebrain_all.PSNF1.sem_mean\n",
      "Merging input multi gene set with gene coordinates for annotation = mousebrain_all.PSNF2.sem_mean\n",
      "Merging input multi gene set with gene coordinates for annotation = mousebrain_all.PSNF3.sem_mean\n",
      "Merging input multi gene set with gene coordinates for annotation = mousebrain_all.PSNP1.sem_mean\n",
      "Merging input multi gene set with gene coordinates for annotation = mousebrain_all.PSNP2.sem_mean\n",
      "Merging input multi gene set with gene coordinates for annotation = mousebrain_all.PSNP3.sem_mean\n",
      "Merging input multi gene set with gene coordinates for annotation = mousebrain_all.PSNP4.sem_mean\n",
      "Merging input multi gene set with gene coordinates for annotation = mousebrain_all.PSNP5.sem_mean\n",
      "Merging input multi gene set with gene coordinates for annotation = mousebrain_all.PSNP6.sem_mean\n",
      "Merging input multi gene set with gene coordinates for annotation = mousebrain_all.PSPEP1.sem_mean\n"
     ]
    },
    {
     "name": "stdout",
     "output_type": "stream",
     "text": [
      "Merging input multi gene set with gene coordinates for annotation = mousebrain_all.PSPEP2.sem_mean\n",
      "Merging input multi gene set with gene coordinates for annotation = mousebrain_all.PSPEP3.sem_mean\n",
      "Merging input multi gene set with gene coordinates for annotation = mousebrain_all.PSPEP4.sem_mean\n",
      "Merging input multi gene set with gene coordinates for annotation = mousebrain_all.PSPEP5.sem_mean\n",
      "Merging input multi gene set with gene coordinates for annotation = mousebrain_all.PSPEP6.sem_mean\n",
      "Merging input multi gene set with gene coordinates for annotation = mousebrain_all.PSPEP7.sem_mean\n",
      "Merging input multi gene set with gene coordinates for annotation = mousebrain_all.PSPEP8.sem_mean\n",
      "Merging input multi gene set with gene coordinates for annotation = mousebrain_all.PVM1.sem_mean\n",
      "Merging input multi gene set with gene coordinates for annotation = mousebrain_all.PVM2.sem_mean\n",
      "Merging input multi gene set with gene coordinates for annotation = mousebrain_all.RGDG.sem_mean\n",
      "Merging input multi gene set with gene coordinates for annotation = mousebrain_all.RGSZ.sem_mean\n",
      "Merging input multi gene set with gene coordinates for annotation = mousebrain_all.SATG1.sem_mean\n",
      "Merging input multi gene set with gene coordinates for annotation = mousebrain_all.SATG2.sem_mean\n",
      "Merging input multi gene set with gene coordinates for annotation = mousebrain_all.SCGLU1.sem_mean\n",
      "Merging input multi gene set with gene coordinates for annotation = mousebrain_all.SCGLU10.sem_mean\n",
      "Merging input multi gene set with gene coordinates for annotation = mousebrain_all.SCGLU2.sem_mean\n",
      "Merging input multi gene set with gene coordinates for annotation = mousebrain_all.SCGLU3.sem_mean\n",
      "Merging input multi gene set with gene coordinates for annotation = mousebrain_all.SCGLU4.sem_mean\n",
      "Merging input multi gene set with gene coordinates for annotation = mousebrain_all.SCGLU5.sem_mean\n",
      "Merging input multi gene set with gene coordinates for annotation = mousebrain_all.SCGLU6.sem_mean\n",
      "Merging input multi gene set with gene coordinates for annotation = mousebrain_all.SCGLU7.sem_mean\n",
      "Merging input multi gene set with gene coordinates for annotation = mousebrain_all.SCGLU8.sem_mean\n",
      "Merging input multi gene set with gene coordinates for annotation = mousebrain_all.SCGLU9.sem_mean\n",
      "Merging input multi gene set with gene coordinates for annotation = mousebrain_all.SCHW.sem_mean\n",
      "Merging input multi gene set with gene coordinates for annotation = mousebrain_all.SCINH1.sem_mean\n",
      "Merging input multi gene set with gene coordinates for annotation = mousebrain_all.SCINH10.sem_mean\n",
      "Merging input multi gene set with gene coordinates for annotation = mousebrain_all.SCINH11.sem_mean\n",
      "Merging input multi gene set with gene coordinates for annotation = mousebrain_all.SCINH2.sem_mean\n",
      "Merging input multi gene set with gene coordinates for annotation = mousebrain_all.SCINH3.sem_mean\n",
      "Merging input multi gene set with gene coordinates for annotation = mousebrain_all.SCINH4.sem_mean\n",
      "Merging input multi gene set with gene coordinates for annotation = mousebrain_all.SCINH5.sem_mean\n",
      "Merging input multi gene set with gene coordinates for annotation = mousebrain_all.SCINH6.sem_mean\n",
      "Merging input multi gene set with gene coordinates for annotation = mousebrain_all.SCINH7.sem_mean\n",
      "Merging input multi gene set with gene coordinates for annotation = mousebrain_all.SCINH8.sem_mean\n",
      "Merging input multi gene set with gene coordinates for annotation = mousebrain_all.SCINH9.sem_mean\n",
      "Merging input multi gene set with gene coordinates for annotation = mousebrain_all.SEPNBL.sem_mean\n",
      "Merging input multi gene set with gene coordinates for annotation = mousebrain_all.SYCHO1.sem_mean\n",
      "Merging input multi gene set with gene coordinates for annotation = mousebrain_all.SYCHO2.sem_mean\n",
      "Merging input multi gene set with gene coordinates for annotation = mousebrain_all.SYNOR1.sem_mean\n",
      "Merging input multi gene set with gene coordinates for annotation = mousebrain_all.SYNOR2.sem_mean\n",
      "Merging input multi gene set with gene coordinates for annotation = mousebrain_all.SYNOR3.sem_mean\n",
      "Merging input multi gene set with gene coordinates for annotation = mousebrain_all.SYNOR4.sem_mean\n",
      "Merging input multi gene set with gene coordinates for annotation = mousebrain_all.SYNOR5.sem_mean\n",
      "Merging input multi gene set with gene coordinates for annotation = mousebrain_all.SZNBL.sem_mean\n",
      "Merging input multi gene set with gene coordinates for annotation = mousebrain_all.TECHO.sem_mean\n",
      "Merging input multi gene set with gene coordinates for annotation = mousebrain_all.TEGLU1.sem_mean\n",
      "Merging input multi gene set with gene coordinates for annotation = mousebrain_all.TEGLU10.sem_mean\n",
      "Merging input multi gene set with gene coordinates for annotation = mousebrain_all.TEGLU11.sem_mean\n",
      "Merging input multi gene set with gene coordinates for annotation = mousebrain_all.TEGLU12.sem_mean\n",
      "Merging input multi gene set with gene coordinates for annotation = mousebrain_all.TEGLU13.sem_mean\n",
      "Merging input multi gene set with gene coordinates for annotation = mousebrain_all.TEGLU14.sem_mean\n",
      "Merging input multi gene set with gene coordinates for annotation = mousebrain_all.TEGLU15.sem_mean\n",
      "Merging input multi gene set with gene coordinates for annotation = mousebrain_all.TEGLU16.sem_mean\n",
      "Merging input multi gene set with gene coordinates for annotation = mousebrain_all.TEGLU17.sem_mean\n",
      "Merging input multi gene set with gene coordinates for annotation = mousebrain_all.TEGLU18.sem_mean\n",
      "Merging input multi gene set with gene coordinates for annotation = mousebrain_all.TEGLU19.sem_mean\n",
      "Merging input multi gene set with gene coordinates for annotation = mousebrain_all.TEGLU2.sem_mean\n",
      "Merging input multi gene set with gene coordinates for annotation = mousebrain_all.TEGLU20.sem_mean\n",
      "Merging input multi gene set with gene coordinates for annotation = mousebrain_all.TEGLU21.sem_mean\n",
      "Merging input multi gene set with gene coordinates for annotation = mousebrain_all.TEGLU22.sem_mean\n",
      "Merging input multi gene set with gene coordinates for annotation = mousebrain_all.TEGLU23.sem_mean\n",
      "Merging input multi gene set with gene coordinates for annotation = mousebrain_all.TEGLU24.sem_mean\n",
      "Merging input multi gene set with gene coordinates for annotation = mousebrain_all.TEGLU3.sem_mean\n",
      "Merging input multi gene set with gene coordinates for annotation = mousebrain_all.TEGLU4.sem_mean\n",
      "Merging input multi gene set with gene coordinates for annotation = mousebrain_all.TEGLU5.sem_mean\n",
      "Merging input multi gene set with gene coordinates for annotation = mousebrain_all.TEGLU6.sem_mean\n",
      "Merging input multi gene set with gene coordinates for annotation = mousebrain_all.TEGLU7.sem_mean\n",
      "Merging input multi gene set with gene coordinates for annotation = mousebrain_all.TEGLU8.sem_mean\n",
      "Merging input multi gene set with gene coordinates for annotation = mousebrain_all.TEGLU9.sem_mean\n",
      "Merging input multi gene set with gene coordinates for annotation = mousebrain_all.TEINH1.sem_mean\n",
      "Merging input multi gene set with gene coordinates for annotation = mousebrain_all.TEINH10.sem_mean\n",
      "Merging input multi gene set with gene coordinates for annotation = mousebrain_all.TEINH11.sem_mean\n",
      "Merging input multi gene set with gene coordinates for annotation = mousebrain_all.TEINH12.sem_mean\n",
      "Merging input multi gene set with gene coordinates for annotation = mousebrain_all.TEINH13.sem_mean\n",
      "Merging input multi gene set with gene coordinates for annotation = mousebrain_all.TEINH14.sem_mean\n",
      "Merging input multi gene set with gene coordinates for annotation = mousebrain_all.TEINH15.sem_mean\n",
      "Merging input multi gene set with gene coordinates for annotation = mousebrain_all.TEINH16.sem_mean\n",
      "Merging input multi gene set with gene coordinates for annotation = mousebrain_all.TEINH17.sem_mean\n",
      "Merging input multi gene set with gene coordinates for annotation = mousebrain_all.TEINH18.sem_mean\n",
      "Merging input multi gene set with gene coordinates for annotation = mousebrain_all.TEINH19.sem_mean\n",
      "Merging input multi gene set with gene coordinates for annotation = mousebrain_all.TEINH2.sem_mean\n",
      "Merging input multi gene set with gene coordinates for annotation = mousebrain_all.TEINH20.sem_mean\n",
      "Merging input multi gene set with gene coordinates for annotation = mousebrain_all.TEINH21.sem_mean\n"
     ]
    },
    {
     "name": "stdout",
     "output_type": "stream",
     "text": [
      "Merging input multi gene set with gene coordinates for annotation = mousebrain_all.TEINH3.sem_mean\n",
      "Merging input multi gene set with gene coordinates for annotation = mousebrain_all.TEINH4.sem_mean\n",
      "Merging input multi gene set with gene coordinates for annotation = mousebrain_all.TEINH5.sem_mean\n",
      "Merging input multi gene set with gene coordinates for annotation = mousebrain_all.TEINH6.sem_mean\n",
      "Merging input multi gene set with gene coordinates for annotation = mousebrain_all.TEINH7.sem_mean\n",
      "Merging input multi gene set with gene coordinates for annotation = mousebrain_all.TEINH8.sem_mean\n",
      "Merging input multi gene set with gene coordinates for annotation = mousebrain_all.TEINH9.sem_mean\n",
      "Merging input multi gene set with gene coordinates for annotation = mousebrain_all.VECA.sem_mean\n",
      "Merging input multi gene set with gene coordinates for annotation = mousebrain_all.VECC.sem_mean\n",
      "Merging input multi gene set with gene coordinates for annotation = mousebrain_all.VECV.sem_mean\n",
      "Merging input multi gene set with gene coordinates for annotation = mousebrain_all.VLMC1.sem_mean\n",
      "Merging input multi gene set with gene coordinates for annotation = mousebrain_all.VLMC2.sem_mean\n",
      "Merging input multi gene set with gene coordinates for annotation = mousebrain_all.VSMCA.sem_mean\n"
     ]
    }
   ],
   "source": [
    "### make beds\n",
    "dict_of_beds = multi_gene_sets_to_dict_of_beds(df_multi_gene_set, df_gene_coord, args.windowsize)"
   ]
  },
  {
   "cell_type": "code",
   "execution_count": 36,
   "metadata": {
    "ExecuteTime": {
     "end_time": "2018-12-20T17:16:08.952063Z",
     "start_time": "2018-12-20T17:16:08.939140Z"
    }
   },
   "outputs": [
    {
     "name": "stdout",
     "output_type": "stream",
     "text": [
      "chr1\t848803\t1049920\tENSG00000187608\t0.5835819011\n",
      " chr1\t1052288\t1397157\tENSG00000078808,ENSG00000162576,ENSG00000184163\t0.7594902919\n",
      " chr1\t1467474\t1811896\tENSG00000008130,ENSG00000189409\t0.1613366923\n",
      " chr1\t2223267\t2436883\tENSG00000157916\t0.05271495264\n",
      " chr1\t3589352\t3792546\tENSG00000235169\t0.153393824\n",
      " chr1\t6141329\t6369449\tENSG00000116251\t0.06024032193\n",
      " chr1\t6421211\t6774667\tENSG00000162413,ENSG00000215788\t0.3214305606\n",
      " chr1\t7731329\t7941492\tENSG00000049245\t0.03899277518\n",
      " chr1\t10358649\t10580201\tENSG00000142657\t0.4768783188\n",
      " chr1\t11149398\t11356038\tENSG00000171819\t0.8701969784\n",
      " "
     ]
    }
   ],
   "source": [
    "dict_of_beds['mousebrain_all.ABC.sem_mean'].head()"
   ]
  },
  {
   "cell_type": "code",
   "execution_count": 42,
   "metadata": {
    "ExecuteTime": {
     "end_time": "2018-12-20T10:27:43.307348Z",
     "start_time": "2018-12-20T10:27:40.041045Z"
    }
   },
   "outputs": [
    {
     "name": "stdout",
     "output_type": "stream",
     "text": [
      "making annot files for chromosome 22\n",
      "CHR=22 | annotation=antiquewhite3, #1/#3\n",
      "CHR=22 | annotation=blue1, #2/#3\n",
      "CHR=22 | annotation=chocolate, #3/#3\n",
      "CHR=22 | Concatenating annotations...\n",
      "CHR=22 | Writing annotations...\n"
     ]
    },
    {
     "ename": "TypeError",
     "evalue": "'NoneType' object is not iterable",
     "output_type": "error",
     "traceback": [
      "\u001b[0;31m\u001b[0m",
      "\u001b[0;31mTypeError\u001b[0mTraceback (most recent call last)",
      "\u001b[0;32m<ipython-input-42-6b838223c56f>\u001b[0m in \u001b[0;36m<module>\u001b[0;34m()\u001b[0m\n\u001b[0;32m----> 1\u001b[0;31m \u001b[0;34m(\u001b[0m\u001b[0mannotbed\u001b[0m\u001b[0;34m,\u001b[0m \u001b[0mdf_annot\u001b[0m\u001b[0;34m)\u001b[0m \u001b[0;34m=\u001b[0m \u001b[0mmake_annot_file_per_chromosome\u001b[0m\u001b[0;34m(\u001b[0m\u001b[0mchromosome\u001b[0m\u001b[0;34m=\u001b[0m\u001b[0;36m22\u001b[0m\u001b[0;34m,\u001b[0m \u001b[0mdict_of_beds\u001b[0m\u001b[0;34m=\u001b[0m\u001b[0mdict_of_beds\u001b[0m\u001b[0;34m,\u001b[0m \u001b[0margs\u001b[0m\u001b[0;34m=\u001b[0m\u001b[0margs\u001b[0m\u001b[0;34m)\u001b[0m\u001b[0;34m\u001b[0m\u001b[0m\n\u001b[0m",
      "\u001b[0;31mTypeError\u001b[0m: 'NoneType' object is not iterable"
     ]
    }
   ],
   "source": [
    "make_annot_file_per_chromosome(chromosome=22, dict_of_beds=dict_of_beds, args=args)"
   ]
  },
  {
   "cell_type": "code",
   "execution_count": 27,
   "metadata": {
    "ExecuteTime": {
     "end_time": "2018-12-20T09:39:29.518801Z",
     "start_time": "2018-12-20T09:39:29.501608Z"
    }
   },
   "outputs": [
    {
     "data": {
      "text/plain": [
       "CHR                int64\n",
       "SNP               object\n",
       "CM               float64\n",
       "BP                 int64\n",
       "antiquewhite3    float64\n",
       "blue1            float64\n",
       "chocolate        float64\n",
       "dtype: object"
      ]
     },
     "execution_count": 27,
     "metadata": {},
     "output_type": "execute_result"
    }
   ],
   "source": [
    "df_annot.dtypes"
   ]
  },
  {
   "cell_type": "code",
   "execution_count": null,
   "metadata": {
    "collapsed": true
   },
   "outputs": [],
   "source": []
  },
  {
   "cell_type": "raw",
   "metadata": {
    "collapsed": true
   },
   "source": [
    "CODE TO COMPARE OUTPUT of make_annot_continuous_from_geneset_all_chr to original make_annot_from_geneset_all_chr.py \n",
    "\n",
    "### Continuous script\n",
    "python make_annot_continuous_from_geneset_all_chr.py \\\n",
    "--file_multi_gene_set test_file_multi_gene_set_wgcna200.csv \\\n",
    "--file_gene_coord /projects/timshel/sc-genetics/ldsc/data/gene_coords/gene_annotation.hsapiens_all_genes.GRCh37.ens_v91.LDSC_fmt.txt \\\n",
    "--windowsize 100000 \\\n",
    "--bimfile_basename /projects/timshel/sc-genetics/ldsc/data/1000G_EUR_Phase3_plink/1000G.EUR.QC \\\n",
    "--out_dir /scratch/sc-ldsc/TMP_TESTING_CONTINUOUS-continuous \\\n",
    "--out_prefix test_file_multi_gene_set_wgcna200 \\\n",
    "--flag_wgcna \\\n",
    "--flag_mouse\n",
    "\n",
    "### Continuous script w. binary\n",
    "python make_annot_continuous_from_geneset_all_chr.py \\\n",
    "--file_multi_gene_set test_file_multi_gene_set_wgcna200.csv \\\n",
    "--file_gene_coord /projects/timshel/sc-genetics/ldsc/data/gene_coords/gene_annotation.hsapiens_all_genes.GRCh37.ens_v91.LDSC_fmt.txt \\\n",
    "--windowsize 100000 \\\n",
    "--bimfile_basename /projects/timshel/sc-genetics/ldsc/data/1000G_EUR_Phase3_plink/1000G.EUR.QC \\\n",
    "--out_dir /scratch/sc-ldsc/TMP_TESTING_CONTINUOUS-continuous_w_binary \\\n",
    "--out_prefix test_file_multi_gene_set_wgcna200 \\\n",
    "--flag_encode_as_binary_annotation \\\n",
    "--flag_wgcna \\\n",
    "--flag_mouse\n",
    "\n",
    "### Binary script\n",
    "python2 make_annot_from_geneset_all_chr.py \\\n",
    "--file_multi_gene_set test_file_multi_gene_set_wgcna200.csv \\\n",
    "--file_gene_coord /projects/timshel/sc-genetics/ldsc/data/gene_coords/gene_annotation.hsapiens_all_genes.GRCh37.ens_v91.LDSC_fmt.txt \\\n",
    "--windowsize 100000 \\\n",
    "--bimfile_basename /projects/timshel/sc-genetics/ldsc/data/1000G_EUR_Phase3_plink/1000G.EUR.QC \\\n",
    "--out_dir /scratch/sc-ldsc/TMP_TESTING_CONTINUOUS-binary \\\n",
    "--out_prefix test_file_multi_gene_set_wgcna200 \\\n",
    "--flag_wgcna \\\n",
    "--flag_mouse\n",
    "\n",
    "\n",
    "\n",
    "zdiff TMP_TESTING_CONTINUOUS-continuous_w_binary/test_file_multi_gene_set_wgcna200.COMBINED_ANNOT.1.annot.gz TMP_TESTING_CONTINUOUS-binary/test_file_multi_gene_set_wgcna200.COMBINED_ANNOT.1.annot.gz\n",
    "\t---> no difference\n",
    "zdiff TMP_TESTING_CONTINUOUS-continuous/test_file_multi_gene_set_wgcna200.COMBINED_ANNOT.1.annot.gz TMP_TESTING_CONTINUOUS-continuous_w_binary/test_file_multi_gene_set_wgcna200.COMBINED_ANNOT.1.annot.gz\n",
    "    ---> differences, which is ok.\n"
   ]
  },
  {
   "cell_type": "code",
   "execution_count": null,
   "metadata": {
    "collapsed": true
   },
   "outputs": [],
   "source": []
  },
  {
   "cell_type": "code",
   "execution_count": null,
   "metadata": {
    "collapsed": true
   },
   "outputs": [],
   "source": [
    "### TESTING pool.map(functools.partial()\n",
    "def make_annot_file_per_chromosome(X, A, B):\n",
    "    print(X)\n",
    "    return(X+B)\n",
    "\n",
    "A=1\n",
    "B=2\n",
    "X = range(1,10)\n",
    "pool = multiprocessing.Pool(processes=10)\n",
    "X_maped = pool.map(functools.partial(make_annot_file_per_chromosome, A=A, B=B), X)"
   ]
  },
  {
   "cell_type": "code",
   "execution_count": null,
   "metadata": {
    "collapsed": true
   },
   "outputs": [],
   "source": []
  },
  {
   "cell_type": "code",
   "execution_count": null,
   "metadata": {
    "collapsed": true
   },
   "outputs": [],
   "source": []
  },
  {
   "cell_type": "markdown",
   "metadata": {},
   "source": [
    "### Testing combine_first()"
   ]
  },
  {
   "cell_type": "raw",
   "metadata": {},
   "source": [
    "# REF: https://pandas.pydata.org/pandas-docs/stable/generated/pandas.DataFrame.combine_first.html"
   ]
  },
  {
   "cell_type": "code",
   "execution_count": 42,
   "metadata": {
    "ExecuteTime": {
     "end_time": "2019-01-06T18:09:48.023732Z",
     "start_time": "2019-01-06T18:09:48.007828Z"
    },
    "collapsed": true
   },
   "outputs": [],
   "source": [
    "df1 = pd.DataFrame({'id': [1, 2,3,4,5], 'first': [np.nan,np.nan,1,0,np.nan], 'second': [1,np.nan,np.nan,np.nan,0]})\n",
    "df2 = pd.DataFrame({'id': [1, 2,3,4,5, 6], 'first': [np.nan,1,np.nan,np.nan,0, 1], 'third': [1,0,np.nan,1,1, 0]})"
   ]
  },
  {
   "cell_type": "code",
   "execution_count": 43,
   "metadata": {
    "ExecuteTime": {
     "end_time": "2019-01-06T18:09:48.307853Z",
     "start_time": "2019-01-06T18:09:48.289376Z"
    }
   },
   "outputs": [
    {
     "data": {
      "text/html": [
       "<div>\n",
       "<style scoped>\n",
       "    .dataframe tbody tr th:only-of-type {\n",
       "        vertical-align: middle;\n",
       "    }\n",
       "\n",
       "    .dataframe tbody tr th {\n",
       "        vertical-align: top;\n",
       "    }\n",
       "\n",
       "    .dataframe thead th {\n",
       "        text-align: right;\n",
       "    }\n",
       "</style>\n",
       "<table border=\"1\" class=\"dataframe\">\n",
       "  <thead>\n",
       "    <tr style=\"text-align: right;\">\n",
       "      <th></th>\n",
       "      <th>id</th>\n",
       "      <th>first</th>\n",
       "      <th>second</th>\n",
       "    </tr>\n",
       "  </thead>\n",
       "  <tbody>\n",
       "    <tr>\n",
       "      <th>0</th>\n",
       "      <td>1</td>\n",
       "      <td>NaN</td>\n",
       "      <td>1.0</td>\n",
       "    </tr>\n",
       "    <tr>\n",
       "      <th>1</th>\n",
       "      <td>2</td>\n",
       "      <td>NaN</td>\n",
       "      <td>NaN</td>\n",
       "    </tr>\n",
       "    <tr>\n",
       "      <th>2</th>\n",
       "      <td>3</td>\n",
       "      <td>1.0</td>\n",
       "      <td>NaN</td>\n",
       "    </tr>\n",
       "    <tr>\n",
       "      <th>3</th>\n",
       "      <td>4</td>\n",
       "      <td>0.0</td>\n",
       "      <td>NaN</td>\n",
       "    </tr>\n",
       "    <tr>\n",
       "      <th>4</th>\n",
       "      <td>5</td>\n",
       "      <td>NaN</td>\n",
       "      <td>0.0</td>\n",
       "    </tr>\n",
       "  </tbody>\n",
       "</table>\n",
       "</div>"
      ],
      "text/plain": [
       "   id  first  second\n",
       "0   1    NaN     1.0\n",
       "1   2    NaN     NaN\n",
       "2   3    1.0     NaN\n",
       "3   4    0.0     NaN\n",
       "4   5    NaN     0.0"
      ]
     },
     "execution_count": 43,
     "metadata": {},
     "output_type": "execute_result"
    }
   ],
   "source": [
    "df1"
   ]
  },
  {
   "cell_type": "code",
   "execution_count": 44,
   "metadata": {
    "ExecuteTime": {
     "end_time": "2019-01-06T18:09:48.579481Z",
     "start_time": "2019-01-06T18:09:48.561058Z"
    }
   },
   "outputs": [
    {
     "data": {
      "text/html": [
       "<div>\n",
       "<style scoped>\n",
       "    .dataframe tbody tr th:only-of-type {\n",
       "        vertical-align: middle;\n",
       "    }\n",
       "\n",
       "    .dataframe tbody tr th {\n",
       "        vertical-align: top;\n",
       "    }\n",
       "\n",
       "    .dataframe thead th {\n",
       "        text-align: right;\n",
       "    }\n",
       "</style>\n",
       "<table border=\"1\" class=\"dataframe\">\n",
       "  <thead>\n",
       "    <tr style=\"text-align: right;\">\n",
       "      <th></th>\n",
       "      <th>id</th>\n",
       "      <th>first</th>\n",
       "      <th>third</th>\n",
       "    </tr>\n",
       "  </thead>\n",
       "  <tbody>\n",
       "    <tr>\n",
       "      <th>0</th>\n",
       "      <td>1</td>\n",
       "      <td>NaN</td>\n",
       "      <td>1.0</td>\n",
       "    </tr>\n",
       "    <tr>\n",
       "      <th>1</th>\n",
       "      <td>2</td>\n",
       "      <td>1.0</td>\n",
       "      <td>0.0</td>\n",
       "    </tr>\n",
       "    <tr>\n",
       "      <th>2</th>\n",
       "      <td>3</td>\n",
       "      <td>NaN</td>\n",
       "      <td>NaN</td>\n",
       "    </tr>\n",
       "    <tr>\n",
       "      <th>3</th>\n",
       "      <td>4</td>\n",
       "      <td>NaN</td>\n",
       "      <td>1.0</td>\n",
       "    </tr>\n",
       "    <tr>\n",
       "      <th>4</th>\n",
       "      <td>5</td>\n",
       "      <td>0.0</td>\n",
       "      <td>1.0</td>\n",
       "    </tr>\n",
       "    <tr>\n",
       "      <th>5</th>\n",
       "      <td>6</td>\n",
       "      <td>1.0</td>\n",
       "      <td>0.0</td>\n",
       "    </tr>\n",
       "  </tbody>\n",
       "</table>\n",
       "</div>"
      ],
      "text/plain": [
       "   id  first  third\n",
       "0   1    NaN    1.0\n",
       "1   2    1.0    0.0\n",
       "2   3    NaN    NaN\n",
       "3   4    NaN    1.0\n",
       "4   5    0.0    1.0\n",
       "5   6    1.0    0.0"
      ]
     },
     "execution_count": 44,
     "metadata": {},
     "output_type": "execute_result"
    }
   ],
   "source": [
    "df2"
   ]
  },
  {
   "cell_type": "code",
   "execution_count": 45,
   "metadata": {
    "ExecuteTime": {
     "end_time": "2019-01-06T18:09:49.493449Z",
     "start_time": "2019-01-06T18:09:49.355407Z"
    }
   },
   "outputs": [
    {
     "data": {
      "text/html": [
       "<div>\n",
       "<style scoped>\n",
       "    .dataframe tbody tr th:only-of-type {\n",
       "        vertical-align: middle;\n",
       "    }\n",
       "\n",
       "    .dataframe tbody tr th {\n",
       "        vertical-align: top;\n",
       "    }\n",
       "\n",
       "    .dataframe thead th {\n",
       "        text-align: right;\n",
       "    }\n",
       "</style>\n",
       "<table border=\"1\" class=\"dataframe\">\n",
       "  <thead>\n",
       "    <tr style=\"text-align: right;\">\n",
       "      <th></th>\n",
       "      <th>first</th>\n",
       "      <th>id</th>\n",
       "      <th>second</th>\n",
       "      <th>third</th>\n",
       "    </tr>\n",
       "  </thead>\n",
       "  <tbody>\n",
       "    <tr>\n",
       "      <th>0</th>\n",
       "      <td>NaN</td>\n",
       "      <td>1.0</td>\n",
       "      <td>1.0</td>\n",
       "      <td>1.0</td>\n",
       "    </tr>\n",
       "    <tr>\n",
       "      <th>1</th>\n",
       "      <td>1.0</td>\n",
       "      <td>2.0</td>\n",
       "      <td>NaN</td>\n",
       "      <td>0.0</td>\n",
       "    </tr>\n",
       "    <tr>\n",
       "      <th>2</th>\n",
       "      <td>1.0</td>\n",
       "      <td>3.0</td>\n",
       "      <td>NaN</td>\n",
       "      <td>NaN</td>\n",
       "    </tr>\n",
       "    <tr>\n",
       "      <th>3</th>\n",
       "      <td>0.0</td>\n",
       "      <td>4.0</td>\n",
       "      <td>NaN</td>\n",
       "      <td>1.0</td>\n",
       "    </tr>\n",
       "    <tr>\n",
       "      <th>4</th>\n",
       "      <td>0.0</td>\n",
       "      <td>5.0</td>\n",
       "      <td>0.0</td>\n",
       "      <td>1.0</td>\n",
       "    </tr>\n",
       "    <tr>\n",
       "      <th>5</th>\n",
       "      <td>1.0</td>\n",
       "      <td>6.0</td>\n",
       "      <td>NaN</td>\n",
       "      <td>0.0</td>\n",
       "    </tr>\n",
       "  </tbody>\n",
       "</table>\n",
       "</div>"
      ],
      "text/plain": [
       "   first   id  second  third\n",
       "0    NaN  1.0     1.0    1.0\n",
       "1    1.0  2.0     NaN    0.0\n",
       "2    1.0  3.0     NaN    NaN\n",
       "3    0.0  4.0     NaN    1.0\n",
       "4    0.0  5.0     0.0    1.0\n",
       "5    1.0  6.0     NaN    0.0"
      ]
     },
     "execution_count": 45,
     "metadata": {},
     "output_type": "execute_result"
    }
   ],
   "source": [
    "df1.combine_first(df2)"
   ]
  },
  {
   "cell_type": "code",
   "execution_count": null,
   "metadata": {
    "collapsed": true
   },
   "outputs": [],
   "source": []
  },
  {
   "cell_type": "code",
   "execution_count": null,
   "metadata": {
    "collapsed": true
   },
   "outputs": [],
   "source": []
  },
  {
   "cell_type": "code",
   "execution_count": null,
   "metadata": {
    "collapsed": true
   },
   "outputs": [],
   "source": []
  },
  {
   "cell_type": "raw",
   "metadata": {},
   "source": [
    "# match()\tDetermine if the RE matches at the beginning of the string.\n",
    "# search()\tScan through a string, looking for any location where this RE matches.\n",
    "# findall()\tFind all substrings where the RE matches, and returns them as a list. findall() matches all occurrences of a pattern, not just the first one as search() does.\n",
    "# finditer()\tFind all substrings where the RE matches, and returns them as an iterator.\n",
    "\n",
    "re.findall(pattern, string, flags=0)\n",
    "Return all non-overlapping matches of pattern in string, as a list of strings. The string is scanned left-to-right, and matches are returned in the order found. If one or more groups are present in the pattern, return a list of groups; this will be a list of tuples if the pattern has more than one group. Empty matches are included in the result."
   ]
  },
  {
   "cell_type": "code",
   "execution_count": 125,
   "metadata": {
    "ExecuteTime": {
     "end_time": "2019-01-07T11:37:03.808865Z",
     "start_time": "2019-01-07T11:37:03.794120Z"
    }
   },
   "outputs": [
    {
     "data": {
      "text/plain": [
       "[' ', ' ', ' ', ' ', '/', ' ', ' ', '/', ' ', '__', ' ', '\\t']"
      ]
     },
     "execution_count": 125,
     "metadata": {},
     "output_type": "execute_result"
    }
   ],
   "source": [
    "x = \"blasf _ sdf xx_xx /s * sd/sd __ \\t\"\n",
    "list_matches = re.findall(r\"[/\\s]|__\", x)\n",
    "list_matches"
   ]
  },
  {
   "cell_type": "code",
   "execution_count": null,
   "metadata": {
    "collapsed": true
   },
   "outputs": [],
   "source": []
  },
  {
   "cell_type": "code",
   "execution_count": null,
   "metadata": {
    "collapsed": true
   },
   "outputs": [],
   "source": []
  }
 ],
 "metadata": {
  "kernelspec": {
   "display_name": "Python [conda env:py3_anaconda3_PT180510]",
   "language": "python",
   "name": "conda-env-py3_anaconda3_PT180510-py"
  },
  "language_info": {
   "codemirror_mode": {
    "name": "ipython",
    "version": 3
   },
   "file_extension": ".py",
   "mimetype": "text/x-python",
   "name": "python",
   "nbconvert_exporter": "python",
   "pygments_lexer": "ipython3",
   "version": "3.6.6"
  },
  "toc": {
   "colors": {
    "hover_highlight": "#DAA520",
    "navigate_num": "#000000",
    "navigate_text": "#333333",
    "running_highlight": "#FF0000",
    "selected_highlight": "#FFD700",
    "sidebar_border": "#EEEEEE",
    "wrapper_background": "#FFFFFF"
   },
   "moveMenuLeft": true,
   "nav_menu": {
    "height": "12px",
    "width": "252px"
   },
   "navigate_menu": true,
   "number_sections": true,
   "sideBar": true,
   "threshold": 4,
   "toc_cell": false,
   "toc_section_display": "block",
   "toc_window_display": false,
   "widenNotebook": false
  }
 },
 "nbformat": 4,
 "nbformat_minor": 2
}
