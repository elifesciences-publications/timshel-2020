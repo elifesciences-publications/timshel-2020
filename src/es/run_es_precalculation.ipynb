{
 "cells": [
  {
   "cell_type": "code",
   "execution_count": 16,
   "metadata": {
    "ExecuteTime": {
     "end_time": "2019-08-07T14:21:44.138620Z",
     "start_time": "2019-08-07T14:21:44.136098Z"
    }
   },
   "outputs": [],
   "source": [
    "import os\n",
    "import sys\n",
    "\n",
    "import numpy as np\n",
    "import pandas as pd\n"
   ]
  },
  {
   "cell_type": "code",
   "execution_count": 17,
   "metadata": {
    "ExecuteTime": {
     "end_time": "2019-08-07T14:21:44.729052Z",
     "start_time": "2019-08-07T14:21:44.721853Z"
    }
   },
   "outputs": [],
   "source": [
    "import git\n",
    "path_repo_root = git.Repo('.', search_parent_directories=True).working_tree_dir"
   ]
  },
  {
   "cell_type": "code",
   "execution_count": 18,
   "metadata": {
    "ExecuteTime": {
     "end_time": "2019-08-07T14:21:45.130628Z",
     "start_time": "2019-08-07T14:21:45.088599Z"
    }
   },
   "outputs": [],
   "source": [
    "path_lib = os.path.join(path_repo_root, \"src/lib\")\n",
    "sys.path.insert(1, path_lib)\n",
    "from es_precalculation import *"
   ]
  },
  {
   "cell_type": "markdown",
   "metadata": {},
   "source": [
    "# Constants"
   ]
  },
  {
   "cell_type": "code",
   "execution_count": 20,
   "metadata": {
    "ExecuteTime": {
     "end_time": "2019-08-07T14:21:46.733914Z",
     "start_time": "2019-08-07T14:21:46.721168Z"
    }
   },
   "outputs": [],
   "source": [
    "### Constants\n",
    "input_dir = os.path.join(path_repo_root, \"tmp-data/expression\")\n",
    "output_dir = os.path.join(path_repo_root, \"tmp-data/expression-precalc\")"
   ]
  },
  {
   "cell_type": "markdown",
   "metadata": {},
   "source": [
    "# Functions"
   ]
  },
  {
   "cell_type": "code",
   "execution_count": 28,
   "metadata": {
    "ExecuteTime": {
     "end_time": "2019-08-07T14:43:49.058034Z",
     "start_time": "2019-08-07T14:43:49.044007Z"
    }
   },
   "outputs": [],
   "source": [
    "def utils_celldata_reader(input_dir, prefix):\n",
    "    \"\"\" Helper function to read .metadata.csv and .umi.csv.gz files in stored input_dir (tmp-data/expression)\"\"\"\n",
    "\n",
    "    ### Metadata\n",
    "    file_metadata = os.path.join(input_dir, \"{}.metadata.csv\".format(prefix))\n",
    "    df_metadata = pd.read_csv(file_metadata, index_col=False)\n",
    "    ### Data\n",
    "    print(\"Reading UMI data...\")\n",
    "    file_data = os.path.join(input_dir, \"{}.umi.csv.gz\".format(prefix))\n",
    "    df_data = pd.read_csv(file_data, index_col=False) # this takes 12-14 min for tabula_muris! (Pandas is slow!)\n",
    "    print(\"Done reading UMI data\")\n",
    "    df_data.set_index(\"gene\", inplace=True) # set index\n",
    "    ### [*IMPORTANT*] Check that all metadata cell_ids are identical to data columnnames. \n",
    "    ### We need to ensure this before we can use the metadata cell-types as annotations.\n",
    "    assert(np.all(df_data.columns.values == df_metadata[\"cell_id\"].values)) # ---> True\n",
    "    return [df_metadata, df_data]"
   ]
  },
  {
   "cell_type": "markdown",
   "metadata": {},
   "source": [
    "# Mousebrain"
   ]
  },
  {
   "cell_type": "code",
   "execution_count": null,
   "metadata": {},
   "outputs": [],
   "source": [
    "import loompy # version 2"
   ]
  },
  {
   "cell_type": "code",
   "execution_count": 42,
   "metadata": {
    "ExecuteTime": {
     "end_time": "2019-08-07T15:27:21.705547Z",
     "start_time": "2019-08-07T15:27:21.693804Z"
    }
   },
   "outputs": [],
   "source": [
    "### Variables\n",
    "out_prefix = \"mousebrain\"\n",
    "annotation_column = \"ClusterName\""
   ]
  },
  {
   "cell_type": "code",
   "execution_count": 39,
   "metadata": {
    "ExecuteTime": {
     "end_time": "2019-08-07T15:07:18.912589Z",
     "start_time": "2019-08-07T15:05:44.338183Z"
    }
   },
   "outputs": [],
   "source": [
    "file_loom = os.path.join(input_dir, \"mousebrain-l5_all.loom\")\n",
    "# file_loom = \"/scratch/data-for_fast_access/pub-others/zeisel-biorxiv-2018/l5_all2.loom\"\n",
    "with loompy.connect(file_loom) as ds:\n",
    "    ### Make data frame. Use Ensembl GeneIDs\n",
    "    # ds.ra.Gene (Gene names) contains 66 duplicate gene names\n",
    "    df_data = pd.DataFrame(ds[:, :].astype(int), index=ds.ra.Accession, columns=ds.ca.CellID)\n",
    "    df_data.columns = pd.MultiIndex.from_arrays([ds.ca.CellID, ds.ca.ClusterName], names=[\"CellID\", \"ClusterName\"])"
   ]
  },
  {
   "cell_type": "code",
   "execution_count": 40,
   "metadata": {
    "ExecuteTime": {
     "end_time": "2019-08-07T15:24:08.480630Z",
     "start_time": "2019-08-07T15:19:44.266548Z"
    }
   },
   "outputs": [
    {
     "name": "stdout",
     "output_type": "stream",
     "text": [
      "Performning common transcript count (ctc) normalization and log-transformation on input data\n"
     ]
    }
   ],
   "source": [
    "df_ctc_log = ctc_log_normalize(df_data)\n",
    "del df_data"
   ]
  },
  {
   "cell_type": "code",
   "execution_count": 43,
   "metadata": {
    "ExecuteTime": {
     "end_time": "2019-08-07T15:27:23.226445Z",
     "start_time": "2019-08-07T15:27:23.210625Z"
    }
   },
   "outputs": [],
   "source": [
    "annotations = df_ctc_log.columns.get_level_values(level=annotation_column) # 1 x NCell"
   ]
  },
  {
   "cell_type": "code",
   "execution_count": null,
   "metadata": {
    "ExecuteTime": {
     "start_time": "2019-08-07T15:27:26.421Z"
    },
    "scrolled": true
   },
   "outputs": [
    {
     "name": "stdout",
     "output_type": "stream",
     "text": [
      "Splitting data frame into annotation groups\n",
      "Splitting annotation #1/#265 into group\n",
      "Splitting annotation #2/#265 into group\n",
      "Splitting annotation #3/#265 into group\n",
      "Splitting annotation #4/#265 into group\n",
      "Splitting annotation #5/#265 into group\n",
      "Splitting annotation #6/#265 into group\n",
      "Splitting annotation #7/#265 into group\n",
      "Splitting annotation #8/#265 into group\n",
      "Splitting annotation #9/#265 into group\n",
      "Splitting annotation #10/#265 into group\n",
      "Splitting annotation #11/#265 into group\n",
      "Splitting annotation #12/#265 into group\n",
      "Splitting annotation #13/#265 into group\n",
      "Splitting annotation #14/#265 into group\n",
      "Splitting annotation #15/#265 into group\n",
      "Splitting annotation #16/#265 into group\n",
      "Splitting annotation #17/#265 into group\n",
      "Splitting annotation #18/#265 into group\n",
      "Splitting annotation #19/#265 into group\n",
      "Splitting annotation #20/#265 into group\n",
      "Splitting annotation #21/#265 into group\n",
      "Splitting annotation #22/#265 into group\n",
      "Splitting annotation #23/#265 into group\n",
      "Splitting annotation #24/#265 into group\n",
      "Splitting annotation #25/#265 into group\n",
      "Splitting annotation #26/#265 into group\n",
      "Splitting annotation #27/#265 into group\n",
      "Splitting annotation #28/#265 into group\n",
      "Splitting annotation #29/#265 into group\n",
      "Splitting annotation #30/#265 into group\n",
      "Splitting annotation #31/#265 into group\n",
      "Splitting annotation #32/#265 into group\n",
      "Splitting annotation #33/#265 into group\n",
      "Splitting annotation #34/#265 into group\n",
      "Splitting annotation #35/#265 into group\n",
      "Splitting annotation #36/#265 into group\n",
      "Splitting annotation #37/#265 into group\n",
      "Splitting annotation #38/#265 into group\n",
      "Splitting annotation #39/#265 into group\n",
      "Splitting annotation #40/#265 into group\n",
      "Splitting annotation #41/#265 into group\n",
      "Splitting annotation #42/#265 into group\n",
      "Splitting annotation #43/#265 into group\n",
      "Splitting annotation #44/#265 into group\n",
      "Splitting annotation #45/#265 into group\n",
      "Splitting annotation #46/#265 into group\n",
      "Splitting annotation #47/#265 into group\n",
      "Splitting annotation #48/#265 into group\n",
      "Splitting annotation #49/#265 into group\n",
      "Splitting annotation #50/#265 into group\n",
      "Splitting annotation #51/#265 into group\n",
      "Splitting annotation #52/#265 into group\n",
      "Splitting annotation #53/#265 into group\n",
      "Splitting annotation #54/#265 into group\n",
      "Splitting annotation #55/#265 into group\n",
      "Splitting annotation #56/#265 into group\n",
      "Splitting annotation #57/#265 into group\n",
      "Splitting annotation #58/#265 into group\n",
      "Splitting annotation #59/#265 into group\n",
      "Splitting annotation #60/#265 into group\n",
      "Splitting annotation #61/#265 into group\n",
      "Splitting annotation #62/#265 into group\n",
      "Splitting annotation #63/#265 into group\n",
      "Splitting annotation #64/#265 into group\n",
      "Splitting annotation #65/#265 into group\n",
      "Splitting annotation #66/#265 into group\n",
      "Splitting annotation #67/#265 into group\n",
      "Splitting annotation #68/#265 into group\n",
      "Splitting annotation #69/#265 into group\n",
      "Splitting annotation #70/#265 into group\n",
      "Splitting annotation #71/#265 into group\n",
      "Splitting annotation #72/#265 into group\n",
      "Splitting annotation #73/#265 into group\n",
      "Splitting annotation #74/#265 into group\n",
      "Splitting annotation #75/#265 into group\n",
      "Splitting annotation #76/#265 into group\n",
      "Splitting annotation #77/#265 into group\n",
      "Splitting annotation #78/#265 into group\n",
      "Splitting annotation #79/#265 into group\n",
      "Splitting annotation #80/#265 into group\n",
      "Splitting annotation #81/#265 into group\n",
      "Splitting annotation #82/#265 into group\n",
      "Splitting annotation #83/#265 into group\n",
      "Splitting annotation #84/#265 into group\n",
      "Splitting annotation #85/#265 into group\n",
      "Splitting annotation #86/#265 into group\n",
      "Splitting annotation #87/#265 into group\n",
      "Splitting annotation #88/#265 into group\n",
      "Splitting annotation #89/#265 into group\n",
      "Splitting annotation #90/#265 into group\n",
      "Splitting annotation #91/#265 into group\n",
      "Splitting annotation #92/#265 into group\n",
      "Splitting annotation #93/#265 into group\n",
      "Splitting annotation #94/#265 into group\n",
      "Splitting annotation #95/#265 into group\n",
      "Splitting annotation #96/#265 into group\n",
      "Splitting annotation #97/#265 into group\n",
      "Splitting annotation #98/#265 into group\n",
      "Splitting annotation #99/#265 into group\n",
      "Splitting annotation #100/#265 into group\n",
      "Splitting annotation #101/#265 into group\n",
      "Splitting annotation #102/#265 into group\n",
      "Splitting annotation #103/#265 into group\n",
      "Splitting annotation #104/#265 into group\n",
      "Splitting annotation #105/#265 into group\n",
      "Splitting annotation #106/#265 into group\n",
      "Splitting annotation #107/#265 into group\n",
      "Splitting annotation #108/#265 into group\n",
      "Splitting annotation #109/#265 into group\n",
      "Splitting annotation #110/#265 into group\n",
      "Splitting annotation #111/#265 into group\n",
      "Splitting annotation #112/#265 into group\n",
      "Splitting annotation #113/#265 into group\n",
      "Splitting annotation #114/#265 into group\n",
      "Splitting annotation #115/#265 into group\n",
      "Splitting annotation #116/#265 into group\n",
      "Splitting annotation #117/#265 into group\n",
      "Splitting annotation #118/#265 into group\n",
      "Splitting annotation #119/#265 into group\n",
      "Splitting annotation #120/#265 into group\n",
      "Splitting annotation #121/#265 into group\n",
      "Splitting annotation #122/#265 into group\n",
      "Splitting annotation #123/#265 into group\n",
      "Splitting annotation #124/#265 into group\n",
      "Splitting annotation #125/#265 into group\n",
      "Splitting annotation #126/#265 into group\n",
      "Splitting annotation #127/#265 into group\n",
      "Splitting annotation #128/#265 into group\n",
      "Splitting annotation #129/#265 into group\n",
      "Splitting annotation #130/#265 into group\n",
      "Splitting annotation #131/#265 into group\n",
      "Splitting annotation #132/#265 into group\n",
      "Splitting annotation #133/#265 into group\n",
      "Splitting annotation #134/#265 into group\n",
      "Splitting annotation #135/#265 into group\n",
      "Splitting annotation #136/#265 into group\n",
      "Splitting annotation #137/#265 into group\n",
      "Splitting annotation #138/#265 into group\n",
      "Splitting annotation #139/#265 into group\n",
      "Splitting annotation #140/#265 into group\n",
      "Splitting annotation #141/#265 into group\n",
      "Splitting annotation #142/#265 into group\n",
      "Splitting annotation #143/#265 into group\n",
      "Splitting annotation #144/#265 into group\n",
      "Splitting annotation #145/#265 into group\n",
      "Splitting annotation #146/#265 into group\n",
      "Splitting annotation #147/#265 into group\n",
      "Splitting annotation #148/#265 into group\n",
      "Splitting annotation #149/#265 into group\n",
      "Splitting annotation #150/#265 into group\n",
      "Splitting annotation #151/#265 into group\n",
      "Splitting annotation #152/#265 into group\n",
      "Splitting annotation #153/#265 into group\n",
      "Splitting annotation #154/#265 into group\n",
      "Splitting annotation #155/#265 into group\n",
      "Splitting annotation #156/#265 into group\n",
      "Splitting annotation #157/#265 into group\n",
      "Splitting annotation #158/#265 into group\n",
      "Splitting annotation #159/#265 into group\n",
      "Splitting annotation #160/#265 into group\n",
      "Splitting annotation #161/#265 into group\n",
      "Splitting annotation #162/#265 into group\n",
      "Splitting annotation #163/#265 into group\n",
      "Splitting annotation #164/#265 into group\n",
      "Splitting annotation #165/#265 into group\n",
      "Splitting annotation #166/#265 into group\n",
      "Splitting annotation #167/#265 into group\n",
      "Splitting annotation #168/#265 into group\n",
      "Splitting annotation #169/#265 into group\n",
      "Splitting annotation #170/#265 into group\n",
      "Splitting annotation #171/#265 into group\n",
      "Splitting annotation #172/#265 into group\n",
      "Splitting annotation #173/#265 into group\n",
      "Splitting annotation #174/#265 into group\n",
      "Splitting annotation #175/#265 into group\n",
      "Splitting annotation #176/#265 into group\n",
      "Splitting annotation #177/#265 into group\n",
      "Splitting annotation #178/#265 into group\n",
      "Splitting annotation #179/#265 into group\n",
      "Splitting annotation #180/#265 into group\n",
      "Splitting annotation #181/#265 into group\n",
      "Splitting annotation #182/#265 into group\n",
      "Splitting annotation #183/#265 into group\n",
      "Splitting annotation #184/#265 into group\n",
      "Splitting annotation #185/#265 into group\n",
      "Splitting annotation #186/#265 into group\n",
      "Splitting annotation #187/#265 into group\n",
      "Splitting annotation #188/#265 into group\n",
      "Splitting annotation #189/#265 into group\n",
      "Splitting annotation #190/#265 into group\n",
      "Splitting annotation #191/#265 into group\n",
      "Splitting annotation #192/#265 into group\n",
      "Splitting annotation #193/#265 into group\n",
      "Splitting annotation #194/#265 into group\n",
      "Splitting annotation #195/#265 into group\n",
      "Splitting annotation #196/#265 into group\n",
      "Splitting annotation #197/#265 into group\n",
      "Splitting annotation #198/#265 into group\n",
      "Splitting annotation #199/#265 into group\n"
     ]
    },
    {
     "name": "stdout",
     "output_type": "stream",
     "text": [
      "Splitting annotation #200/#265 into group\n",
      "Splitting annotation #201/#265 into group\n",
      "Splitting annotation #202/#265 into group\n",
      "Splitting annotation #203/#265 into group\n",
      "Splitting annotation #204/#265 into group\n",
      "Splitting annotation #205/#265 into group\n",
      "Splitting annotation #206/#265 into group\n",
      "Splitting annotation #207/#265 into group\n",
      "Splitting annotation #208/#265 into group\n",
      "Splitting annotation #209/#265 into group\n",
      "Splitting annotation #210/#265 into group\n",
      "Splitting annotation #211/#265 into group\n",
      "Splitting annotation #212/#265 into group\n",
      "Splitting annotation #213/#265 into group\n",
      "Splitting annotation #214/#265 into group\n",
      "Splitting annotation #215/#265 into group\n",
      "Splitting annotation #216/#265 into group\n",
      "Splitting annotation #217/#265 into group\n",
      "Splitting annotation #218/#265 into group\n",
      "Splitting annotation #219/#265 into group\n",
      "Splitting annotation #220/#265 into group\n",
      "Splitting annotation #221/#265 into group\n",
      "Splitting annotation #222/#265 into group\n",
      "Splitting annotation #223/#265 into group\n",
      "Splitting annotation #224/#265 into group\n",
      "Splitting annotation #225/#265 into group\n",
      "Splitting annotation #226/#265 into group\n",
      "Splitting annotation #227/#265 into group\n",
      "Splitting annotation #228/#265 into group\n",
      "Splitting annotation #229/#265 into group\n",
      "Splitting annotation #230/#265 into group\n",
      "Splitting annotation #231/#265 into group\n",
      "Splitting annotation #232/#265 into group\n",
      "Splitting annotation #233/#265 into group\n",
      "Splitting annotation #234/#265 into group\n",
      "Splitting annotation #235/#265 into group\n",
      "Splitting annotation #236/#265 into group\n",
      "Splitting annotation #237/#265 into group\n",
      "Splitting annotation #238/#265 into group\n",
      "Splitting annotation #239/#265 into group\n",
      "Splitting annotation #240/#265 into group\n",
      "Splitting annotation #241/#265 into group\n",
      "Splitting annotation #242/#265 into group\n",
      "Splitting annotation #243/#265 into group\n",
      "Splitting annotation #244/#265 into group\n",
      "Splitting annotation #245/#265 into group\n",
      "Splitting annotation #246/#265 into group\n",
      "Splitting annotation #247/#265 into group\n",
      "Splitting annotation #248/#265 into group\n",
      "Splitting annotation #249/#265 into group\n",
      "Splitting annotation #250/#265 into group\n",
      "Splitting annotation #251/#265 into group\n",
      "Splitting annotation #252/#265 into group\n",
      "Splitting annotation #253/#265 into group\n",
      "Splitting annotation #254/#265 into group\n",
      "Splitting annotation #255/#265 into group\n",
      "Splitting annotation #256/#265 into group\n",
      "Splitting annotation #257/#265 into group\n",
      "Splitting annotation #258/#265 into group\n",
      "Splitting annotation #259/#265 into group\n",
      "Splitting annotation #260/#265 into group\n",
      "Splitting annotation #261/#265 into group\n",
      "Splitting annotation #262/#265 into group\n",
      "Splitting annotation #263/#265 into group\n",
      "Splitting annotation #264/#265 into group\n",
      "Splitting annotation #265/#265 into group\n",
      "Running ANOVA\n",
      "gene 0 out of 27998\n",
      "gene 100 out of 27998\n",
      "gene 200 out of 27998\n",
      "gene 300 out of 27998\n",
      "gene 400 out of 27998\n",
      "gene 500 out of 27998\n",
      "gene 600 out of 27998\n",
      "gene 700 out of 27998\n",
      "gene 800 out of 27998\n",
      "gene 900 out of 27998\n",
      "gene 1000 out of 27998\n",
      "gene 1100 out of 27998\n",
      "gene 1200 out of 27998\n",
      "gene 1300 out of 27998\n",
      "gene 1400 out of 27998\n",
      "gene 1500 out of 27998\n",
      "gene 1600 out of 27998\n",
      "gene 1700 out of 27998\n",
      "gene 1800 out of 27998\n",
      "gene 1900 out of 27998\n",
      "gene 2000 out of 27998\n",
      "gene 2100 out of 27998\n",
      "gene 2200 out of 27998\n",
      "gene 2300 out of 27998\n",
      "gene 2400 out of 27998\n",
      "gene 2500 out of 27998\n",
      "gene 2600 out of 27998\n"
     ]
    },
    {
     "name": "stderr",
     "output_type": "stream",
     "text": [
      "/tools/anaconda/3-4.4.0/envs/py3_anaconda3_PT180510/lib/python3.6/site-packages/scipy/stats/stats.py:2933: RuntimeWarning: invalid value encountered in double_scalars\n",
      "  f = msb / msw\n"
     ]
    },
    {
     "name": "stdout",
     "output_type": "stream",
     "text": [
      "gene 2700 out of 27998\n",
      "gene 2800 out of 27998\n",
      "gene 2900 out of 27998\n",
      "gene 3000 out of 27998\n",
      "gene 3100 out of 27998\n",
      "gene 3200 out of 27998\n",
      "gene 3300 out of 27998\n",
      "gene 3400 out of 27998\n",
      "gene 3500 out of 27998\n",
      "gene 3600 out of 27998\n",
      "gene 3700 out of 27998\n",
      "gene 3800 out of 27998\n",
      "gene 3900 out of 27998\n",
      "gene 4000 out of 27998\n",
      "gene 4100 out of 27998\n",
      "gene 4200 out of 27998\n",
      "gene 4300 out of 27998\n",
      "gene 4400 out of 27998\n",
      "gene 4500 out of 27998\n",
      "gene 4600 out of 27998\n",
      "gene 4700 out of 27998\n",
      "gene 4800 out of 27998\n",
      "gene 4900 out of 27998\n",
      "gene 5000 out of 27998\n",
      "gene 5100 out of 27998\n",
      "gene 5200 out of 27998\n",
      "gene 5300 out of 27998\n",
      "gene 5400 out of 27998\n",
      "gene 5500 out of 27998\n",
      "gene 5600 out of 27998\n",
      "gene 5700 out of 27998\n",
      "gene 5800 out of 27998\n",
      "gene 5900 out of 27998\n",
      "gene 6000 out of 27998\n",
      "gene 6100 out of 27998\n",
      "gene 6200 out of 27998\n",
      "gene 6300 out of 27998\n",
      "gene 6400 out of 27998\n",
      "gene 6500 out of 27998\n",
      "gene 6600 out of 27998\n",
      "gene 6700 out of 27998\n",
      "gene 6800 out of 27998\n",
      "gene 6900 out of 27998\n",
      "gene 7000 out of 27998\n",
      "gene 7100 out of 27998\n",
      "gene 7200 out of 27998\n",
      "gene 7300 out of 27998\n",
      "gene 7400 out of 27998\n",
      "gene 7500 out of 27998\n",
      "gene 7600 out of 27998\n",
      "gene 7700 out of 27998\n",
      "gene 7800 out of 27998\n",
      "gene 7900 out of 27998\n",
      "gene 8000 out of 27998\n",
      "gene 8100 out of 27998\n",
      "gene 8200 out of 27998\n",
      "gene 8300 out of 27998\n",
      "gene 8400 out of 27998\n",
      "gene 8500 out of 27998\n",
      "gene 8600 out of 27998\n",
      "gene 8700 out of 27998\n",
      "gene 8800 out of 27998\n",
      "gene 8900 out of 27998\n",
      "gene 9000 out of 27998\n",
      "gene 9100 out of 27998\n",
      "gene 9200 out of 27998\n",
      "gene 9300 out of 27998\n",
      "gene 9400 out of 27998\n",
      "gene 9500 out of 27998\n",
      "gene 9600 out of 27998\n",
      "gene 9700 out of 27998\n",
      "gene 9800 out of 27998\n",
      "gene 9900 out of 27998\n",
      "gene 10000 out of 27998\n",
      "gene 10100 out of 27998\n",
      "gene 10200 out of 27998\n",
      "gene 10300 out of 27998\n",
      "gene 10400 out of 27998\n",
      "gene 10500 out of 27998\n",
      "gene 10600 out of 27998\n",
      "gene 10700 out of 27998\n",
      "gene 10800 out of 27998\n",
      "gene 10900 out of 27998\n",
      "gene 11000 out of 27998\n",
      "gene 11100 out of 27998\n",
      "gene 11200 out of 27998\n",
      "gene 11300 out of 27998\n",
      "gene 11400 out of 27998\n",
      "gene 11500 out of 27998\n",
      "gene 11600 out of 27998\n",
      "gene 11700 out of 27998\n",
      "gene 11800 out of 27998\n",
      "gene 11900 out of 27998\n",
      "gene 12000 out of 27998\n",
      "gene 12100 out of 27998\n",
      "gene 12200 out of 27998\n",
      "gene 12300 out of 27998\n",
      "gene 12400 out of 27998\n",
      "gene 12500 out of 27998\n",
      "gene 12600 out of 27998\n",
      "gene 12700 out of 27998\n",
      "gene 12800 out of 27998\n",
      "gene 12900 out of 27998\n",
      "gene 13000 out of 27998\n",
      "gene 13100 out of 27998\n",
      "gene 13200 out of 27998\n",
      "gene 13300 out of 27998\n",
      "gene 13400 out of 27998\n",
      "gene 13500 out of 27998\n",
      "gene 13600 out of 27998\n",
      "gene 13700 out of 27998\n",
      "gene 13800 out of 27998\n",
      "gene 13900 out of 27998\n",
      "gene 14000 out of 27998\n",
      "gene 14100 out of 27998\n",
      "gene 14200 out of 27998\n",
      "gene 14300 out of 27998\n",
      "gene 14400 out of 27998\n",
      "gene 14500 out of 27998\n",
      "gene 14600 out of 27998\n",
      "gene 14700 out of 27998\n",
      "gene 14800 out of 27998\n",
      "gene 14900 out of 27998\n",
      "gene 15000 out of 27998\n",
      "gene 15100 out of 27998\n",
      "gene 15200 out of 27998\n",
      "gene 15300 out of 27998\n",
      "gene 15400 out of 27998\n",
      "gene 15500 out of 27998\n",
      "gene 15600 out of 27998\n",
      "gene 15700 out of 27998\n",
      "gene 15800 out of 27998\n",
      "gene 15900 out of 27998\n",
      "gene 16000 out of 27998\n",
      "gene 16100 out of 27998\n",
      "gene 16200 out of 27998\n",
      "gene 16300 out of 27998\n",
      "gene 16400 out of 27998\n",
      "gene 16500 out of 27998\n",
      "gene 16600 out of 27998\n",
      "gene 16700 out of 27998\n",
      "gene 16800 out of 27998\n",
      "gene 16900 out of 27998\n",
      "gene 17000 out of 27998\n",
      "gene 17100 out of 27998\n",
      "gene 17200 out of 27998\n",
      "gene 17300 out of 27998\n",
      "gene 17400 out of 27998\n",
      "gene 17500 out of 27998\n",
      "gene 17600 out of 27998\n",
      "gene 17700 out of 27998\n",
      "gene 17800 out of 27998\n",
      "gene 17900 out of 27998\n",
      "gene 18000 out of 27998\n",
      "gene 18100 out of 27998\n",
      "gene 18200 out of 27998\n",
      "gene 18300 out of 27998\n",
      "gene 18400 out of 27998\n",
      "gene 18500 out of 27998\n",
      "gene 18600 out of 27998\n",
      "gene 18700 out of 27998\n",
      "gene 18800 out of 27998\n",
      "gene 18900 out of 27998\n",
      "gene 19000 out of 27998\n",
      "gene 19100 out of 27998\n",
      "gene 19200 out of 27998\n",
      "gene 19300 out of 27998\n",
      "gene 19400 out of 27998\n",
      "gene 19500 out of 27998\n",
      "gene 19600 out of 27998\n",
      "gene 19700 out of 27998\n",
      "gene 19800 out of 27998\n",
      "gene 19900 out of 27998\n",
      "gene 20000 out of 27998\n",
      "gene 20100 out of 27998\n",
      "gene 20200 out of 27998\n",
      "gene 20300 out of 27998\n",
      "gene 20400 out of 27998\n",
      "gene 20500 out of 27998\n",
      "gene 20600 out of 27998\n",
      "gene 20700 out of 27998\n",
      "gene 20800 out of 27998\n",
      "gene 20900 out of 27998\n",
      "gene 21000 out of 27998\n",
      "gene 21100 out of 27998\n",
      "gene 21200 out of 27998\n",
      "gene 21300 out of 27998\n",
      "gene 21400 out of 27998\n",
      "gene 21500 out of 27998\n",
      "gene 21600 out of 27998\n",
      "gene 21700 out of 27998\n",
      "gene 21800 out of 27998\n",
      "gene 21900 out of 27998\n",
      "gene 22000 out of 27998\n",
      "gene 22100 out of 27998\n",
      "gene 22200 out of 27998\n",
      "gene 22300 out of 27998\n",
      "gene 22400 out of 27998\n",
      "gene 22500 out of 27998\n",
      "gene 22600 out of 27998\n",
      "gene 22700 out of 27998\n",
      "gene 22800 out of 27998\n",
      "gene 22900 out of 27998\n",
      "gene 23000 out of 27998\n",
      "gene 23100 out of 27998\n",
      "gene 23200 out of 27998\n",
      "gene 23300 out of 27998\n",
      "gene 23400 out of 27998\n",
      "gene 23500 out of 27998\n",
      "gene 23600 out of 27998\n",
      "gene 23700 out of 27998\n",
      "gene 23800 out of 27998\n",
      "gene 23900 out of 27998\n",
      "gene 24000 out of 27998\n",
      "gene 24100 out of 27998\n",
      "gene 24200 out of 27998\n",
      "gene 24300 out of 27998\n",
      "gene 24400 out of 27998\n",
      "gene 24500 out of 27998\n",
      "gene 24600 out of 27998\n",
      "gene 24700 out of 27998\n",
      "gene 24800 out of 27998\n",
      "gene 24900 out of 27998\n",
      "gene 25000 out of 27998\n",
      "gene 25100 out of 27998\n",
      "gene 25200 out of 27998\n",
      "gene 25300 out of 27998\n",
      "gene 25400 out of 27998\n",
      "gene 25500 out of 27998\n",
      "gene 25600 out of 27998\n",
      "gene 25700 out of 27998\n",
      "gene 25800 out of 27998\n",
      "gene 25900 out of 27998\n",
      "gene 26000 out of 27998\n",
      "gene 26100 out of 27998\n",
      "gene 26200 out of 27998\n",
      "gene 26300 out of 27998\n",
      "gene 26400 out of 27998\n",
      "gene 26500 out of 27998\n",
      "gene 26600 out of 27998\n",
      "gene 26700 out of 27998\n",
      "gene 26800 out of 27998\n"
     ]
    }
   ],
   "source": [
    "df_anova = calculate_anova_sporadically_expressed_genes(df_ctc_log, annotations, out_prefix)"
   ]
  },
  {
   "cell_type": "code",
   "execution_count": 28,
   "metadata": {
    "ExecuteTime": {
     "end_time": "2018-12-10T14:03:47.089481Z",
     "start_time": "2018-12-10T14:02:37.406112Z"
    },
    "collapsed": true
   },
   "outputs": [
    {
     "name": "stdout",
     "output_type": "stream",
     "text": [
      "Running: #1/#115 | Bladder.bladder cell\n",
      "Running: #2/#115 | Bladder.bladder urothelial cell\n",
      "Running: #3/#115 | Brain_Myeloid.macrophage\n",
      "Running: #4/#115 | Brain_Myeloid.microglial cell\n",
      "Running: #5/#115 | Brain_Non-Myeloid.Bergmann glial cell\n",
      "Running: #6/#115 | Brain_Non-Myeloid.astrocyte\n",
      "Running: #7/#115 | Brain_Non-Myeloid.brain pericyte\n",
      "Running: #8/#115 | Brain_Non-Myeloid.endothelial cell\n",
      "Running: #9/#115 | Brain_Non-Myeloid.neuron\n",
      "Running: #10/#115 | Brain_Non-Myeloid.oligodendrocyte\n",
      "Running: #11/#115 | Brain_Non-Myeloid.oligodendrocyte precursor cell\n",
      "Running: #12/#115 | Fat.B cell\n",
      "Running: #13/#115 | Fat.T cell\n",
      "Running: #14/#115 | Fat.endothelial cell\n",
      "Running: #15/#115 | Fat.mesenchymal stem cell of adipose\n",
      "Running: #16/#115 | Fat.myeloid cell\n",
      "Running: #17/#115 | Fat.natural killer cell\n",
      "Running: #18/#115 | Fat.unknown cell type\n",
      "Running: #19/#115 | Heart.cardiac muscle cell\n",
      "Running: #20/#115 | Heart.endocardial cell\n",
      "Running: #21/#115 | Heart.endothelial cell\n",
      "Running: #22/#115 | Heart.erythrocyte\n",
      "Running: #23/#115 | Heart.fibroblast\n",
      "Running: #24/#115 | Heart.leukocyte\n",
      "Running: #25/#115 | Heart.myofibroblast cell\n",
      "Running: #26/#115 | Heart.professional antigen presenting cell\n",
      "Running: #27/#115 | Heart.smooth muscle cell\n",
      "Running: #28/#115 | Heart.unknown cell type\n",
      "Running: #29/#115 | Kidney.endothelial cell\n",
      "Running: #30/#115 | Kidney.epithelial cell of proximal tubule\n",
      "Running: #31/#115 | Kidney.kidney collecting duct epithelial cell\n",
      "Running: #32/#115 | Kidney.leukocyte\n",
      "Running: #33/#115 | Kidney.macrophage\n",
      "Running: #34/#115 | Large_Intestine.Brush cell of epithelium proper of large intestine\n",
      "Running: #35/#115 | Large_Intestine.enterocyte of epithelium of large intestine\n",
      "Running: #36/#115 | Large_Intestine.enteroendocrine cell\n",
      "Running: #37/#115 | Large_Intestine.epithelial cell of large intestine\n",
      "Running: #38/#115 | Large_Intestine.large intestine goblet cell\n",
      "Running: #39/#115 | Limb_Muscle.B cell\n",
      "Running: #40/#115 | Limb_Muscle.T cell\n",
      "Running: #41/#115 | Limb_Muscle.endothelial cell\n",
      "Running: #42/#115 | Limb_Muscle.lymphocyte\n",
      "Running: #43/#115 | Limb_Muscle.macrophage\n",
      "Running: #44/#115 | Limb_Muscle.mesenchymal stem cell\n",
      "Running: #45/#115 | Limb_Muscle.skeletal muscle satellite cell\n",
      "Running: #46/#115 | Limb_Muscle.skeletal muscle satellite stem cell\n",
      "Running: #47/#115 | Liver.B cell\n",
      "Running: #48/#115 | Liver.Kupffer cell\n",
      "Running: #49/#115 | Liver.endothelial cell of hepatic sinusoid\n",
      "Running: #50/#115 | Liver.hepatocyte\n",
      "Running: #51/#115 | Liver.natural killer cell\n",
      "Running: #52/#115 | Lung.B cell\n",
      "Running: #53/#115 | Lung.T cell\n",
      "Running: #54/#115 | Lung.ciliated columnar cell of tracheobronchial tree\n",
      "Running: #55/#115 | Lung.classical monocyte\n",
      "Running: #56/#115 | Lung.epithelial cell of lung\n",
      "Running: #57/#115 | Lung.leukocyte\n",
      "Running: #58/#115 | Lung.lung endothelial cell\n",
      "Running: #59/#115 | Lung.monocyte\n",
      "Running: #60/#115 | Lung.myeloid cell\n",
      "Running: #61/#115 | Lung.natural killer cell\n",
      "Running: #62/#115 | Lung.stromal cell\n",
      "Running: #63/#115 | Lung.unknown cell type\n",
      "Running: #64/#115 | Mammary_Gland.basal cell\n",
      "Running: #65/#115 | Mammary_Gland.endothelial cell\n",
      "Running: #66/#115 | Mammary_Gland.luminal epithelial cell of mammary gland\n",
      "Running: #67/#115 | Mammary_Gland.stromal cell\n",
      "Running: #68/#115 | Marrow.B cell\n",
      "Running: #69/#115 | Marrow.Slamf1-negative multipotent progenitor cell\n",
      "Running: #70/#115 | Marrow.Slamf1-positive multipotent progenitor cell\n",
      "Running: #71/#115 | Marrow.basophil\n",
      "Running: #72/#115 | Marrow.common lymphoid progenitor\n",
      "Running: #73/#115 | Marrow.granulocyte\n",
      "Running: #74/#115 | Marrow.granulocyte monocyte progenitor cell\n",
      "Running: #75/#115 | Marrow.granulocytopoietic cell\n",
      "Running: #76/#115 | Marrow.hematopoietic precursor cell\n",
      "Running: #77/#115 | Marrow.immature B cell\n",
      "Running: #78/#115 | Marrow.immature NK T cell\n",
      "Running: #79/#115 | Marrow.immature T cell\n",
      "Running: #80/#115 | Marrow.immature natural killer cell\n",
      "Running: #81/#115 | Marrow.late pro-B cell\n",
      "Running: #82/#115 | Marrow.macrophage\n",
      "Running: #83/#115 | Marrow.mature natural killer cell\n",
      "Running: #84/#115 | Marrow.megakaryocyte-erythroid progenitor cell\n",
      "Running: #85/#115 | Marrow.monocyte\n",
      "Running: #86/#115 | Marrow.naive B cell\n",
      "Running: #87/#115 | Marrow.pre-natural killer cell\n",
      "Running: #88/#115 | Marrow.precursor B cell\n",
      "Running: #89/#115 | Marrow.regulatory T cell\n",
      "Running: #90/#115 | Pancreas.endothelial cell\n",
      "Running: #91/#115 | Pancreas.leukocyte\n",
      "Running: #92/#115 | Pancreas.pancreatic A cell\n",
      "Running: #93/#115 | Pancreas.pancreatic D cell\n",
      "Running: #94/#115 | Pancreas.pancreatic PP cell\n",
      "Running: #95/#115 | Pancreas.pancreatic acinar cell\n",
      "Running: #96/#115 | Pancreas.pancreatic ductal cell\n",
      "Running: #97/#115 | Pancreas.pancreatic stellate cell\n",
      "Running: #98/#115 | Pancreas.type B pancreatic cell\n",
      "Running: #99/#115 | Skin.basal cell of epidermis\n",
      "Running: #100/#115 | Skin.epidermal cell\n",
      "Running: #101/#115 | Skin.keratinocyte stem cell\n",
      "Running: #102/#115 | Skin.leukocyte\n",
      "Running: #103/#115 | Skin.stem cell of epidermis\n",
      "Running: #104/#115 | Spleen.B cell\n",
      "Running: #105/#115 | Spleen.T cell\n",
      "Running: #106/#115 | Spleen.macrophage\n",
      "Running: #107/#115 | Thymus.DN1 thymic pro-T cell\n",
      "Running: #108/#115 | Thymus.immature T cell\n",
      "Running: #109/#115 | Thymus.leukocyte\n",
      "Running: #110/#115 | Tongue.basal cell of epidermis\n",
      "Running: #111/#115 | Tongue.keratinocyte\n",
      "Running: #112/#115 | Trachea.blood cell\n",
      "Running: #113/#115 | Trachea.endothelial cell\n",
      "Running: #114/#115 | Trachea.epithelial cell\n",
      "Running: #115/#115 | Trachea.mesenchymal cell\n",
      "Writing files...\n"
     ]
    }
   ],
   "source": [
    "(df_frac, df_mu, df_var, df_n) = calculate_per_anno_summary_stats(df_ctc_log, annotations, out_prefix, permute_annotations=False)"
   ]
  },
  {
   "cell_type": "code",
   "execution_count": 29,
   "metadata": {
    "ExecuteTime": {
     "end_time": "2018-12-10T14:05:02.679604Z",
     "start_time": "2018-12-10T14:03:47.091856Z"
    },
    "collapsed": true
   },
   "outputs": [
    {
     "name": "stdout",
     "output_type": "stream",
     "text": [
      "Doing null computation. Permuting labels with seed(1).\n",
      "Running: #1/#115 | Bladder.bladder cell\n",
      "Running: #2/#115 | Bladder.bladder urothelial cell\n",
      "Running: #3/#115 | Brain_Myeloid.macrophage\n",
      "Running: #4/#115 | Brain_Myeloid.microglial cell\n",
      "Running: #5/#115 | Brain_Non-Myeloid.Bergmann glial cell\n",
      "Running: #6/#115 | Brain_Non-Myeloid.astrocyte\n",
      "Running: #7/#115 | Brain_Non-Myeloid.brain pericyte\n",
      "Running: #8/#115 | Brain_Non-Myeloid.endothelial cell\n",
      "Running: #9/#115 | Brain_Non-Myeloid.neuron\n",
      "Running: #10/#115 | Brain_Non-Myeloid.oligodendrocyte\n",
      "Running: #11/#115 | Brain_Non-Myeloid.oligodendrocyte precursor cell\n",
      "Running: #12/#115 | Fat.B cell\n",
      "Running: #13/#115 | Fat.T cell\n",
      "Running: #14/#115 | Fat.endothelial cell\n",
      "Running: #15/#115 | Fat.mesenchymal stem cell of adipose\n",
      "Running: #16/#115 | Fat.myeloid cell\n",
      "Running: #17/#115 | Fat.natural killer cell\n",
      "Running: #18/#115 | Fat.unknown cell type\n",
      "Running: #19/#115 | Heart.cardiac muscle cell\n",
      "Running: #20/#115 | Heart.endocardial cell\n",
      "Running: #21/#115 | Heart.endothelial cell\n",
      "Running: #22/#115 | Heart.erythrocyte\n",
      "Running: #23/#115 | Heart.fibroblast\n",
      "Running: #24/#115 | Heart.leukocyte\n",
      "Running: #25/#115 | Heart.myofibroblast cell\n",
      "Running: #26/#115 | Heart.professional antigen presenting cell\n",
      "Running: #27/#115 | Heart.smooth muscle cell\n",
      "Running: #28/#115 | Heart.unknown cell type\n",
      "Running: #29/#115 | Kidney.endothelial cell\n",
      "Running: #30/#115 | Kidney.epithelial cell of proximal tubule\n",
      "Running: #31/#115 | Kidney.kidney collecting duct epithelial cell\n",
      "Running: #32/#115 | Kidney.leukocyte\n",
      "Running: #33/#115 | Kidney.macrophage\n",
      "Running: #34/#115 | Large_Intestine.Brush cell of epithelium proper of large intestine\n",
      "Running: #35/#115 | Large_Intestine.enterocyte of epithelium of large intestine\n",
      "Running: #36/#115 | Large_Intestine.enteroendocrine cell\n",
      "Running: #37/#115 | Large_Intestine.epithelial cell of large intestine\n",
      "Running: #38/#115 | Large_Intestine.large intestine goblet cell\n",
      "Running: #39/#115 | Limb_Muscle.B cell\n",
      "Running: #40/#115 | Limb_Muscle.T cell\n",
      "Running: #41/#115 | Limb_Muscle.endothelial cell\n",
      "Running: #42/#115 | Limb_Muscle.lymphocyte\n",
      "Running: #43/#115 | Limb_Muscle.macrophage\n",
      "Running: #44/#115 | Limb_Muscle.mesenchymal stem cell\n",
      "Running: #45/#115 | Limb_Muscle.skeletal muscle satellite cell\n",
      "Running: #46/#115 | Limb_Muscle.skeletal muscle satellite stem cell\n",
      "Running: #47/#115 | Liver.B cell\n",
      "Running: #48/#115 | Liver.Kupffer cell\n",
      "Running: #49/#115 | Liver.endothelial cell of hepatic sinusoid\n",
      "Running: #50/#115 | Liver.hepatocyte\n",
      "Running: #51/#115 | Liver.natural killer cell\n",
      "Running: #52/#115 | Lung.B cell\n",
      "Running: #53/#115 | Lung.T cell\n",
      "Running: #54/#115 | Lung.ciliated columnar cell of tracheobronchial tree\n",
      "Running: #55/#115 | Lung.classical monocyte\n",
      "Running: #56/#115 | Lung.epithelial cell of lung\n",
      "Running: #57/#115 | Lung.leukocyte\n",
      "Running: #58/#115 | Lung.lung endothelial cell\n",
      "Running: #59/#115 | Lung.monocyte\n",
      "Running: #60/#115 | Lung.myeloid cell\n",
      "Running: #61/#115 | Lung.natural killer cell\n",
      "Running: #62/#115 | Lung.stromal cell\n",
      "Running: #63/#115 | Lung.unknown cell type\n",
      "Running: #64/#115 | Mammary_Gland.basal cell\n",
      "Running: #65/#115 | Mammary_Gland.endothelial cell\n",
      "Running: #66/#115 | Mammary_Gland.luminal epithelial cell of mammary gland\n",
      "Running: #67/#115 | Mammary_Gland.stromal cell\n",
      "Running: #68/#115 | Marrow.B cell\n",
      "Running: #69/#115 | Marrow.Slamf1-negative multipotent progenitor cell\n",
      "Running: #70/#115 | Marrow.Slamf1-positive multipotent progenitor cell\n",
      "Running: #71/#115 | Marrow.basophil\n",
      "Running: #72/#115 | Marrow.common lymphoid progenitor\n",
      "Running: #73/#115 | Marrow.granulocyte\n",
      "Running: #74/#115 | Marrow.granulocyte monocyte progenitor cell\n",
      "Running: #75/#115 | Marrow.granulocytopoietic cell\n",
      "Running: #76/#115 | Marrow.hematopoietic precursor cell\n",
      "Running: #77/#115 | Marrow.immature B cell\n",
      "Running: #78/#115 | Marrow.immature NK T cell\n",
      "Running: #79/#115 | Marrow.immature T cell\n",
      "Running: #80/#115 | Marrow.immature natural killer cell\n",
      "Running: #81/#115 | Marrow.late pro-B cell\n",
      "Running: #82/#115 | Marrow.macrophage\n",
      "Running: #83/#115 | Marrow.mature natural killer cell\n",
      "Running: #84/#115 | Marrow.megakaryocyte-erythroid progenitor cell\n",
      "Running: #85/#115 | Marrow.monocyte\n",
      "Running: #86/#115 | Marrow.naive B cell\n",
      "Running: #87/#115 | Marrow.pre-natural killer cell\n",
      "Running: #88/#115 | Marrow.precursor B cell\n",
      "Running: #89/#115 | Marrow.regulatory T cell\n",
      "Running: #90/#115 | Pancreas.endothelial cell\n",
      "Running: #91/#115 | Pancreas.leukocyte\n",
      "Running: #92/#115 | Pancreas.pancreatic A cell\n",
      "Running: #93/#115 | Pancreas.pancreatic D cell\n",
      "Running: #94/#115 | Pancreas.pancreatic PP cell\n",
      "Running: #95/#115 | Pancreas.pancreatic acinar cell\n",
      "Running: #96/#115 | Pancreas.pancreatic ductal cell\n",
      "Running: #97/#115 | Pancreas.pancreatic stellate cell\n",
      "Running: #98/#115 | Pancreas.type B pancreatic cell\n",
      "Running: #99/#115 | Skin.basal cell of epidermis\n",
      "Running: #100/#115 | Skin.epidermal cell\n",
      "Running: #101/#115 | Skin.keratinocyte stem cell\n",
      "Running: #102/#115 | Skin.leukocyte\n",
      "Running: #103/#115 | Skin.stem cell of epidermis\n",
      "Running: #104/#115 | Spleen.B cell\n",
      "Running: #105/#115 | Spleen.T cell\n",
      "Running: #106/#115 | Spleen.macrophage\n",
      "Running: #107/#115 | Thymus.DN1 thymic pro-T cell\n",
      "Running: #108/#115 | Thymus.immature T cell\n",
      "Running: #109/#115 | Thymus.leukocyte\n",
      "Running: #110/#115 | Tongue.basal cell of epidermis\n",
      "Running: #111/#115 | Tongue.keratinocyte\n",
      "Running: #112/#115 | Trachea.blood cell\n",
      "Running: #113/#115 | Trachea.endothelial cell\n",
      "Running: #114/#115 | Trachea.epithelial cell\n",
      "Running: #115/#115 | Trachea.mesenchymal cell\n",
      "Writing files...\n"
     ]
    }
   ],
   "source": [
    "(df_frac_null, df_mu_null, df_var_null, df_n_null) = calculate_per_anno_summary_stats(df_ctc_log, annotations, out_prefix, permute_annotations=True)"
   ]
  },
  {
   "cell_type": "code",
   "execution_count": null,
   "metadata": {},
   "outputs": [],
   "source": []
  },
  {
   "cell_type": "markdown",
   "metadata": {},
   "source": [
    "# Tabula Muris"
   ]
  },
  {
   "cell_type": "code",
   "execution_count": null,
   "metadata": {
    "collapsed": true
   },
   "outputs": [],
   "source": [
    "### Variables\n",
    "out_prefix = os.join(output_dir, \"tabula_muris\")\n",
    "annotation_column = \"tissue_celltype\""
   ]
  },
  {
   "cell_type": "code",
   "execution_count": 11,
   "metadata": {
    "ExecuteTime": {
     "end_time": "2018-12-10T09:35:58.389349Z",
     "start_time": "2018-12-10T09:35:58.372896Z"
    }
   },
   "outputs": [
    {
     "data": {
      "text/plain": [
       "True"
      ]
     },
     "execution_count": 11,
     "metadata": {},
     "output_type": "execute_result"
    }
   ],
   "source": [
    "[df_metadata, df_data] = utils_celldata_reader(input_dir, prefix=\"tabula_muris\")"
   ]
  },
  {
   "cell_type": "code",
   "execution_count": 12,
   "metadata": {
    "ExecuteTime": {
     "end_time": "2018-12-10T12:58:59.605401Z",
     "start_time": "2018-12-10T12:58:00.659900Z"
    }
   },
   "outputs": [
    {
     "name": "stdout",
     "output_type": "stream",
     "text": [
      "Performning common transcript count (ctc) normalization and log-transformation on input data\n"
     ]
    }
   ],
   "source": [
    "df_ctc_log = ctc_log_normalize(df_data)\n",
    "del df_data"
   ]
  },
  {
   "cell_type": "code",
   "execution_count": 17,
   "metadata": {
    "ExecuteTime": {
     "end_time": "2018-12-10T13:57:46.614693Z",
     "start_time": "2018-12-10T13:57:46.598604Z"
    }
   },
   "outputs": [
    {
     "data": {
      "text/plain": [
       "array(['Skin.epidermal cell', 'Skin.epidermal cell',\n",
       "       'Skin.basal cell of epidermis', 'Skin.epidermal cell',\n",
       "       'Skin.basal cell of epidermis'], dtype=object)"
      ]
     },
     "execution_count": 17,
     "metadata": {},
     "output_type": "execute_result"
    }
   ],
   "source": [
    "### Set annotations\n",
    "annotations = df_metadata[annotation_column].values"
   ]
  },
  {
   "cell_type": "code",
   "execution_count": 24,
   "metadata": {
    "ExecuteTime": {
     "end_time": "2019-08-07T14:37:15.884657Z",
     "start_time": "2019-08-07T14:37:15.861411Z"
    }
   },
   "outputs": [
    {
     "ename": "NameError",
     "evalue": "name 'df_ctc_log' is not defined",
     "output_type": "error",
     "traceback": [
      "\u001b[0;31m---------------------------------------------------------------------------\u001b[0m",
      "\u001b[0;31mNameError\u001b[0m                                 Traceback (most recent call last)",
      "\u001b[0;32m<ipython-input-24-0956735e704e>\u001b[0m in \u001b[0;36m<module>\u001b[0;34m()\u001b[0m\n\u001b[0;32m----> 1\u001b[0;31m \u001b[0mdf_anova\u001b[0m \u001b[0;34m=\u001b[0m \u001b[0mcalculate_anova_sporadically_expressed_genes\u001b[0m\u001b[0;34m(\u001b[0m\u001b[0mdf_ctc_log\u001b[0m\u001b[0;34m,\u001b[0m \u001b[0mannotations\u001b[0m\u001b[0;34m,\u001b[0m \u001b[0mout_prefix\u001b[0m\u001b[0;34m)\u001b[0m\u001b[0;34m\u001b[0m\u001b[0;34m\u001b[0m\u001b[0m\n\u001b[0m",
      "\u001b[0;31mNameError\u001b[0m: name 'df_ctc_log' is not defined"
     ]
    }
   ],
   "source": [
    "df_anova = calculate_anova_sporadically_expressed_genes(df_ctc_log, annotations, out_prefix)"
   ]
  },
  {
   "cell_type": "code",
   "execution_count": 28,
   "metadata": {
    "ExecuteTime": {
     "end_time": "2018-12-10T14:03:47.089481Z",
     "start_time": "2018-12-10T14:02:37.406112Z"
    },
    "collapsed": true
   },
   "outputs": [
    {
     "name": "stdout",
     "output_type": "stream",
     "text": [
      "Running: #1/#115 | Bladder.bladder cell\n",
      "Running: #2/#115 | Bladder.bladder urothelial cell\n",
      "Running: #3/#115 | Brain_Myeloid.macrophage\n",
      "Running: #4/#115 | Brain_Myeloid.microglial cell\n",
      "Running: #5/#115 | Brain_Non-Myeloid.Bergmann glial cell\n",
      "Running: #6/#115 | Brain_Non-Myeloid.astrocyte\n",
      "Running: #7/#115 | Brain_Non-Myeloid.brain pericyte\n",
      "Running: #8/#115 | Brain_Non-Myeloid.endothelial cell\n",
      "Running: #9/#115 | Brain_Non-Myeloid.neuron\n",
      "Running: #10/#115 | Brain_Non-Myeloid.oligodendrocyte\n",
      "Running: #11/#115 | Brain_Non-Myeloid.oligodendrocyte precursor cell\n",
      "Running: #12/#115 | Fat.B cell\n",
      "Running: #13/#115 | Fat.T cell\n",
      "Running: #14/#115 | Fat.endothelial cell\n",
      "Running: #15/#115 | Fat.mesenchymal stem cell of adipose\n",
      "Running: #16/#115 | Fat.myeloid cell\n",
      "Running: #17/#115 | Fat.natural killer cell\n",
      "Running: #18/#115 | Fat.unknown cell type\n",
      "Running: #19/#115 | Heart.cardiac muscle cell\n",
      "Running: #20/#115 | Heart.endocardial cell\n",
      "Running: #21/#115 | Heart.endothelial cell\n",
      "Running: #22/#115 | Heart.erythrocyte\n",
      "Running: #23/#115 | Heart.fibroblast\n",
      "Running: #24/#115 | Heart.leukocyte\n",
      "Running: #25/#115 | Heart.myofibroblast cell\n",
      "Running: #26/#115 | Heart.professional antigen presenting cell\n",
      "Running: #27/#115 | Heart.smooth muscle cell\n",
      "Running: #28/#115 | Heart.unknown cell type\n",
      "Running: #29/#115 | Kidney.endothelial cell\n",
      "Running: #30/#115 | Kidney.epithelial cell of proximal tubule\n",
      "Running: #31/#115 | Kidney.kidney collecting duct epithelial cell\n",
      "Running: #32/#115 | Kidney.leukocyte\n",
      "Running: #33/#115 | Kidney.macrophage\n",
      "Running: #34/#115 | Large_Intestine.Brush cell of epithelium proper of large intestine\n",
      "Running: #35/#115 | Large_Intestine.enterocyte of epithelium of large intestine\n",
      "Running: #36/#115 | Large_Intestine.enteroendocrine cell\n",
      "Running: #37/#115 | Large_Intestine.epithelial cell of large intestine\n",
      "Running: #38/#115 | Large_Intestine.large intestine goblet cell\n",
      "Running: #39/#115 | Limb_Muscle.B cell\n",
      "Running: #40/#115 | Limb_Muscle.T cell\n",
      "Running: #41/#115 | Limb_Muscle.endothelial cell\n",
      "Running: #42/#115 | Limb_Muscle.lymphocyte\n",
      "Running: #43/#115 | Limb_Muscle.macrophage\n",
      "Running: #44/#115 | Limb_Muscle.mesenchymal stem cell\n",
      "Running: #45/#115 | Limb_Muscle.skeletal muscle satellite cell\n",
      "Running: #46/#115 | Limb_Muscle.skeletal muscle satellite stem cell\n",
      "Running: #47/#115 | Liver.B cell\n",
      "Running: #48/#115 | Liver.Kupffer cell\n",
      "Running: #49/#115 | Liver.endothelial cell of hepatic sinusoid\n",
      "Running: #50/#115 | Liver.hepatocyte\n",
      "Running: #51/#115 | Liver.natural killer cell\n",
      "Running: #52/#115 | Lung.B cell\n",
      "Running: #53/#115 | Lung.T cell\n",
      "Running: #54/#115 | Lung.ciliated columnar cell of tracheobronchial tree\n",
      "Running: #55/#115 | Lung.classical monocyte\n",
      "Running: #56/#115 | Lung.epithelial cell of lung\n",
      "Running: #57/#115 | Lung.leukocyte\n",
      "Running: #58/#115 | Lung.lung endothelial cell\n",
      "Running: #59/#115 | Lung.monocyte\n",
      "Running: #60/#115 | Lung.myeloid cell\n",
      "Running: #61/#115 | Lung.natural killer cell\n",
      "Running: #62/#115 | Lung.stromal cell\n",
      "Running: #63/#115 | Lung.unknown cell type\n",
      "Running: #64/#115 | Mammary_Gland.basal cell\n",
      "Running: #65/#115 | Mammary_Gland.endothelial cell\n",
      "Running: #66/#115 | Mammary_Gland.luminal epithelial cell of mammary gland\n",
      "Running: #67/#115 | Mammary_Gland.stromal cell\n",
      "Running: #68/#115 | Marrow.B cell\n",
      "Running: #69/#115 | Marrow.Slamf1-negative multipotent progenitor cell\n",
      "Running: #70/#115 | Marrow.Slamf1-positive multipotent progenitor cell\n",
      "Running: #71/#115 | Marrow.basophil\n",
      "Running: #72/#115 | Marrow.common lymphoid progenitor\n",
      "Running: #73/#115 | Marrow.granulocyte\n",
      "Running: #74/#115 | Marrow.granulocyte monocyte progenitor cell\n",
      "Running: #75/#115 | Marrow.granulocytopoietic cell\n",
      "Running: #76/#115 | Marrow.hematopoietic precursor cell\n",
      "Running: #77/#115 | Marrow.immature B cell\n",
      "Running: #78/#115 | Marrow.immature NK T cell\n",
      "Running: #79/#115 | Marrow.immature T cell\n",
      "Running: #80/#115 | Marrow.immature natural killer cell\n",
      "Running: #81/#115 | Marrow.late pro-B cell\n",
      "Running: #82/#115 | Marrow.macrophage\n",
      "Running: #83/#115 | Marrow.mature natural killer cell\n",
      "Running: #84/#115 | Marrow.megakaryocyte-erythroid progenitor cell\n",
      "Running: #85/#115 | Marrow.monocyte\n",
      "Running: #86/#115 | Marrow.naive B cell\n",
      "Running: #87/#115 | Marrow.pre-natural killer cell\n",
      "Running: #88/#115 | Marrow.precursor B cell\n",
      "Running: #89/#115 | Marrow.regulatory T cell\n",
      "Running: #90/#115 | Pancreas.endothelial cell\n",
      "Running: #91/#115 | Pancreas.leukocyte\n",
      "Running: #92/#115 | Pancreas.pancreatic A cell\n",
      "Running: #93/#115 | Pancreas.pancreatic D cell\n",
      "Running: #94/#115 | Pancreas.pancreatic PP cell\n",
      "Running: #95/#115 | Pancreas.pancreatic acinar cell\n",
      "Running: #96/#115 | Pancreas.pancreatic ductal cell\n",
      "Running: #97/#115 | Pancreas.pancreatic stellate cell\n",
      "Running: #98/#115 | Pancreas.type B pancreatic cell\n",
      "Running: #99/#115 | Skin.basal cell of epidermis\n",
      "Running: #100/#115 | Skin.epidermal cell\n",
      "Running: #101/#115 | Skin.keratinocyte stem cell\n",
      "Running: #102/#115 | Skin.leukocyte\n",
      "Running: #103/#115 | Skin.stem cell of epidermis\n",
      "Running: #104/#115 | Spleen.B cell\n",
      "Running: #105/#115 | Spleen.T cell\n",
      "Running: #106/#115 | Spleen.macrophage\n",
      "Running: #107/#115 | Thymus.DN1 thymic pro-T cell\n",
      "Running: #108/#115 | Thymus.immature T cell\n",
      "Running: #109/#115 | Thymus.leukocyte\n",
      "Running: #110/#115 | Tongue.basal cell of epidermis\n",
      "Running: #111/#115 | Tongue.keratinocyte\n",
      "Running: #112/#115 | Trachea.blood cell\n",
      "Running: #113/#115 | Trachea.endothelial cell\n",
      "Running: #114/#115 | Trachea.epithelial cell\n",
      "Running: #115/#115 | Trachea.mesenchymal cell\n",
      "Writing files...\n"
     ]
    }
   ],
   "source": [
    "(df_frac, df_mu, df_var, df_n) = calculate_per_anno_summary_stats(df_ctc_log, annotations, out_prefix, permute_annotations=False)"
   ]
  },
  {
   "cell_type": "code",
   "execution_count": 29,
   "metadata": {
    "ExecuteTime": {
     "end_time": "2018-12-10T14:05:02.679604Z",
     "start_time": "2018-12-10T14:03:47.091856Z"
    },
    "collapsed": true
   },
   "outputs": [
    {
     "name": "stdout",
     "output_type": "stream",
     "text": [
      "Doing null computation. Permuting labels with seed(1).\n",
      "Running: #1/#115 | Bladder.bladder cell\n",
      "Running: #2/#115 | Bladder.bladder urothelial cell\n",
      "Running: #3/#115 | Brain_Myeloid.macrophage\n",
      "Running: #4/#115 | Brain_Myeloid.microglial cell\n",
      "Running: #5/#115 | Brain_Non-Myeloid.Bergmann glial cell\n",
      "Running: #6/#115 | Brain_Non-Myeloid.astrocyte\n",
      "Running: #7/#115 | Brain_Non-Myeloid.brain pericyte\n",
      "Running: #8/#115 | Brain_Non-Myeloid.endothelial cell\n",
      "Running: #9/#115 | Brain_Non-Myeloid.neuron\n",
      "Running: #10/#115 | Brain_Non-Myeloid.oligodendrocyte\n",
      "Running: #11/#115 | Brain_Non-Myeloid.oligodendrocyte precursor cell\n",
      "Running: #12/#115 | Fat.B cell\n",
      "Running: #13/#115 | Fat.T cell\n",
      "Running: #14/#115 | Fat.endothelial cell\n",
      "Running: #15/#115 | Fat.mesenchymal stem cell of adipose\n",
      "Running: #16/#115 | Fat.myeloid cell\n",
      "Running: #17/#115 | Fat.natural killer cell\n",
      "Running: #18/#115 | Fat.unknown cell type\n",
      "Running: #19/#115 | Heart.cardiac muscle cell\n",
      "Running: #20/#115 | Heart.endocardial cell\n",
      "Running: #21/#115 | Heart.endothelial cell\n",
      "Running: #22/#115 | Heart.erythrocyte\n",
      "Running: #23/#115 | Heart.fibroblast\n",
      "Running: #24/#115 | Heart.leukocyte\n",
      "Running: #25/#115 | Heart.myofibroblast cell\n",
      "Running: #26/#115 | Heart.professional antigen presenting cell\n",
      "Running: #27/#115 | Heart.smooth muscle cell\n",
      "Running: #28/#115 | Heart.unknown cell type\n",
      "Running: #29/#115 | Kidney.endothelial cell\n",
      "Running: #30/#115 | Kidney.epithelial cell of proximal tubule\n",
      "Running: #31/#115 | Kidney.kidney collecting duct epithelial cell\n",
      "Running: #32/#115 | Kidney.leukocyte\n",
      "Running: #33/#115 | Kidney.macrophage\n",
      "Running: #34/#115 | Large_Intestine.Brush cell of epithelium proper of large intestine\n",
      "Running: #35/#115 | Large_Intestine.enterocyte of epithelium of large intestine\n",
      "Running: #36/#115 | Large_Intestine.enteroendocrine cell\n",
      "Running: #37/#115 | Large_Intestine.epithelial cell of large intestine\n",
      "Running: #38/#115 | Large_Intestine.large intestine goblet cell\n",
      "Running: #39/#115 | Limb_Muscle.B cell\n",
      "Running: #40/#115 | Limb_Muscle.T cell\n",
      "Running: #41/#115 | Limb_Muscle.endothelial cell\n",
      "Running: #42/#115 | Limb_Muscle.lymphocyte\n",
      "Running: #43/#115 | Limb_Muscle.macrophage\n",
      "Running: #44/#115 | Limb_Muscle.mesenchymal stem cell\n",
      "Running: #45/#115 | Limb_Muscle.skeletal muscle satellite cell\n",
      "Running: #46/#115 | Limb_Muscle.skeletal muscle satellite stem cell\n",
      "Running: #47/#115 | Liver.B cell\n",
      "Running: #48/#115 | Liver.Kupffer cell\n",
      "Running: #49/#115 | Liver.endothelial cell of hepatic sinusoid\n",
      "Running: #50/#115 | Liver.hepatocyte\n",
      "Running: #51/#115 | Liver.natural killer cell\n",
      "Running: #52/#115 | Lung.B cell\n",
      "Running: #53/#115 | Lung.T cell\n",
      "Running: #54/#115 | Lung.ciliated columnar cell of tracheobronchial tree\n",
      "Running: #55/#115 | Lung.classical monocyte\n",
      "Running: #56/#115 | Lung.epithelial cell of lung\n",
      "Running: #57/#115 | Lung.leukocyte\n",
      "Running: #58/#115 | Lung.lung endothelial cell\n",
      "Running: #59/#115 | Lung.monocyte\n",
      "Running: #60/#115 | Lung.myeloid cell\n",
      "Running: #61/#115 | Lung.natural killer cell\n",
      "Running: #62/#115 | Lung.stromal cell\n",
      "Running: #63/#115 | Lung.unknown cell type\n",
      "Running: #64/#115 | Mammary_Gland.basal cell\n",
      "Running: #65/#115 | Mammary_Gland.endothelial cell\n",
      "Running: #66/#115 | Mammary_Gland.luminal epithelial cell of mammary gland\n",
      "Running: #67/#115 | Mammary_Gland.stromal cell\n",
      "Running: #68/#115 | Marrow.B cell\n",
      "Running: #69/#115 | Marrow.Slamf1-negative multipotent progenitor cell\n",
      "Running: #70/#115 | Marrow.Slamf1-positive multipotent progenitor cell\n",
      "Running: #71/#115 | Marrow.basophil\n",
      "Running: #72/#115 | Marrow.common lymphoid progenitor\n",
      "Running: #73/#115 | Marrow.granulocyte\n",
      "Running: #74/#115 | Marrow.granulocyte monocyte progenitor cell\n",
      "Running: #75/#115 | Marrow.granulocytopoietic cell\n",
      "Running: #76/#115 | Marrow.hematopoietic precursor cell\n",
      "Running: #77/#115 | Marrow.immature B cell\n",
      "Running: #78/#115 | Marrow.immature NK T cell\n",
      "Running: #79/#115 | Marrow.immature T cell\n",
      "Running: #80/#115 | Marrow.immature natural killer cell\n",
      "Running: #81/#115 | Marrow.late pro-B cell\n",
      "Running: #82/#115 | Marrow.macrophage\n",
      "Running: #83/#115 | Marrow.mature natural killer cell\n",
      "Running: #84/#115 | Marrow.megakaryocyte-erythroid progenitor cell\n",
      "Running: #85/#115 | Marrow.monocyte\n",
      "Running: #86/#115 | Marrow.naive B cell\n",
      "Running: #87/#115 | Marrow.pre-natural killer cell\n",
      "Running: #88/#115 | Marrow.precursor B cell\n",
      "Running: #89/#115 | Marrow.regulatory T cell\n",
      "Running: #90/#115 | Pancreas.endothelial cell\n",
      "Running: #91/#115 | Pancreas.leukocyte\n",
      "Running: #92/#115 | Pancreas.pancreatic A cell\n",
      "Running: #93/#115 | Pancreas.pancreatic D cell\n",
      "Running: #94/#115 | Pancreas.pancreatic PP cell\n",
      "Running: #95/#115 | Pancreas.pancreatic acinar cell\n",
      "Running: #96/#115 | Pancreas.pancreatic ductal cell\n",
      "Running: #97/#115 | Pancreas.pancreatic stellate cell\n",
      "Running: #98/#115 | Pancreas.type B pancreatic cell\n",
      "Running: #99/#115 | Skin.basal cell of epidermis\n",
      "Running: #100/#115 | Skin.epidermal cell\n",
      "Running: #101/#115 | Skin.keratinocyte stem cell\n",
      "Running: #102/#115 | Skin.leukocyte\n",
      "Running: #103/#115 | Skin.stem cell of epidermis\n",
      "Running: #104/#115 | Spleen.B cell\n",
      "Running: #105/#115 | Spleen.T cell\n",
      "Running: #106/#115 | Spleen.macrophage\n",
      "Running: #107/#115 | Thymus.DN1 thymic pro-T cell\n",
      "Running: #108/#115 | Thymus.immature T cell\n",
      "Running: #109/#115 | Thymus.leukocyte\n",
      "Running: #110/#115 | Tongue.basal cell of epidermis\n",
      "Running: #111/#115 | Tongue.keratinocyte\n",
      "Running: #112/#115 | Trachea.blood cell\n",
      "Running: #113/#115 | Trachea.endothelial cell\n",
      "Running: #114/#115 | Trachea.epithelial cell\n",
      "Running: #115/#115 | Trachea.mesenchymal cell\n",
      "Writing files...\n"
     ]
    }
   ],
   "source": [
    "(df_frac_null, df_mu_null, df_var_null, df_n_null) = calculate_per_anno_summary_stats(df_ctc_log, annotations, out_prefix, permute_annotations=True)"
   ]
  },
  {
   "cell_type": "code",
   "execution_count": null,
   "metadata": {
    "collapsed": true
   },
   "outputs": [],
   "source": []
  },
  {
   "cell_type": "markdown",
   "metadata": {},
   "source": [
    "# Campbell2017"
   ]
  },
  {
   "cell_type": "code",
   "execution_count": 30,
   "metadata": {
    "ExecuteTime": {
     "end_time": "2019-08-07T14:50:42.462898Z",
     "start_time": "2019-08-07T14:50:42.445839Z"
    }
   },
   "outputs": [],
   "source": [
    "### Variables\n",
    "dict_run = {os.join(output_dir, \"campbell2017_lvl1\"):\"cell_type_all_lvl1\",\n",
    "            os.join(output_dir, \"campbell2017_lvl2\"):\"cell_type_all_lvl2\"} # {out_prefix:annotation_column}"
   ]
  },
  {
   "cell_type": "code",
   "execution_count": 31,
   "metadata": {
    "ExecuteTime": {
     "end_time": "2019-08-07T14:54:01.392885Z",
     "start_time": "2019-08-07T14:50:43.079447Z"
    }
   },
   "outputs": [],
   "source": [
    "[df_metadata, df_data] = utils_celldata_reader(input_dir, prefix=\"campbell2017\")"
   ]
  },
  {
   "cell_type": "code",
   "execution_count": null,
   "metadata": {},
   "outputs": [],
   "source": [
    "df_ctc_log = ctc_log_normalize(df_data)\n",
    "del df_data"
   ]
  },
  {
   "cell_type": "code",
   "execution_count": 29,
   "metadata": {
    "ExecuteTime": {
     "end_time": "2019-08-07T14:47:19.252479Z",
     "start_time": "2019-08-07T14:43:51.534443Z"
    }
   },
   "outputs": [
    {
     "name": "stdout",
     "output_type": "stream",
     "text": [
      "campbell2017_lvl1\n",
      "['a18.Neurons6' 'a19.ParsTuber1' 'a13.Neurons1' 'a18.Neurons6'\n",
      " 'a18.Neurons6']\n"
     ]
    },
    {
     "ename": "NameError",
     "evalue": "name 'df_ctc_log' is not defined",
     "output_type": "error",
     "traceback": [
      "\u001b[0;31m---------------------------------------------------------------------------\u001b[0m",
      "\u001b[0;31mNameError\u001b[0m                                 Traceback (most recent call last)",
      "\u001b[0;32m<ipython-input-29-27ab1ad60788>\u001b[0m in \u001b[0;36m<module>\u001b[0;34m()\u001b[0m\n\u001b[1;32m      4\u001b[0m     \u001b[0mannotations\u001b[0m \u001b[0;34m=\u001b[0m \u001b[0mdf_metadata\u001b[0m\u001b[0;34m[\u001b[0m\u001b[0mdict_run\u001b[0m\u001b[0;34m[\u001b[0m\u001b[0mout_prefix\u001b[0m\u001b[0;34m]\u001b[0m\u001b[0;34m]\u001b[0m\u001b[0;34m.\u001b[0m\u001b[0mvalues\u001b[0m \u001b[0;31m# get annotations\u001b[0m\u001b[0;34m\u001b[0m\u001b[0;34m\u001b[0m\u001b[0m\n\u001b[1;32m      5\u001b[0m     \u001b[0mprint\u001b[0m\u001b[0;34m(\u001b[0m\u001b[0mannotations\u001b[0m\u001b[0;34m[\u001b[0m\u001b[0;34m:\u001b[0m\u001b[0;36m5\u001b[0m\u001b[0;34m]\u001b[0m\u001b[0;34m)\u001b[0m\u001b[0;34m\u001b[0m\u001b[0;34m\u001b[0m\u001b[0m\n\u001b[0;32m----> 6\u001b[0;31m     \u001b[0mdf_anova\u001b[0m \u001b[0;34m=\u001b[0m \u001b[0mcalculate_anova_sporadically_expressed_genes\u001b[0m\u001b[0;34m(\u001b[0m\u001b[0mdf_ctc_log\u001b[0m\u001b[0;34m,\u001b[0m \u001b[0mannotations\u001b[0m\u001b[0;34m,\u001b[0m \u001b[0mout_prefix\u001b[0m\u001b[0;34m)\u001b[0m\u001b[0;34m\u001b[0m\u001b[0;34m\u001b[0m\u001b[0m\n\u001b[0m\u001b[1;32m      7\u001b[0m     \u001b[0mdf_anova\u001b[0m\u001b[0;34m.\u001b[0m\u001b[0mto_csv\u001b[0m\u001b[0;34m(\u001b[0m\u001b[0;34m\"{}.pre_calc.sporadically_expressed_genes.anova.csv.gz\"\u001b[0m\u001b[0;34m.\u001b[0m\u001b[0mformat\u001b[0m\u001b[0;34m(\u001b[0m\u001b[0mout_prefix\u001b[0m\u001b[0;34m)\u001b[0m\u001b[0;34m,\u001b[0m \u001b[0mcompression\u001b[0m\u001b[0;34m=\u001b[0m\u001b[0;34m\"gzip\"\u001b[0m\u001b[0;34m)\u001b[0m\u001b[0;34m\u001b[0m\u001b[0;34m\u001b[0m\u001b[0m\n\u001b[1;32m      8\u001b[0m     \u001b[0;31m# (df_frac, df_mu, df_var, df_n) = calculate_per_anno_summary_stats(df_ctc_log, annotations, out_prefix, permute_annotations=False)\u001b[0m\u001b[0;34m\u001b[0m\u001b[0;34m\u001b[0m\u001b[0;34m\u001b[0m\u001b[0m\n",
      "\u001b[0;31mNameError\u001b[0m: name 'df_ctc_log' is not defined"
     ]
    }
   ],
   "source": [
    "for out_prefix in dict_run:\n",
    "    print(out_prefix)\n",
    "    annotations = df_metadata[dict_run[out_prefix]].values # get annotations\n",
    "    df_anova = calculate_anova_sporadically_expressed_genes(df_ctc_log, annotations, out_prefix)\n",
    "    (df_frac, df_mu, df_var, df_n) = calculate_per_anno_summary_stats(df_ctc_log, annotations, out_prefix, permute_annotations=False)\n",
    "    (df_frac_null, df_mu_null, df_var_null, df_n_null) = calculate_per_anno_summary_stats(df_ctc_log, annotations, out_prefix, permute_annotations=True)"
   ]
  },
  {
   "cell_type": "code",
   "execution_count": null,
   "metadata": {
    "collapsed": true
   },
   "outputs": [],
   "source": []
  },
  {
   "cell_type": "markdown",
   "metadata": {},
   "source": [
    "# ChenXXX"
   ]
  },
  {
   "cell_type": "code",
   "execution_count": null,
   "metadata": {
    "collapsed": true
   },
   "outputs": [],
   "source": []
  },
  {
   "cell_type": "markdown",
   "metadata": {},
   "source": [
    "# RomanovXXX"
   ]
  },
  {
   "cell_type": "code",
   "execution_count": null,
   "metadata": {},
   "outputs": [],
   "source": []
  },
  {
   "cell_type": "code",
   "execution_count": null,
   "metadata": {},
   "outputs": [],
   "source": []
  },
  {
   "cell_type": "markdown",
   "metadata": {},
   "source": [
    "# Moffit"
   ]
  },
  {
   "cell_type": "code",
   "execution_count": null,
   "metadata": {},
   "outputs": [],
   "source": []
  },
  {
   "cell_type": "code",
   "execution_count": null,
   "metadata": {},
   "outputs": [],
   "source": []
  },
  {
   "cell_type": "code",
   "execution_count": null,
   "metadata": {
    "collapsed": true
   },
   "outputs": [],
   "source": []
  }
 ],
 "metadata": {
  "kernelspec": {
   "display_name": "Python [conda env:py3_anaconda3_PT180510]",
   "language": "python",
   "name": "conda-env-py3_anaconda3_PT180510-py"
  },
  "language_info": {
   "codemirror_mode": {
    "name": "ipython",
    "version": 3
   },
   "file_extension": ".py",
   "mimetype": "text/x-python",
   "name": "python",
   "nbconvert_exporter": "python",
   "pygments_lexer": "ipython3",
   "version": "3.6.8"
  },
  "toc": {
   "colors": {
    "hover_highlight": "#DAA520",
    "navigate_num": "#000000",
    "navigate_text": "#333333",
    "running_highlight": "#FF0000",
    "selected_highlight": "#FFD700",
    "sidebar_border": "#EEEEEE",
    "wrapper_background": "#FFFFFF"
   },
   "moveMenuLeft": true,
   "nav_menu": {
    "height": "138px",
    "width": "252px"
   },
   "navigate_menu": true,
   "number_sections": true,
   "sideBar": true,
   "threshold": 4,
   "toc_cell": false,
   "toc_section_display": "block",
   "toc_window_display": false,
   "widenNotebook": false
  }
 },
 "nbformat": 4,
 "nbformat_minor": 2
}
