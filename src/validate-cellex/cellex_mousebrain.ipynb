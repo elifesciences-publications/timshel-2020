{
 "cells": [
  {
   "cell_type": "code",
   "execution_count": 1,
   "metadata": {},
   "outputs": [],
   "source": [
    "import loompy # needed for importing data for this tutorial\n",
    "import numpy as np # needed for formatting data for this tutorial\n",
    "import pandas as pd # needed for formatting data for this tutorial\n",
    "import os\n",
    "\n",
    "import cellex"
   ]
  },
  {
   "cell_type": "code",
   "execution_count": 2,
   "metadata": {},
   "outputs": [],
   "source": [
    "import git\n",
    "path_repo_root = git.Repo('.', search_parent_directories=True).working_tree_dir"
   ]
  },
  {
   "cell_type": "code",
   "execution_count": 3,
   "metadata": {},
   "outputs": [],
   "source": [
    "### Constants\n",
    "input_dir = os.path.join(path_repo_root, \"tmp-data/expression\")\n",
    "output_dir = os.path.join(path_repo_root, \"tmp-data/cellex\")\n",
    "assert(os.path.exists(output_dir)) # output_dir must exists"
   ]
  },
  {
   "cell_type": "code",
   "execution_count": 4,
   "metadata": {},
   "outputs": [],
   "source": [
    "### Set constants\n",
    "# dirOut = \"cellex_out\" # output directory for results and plots\n",
    "# prefixData = \"mousebrain_cellex\" # prefix to prepend to files\n",
    "\n",
    "pathData = os.path.join(input_dir, \"mousebrain-l5_all.loom\")\n",
    "nameAnno = \"ClusterName\" # metadata annotation column attribute name\n",
    "nameId = \"CellID\" # metadata cell id column attribute name\n",
    "nameClass = \"Class\""
   ]
  },
  {
   "cell_type": "code",
   "execution_count": 5,
   "metadata": {},
   "outputs": [
    {
     "name": "stdout",
     "output_type": "stream",
     "text": [
      "Removed duplicates from data and metadata. 160678 / 160796 cells remaining.\n",
      "Metadata contains 265 unique cell-type annotations.\n"
     ]
    }
   ],
   "source": [
    "with loompy.connect(pathData) as ds:\n",
    "    rows = (ds.row_attrs[\"Accession\"])\n",
    "    cols = (ds.col_attrs[nameId])\n",
    "    data = pd.DataFrame(ds[:, :], index=rows, columns=cols)\n",
    "    metadata = pd.DataFrame(data={\"cell_type\" : ds.col_attrs[nameAnno]}, index=ds.col_attrs[nameId])\n",
    "    metadata_class = pd.DataFrame(data={\"cell_class\" : ds.col_attrs[nameClass]}, index=ds.col_attrs[nameAnno])\n",
    "    n_cells_total = data.shape[1]\n",
    "    \n",
    "    # Handle duplicate CellID's in dataset\n",
    "    data = data.loc[:, ~data.columns.duplicated()] # our data\n",
    "    metadata = metadata.loc[~metadata.index.duplicated(keep='first')] # the type-annotation for individual cells\n",
    "    metadata_class = metadata_class.loc[~metadata_class.index.duplicated(keep='first')] # class-annotation for cell types\n",
    "    n_types = len(np.unique(metadata[\"cell_type\"].values))\n",
    "    \n",
    "    n_cells_remaining = data.shape[1]\n",
    "    print(\"Removed duplicates from data and metadata. {} / {} cells remaining.\".format(n_cells_remaining, n_cells_total))\n",
    "    print(\"Metadata contains {} unique cell-type annotations.\".format(n_types))"
   ]
  },
  {
   "cell_type": "code",
   "execution_count": 6,
   "metadata": {},
   "outputs": [
    {
     "data": {
      "text/html": [
       "<div>\n",
       "<style scoped>\n",
       "    .dataframe tbody tr th:only-of-type {\n",
       "        vertical-align: middle;\n",
       "    }\n",
       "\n",
       "    .dataframe tbody tr th {\n",
       "        vertical-align: top;\n",
       "    }\n",
       "\n",
       "    .dataframe thead th {\n",
       "        text-align: right;\n",
       "    }\n",
       "</style>\n",
       "<table border=\"1\" class=\"dataframe\">\n",
       "  <thead>\n",
       "    <tr style=\"text-align: right;\">\n",
       "      <th></th>\n",
       "      <th>10X82_2_TCTCTCACCAGTTA-</th>\n",
       "      <th>10X82_2_TATTATCTACCAGA-</th>\n",
       "      <th>10X82_2_TATCCCAGATGGCA-</th>\n",
       "      <th>10X82_2_ATTACGTATGAATG-</th>\n",
       "      <th>10X82_2_ATACGTCAATAAGG-</th>\n",
       "      <th>10X82_2_TACAGTCTTCGGTC-</th>\n",
       "      <th>10X81_2_CGTAACATTCGACA-</th>\n",
       "      <th>10X81_3_TGATGAGATACACA-</th>\n",
       "      <th>10X82_2_GCCAGGTAGGACAC-</th>\n",
       "      <th>10X81_2_AGATCAGTCCGTAT-</th>\n",
       "      <th>...</th>\n",
       "      <th>10X53_7_TGTCTGAGAGGC-</th>\n",
       "      <th>10X43_2_CAGTTGCTTGGA-</th>\n",
       "      <th>10X43_2_AGTCGATCGTGA-</th>\n",
       "      <th>10X43_2_GAAGCTTCGTAG-</th>\n",
       "      <th>10X43_2_CCATTGGGCAAG-</th>\n",
       "      <th>10X43_2_TACAACAGTCGT-</th>\n",
       "      <th>10X43_2_ATGATGGGTTAC-</th>\n",
       "      <th>10X43_2_GCAGCTTAGAGA-</th>\n",
       "      <th>10X53_7_GCGATGGGAGGT-</th>\n",
       "      <th>10X43_2_TTAATGGGGCAA-</th>\n",
       "    </tr>\n",
       "  </thead>\n",
       "  <tbody>\n",
       "    <tr>\n",
       "      <th>ENSMUSG00000024647</th>\n",
       "      <td>21.0</td>\n",
       "      <td>28.0</td>\n",
       "      <td>28.0</td>\n",
       "      <td>48.0</td>\n",
       "      <td>31.0</td>\n",
       "      <td>29.0</td>\n",
       "      <td>66.0</td>\n",
       "      <td>13.0</td>\n",
       "      <td>22.0</td>\n",
       "      <td>45.0</td>\n",
       "      <td>...</td>\n",
       "      <td>0.0</td>\n",
       "      <td>0.0</td>\n",
       "      <td>0.0</td>\n",
       "      <td>0.0</td>\n",
       "      <td>0.0</td>\n",
       "      <td>0.0</td>\n",
       "      <td>0.0</td>\n",
       "      <td>0.0</td>\n",
       "      <td>0.0</td>\n",
       "      <td>0.0</td>\n",
       "    </tr>\n",
       "    <tr>\n",
       "      <th>ENSMUSG00000041544</th>\n",
       "      <td>1.0</td>\n",
       "      <td>1.0</td>\n",
       "      <td>0.0</td>\n",
       "      <td>0.0</td>\n",
       "      <td>0.0</td>\n",
       "      <td>0.0</td>\n",
       "      <td>1.0</td>\n",
       "      <td>2.0</td>\n",
       "      <td>0.0</td>\n",
       "      <td>0.0</td>\n",
       "      <td>...</td>\n",
       "      <td>0.0</td>\n",
       "      <td>0.0</td>\n",
       "      <td>0.0</td>\n",
       "      <td>0.0</td>\n",
       "      <td>0.0</td>\n",
       "      <td>0.0</td>\n",
       "      <td>0.0</td>\n",
       "      <td>0.0</td>\n",
       "      <td>0.0</td>\n",
       "      <td>0.0</td>\n",
       "    </tr>\n",
       "    <tr>\n",
       "      <th>ENSMUSG00000029503</th>\n",
       "      <td>14.0</td>\n",
       "      <td>11.0</td>\n",
       "      <td>7.0</td>\n",
       "      <td>13.0</td>\n",
       "      <td>11.0</td>\n",
       "      <td>7.0</td>\n",
       "      <td>16.0</td>\n",
       "      <td>7.0</td>\n",
       "      <td>14.0</td>\n",
       "      <td>9.0</td>\n",
       "      <td>...</td>\n",
       "      <td>0.0</td>\n",
       "      <td>3.0</td>\n",
       "      <td>2.0</td>\n",
       "      <td>6.0</td>\n",
       "      <td>8.0</td>\n",
       "      <td>3.0</td>\n",
       "      <td>1.0</td>\n",
       "      <td>2.0</td>\n",
       "      <td>2.0</td>\n",
       "      <td>2.0</td>\n",
       "    </tr>\n",
       "    <tr>\n",
       "      <th>ENSMUSG00000039942</th>\n",
       "      <td>2.0</td>\n",
       "      <td>1.0</td>\n",
       "      <td>2.0</td>\n",
       "      <td>2.0</td>\n",
       "      <td>2.0</td>\n",
       "      <td>1.0</td>\n",
       "      <td>0.0</td>\n",
       "      <td>0.0</td>\n",
       "      <td>1.0</td>\n",
       "      <td>1.0</td>\n",
       "      <td>...</td>\n",
       "      <td>0.0</td>\n",
       "      <td>0.0</td>\n",
       "      <td>0.0</td>\n",
       "      <td>0.0</td>\n",
       "      <td>0.0</td>\n",
       "      <td>0.0</td>\n",
       "      <td>0.0</td>\n",
       "      <td>1.0</td>\n",
       "      <td>0.0</td>\n",
       "      <td>1.0</td>\n",
       "    </tr>\n",
       "    <tr>\n",
       "      <th>ENSMUSG00000059187</th>\n",
       "      <td>8.0</td>\n",
       "      <td>7.0</td>\n",
       "      <td>9.0</td>\n",
       "      <td>20.0</td>\n",
       "      <td>4.0</td>\n",
       "      <td>11.0</td>\n",
       "      <td>20.0</td>\n",
       "      <td>4.0</td>\n",
       "      <td>16.0</td>\n",
       "      <td>18.0</td>\n",
       "      <td>...</td>\n",
       "      <td>0.0</td>\n",
       "      <td>0.0</td>\n",
       "      <td>0.0</td>\n",
       "      <td>0.0</td>\n",
       "      <td>0.0</td>\n",
       "      <td>0.0</td>\n",
       "      <td>0.0</td>\n",
       "      <td>0.0</td>\n",
       "      <td>0.0</td>\n",
       "      <td>0.0</td>\n",
       "    </tr>\n",
       "  </tbody>\n",
       "</table>\n",
       "<p>5 rows × 160678 columns</p>\n",
       "</div>"
      ],
      "text/plain": [
       "                    10X82_2_TCTCTCACCAGTTA-  10X82_2_TATTATCTACCAGA-  \\\n",
       "ENSMUSG00000024647                     21.0                     28.0   \n",
       "ENSMUSG00000041544                      1.0                      1.0   \n",
       "ENSMUSG00000029503                     14.0                     11.0   \n",
       "ENSMUSG00000039942                      2.0                      1.0   \n",
       "ENSMUSG00000059187                      8.0                      7.0   \n",
       "\n",
       "                    10X82_2_TATCCCAGATGGCA-  10X82_2_ATTACGTATGAATG-  \\\n",
       "ENSMUSG00000024647                     28.0                     48.0   \n",
       "ENSMUSG00000041544                      0.0                      0.0   \n",
       "ENSMUSG00000029503                      7.0                     13.0   \n",
       "ENSMUSG00000039942                      2.0                      2.0   \n",
       "ENSMUSG00000059187                      9.0                     20.0   \n",
       "\n",
       "                    10X82_2_ATACGTCAATAAGG-  10X82_2_TACAGTCTTCGGTC-  \\\n",
       "ENSMUSG00000024647                     31.0                     29.0   \n",
       "ENSMUSG00000041544                      0.0                      0.0   \n",
       "ENSMUSG00000029503                     11.0                      7.0   \n",
       "ENSMUSG00000039942                      2.0                      1.0   \n",
       "ENSMUSG00000059187                      4.0                     11.0   \n",
       "\n",
       "                    10X81_2_CGTAACATTCGACA-  10X81_3_TGATGAGATACACA-  \\\n",
       "ENSMUSG00000024647                     66.0                     13.0   \n",
       "ENSMUSG00000041544                      1.0                      2.0   \n",
       "ENSMUSG00000029503                     16.0                      7.0   \n",
       "ENSMUSG00000039942                      0.0                      0.0   \n",
       "ENSMUSG00000059187                     20.0                      4.0   \n",
       "\n",
       "                    10X82_2_GCCAGGTAGGACAC-  10X81_2_AGATCAGTCCGTAT-  ...  \\\n",
       "ENSMUSG00000024647                     22.0                     45.0  ...   \n",
       "ENSMUSG00000041544                      0.0                      0.0  ...   \n",
       "ENSMUSG00000029503                     14.0                      9.0  ...   \n",
       "ENSMUSG00000039942                      1.0                      1.0  ...   \n",
       "ENSMUSG00000059187                     16.0                     18.0  ...   \n",
       "\n",
       "                    10X53_7_TGTCTGAGAGGC-  10X43_2_CAGTTGCTTGGA-  \\\n",
       "ENSMUSG00000024647                    0.0                    0.0   \n",
       "ENSMUSG00000041544                    0.0                    0.0   \n",
       "ENSMUSG00000029503                    0.0                    3.0   \n",
       "ENSMUSG00000039942                    0.0                    0.0   \n",
       "ENSMUSG00000059187                    0.0                    0.0   \n",
       "\n",
       "                    10X43_2_AGTCGATCGTGA-  10X43_2_GAAGCTTCGTAG-  \\\n",
       "ENSMUSG00000024647                    0.0                    0.0   \n",
       "ENSMUSG00000041544                    0.0                    0.0   \n",
       "ENSMUSG00000029503                    2.0                    6.0   \n",
       "ENSMUSG00000039942                    0.0                    0.0   \n",
       "ENSMUSG00000059187                    0.0                    0.0   \n",
       "\n",
       "                    10X43_2_CCATTGGGCAAG-  10X43_2_TACAACAGTCGT-  \\\n",
       "ENSMUSG00000024647                    0.0                    0.0   \n",
       "ENSMUSG00000041544                    0.0                    0.0   \n",
       "ENSMUSG00000029503                    8.0                    3.0   \n",
       "ENSMUSG00000039942                    0.0                    0.0   \n",
       "ENSMUSG00000059187                    0.0                    0.0   \n",
       "\n",
       "                    10X43_2_ATGATGGGTTAC-  10X43_2_GCAGCTTAGAGA-  \\\n",
       "ENSMUSG00000024647                    0.0                    0.0   \n",
       "ENSMUSG00000041544                    0.0                    0.0   \n",
       "ENSMUSG00000029503                    1.0                    2.0   \n",
       "ENSMUSG00000039942                    0.0                    1.0   \n",
       "ENSMUSG00000059187                    0.0                    0.0   \n",
       "\n",
       "                    10X53_7_GCGATGGGAGGT-  10X43_2_TTAATGGGGCAA-  \n",
       "ENSMUSG00000024647                    0.0                    0.0  \n",
       "ENSMUSG00000041544                    0.0                    0.0  \n",
       "ENSMUSG00000029503                    2.0                    2.0  \n",
       "ENSMUSG00000039942                    0.0                    1.0  \n",
       "ENSMUSG00000059187                    0.0                    0.0  \n",
       "\n",
       "[5 rows x 160678 columns]"
      ]
     },
     "execution_count": 6,
     "metadata": {},
     "output_type": "execute_result"
    }
   ],
   "source": [
    "data.head()"
   ]
  },
  {
   "cell_type": "code",
   "execution_count": 7,
   "metadata": {},
   "outputs": [
    {
     "data": {
      "text/html": [
       "<div>\n",
       "<style scoped>\n",
       "    .dataframe tbody tr th:only-of-type {\n",
       "        vertical-align: middle;\n",
       "    }\n",
       "\n",
       "    .dataframe tbody tr th {\n",
       "        vertical-align: top;\n",
       "    }\n",
       "\n",
       "    .dataframe thead th {\n",
       "        text-align: right;\n",
       "    }\n",
       "</style>\n",
       "<table border=\"1\" class=\"dataframe\">\n",
       "  <thead>\n",
       "    <tr style=\"text-align: right;\">\n",
       "      <th></th>\n",
       "      <th>cell_type</th>\n",
       "    </tr>\n",
       "  </thead>\n",
       "  <tbody>\n",
       "    <tr>\n",
       "      <th>10X82_2_TCTCTCACCAGTTA-</th>\n",
       "      <td>ENT9</td>\n",
       "    </tr>\n",
       "    <tr>\n",
       "      <th>10X82_2_TATTATCTACCAGA-</th>\n",
       "      <td>ENT9</td>\n",
       "    </tr>\n",
       "    <tr>\n",
       "      <th>10X82_2_TATCCCAGATGGCA-</th>\n",
       "      <td>ENT9</td>\n",
       "    </tr>\n",
       "    <tr>\n",
       "      <th>10X82_2_ATTACGTATGAATG-</th>\n",
       "      <td>ENT9</td>\n",
       "    </tr>\n",
       "    <tr>\n",
       "      <th>10X82_2_ATACGTCAATAAGG-</th>\n",
       "      <td>ENT9</td>\n",
       "    </tr>\n",
       "  </tbody>\n",
       "</table>\n",
       "</div>"
      ],
      "text/plain": [
       "                        cell_type\n",
       "10X82_2_TCTCTCACCAGTTA-      ENT9\n",
       "10X82_2_TATTATCTACCAGA-      ENT9\n",
       "10X82_2_TATCCCAGATGGCA-      ENT9\n",
       "10X82_2_ATTACGTATGAATG-      ENT9\n",
       "10X82_2_ATACGTCAATAAGG-      ENT9"
      ]
     },
     "execution_count": 7,
     "metadata": {},
     "output_type": "execute_result"
    }
   ],
   "source": [
    "metadata.head()"
   ]
  },
  {
   "cell_type": "code",
   "execution_count": null,
   "metadata": {},
   "outputs": [],
   "source": []
  },
  {
   "cell_type": "code",
   "execution_count": null,
   "metadata": {},
   "outputs": [],
   "source": []
  },
  {
   "cell_type": "code",
   "execution_count": 8,
   "metadata": {},
   "outputs": [
    {
     "name": "stdout",
     "output_type": "stream",
     "text": [
      "Preprocessing - running remove_non_expressed ... excluded 4612 / 27998 genes in 0 min 31 sec\n",
      "Preprocessing - normalizing data ... data normalized in 7 min 23 sec\n",
      "Preprocessing - running ANOVA ... excluded 3055 / 23386 genes in 5 min 37 sec\n"
     ]
    }
   ],
   "source": [
    "eso = cellex.ESObject(data=data, annotation=metadata, verbose=True)"
   ]
  },
  {
   "cell_type": "code",
   "execution_count": null,
   "metadata": {},
   "outputs": [],
   "source": []
  },
  {
   "cell_type": "code",
   "execution_count": null,
   "metadata": {},
   "outputs": [],
   "source": []
  },
  {
   "cell_type": "code",
   "execution_count": null,
   "metadata": {},
   "outputs": [],
   "source": []
  },
  {
   "cell_type": "code",
   "execution_count": 9,
   "metadata": {},
   "outputs": [
    {
     "name": "stdout",
     "output_type": "stream",
     "text": [
      "Computing DET ... \n",
      "    esw ...\n",
      "    empirical p-values ...\n",
      "    esw_s ...\n",
      "    finished in 1 min 54 sec\n",
      "Computing EP ...\n",
      "    esw ...\n",
      "    empirical p-values ...\n",
      "    esw_s ...\n",
      "    finished in 0 min 2 sec\n",
      "Computing GES ...\n",
      "    esw ...\n",
      "    empirical p-values ...\n",
      "    esw_s ...\n",
      "    finished in 3 min 22 sec\n",
      "Computing NSI ...\n",
      "    esw ...\n",
      "    empirical p-values ...\n",
      "    esw_s ...\n",
      "    finished in 5 min 48 sec\n",
      "Computing ESmu ...\n",
      "    finished in 0 min 0 sec\n",
      "Computing ESsd ...\n",
      "    finished in 0 min 0 sec\n",
      "Computed ['det.esw', 'det.esw_null', 'det.pvals', 'det.esw_s', 'ep.esw', 'ep.esw_null', 'ep.pvals', 'ep.esw_s', 'ges.esw', 'ges.esw_null', 'ges.pvals', 'ges.esw_s', 'nsi.esw', 'nsi.esw_null', 'nsi.pvals', 'nsi.esw_s', 'esmu', 'essd'].\n"
     ]
    }
   ],
   "source": [
    "eso.compute(verbose=True)"
   ]
  },
  {
   "cell_type": "code",
   "execution_count": null,
   "metadata": {},
   "outputs": [],
   "source": []
  },
  {
   "cell_type": "code",
   "execution_count": 10,
   "metadata": {},
   "outputs": [
    {
     "name": "stdout",
     "output_type": "stream",
     "text": [
      "Saving results as csv to disk ...\n",
      "  Saved: /nfsdata/projects/timshel/sc-genetics/timshel-bmicelltypes2019/tmp-data/cellex/mousebrain_cellex.mouse.esmu.csv.gz\n",
      "  Saved: /nfsdata/projects/timshel/sc-genetics/timshel-bmicelltypes2019/tmp-data/cellex/mousebrain_cellex.mouse.essd.csv.gz\n",
      "Finished saving results to /nfsdata/projects/timshel/sc-genetics/timshel-bmicelltypes2019/tmp-data/cellex\n"
     ]
    }
   ],
   "source": [
    "# eso.save_as_csv()\n",
    "eso.save_as_csv(file_prefix=\"mousebrain_cellex.mouse\", path=output_dir, keys=None, verbose=True)"
   ]
  },
  {
   "cell_type": "code",
   "execution_count": 11,
   "metadata": {},
   "outputs": [
    {
     "name": "stdout",
     "output_type": "stream",
     "text": [
      "Mapping: mouse ensembl gene id's --> human ensembl gene id's ...\n"
     ]
    },
    {
     "ename": "FileNotFoundError",
     "evalue": "[Errno 2] No such file or directory: 'CELLEX/cellex/utils/mapping/maps/hsapiens_mmusculus_unique_orthologs.GRCh37.ens_v91.txt.gz'",
     "output_type": "error",
     "traceback": [
      "\u001b[0;31m---------------------------------------------------------------------------\u001b[0m",
      "\u001b[0;31mFileNotFoundError\u001b[0m                         Traceback (most recent call last)",
      "\u001b[0;32m<ipython-input-11-75787d394ce1>\u001b[0m in \u001b[0;36m<module>\u001b[0;34m\u001b[0m\n\u001b[0;32m----> 1\u001b[0;31m \u001b[0mcellex\u001b[0m\u001b[0;34m.\u001b[0m\u001b[0mutils\u001b[0m\u001b[0;34m.\u001b[0m\u001b[0mmapping\u001b[0m\u001b[0;34m.\u001b[0m\u001b[0mens_mouse_to_ens_human\u001b[0m\u001b[0;34m(\u001b[0m\u001b[0meso\u001b[0m\u001b[0;34m.\u001b[0m\u001b[0mresults\u001b[0m\u001b[0;34m[\u001b[0m\u001b[0;34m\"esmu\"\u001b[0m\u001b[0;34m]\u001b[0m\u001b[0;34m,\u001b[0m \u001b[0mdrop_unmapped\u001b[0m\u001b[0;34m=\u001b[0m\u001b[0;32mTrue\u001b[0m\u001b[0;34m,\u001b[0m \u001b[0mverbose\u001b[0m\u001b[0;34m=\u001b[0m\u001b[0;32mTrue\u001b[0m\u001b[0;34m)\u001b[0m\u001b[0;34m\u001b[0m\u001b[0;34m\u001b[0m\u001b[0m\n\u001b[0m",
      "\u001b[0;32m/tools/anaconda/envs/djw472/py3_PT/lib/python3.7/site-packages/cellex/utils/mapping/ens_mouse_to_ens_human.py\u001b[0m in \u001b[0;36mens_mouse_to_ens_human\u001b[0;34m(df_unmapped, drop_unmapped, verbose)\u001b[0m\n\u001b[1;32m     35\u001b[0m     \u001b[0mfp_mapping_file\u001b[0m \u001b[0;34m=\u001b[0m \u001b[0;34m\"CELLEX/cellex/utils/mapping/maps/hsapiens_mmusculus_unique_orthologs.GRCh37.ens_v91.txt.gz\"\u001b[0m\u001b[0;34m\u001b[0m\u001b[0;34m\u001b[0m\u001b[0m\n\u001b[1;32m     36\u001b[0m \u001b[0;34m\u001b[0m\u001b[0m\n\u001b[0;32m---> 37\u001b[0;31m     \u001b[0mdf_map\u001b[0m \u001b[0;34m=\u001b[0m \u001b[0mpd\u001b[0m\u001b[0;34m.\u001b[0m\u001b[0mread_csv\u001b[0m\u001b[0;34m(\u001b[0m\u001b[0mfp_mapping_file\u001b[0m\u001b[0;34m,\u001b[0m \u001b[0mdelim_whitespace\u001b[0m\u001b[0;34m=\u001b[0m\u001b[0;32mTrue\u001b[0m\u001b[0;34m)\u001b[0m\u001b[0;34m\u001b[0m\u001b[0;34m\u001b[0m\u001b[0m\n\u001b[0m\u001b[1;32m     38\u001b[0m \u001b[0;34m\u001b[0m\u001b[0m\n\u001b[1;32m     39\u001b[0m     \u001b[0;31m# create dictionary for mapping mouse ensemble gene id's to human ensembl gene id's\u001b[0m\u001b[0;34m\u001b[0m\u001b[0;34m\u001b[0m\u001b[0;34m\u001b[0m\u001b[0m\n",
      "\u001b[0;32m/tools/anaconda/envs/djw472/py3_PT/lib/python3.7/site-packages/pandas/io/parsers.py\u001b[0m in \u001b[0;36mparser_f\u001b[0;34m(filepath_or_buffer, sep, delimiter, header, names, index_col, usecols, squeeze, prefix, mangle_dupe_cols, dtype, engine, converters, true_values, false_values, skipinitialspace, skiprows, skipfooter, nrows, na_values, keep_default_na, na_filter, verbose, skip_blank_lines, parse_dates, infer_datetime_format, keep_date_col, date_parser, dayfirst, cache_dates, iterator, chunksize, compression, thousands, decimal, lineterminator, quotechar, quoting, doublequote, escapechar, comment, encoding, dialect, error_bad_lines, warn_bad_lines, delim_whitespace, low_memory, memory_map, float_precision)\u001b[0m\n\u001b[1;32m    683\u001b[0m         )\n\u001b[1;32m    684\u001b[0m \u001b[0;34m\u001b[0m\u001b[0m\n\u001b[0;32m--> 685\u001b[0;31m         \u001b[0;32mreturn\u001b[0m \u001b[0m_read\u001b[0m\u001b[0;34m(\u001b[0m\u001b[0mfilepath_or_buffer\u001b[0m\u001b[0;34m,\u001b[0m \u001b[0mkwds\u001b[0m\u001b[0;34m)\u001b[0m\u001b[0;34m\u001b[0m\u001b[0;34m\u001b[0m\u001b[0m\n\u001b[0m\u001b[1;32m    686\u001b[0m \u001b[0;34m\u001b[0m\u001b[0m\n\u001b[1;32m    687\u001b[0m     \u001b[0mparser_f\u001b[0m\u001b[0;34m.\u001b[0m\u001b[0m__name__\u001b[0m \u001b[0;34m=\u001b[0m \u001b[0mname\u001b[0m\u001b[0;34m\u001b[0m\u001b[0;34m\u001b[0m\u001b[0m\n",
      "\u001b[0;32m/tools/anaconda/envs/djw472/py3_PT/lib/python3.7/site-packages/pandas/io/parsers.py\u001b[0m in \u001b[0;36m_read\u001b[0;34m(filepath_or_buffer, kwds)\u001b[0m\n\u001b[1;32m    455\u001b[0m \u001b[0;34m\u001b[0m\u001b[0m\n\u001b[1;32m    456\u001b[0m     \u001b[0;31m# Create the parser.\u001b[0m\u001b[0;34m\u001b[0m\u001b[0;34m\u001b[0m\u001b[0;34m\u001b[0m\u001b[0m\n\u001b[0;32m--> 457\u001b[0;31m     \u001b[0mparser\u001b[0m \u001b[0;34m=\u001b[0m \u001b[0mTextFileReader\u001b[0m\u001b[0;34m(\u001b[0m\u001b[0mfp_or_buf\u001b[0m\u001b[0;34m,\u001b[0m \u001b[0;34m**\u001b[0m\u001b[0mkwds\u001b[0m\u001b[0;34m)\u001b[0m\u001b[0;34m\u001b[0m\u001b[0;34m\u001b[0m\u001b[0m\n\u001b[0m\u001b[1;32m    458\u001b[0m \u001b[0;34m\u001b[0m\u001b[0m\n\u001b[1;32m    459\u001b[0m     \u001b[0;32mif\u001b[0m \u001b[0mchunksize\u001b[0m \u001b[0;32mor\u001b[0m \u001b[0miterator\u001b[0m\u001b[0;34m:\u001b[0m\u001b[0;34m\u001b[0m\u001b[0;34m\u001b[0m\u001b[0m\n",
      "\u001b[0;32m/tools/anaconda/envs/djw472/py3_PT/lib/python3.7/site-packages/pandas/io/parsers.py\u001b[0m in \u001b[0;36m__init__\u001b[0;34m(self, f, engine, **kwds)\u001b[0m\n\u001b[1;32m    893\u001b[0m             \u001b[0mself\u001b[0m\u001b[0;34m.\u001b[0m\u001b[0moptions\u001b[0m\u001b[0;34m[\u001b[0m\u001b[0;34m\"has_index_names\"\u001b[0m\u001b[0;34m]\u001b[0m \u001b[0;34m=\u001b[0m \u001b[0mkwds\u001b[0m\u001b[0;34m[\u001b[0m\u001b[0;34m\"has_index_names\"\u001b[0m\u001b[0;34m]\u001b[0m\u001b[0;34m\u001b[0m\u001b[0;34m\u001b[0m\u001b[0m\n\u001b[1;32m    894\u001b[0m \u001b[0;34m\u001b[0m\u001b[0m\n\u001b[0;32m--> 895\u001b[0;31m         \u001b[0mself\u001b[0m\u001b[0;34m.\u001b[0m\u001b[0m_make_engine\u001b[0m\u001b[0;34m(\u001b[0m\u001b[0mself\u001b[0m\u001b[0;34m.\u001b[0m\u001b[0mengine\u001b[0m\u001b[0;34m)\u001b[0m\u001b[0;34m\u001b[0m\u001b[0;34m\u001b[0m\u001b[0m\n\u001b[0m\u001b[1;32m    896\u001b[0m \u001b[0;34m\u001b[0m\u001b[0m\n\u001b[1;32m    897\u001b[0m     \u001b[0;32mdef\u001b[0m \u001b[0mclose\u001b[0m\u001b[0;34m(\u001b[0m\u001b[0mself\u001b[0m\u001b[0;34m)\u001b[0m\u001b[0;34m:\u001b[0m\u001b[0;34m\u001b[0m\u001b[0;34m\u001b[0m\u001b[0m\n",
      "\u001b[0;32m/tools/anaconda/envs/djw472/py3_PT/lib/python3.7/site-packages/pandas/io/parsers.py\u001b[0m in \u001b[0;36m_make_engine\u001b[0;34m(self, engine)\u001b[0m\n\u001b[1;32m   1133\u001b[0m     \u001b[0;32mdef\u001b[0m \u001b[0m_make_engine\u001b[0m\u001b[0;34m(\u001b[0m\u001b[0mself\u001b[0m\u001b[0;34m,\u001b[0m \u001b[0mengine\u001b[0m\u001b[0;34m=\u001b[0m\u001b[0;34m\"c\"\u001b[0m\u001b[0;34m)\u001b[0m\u001b[0;34m:\u001b[0m\u001b[0;34m\u001b[0m\u001b[0;34m\u001b[0m\u001b[0m\n\u001b[1;32m   1134\u001b[0m         \u001b[0;32mif\u001b[0m \u001b[0mengine\u001b[0m \u001b[0;34m==\u001b[0m \u001b[0;34m\"c\"\u001b[0m\u001b[0;34m:\u001b[0m\u001b[0;34m\u001b[0m\u001b[0;34m\u001b[0m\u001b[0m\n\u001b[0;32m-> 1135\u001b[0;31m             \u001b[0mself\u001b[0m\u001b[0;34m.\u001b[0m\u001b[0m_engine\u001b[0m \u001b[0;34m=\u001b[0m \u001b[0mCParserWrapper\u001b[0m\u001b[0;34m(\u001b[0m\u001b[0mself\u001b[0m\u001b[0;34m.\u001b[0m\u001b[0mf\u001b[0m\u001b[0;34m,\u001b[0m \u001b[0;34m**\u001b[0m\u001b[0mself\u001b[0m\u001b[0;34m.\u001b[0m\u001b[0moptions\u001b[0m\u001b[0;34m)\u001b[0m\u001b[0;34m\u001b[0m\u001b[0;34m\u001b[0m\u001b[0m\n\u001b[0m\u001b[1;32m   1136\u001b[0m         \u001b[0;32melse\u001b[0m\u001b[0;34m:\u001b[0m\u001b[0;34m\u001b[0m\u001b[0;34m\u001b[0m\u001b[0m\n\u001b[1;32m   1137\u001b[0m             \u001b[0;32mif\u001b[0m \u001b[0mengine\u001b[0m \u001b[0;34m==\u001b[0m \u001b[0;34m\"python\"\u001b[0m\u001b[0;34m:\u001b[0m\u001b[0;34m\u001b[0m\u001b[0;34m\u001b[0m\u001b[0m\n",
      "\u001b[0;32m/tools/anaconda/envs/djw472/py3_PT/lib/python3.7/site-packages/pandas/io/parsers.py\u001b[0m in \u001b[0;36m__init__\u001b[0;34m(self, src, **kwds)\u001b[0m\n\u001b[1;32m   1904\u001b[0m         \u001b[0mkwds\u001b[0m\u001b[0;34m[\u001b[0m\u001b[0;34m\"usecols\"\u001b[0m\u001b[0;34m]\u001b[0m \u001b[0;34m=\u001b[0m \u001b[0mself\u001b[0m\u001b[0;34m.\u001b[0m\u001b[0musecols\u001b[0m\u001b[0;34m\u001b[0m\u001b[0;34m\u001b[0m\u001b[0m\n\u001b[1;32m   1905\u001b[0m \u001b[0;34m\u001b[0m\u001b[0m\n\u001b[0;32m-> 1906\u001b[0;31m         \u001b[0mself\u001b[0m\u001b[0;34m.\u001b[0m\u001b[0m_reader\u001b[0m \u001b[0;34m=\u001b[0m \u001b[0mparsers\u001b[0m\u001b[0;34m.\u001b[0m\u001b[0mTextReader\u001b[0m\u001b[0;34m(\u001b[0m\u001b[0msrc\u001b[0m\u001b[0;34m,\u001b[0m \u001b[0;34m**\u001b[0m\u001b[0mkwds\u001b[0m\u001b[0;34m)\u001b[0m\u001b[0;34m\u001b[0m\u001b[0;34m\u001b[0m\u001b[0m\n\u001b[0m\u001b[1;32m   1907\u001b[0m         \u001b[0mself\u001b[0m\u001b[0;34m.\u001b[0m\u001b[0munnamed_cols\u001b[0m \u001b[0;34m=\u001b[0m \u001b[0mself\u001b[0m\u001b[0;34m.\u001b[0m\u001b[0m_reader\u001b[0m\u001b[0;34m.\u001b[0m\u001b[0munnamed_cols\u001b[0m\u001b[0;34m\u001b[0m\u001b[0;34m\u001b[0m\u001b[0m\n\u001b[1;32m   1908\u001b[0m \u001b[0;34m\u001b[0m\u001b[0m\n",
      "\u001b[0;32mpandas/_libs/parsers.pyx\u001b[0m in \u001b[0;36mpandas._libs.parsers.TextReader.__cinit__\u001b[0;34m()\u001b[0m\n",
      "\u001b[0;32mpandas/_libs/parsers.pyx\u001b[0m in \u001b[0;36mpandas._libs.parsers.TextReader._setup_parser_source\u001b[0;34m()\u001b[0m\n",
      "\u001b[0;32m/tools/anaconda/envs/djw472/py3_PT/lib/python3.7/gzip.py\u001b[0m in \u001b[0;36m__init__\u001b[0;34m(self, filename, mode, compresslevel, fileobj, mtime)\u001b[0m\n\u001b[1;32m    161\u001b[0m             \u001b[0mmode\u001b[0m \u001b[0;34m+=\u001b[0m \u001b[0;34m'b'\u001b[0m\u001b[0;34m\u001b[0m\u001b[0;34m\u001b[0m\u001b[0m\n\u001b[1;32m    162\u001b[0m         \u001b[0;32mif\u001b[0m \u001b[0mfileobj\u001b[0m \u001b[0;32mis\u001b[0m \u001b[0;32mNone\u001b[0m\u001b[0;34m:\u001b[0m\u001b[0;34m\u001b[0m\u001b[0;34m\u001b[0m\u001b[0m\n\u001b[0;32m--> 163\u001b[0;31m             \u001b[0mfileobj\u001b[0m \u001b[0;34m=\u001b[0m \u001b[0mself\u001b[0m\u001b[0;34m.\u001b[0m\u001b[0mmyfileobj\u001b[0m \u001b[0;34m=\u001b[0m \u001b[0mbuiltins\u001b[0m\u001b[0;34m.\u001b[0m\u001b[0mopen\u001b[0m\u001b[0;34m(\u001b[0m\u001b[0mfilename\u001b[0m\u001b[0;34m,\u001b[0m \u001b[0mmode\u001b[0m \u001b[0;32mor\u001b[0m \u001b[0;34m'rb'\u001b[0m\u001b[0;34m)\u001b[0m\u001b[0;34m\u001b[0m\u001b[0;34m\u001b[0m\u001b[0m\n\u001b[0m\u001b[1;32m    164\u001b[0m         \u001b[0;32mif\u001b[0m \u001b[0mfilename\u001b[0m \u001b[0;32mis\u001b[0m \u001b[0;32mNone\u001b[0m\u001b[0;34m:\u001b[0m\u001b[0;34m\u001b[0m\u001b[0;34m\u001b[0m\u001b[0m\n\u001b[1;32m    165\u001b[0m             \u001b[0mfilename\u001b[0m \u001b[0;34m=\u001b[0m \u001b[0mgetattr\u001b[0m\u001b[0;34m(\u001b[0m\u001b[0mfileobj\u001b[0m\u001b[0;34m,\u001b[0m \u001b[0;34m'name'\u001b[0m\u001b[0;34m,\u001b[0m \u001b[0;34m''\u001b[0m\u001b[0;34m)\u001b[0m\u001b[0;34m\u001b[0m\u001b[0;34m\u001b[0m\u001b[0m\n",
      "\u001b[0;31mFileNotFoundError\u001b[0m: [Errno 2] No such file or directory: 'CELLEX/cellex/utils/mapping/maps/hsapiens_mmusculus_unique_orthologs.GRCh37.ens_v91.txt.gz'"
     ]
    }
   ],
   "source": [
    "cellex.utils.mapping.ens_mouse_to_ens_human(eso.results[\"esmu\"], drop_unmapped=True, verbose=True)"
   ]
  },
  {
   "cell_type": "code",
   "execution_count": null,
   "metadata": {},
   "outputs": [],
   "source": [
    "eso.save_as_csv(file_prefix=\"mousebrain_cellex.human\", path=output_dir, keys=None, verbose=True)"
   ]
  },
  {
   "cell_type": "code",
   "execution_count": null,
   "metadata": {},
   "outputs": [],
   "source": []
  },
  {
   "cell_type": "code",
   "execution_count": null,
   "metadata": {},
   "outputs": [],
   "source": []
  }
 ],
 "metadata": {
  "kernelspec": {
   "display_name": "Python [conda env:py3_PT]",
   "language": "python",
   "name": "conda-env-py3_PT-py"
  },
  "language_info": {
   "codemirror_mode": {
    "name": "ipython",
    "version": 3
   },
   "file_extension": ".py",
   "mimetype": "text/x-python",
   "name": "python",
   "nbconvert_exporter": "python",
   "pygments_lexer": "ipython3",
   "version": "3.7.3"
  }
 },
 "nbformat": 4,
 "nbformat_minor": 2
}
