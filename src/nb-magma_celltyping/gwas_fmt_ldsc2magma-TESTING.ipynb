{
 "cells": [
  {
   "cell_type": "code",
   "execution_count": 12,
   "metadata": {
    "ExecuteTime": {
     "end_time": "2018-06-14T16:31:42.710935Z",
     "start_time": "2018-06-14T16:31:40.591286Z"
    },
    "collapsed": true
   },
   "outputs": [],
   "source": [
    "\n",
    "import os\n",
    "import sys\n",
    "import numpy as np\n",
    "import pandas as pd\n",
    "import time\n",
    "\n",
    "import glob\n",
    "\n",
    "import multiprocessing\n",
    "\n",
    "from scipy import stats\n",
    "\n",
    "import pdb"
   ]
  },
  {
   "cell_type": "code",
   "execution_count": null,
   "metadata": {
    "collapsed": true
   },
   "outputs": [],
   "source": []
  },
  {
   "cell_type": "code",
   "execution_count": 2,
   "metadata": {
    "ExecuteTime": {
     "end_time": "2018-06-14T16:22:04.815011Z",
     "start_time": "2018-06-14T16:22:04.811321Z"
    },
    "collapsed": true
   },
   "outputs": [],
   "source": [
    "file_gwas = \"/projects/timshel/sc-genetics/sc-genetics/data/gwas_sumstats_ldsc/finucane-collection/public_sumstats/PASS_Schizophrenia.sumstats\""
   ]
  },
  {
   "cell_type": "code",
   "execution_count": 3,
   "metadata": {
    "ExecuteTime": {
     "end_time": "2018-06-14T16:22:08.293688Z",
     "start_time": "2018-06-14T16:22:07.023117Z"
    },
    "collapsed": true
   },
   "outputs": [],
   "source": [
    "df_gwas = pd.read_csv(file_gwas, index_col=False, header=0, delimiter=\"\\s+\")"
   ]
  },
  {
   "cell_type": "code",
   "execution_count": 30,
   "metadata": {
    "ExecuteTime": {
     "end_time": "2018-06-14T16:40:28.783855Z",
     "start_time": "2018-06-14T16:40:28.395993Z"
    },
    "collapsed": true
   },
   "outputs": [],
   "source": [
    "n_snps_before_remove_na_rows = df_gwas.shape[0]\n",
    "df_gwas.dropna(axis=0, how='any', inplace=True) # do this before converting \"N\" column to integer to avoid error \"ValueError: Cannot convert non-finite values (NA or inf) to integer\"\n",
    "n_snps_after_remove_na_rows = df_gwas.shape[0]\n",
    "n_na_snps_removed = n_snps_before_remove_na_rows - n_snps_after_remove_na_rows"
   ]
  },
  {
   "cell_type": "code",
   "execution_count": 31,
   "metadata": {
    "ExecuteTime": {
     "end_time": "2018-06-14T16:40:29.673186Z",
     "start_time": "2018-06-14T16:40:29.664506Z"
    }
   },
   "outputs": [],
   "source": [
    "df_gwas[\"N\"] = df_gwas[\"N\"].astype(int)"
   ]
  },
  {
   "cell_type": "code",
   "execution_count": null,
   "metadata": {
    "ExecuteTime": {
     "end_time": "2018-06-14T16:37:35.159245Z",
     "start_time": "2018-06-14T16:37:35.139833Z"
    }
   },
   "outputs": [],
   "source": []
  },
  {
   "cell_type": "code",
   "execution_count": 32,
   "metadata": {
    "ExecuteTime": {
     "end_time": "2018-06-14T16:40:31.526941Z",
     "start_time": "2018-06-14T16:40:31.049443Z"
    }
   },
   "outputs": [],
   "source": [
    "bool_duplicated_snps = df_gwas.duplicated(subset=\"SNP\", keep=False) # returns bool\n",
    "# keep : {‘first’, ‘last’, False}, default ‘first’\n",
    "# first : Mark duplicates as True except for the first occurrence.\n",
    "# last : Mark duplicates as True except for the last occurrence.\n",
    "# False : Mark all duplicates as True.\n",
    "n_duplicated_snps = bool_duplicated_snps.sum()"
   ]
  },
  {
   "cell_type": "code",
   "execution_count": 33,
   "metadata": {
    "ExecuteTime": {
     "end_time": "2018-06-14T16:40:33.168791Z",
     "start_time": "2018-06-14T16:40:33.094369Z"
    }
   },
   "outputs": [],
   "source": [
    "df_gwas[\"P\"] = stats.norm.cdf(df_gwas[\"Z\"]) # Python calculates left/lower-tail probabilities by default.\n",
    "# *OBS*: perhaps you should get the DOUBLE TAILED P-value instead! "
   ]
  },
  {
   "cell_type": "code",
   "execution_count": 34,
   "metadata": {
    "ExecuteTime": {
     "end_time": "2018-06-14T16:40:34.501213Z",
     "start_time": "2018-06-14T16:40:34.481748Z"
    }
   },
   "outputs": [
    {
     "data": {
      "text/plain": [
       "0"
      ]
     },
     "execution_count": 34,
     "metadata": {},
     "output_type": "execute_result"
    }
   ],
   "source": [
    "df_gwas.dropna(axis=0, how='any', inplace=True) # do this before converting \"N\" column to integer to avoid error \"ValueError: Cannot convert non-finite values (NA or inf) to integer\""
   ]
  },
  {
   "cell_type": "code",
   "execution_count": 35,
   "metadata": {
    "ExecuteTime": {
     "end_time": "2018-06-14T16:40:54.731363Z",
     "start_time": "2018-06-14T16:40:54.715071Z"
    }
   },
   "outputs": [
    {
     "data": {
      "text/html": [
       "<div>\n",
       "<style>\n",
       "    .dataframe thead tr:only-child th {\n",
       "        text-align: right;\n",
       "    }\n",
       "\n",
       "    .dataframe thead th {\n",
       "        text-align: left;\n",
       "    }\n",
       "\n",
       "    .dataframe tbody tr th {\n",
       "        vertical-align: top;\n",
       "    }\n",
       "</style>\n",
       "<table border=\"1\" class=\"dataframe\">\n",
       "  <thead>\n",
       "    <tr style=\"text-align: right;\">\n",
       "      <th></th>\n",
       "      <th>SNP</th>\n",
       "      <th>A1</th>\n",
       "      <th>A2</th>\n",
       "      <th>N</th>\n",
       "      <th>CHISQ</th>\n",
       "      <th>Z</th>\n",
       "      <th>P</th>\n",
       "    </tr>\n",
       "  </thead>\n",
       "  <tbody>\n",
       "    <tr>\n",
       "      <th>0</th>\n",
       "      <td>rs6671356</td>\n",
       "      <td>C</td>\n",
       "      <td>T</td>\n",
       "      <td>70100</td>\n",
       "      <td>0.172613</td>\n",
       "      <td>0.415467</td>\n",
       "      <td>0.66110</td>\n",
       "    </tr>\n",
       "    <tr>\n",
       "      <th>1</th>\n",
       "      <td>rs6604968</td>\n",
       "      <td>G</td>\n",
       "      <td>A</td>\n",
       "      <td>70100</td>\n",
       "      <td>0.291126</td>\n",
       "      <td>0.539561</td>\n",
       "      <td>0.70525</td>\n",
       "    </tr>\n",
       "    <tr>\n",
       "      <th>2</th>\n",
       "      <td>rs4970405</td>\n",
       "      <td>A</td>\n",
       "      <td>G</td>\n",
       "      <td>70100</td>\n",
       "      <td>0.102205</td>\n",
       "      <td>0.319694</td>\n",
       "      <td>0.62540</td>\n",
       "    </tr>\n",
       "    <tr>\n",
       "      <th>3</th>\n",
       "      <td>rs12726255</td>\n",
       "      <td>G</td>\n",
       "      <td>A</td>\n",
       "      <td>70100</td>\n",
       "      <td>0.312418</td>\n",
       "      <td>0.558944</td>\n",
       "      <td>0.71190</td>\n",
       "    </tr>\n",
       "    <tr>\n",
       "      <th>4</th>\n",
       "      <td>rs4970409</td>\n",
       "      <td>G</td>\n",
       "      <td>A</td>\n",
       "      <td>70100</td>\n",
       "      <td>0.052423</td>\n",
       "      <td>0.228960</td>\n",
       "      <td>0.59055</td>\n",
       "    </tr>\n",
       "  </tbody>\n",
       "</table>\n",
       "</div>"
      ],
      "text/plain": [
       "          SNP A1 A2      N     CHISQ         Z        P\n",
       "0   rs6671356  C  T  70100  0.172613  0.415467  0.66110\n",
       "1   rs6604968  G  A  70100  0.291126  0.539561  0.70525\n",
       "2   rs4970405  A  G  70100  0.102205  0.319694  0.62540\n",
       "3  rs12726255  G  A  70100  0.312418  0.558944  0.71190\n",
       "4   rs4970409  G  A  70100  0.052423  0.228960  0.59055"
      ]
     },
     "execution_count": 35,
     "metadata": {},
     "output_type": "execute_result"
    }
   ],
   "source": [
    "df_gwas.head()"
   ]
  },
  {
   "cell_type": "code",
   "execution_count": null,
   "metadata": {
    "collapsed": true
   },
   "outputs": [],
   "source": []
  },
  {
   "cell_type": "code",
   "execution_count": null,
   "metadata": {
    "collapsed": true
   },
   "outputs": [],
   "source": [
    "### Clean: remove dups and select cols\n",
    "df_gwas_clean = df_gwas.loc[~bool_duplicated_snps, [\"SNP\", \"P\", \"N\"]] \n"
   ]
  }
 ],
 "metadata": {
  "kernelspec": {
   "display_name": "Python [conda env:py27_anaconda3_PT170705]",
   "language": "python",
   "name": "conda-env-py27_anaconda3_PT170705-py"
  },
  "language_info": {
   "codemirror_mode": {
    "name": "ipython",
    "version": 2
   },
   "file_extension": ".py",
   "mimetype": "text/x-python",
   "name": "python",
   "nbconvert_exporter": "python",
   "pygments_lexer": "ipython2",
   "version": "2.7.13"
  },
  "toc": {
   "colors": {
    "hover_highlight": "#DAA520",
    "navigate_num": "#000000",
    "navigate_text": "#333333",
    "running_highlight": "#FF0000",
    "selected_highlight": "#FFD700",
    "sidebar_border": "#EEEEEE",
    "wrapper_background": "#FFFFFF"
   },
   "moveMenuLeft": true,
   "nav_menu": {
    "height": "12px",
    "width": "252px"
   },
   "navigate_menu": true,
   "number_sections": true,
   "sideBar": true,
   "threshold": 4,
   "toc_cell": false,
   "toc_section_display": "block",
   "toc_window_display": false,
   "widenNotebook": false
  }
 },
 "nbformat": 4,
 "nbformat_minor": 2
}
