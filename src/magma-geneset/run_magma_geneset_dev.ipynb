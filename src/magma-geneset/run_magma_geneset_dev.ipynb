{
 "cells": [
  {
   "cell_type": "code",
   "execution_count": 75,
   "metadata": {
    "ExecuteTime": {
     "end_time": "2018-09-30T07:27:48.816209Z",
     "start_time": "2018-09-30T07:27:48.813322Z"
    },
    "collapsed": true
   },
   "outputs": [],
   "source": [
    "import sys\n",
    "import subprocess\n",
    "import os\n",
    "import glob\n",
    "\n",
    "import pandas as pd"
   ]
  },
  {
   "cell_type": "code",
   "execution_count": 71,
   "metadata": {
    "ExecuteTime": {
     "end_time": "2018-09-30T07:25:26.729439Z",
     "start_time": "2018-09-30T07:25:26.725463Z"
    },
    "collapsed": true
   },
   "outputs": [],
   "source": [
    "# ARGS\n",
    "GWAS = \"/scratch/tmp-magma_gwas/BMI_Yengo2018.txt.10UP.1.5DOWN.genes.raw\"\n",
    "WGCNA_MODULE_GENELIST = \"/raid5/projects/timshel/sc-genetics/sc-genetics/out/out.wgcna/nn_lira_sema/tables/nn_lira_sema_per_brain_area_run1_cell_cluster_module_genes.csv\"\n",
    "OUTFILES_PREFIX = \"magma_test_run_bmi\"\n",
    "# DIR_WGCNA_MODULES = \"/raid5/projects/timshel/sc-genetics/sc-genetics/out/out.wgcna/nn_lira_sema/tables\"\n",
    "# PREFIX_WGCNA_MODULES = \"nn_lira_sema_per_brain_area_run1\""
   ]
  },
  {
   "cell_type": "code",
   "execution_count": 50,
   "metadata": {
    "ExecuteTime": {
     "end_time": "2018-09-30T06:44:31.322488Z",
     "start_time": "2018-09-30T06:44:31.310038Z"
    },
    "collapsed": true
   },
   "outputs": [],
   "source": [
    "def map_ensembl_genes_mouse_to_human(df):\n",
    "    \"\"\"\n",
    "    DESCRIPTION\n",
    "        function to map mouse ensembl genes to human ortholog genes.\n",
    "    INPUT\n",
    "       df: a dataframe with two columns: \"annotation\" and \"gene\". \"gene\" column should contain Ensembl mouse gene IDs to be mapped.\n",
    "    OUTPUT\n",
    "       df: input dataframe with mapped genes. Mouse genes that could not be mapped are removed.\n",
    "       file_mapping_summary: a summary file with mapping stats\n",
    "\n",
    "    REMARKS\n",
    "        We assume the file_mapping contains only 1-1 mapping (which is true for gene_annotation.hsapiens_mmusculus_unique_orthologs.GRCh37.ens_v91.txt.gz).\n",
    "        Otherwise the .map() function might fail\n",
    "    \"\"\"\n",
    "    file_out_mapping_stats = \"{}.ortholog_mapping_stats.txt\".format(OUTFILES_PREFIX)\n",
    "    \n",
    "    file_mapping = \"/raid5/projects/timshel/sc-genetics/sc-genetics/data/gene_annotations/gene_annotation.hsapiens_mmusculus_unique_orthologs.GRCh37.ens_v91.txt.gz\"\n",
    "    ### SNIPPET\n",
    "    # ensembl_gene_id chromosome_name start_position  end_position    mmusculus_homolog_ensembl_gene  mmusculus_homolog_orthology_confidence\n",
    "    # ENSG00000138593 15      49280673        49338760        ENSMUSG00000035093      1\n",
    "    # ENSG00000166351 21      14982498        15013906        ENSMUSG00000095294      0\n",
    "    # ENSG00000168675 18      13217497        13652754        ENSMUSG00000024544      1\n",
    "    \n",
    "    df_mapping = pd.read_csv(file_mapping, delim_whitespace=True, usecols=[\"ensembl_gene_id\", \"mmusculus_homolog_ensembl_gene\"], index_col=1) # index is MOUSE genes\n",
    "    \n",
    "    ### map ortholog genes\n",
    "    df[\"gene_human\"] = df[\"gene\"].map(df_mapping[\"ensembl_gene_id\"]) # df[\"gene\"] is mouse genes. df_mapping[\"ensembl_gene_id\"] is human.\n",
    "    # ^ .map() returns NaN values for genes not mapped. \n",
    "\n",
    "    ### make summary of mapping\n",
    "    df_summary = df.groupby(\"annotation\")[\"gene_human\"].agg({'n_genes_input': lambda x: len(x),\n",
    "                                                         'n_genes_output': lambda x: len(x)-sum(pd.isnull(x)), \n",
    "                                                        'n_genes_not_mapped' : lambda x: sum(pd.isnull(x)),\n",
    "                                                        'pct_genes_not_mapped': lambda x: \"{:.2f}\".format(sum(pd.isnull(x))/float(len(x))*100)})\n",
    "    # ^ we use pd.isnull() instead of np.isnan() because of the issue described here: https://stackoverflow.com/a/36001191/6639640\n",
    "    df_summary.sort_values(by=['n_genes_output'], inplace=True) \n",
    "    df_summary.to_csv(file_out_mapping_stats, sep=\"\\t\")\n",
    "    \n",
    "    ### final processing\n",
    "    df.dropna(axis=0, inplace=True) # remove non-mapped genes\n",
    "    df['gene'] = df['gene_human'] # replace mouse genes with human genes\n",
    "    df.drop(['gene_human'], axis=1, inplace=True) # remove human gene column\n",
    "    \n",
    "    return df\n",
    "\n",
    "\n",
    "def map_hs_ensembl_to_entrez(df):\n",
    "    # Entrezgene to ensemb_gene_id mapping file path for MAGMA\n",
    "    file_mapping_hs_ensembl2entrez = \"/projects/tp/tmp-bmi-brain/data/mapping/gene_annotation_hsapiens.txt.gz\"\n",
    "    df_mapping_ensembl2entrez = pd.read_csv(file_mapping_hs_ensembl2entrez, sep=\"\\t\") # shape=(64719, 3)\n",
    "    df_mapping_ensembl2entrez.drop_duplicates('ensembl_gene_id', keep='first', inplace=True) # shape=(63967, 3)\n",
    "    df_mapping_ensembl2entrez.drop_duplicates('entrezgene', keep='first', inplace=True) # shape=(25233, 3)\n",
    "    df_mapping_ensembl2entrez.set_index(\"ensembl_gene_id\", inplace=True) # set index so '.map()' will work\n",
    "    \n",
    "    ### map\n",
    "    df[\"gene_entrez\"] = df[\"gene\"].map(df_mapping_ensembl2entrez[\"entrezgene\"])\n",
    "    # ^ .map() returns NaN values for genes not mapped. \n",
    "    \n",
    "    ### summarise mapping stats (optional)\n",
    "    df_summary = df.groupby(\"annotation\")[\"gene_entrez\"].agg({'n_genes_input': lambda x: len(x),\n",
    "                                                         'n_genes_output': lambda x: len(x)-sum(pd.isnull(x)), \n",
    "                                                        'n_genes_not_mapped' : lambda x: sum(pd.isnull(x)),\n",
    "                                                        'pct_genes_not_mapped': lambda x: \"{:.2f}\".format(sum(pd.isnull(x))/float(len(x))*100)})\n",
    "    # ^ we use pd.isnull() instead of np.isnan() because of the issue described here: https://stackoverflow.com/a/36001191/6639640\n",
    "    df_summary.sort_values(by=['n_genes_output'], inplace=True)\n",
    "    # print(df_summary)\n",
    "    \n",
    "    ### final processing\n",
    "    df.dropna(axis=0, inplace=True) # remove non-mapped genes\n",
    "    df['gene_entrez'] = df['gene_entrez'].astype(int) # convert to int (otherwise it will be float). But conversion cannot be done before NaNs have been removed\n",
    "    # df['gene'] = df['gene_entrez'] # replace mouse genes with human genes\n",
    "    # df.drop(['gene_entrez'], axis=1, inplace=True) # remove human gene column\n",
    "    \n",
    "    return(df)\n"
   ]
  },
  {
   "cell_type": "code",
   "execution_count": null,
   "metadata": {
    "collapsed": true
   },
   "outputs": [],
   "source": []
  },
  {
   "cell_type": "code",
   "execution_count": 67,
   "metadata": {
    "ExecuteTime": {
     "end_time": "2018-09-30T07:21:07.653524Z",
     "start_time": "2018-09-30T07:21:07.439049Z"
    }
   },
   "outputs": [
    {
     "name": "stderr",
     "output_type": "stream",
     "text": [
      "/tools/anaconda/3-4.4.0/envs/py3_anaconda3_PT180510/lib/python3.6/site-packages/ipykernel/__main__.py:34: FutureWarning: using a dict on a Series for aggregation\n",
      "is deprecated and will be removed in a future version\n",
      "/tools/anaconda/3-4.4.0/envs/py3_anaconda3_PT180510/lib/python3.6/site-packages/ipykernel/__main__.py:63: FutureWarning: using a dict on a Series for aggregation\n",
      "is deprecated and will be removed in a future version\n"
     ]
    },
    {
     "data": {
      "text/html": [
       "<div>\n",
       "<style scoped>\n",
       "    .dataframe tbody tr th:only-of-type {\n",
       "        vertical-align: middle;\n",
       "    }\n",
       "\n",
       "    .dataframe tbody tr th {\n",
       "        vertical-align: top;\n",
       "    }\n",
       "\n",
       "    .dataframe thead th {\n",
       "        text-align: right;\n",
       "    }\n",
       "</style>\n",
       "<table border=\"1\" class=\"dataframe\">\n",
       "  <thead>\n",
       "    <tr style=\"text-align: right;\">\n",
       "      <th></th>\n",
       "      <th>annotation</th>\n",
       "      <th>gene</th>\n",
       "      <th>gene_entrez</th>\n",
       "    </tr>\n",
       "  </thead>\n",
       "  <tbody>\n",
       "    <tr>\n",
       "      <th>0</th>\n",
       "      <td>darkkhaki</td>\n",
       "      <td>ENSG00000197971</td>\n",
       "      <td>4155</td>\n",
       "    </tr>\n",
       "    <tr>\n",
       "      <th>1</th>\n",
       "      <td>darkkhaki</td>\n",
       "      <td>ENSG00000123560</td>\n",
       "      <td>5354</td>\n",
       "    </tr>\n",
       "    <tr>\n",
       "      <th>2</th>\n",
       "      <td>darkkhaki</td>\n",
       "      <td>ENSG00000105695</td>\n",
       "      <td>4099</td>\n",
       "    </tr>\n",
       "    <tr>\n",
       "      <th>3</th>\n",
       "      <td>darkkhaki</td>\n",
       "      <td>ENSG00000168314</td>\n",
       "      <td>4336</td>\n",
       "    </tr>\n",
       "    <tr>\n",
       "      <th>4</th>\n",
       "      <td>darkkhaki</td>\n",
       "      <td>ENSG00000205116</td>\n",
       "      <td>643965</td>\n",
       "    </tr>\n",
       "  </tbody>\n",
       "</table>\n",
       "</div>"
      ],
      "text/plain": [
       "  annotation             gene  gene_entrez\n",
       "0  darkkhaki  ENSG00000197971         4155\n",
       "1  darkkhaki  ENSG00000123560         5354\n",
       "2  darkkhaki  ENSG00000105695         4099\n",
       "3  darkkhaki  ENSG00000168314         4336\n",
       "4  darkkhaki  ENSG00000205116       643965"
      ]
     },
     "execution_count": 67,
     "metadata": {},
     "output_type": "execute_result"
    }
   ],
   "source": [
    "df_multi_gene_set = pd.read_csv(WGCNA_MODULE_GENELIST, usecols=[\"module\", \"ensembl\"]) \n",
    "# ^ 'module' = first column; will later be renamed to 'annotation'\n",
    "# ^ 'ensembl' = second column; will later be renamed to 'gene'\n",
    "df_multi_gene_set.columns = [\"annotation\", \"gene\"] # setting or renaming column names\n",
    "### map to human\n",
    "df_multi_gene_set_hs = map_ensembl_genes_mouse_to_human(df_multi_gene_set)\n",
    "df_multi_gene_set_hs.head()\n",
    "### map ensembl to entrez\n",
    "df_multi_gene_set_hs_entrez = map_hs_ensembl_to_entrez(df_multi_gene_set)\n",
    "df_multi_gene_set_hs_entrez.head()"
   ]
  },
  {
   "cell_type": "code",
   "execution_count": 81,
   "metadata": {
    "ExecuteTime": {
     "end_time": "2018-09-30T07:29:59.710461Z",
     "start_time": "2018-09-30T07:29:59.684973Z"
    }
   },
   "outputs": [],
   "source": [
    "## write output file\n",
    "fileout_magma_geneset = \"{}.set_annot.txt\".format(OUTFILES_PREFIX)\n",
    "df_multi_gene_set_hs_entrez.drop(\"gene\", axis='columns').to_csv(fileout_magma_geneset, sep=\"\\t\", header=False, index=False) # no header, no index"
   ]
  },
  {
   "cell_type": "code",
   "execution_count": null,
   "metadata": {
    "ExecuteTime": {
     "end_time": "2018-09-30T07:30:00.477085Z",
     "start_time": "2018-09-30T07:30:00.311846Z"
    }
   },
   "outputs": [],
   "source": []
  },
  {
   "cell_type": "code",
   "execution_count": 83,
   "metadata": {
    "ExecuteTime": {
     "end_time": "2018-09-30T07:30:29.102642Z",
     "start_time": "2018-09-30T07:30:29.097118Z"
    }
   },
   "outputs": [
    {
     "data": {
      "text/plain": [
       "'/tools/magma/1.06/magma --gene-results /scratch/tmp-magma_gwas/BMI_Yengo2018.txt.10UP.1.5DOWN.genes.raw --set-annot magma_test_run_bmi.set_annot.txt set-col=1 gene-col=2 --out magma_test_run_bmi'"
      ]
     },
     "execution_count": 83,
     "metadata": {},
     "output_type": "execute_result"
    }
   ],
   "source": [
    "# magma --gene-results <GWAS>.genes.raw --set-annot <INPUT> --out <GWAS.MODULE>\n",
    "cmd = \"/tools/magma/1.06/magma --gene-results {file_gwas_genes_raw} --set-annot {file_geneset} set-col=1 gene-col=2 --out {fileout_prefix}\".format(file_gwas_genes_raw=GWAS, file_geneset=fileout_magma_geneset, fileout_prefix=OUTFILES_PREFIX)\n",
    "cmd"
   ]
  },
  {
   "cell_type": "code",
   "execution_count": 84,
   "metadata": {
    "ExecuteTime": {
     "end_time": "2018-09-30T07:30:44.596573Z",
     "start_time": "2018-09-30T07:30:31.723026Z"
    }
   },
   "outputs": [
    {
     "data": {
      "text/plain": [
       "b'Welcome to MAGMA v1.06 (linux)\\nUsing flags:\\n\\t--gene-results /scratch/tmp-magma_gwas/BMI_Yengo2018.txt.10UP.1.5DOWN.genes.raw\\n\\t--set-annot magma_test_run_bmi.set_annot.txt set-col=1 gene-col=2\\n\\t--out magma_test_run_bmi\\n\\nStart time is 09:30:31, Sunday 30 Sep 2018\\n\\nReading file /scratch/tmp-magma_gwas/BMI_Yengo2018.txt.10UP.1.5DOWN.genes.raw... \\n\\t17625 genes read from file\\nLoading gene-set annotation...\\nReading file magma_test_run_bmi.set_annot.txt... \\n\\tdetected 2 variables in file\\n\\tusing variable: variable 2 (gene ID)\\n\\tusing variable: variable 1 (set ID)\\n\\tfound 33 gene sets containing genes defined in genotype data (containing a total of 5116 unique genes)\\n\\nStarting gene-level analysis...\\n\\tconditioning competitive gene-set analysis and gene covariate analysis on variables:\\t\\n\\t\\tgenesize, log_genesize (internal)\\n\\t\\tgenedensity, log_genedensity (internal)\\n\\t\\tsamplesize, log_samplesize (internal)\\n\\t\\tinverse_mac, log_inverse_mac (internal)\\n\\tprocessing block 1 of 30\\r\\tprocessing block 2 of 30\\r\\tprocessing block 3 of 30\\r\\tprocessing block 4 of 30\\r\\tprocessing block 5 of 30\\r\\tprocessing block 6 of 30\\r\\tprocessing block 7 of 30\\r\\tprocessing block 8 of 30\\r\\tprocessing block 9 of 30\\r\\tprocessing block 10 of 30\\r\\tprocessing block 11 of 30\\r\\tprocessing block 12 of 30\\r\\tprocessing block 13 of 30\\r\\tprocessing block 14 of 30\\r\\tprocessing block 15 of 30\\r\\tprocessing block 16 of 30\\r\\tprocessing block 17 of 30\\r\\tprocessing block 18 of 30\\r\\tprocessing block 19 of 30\\r\\tprocessing block 20 of 30\\r\\tprocessing block 21 of 30\\r\\tprocessing block 22 of 30\\r\\tprocessing block 23 of 30\\r\\tprocessing block 24 of 30\\r\\tprocessing block 25 of 30\\r\\tprocessing block 26 of 30\\r\\tprocessing block 27 of 30\\r\\tprocessing block 28 of 30\\r\\tprocessing block 29 of 30\\r\\tprocessing block 30 of 30\\r                                                                                                                   \\r\\twriting gene-set analysis results to file magma_test_run_bmi.sets.out\\n\\twriting gene analysis results by gene set to file magma_test_run_bmi.setgenes.out for significant gene sets (after multiple testing correction, at alpha = 0.05)\\n\\n\\nEnd time is 09:30:44, Sunday 30 Sep 2018 (elapsed: 00:00:13)\\n'"
      ]
     },
     "execution_count": 84,
     "metadata": {},
     "output_type": "execute_result"
    }
   ],
   "source": [
    "subprocess.check_output(cmd, stderr=subprocess.STDOUT, shell=True)"
   ]
  },
  {
   "cell_type": "code",
   "execution_count": null,
   "metadata": {
    "ExecuteTime": {
     "end_time": "2018-09-30T10:23:00.921548Z",
     "start_time": "2018-09-30T10:23:00.905214Z"
    }
   },
   "outputs": [],
   "source": [
    "\n"
   ]
  },
  {
   "cell_type": "code",
   "execution_count": null,
   "metadata": {
    "collapsed": true
   },
   "outputs": [],
   "source": []
  }
 ],
 "metadata": {
  "kernelspec": {
   "display_name": "Python [conda env:py3_anaconda3_PT180510]",
   "language": "python",
   "name": "conda-env-py3_anaconda3_PT180510-py"
  },
  "language_info": {
   "codemirror_mode": {
    "name": "ipython",
    "version": 3
   },
   "file_extension": ".py",
   "mimetype": "text/x-python",
   "name": "python",
   "nbconvert_exporter": "python",
   "pygments_lexer": "ipython3",
   "version": "3.6.6"
  },
  "toc": {
   "colors": {
    "hover_highlight": "#DAA520",
    "navigate_num": "#000000",
    "navigate_text": "#333333",
    "running_highlight": "#FF0000",
    "selected_highlight": "#FFD700",
    "sidebar_border": "#EEEEEE",
    "wrapper_background": "#FFFFFF"
   },
   "moveMenuLeft": true,
   "nav_menu": {
    "height": "12px",
    "width": "252px"
   },
   "navigate_menu": true,
   "number_sections": true,
   "sideBar": true,
   "threshold": 4,
   "toc_cell": false,
   "toc_section_display": "block",
   "toc_window_display": false,
   "widenNotebook": false
  }
 },
 "nbformat": 4,
 "nbformat_minor": 2
}
