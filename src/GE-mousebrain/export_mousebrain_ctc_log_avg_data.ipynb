{
 "cells": [
  {
   "cell_type": "code",
   "execution_count": 1,
   "metadata": {
    "ExecuteTime": {
     "end_time": "2018-11-14T14:24:47.860796Z",
     "start_time": "2018-11-14T14:24:47.361332Z"
    },
    "collapsed": true,
    "scrolled": true
   },
   "outputs": [],
   "source": [
    "import loompy\n",
    "import numpy as np\n",
    "import pandas as pd\n",
    "\n",
    "from dfply import *\n",
    "\n",
    "### from ggplot import *\n",
    "# from plotnine import *\n",
    "\n",
    "### Make sure you use the Python 3 (py3_anaconda3_PT180510) environment\n",
    "# import sys\n",
    "# print(sys.executable) # /tools/anaconda/3-4.4.0/envs/py3_anaconda3_PT180510/bin/python\n",
    "# print(sys.version) # 3.6.4 |Anaconda, Inc.| (default, Jan 16 2018, 18:10:19) [GCC 7.2.0]"
   ]
  },
  {
   "cell_type": "code",
   "execution_count": 2,
   "metadata": {
    "ExecuteTime": {
     "end_time": "2018-11-14T14:24:47.993000Z",
     "start_time": "2018-11-14T14:24:47.862790Z"
    }
   },
   "outputs": [
    {
     "name": "stdout",
     "output_type": "stream",
     "text": [
      "anova_results.mousebrain-BEFORE_CTC_LOG.csv\r\n",
      "explore_and_export_mousebrain_loom_agg.ipynb\r\n",
      "explore_mousebrain.R\r\n",
      "export_mousebrain_ctc_log_avg_data.ipynb\r\n",
      "export_mousebrain_loom.ipynb\r\n",
      "import_mousebrain_to_seurat.R\r\n",
      "mousebrain_anova.ipynb\r\n",
      "mousebrain_beta.ipynb\r\n",
      "mousebrain.celltype_expr.frac_expr_bgthres.csv.gz\r\n",
      "mousebrain.celltype_expr.frac_expr_nonzero.csv.gz\r\n",
      "mousebrain_ges.ipynb\r\n",
      "mousebrain-L5.average.ensembl_musculus.csv\r\n",
      "mousebrain-L5.ctc_log_average.ensembl_musculus.csv.gz\r\n",
      "mousebrain-L5.log_average.ensembl_musculus.csv\r\n",
      "mousebrain-SEM_models.R\r\n",
      "mousebrain-SEM_models-skene_quick_and_dirty.R\r\n"
     ]
    }
   ],
   "source": [
    "!ls"
   ]
  },
  {
   "cell_type": "markdown",
   "metadata": {
    "ExecuteTime": {
     "end_time": "2018-05-10T18:55:15.289598Z",
     "start_time": "2018-05-10T18:55:15.287125Z"
    },
    "collapsed": true
   },
   "source": [
    "### Coonect to loompy and make data frame"
   ]
  },
  {
   "cell_type": "code",
   "execution_count": null,
   "metadata": {
    "ExecuteTime": {
     "start_time": "2018-11-14T14:22:21.607Z"
    },
    "collapsed": true
   },
   "outputs": [],
   "source": [
    "file_loom = \"/data/pub-others/zeisel-biorxiv-2018/data/l5_all.loom\"\n",
    "with loompy.connect(file_loom) as ds:\n",
    "    ### Make data frame\n",
    "    # ds.ra.Gene (Gene names) contains 66 duplicate gene names\n",
    "    df = pd.DataFrame(ds[:, :].astype(int), index=ds.ra.Accession, columns=ds.ca.CellID)\n",
    "    df.columns = pd.MultiIndex.from_arrays([ds.ca.CellID, ds.ca.ClusterName], names=[\"CellID\", \"ClusterName\"])"
   ]
  },
  {
   "cell_type": "markdown",
   "metadata": {
    "ExecuteTime": {
     "end_time": "2018-10-31T12:03:11.194493Z",
     "start_time": "2018-10-31T12:03:11.180993Z"
    }
   },
   "source": [
    "### common transcript count (ctc) normalization and log-transformation"
   ]
  },
  {
   "cell_type": "code",
   "execution_count": 13,
   "metadata": {
    "ExecuteTime": {
     "end_time": "2018-11-14T14:09:12.831133Z",
     "start_time": "2018-11-14T14:04:47.997824Z"
    },
    "collapsed": true,
    "scrolled": true
   },
   "outputs": [],
   "source": [
    "### OBS INEFFICIENT: this creates a COPY of the data frame.\n",
    "df_ctc_log = np.log(1+df/df.sum(axis=0)*1e4) # column sum. Seurat default scale.factor is '10000'"
   ]
  },
  {
   "cell_type": "markdown",
   "metadata": {},
   "source": [
    "### Average ctc-log data"
   ]
  },
  {
   "cell_type": "code",
   "execution_count": 14,
   "metadata": {
    "ExecuteTime": {
     "end_time": "2018-11-14T14:10:59.562376Z",
     "start_time": "2018-11-14T14:09:12.833908Z"
    }
   },
   "outputs": [
    {
     "data": {
      "text/html": [
       "<div>\n",
       "<style scoped>\n",
       "    .dataframe tbody tr th:only-of-type {\n",
       "        vertical-align: middle;\n",
       "    }\n",
       "\n",
       "    .dataframe tbody tr th {\n",
       "        vertical-align: top;\n",
       "    }\n",
       "\n",
       "    .dataframe thead th {\n",
       "        text-align: right;\n",
       "    }\n",
       "</style>\n",
       "<table border=\"1\" class=\"dataframe\">\n",
       "  <thead>\n",
       "    <tr style=\"text-align: right;\">\n",
       "      <th>ClusterName</th>\n",
       "      <th>ENT9</th>\n",
       "      <th>ENT8</th>\n",
       "      <th>ENT6</th>\n",
       "      <th>ENT5</th>\n",
       "      <th>ENT4</th>\n",
       "      <th>ENT7</th>\n",
       "      <th>ENT3</th>\n",
       "      <th>ENT2</th>\n",
       "      <th>ENT1</th>\n",
       "      <th>ENTG1</th>\n",
       "      <th>...</th>\n",
       "      <th>PSPEP8</th>\n",
       "      <th>PSNF2</th>\n",
       "      <th>PSNF3</th>\n",
       "      <th>PSNF1</th>\n",
       "      <th>PSNP1</th>\n",
       "      <th>PSNP3</th>\n",
       "      <th>PSNP2</th>\n",
       "      <th>PSNP5</th>\n",
       "      <th>PSNP4</th>\n",
       "      <th>PSNP6</th>\n",
       "    </tr>\n",
       "  </thead>\n",
       "  <tbody>\n",
       "    <tr>\n",
       "      <th>ENSMUSG00000024647</th>\n",
       "      <td>2.029741</td>\n",
       "      <td>0.176376</td>\n",
       "      <td>0.108033</td>\n",
       "      <td>0.052293</td>\n",
       "      <td>0.028326</td>\n",
       "      <td>0.000000</td>\n",
       "      <td>0.006695</td>\n",
       "      <td>0.011060</td>\n",
       "      <td>0.051132</td>\n",
       "      <td>0.016737</td>\n",
       "      <td>...</td>\n",
       "      <td>0.000000</td>\n",
       "      <td>0.872146</td>\n",
       "      <td>0.135545</td>\n",
       "      <td>1.283194</td>\n",
       "      <td>0.172524</td>\n",
       "      <td>0.000000</td>\n",
       "      <td>0.000000</td>\n",
       "      <td>0.008103</td>\n",
       "      <td>0.000000</td>\n",
       "      <td>0.001810</td>\n",
       "    </tr>\n",
       "    <tr>\n",
       "      <th>ENSMUSG00000041544</th>\n",
       "      <td>0.238551</td>\n",
       "      <td>0.000000</td>\n",
       "      <td>0.000000</td>\n",
       "      <td>0.000000</td>\n",
       "      <td>0.000000</td>\n",
       "      <td>0.034350</td>\n",
       "      <td>0.000000</td>\n",
       "      <td>0.006238</td>\n",
       "      <td>0.000000</td>\n",
       "      <td>0.000000</td>\n",
       "      <td>...</td>\n",
       "      <td>0.075393</td>\n",
       "      <td>0.062910</td>\n",
       "      <td>0.039704</td>\n",
       "      <td>0.059869</td>\n",
       "      <td>0.000000</td>\n",
       "      <td>0.001054</td>\n",
       "      <td>0.045985</td>\n",
       "      <td>0.007529</td>\n",
       "      <td>0.000000</td>\n",
       "      <td>0.006804</td>\n",
       "    </tr>\n",
       "    <tr>\n",
       "      <th>ENSMUSG00000029503</th>\n",
       "      <td>1.855591</td>\n",
       "      <td>0.531197</td>\n",
       "      <td>0.087960</td>\n",
       "      <td>0.417713</td>\n",
       "      <td>0.315584</td>\n",
       "      <td>0.671047</td>\n",
       "      <td>0.724751</td>\n",
       "      <td>0.594759</td>\n",
       "      <td>0.842018</td>\n",
       "      <td>0.006533</td>\n",
       "      <td>...</td>\n",
       "      <td>0.017316</td>\n",
       "      <td>0.000000</td>\n",
       "      <td>0.000000</td>\n",
       "      <td>0.000000</td>\n",
       "      <td>0.006656</td>\n",
       "      <td>0.001902</td>\n",
       "      <td>0.000000</td>\n",
       "      <td>0.130491</td>\n",
       "      <td>0.013577</td>\n",
       "      <td>0.574446</td>\n",
       "    </tr>\n",
       "    <tr>\n",
       "      <th>ENSMUSG00000039942</th>\n",
       "      <td>0.381635</td>\n",
       "      <td>0.047328</td>\n",
       "      <td>0.147160</td>\n",
       "      <td>0.118842</td>\n",
       "      <td>0.114504</td>\n",
       "      <td>0.128225</td>\n",
       "      <td>0.055323</td>\n",
       "      <td>0.106273</td>\n",
       "      <td>0.133145</td>\n",
       "      <td>0.000000</td>\n",
       "      <td>...</td>\n",
       "      <td>0.000000</td>\n",
       "      <td>0.077727</td>\n",
       "      <td>0.116941</td>\n",
       "      <td>0.046735</td>\n",
       "      <td>0.027128</td>\n",
       "      <td>0.018362</td>\n",
       "      <td>0.031399</td>\n",
       "      <td>0.045620</td>\n",
       "      <td>0.070678</td>\n",
       "      <td>0.071835</td>\n",
       "    </tr>\n",
       "    <tr>\n",
       "      <th>ENSMUSG00000059187</th>\n",
       "      <td>2.000372</td>\n",
       "      <td>1.971189</td>\n",
       "      <td>1.505637</td>\n",
       "      <td>1.075453</td>\n",
       "      <td>0.745603</td>\n",
       "      <td>0.932725</td>\n",
       "      <td>0.052921</td>\n",
       "      <td>0.047126</td>\n",
       "      <td>1.021252</td>\n",
       "      <td>0.000000</td>\n",
       "      <td>...</td>\n",
       "      <td>0.000000</td>\n",
       "      <td>0.145884</td>\n",
       "      <td>0.304648</td>\n",
       "      <td>0.044459</td>\n",
       "      <td>0.005110</td>\n",
       "      <td>0.004870</td>\n",
       "      <td>0.000000</td>\n",
       "      <td>0.005308</td>\n",
       "      <td>0.000000</td>\n",
       "      <td>0.003099</td>\n",
       "    </tr>\n",
       "  </tbody>\n",
       "</table>\n",
       "<p>5 rows × 265 columns</p>\n",
       "</div>"
      ],
      "text/plain": [
       "ClusterName             ENT9      ENT8      ENT6      ENT5      ENT4  \\\n",
       "ENSMUSG00000024647  2.029741  0.176376  0.108033  0.052293  0.028326   \n",
       "ENSMUSG00000041544  0.238551  0.000000  0.000000  0.000000  0.000000   \n",
       "ENSMUSG00000029503  1.855591  0.531197  0.087960  0.417713  0.315584   \n",
       "ENSMUSG00000039942  0.381635  0.047328  0.147160  0.118842  0.114504   \n",
       "ENSMUSG00000059187  2.000372  1.971189  1.505637  1.075453  0.745603   \n",
       "\n",
       "ClusterName             ENT7      ENT3      ENT2      ENT1     ENTG1  \\\n",
       "ENSMUSG00000024647  0.000000  0.006695  0.011060  0.051132  0.016737   \n",
       "ENSMUSG00000041544  0.034350  0.000000  0.006238  0.000000  0.000000   \n",
       "ENSMUSG00000029503  0.671047  0.724751  0.594759  0.842018  0.006533   \n",
       "ENSMUSG00000039942  0.128225  0.055323  0.106273  0.133145  0.000000   \n",
       "ENSMUSG00000059187  0.932725  0.052921  0.047126  1.021252  0.000000   \n",
       "\n",
       "ClusterName           ...       PSPEP8     PSNF2     PSNF3     PSNF1  \\\n",
       "ENSMUSG00000024647    ...     0.000000  0.872146  0.135545  1.283194   \n",
       "ENSMUSG00000041544    ...     0.075393  0.062910  0.039704  0.059869   \n",
       "ENSMUSG00000029503    ...     0.017316  0.000000  0.000000  0.000000   \n",
       "ENSMUSG00000039942    ...     0.000000  0.077727  0.116941  0.046735   \n",
       "ENSMUSG00000059187    ...     0.000000  0.145884  0.304648  0.044459   \n",
       "\n",
       "ClusterName            PSNP1     PSNP3     PSNP2     PSNP5     PSNP4     PSNP6  \n",
       "ENSMUSG00000024647  0.172524  0.000000  0.000000  0.008103  0.000000  0.001810  \n",
       "ENSMUSG00000041544  0.000000  0.001054  0.045985  0.007529  0.000000  0.006804  \n",
       "ENSMUSG00000029503  0.006656  0.001902  0.000000  0.130491  0.013577  0.574446  \n",
       "ENSMUSG00000039942  0.027128  0.018362  0.031399  0.045620  0.070678  0.071835  \n",
       "ENSMUSG00000059187  0.005110  0.004870  0.000000  0.005308  0.000000  0.003099  \n",
       "\n",
       "[5 rows x 265 columns]"
      ]
     },
     "execution_count": 14,
     "metadata": {},
     "output_type": "execute_result"
    }
   ],
   "source": [
    "### Average for each cell-type\n",
    "df_ctc_log_avg = df_ctc_log.mean(axis=1, level=1) # 'axis=1'--> take mean ALONG the columns. It only make sense because we use level=1, so it results in a 'group' mean.\n",
    "df_ctc_log_avg.head()\n",
    "# del df_ctc_log # clean up"
   ]
  },
  {
   "cell_type": "markdown",
   "metadata": {},
   "source": [
    "### Write file"
   ]
  },
  {
   "cell_type": "code",
   "execution_count": 15,
   "metadata": {
    "ExecuteTime": {
     "end_time": "2018-11-14T14:11:30.304237Z",
     "start_time": "2018-11-14T14:10:59.564398Z"
    },
    "collapsed": true
   },
   "outputs": [],
   "source": [
    "### Write df_cpm_avg_log\n",
    "df_ctc_log_avg.index.name = \"gene\"\n",
    "df_ctc_log_avg.to_csv(\"mousebrain-L5.ctc_log_average.ensembl_musculus.csv.gz\", compression=\"gzip\")"
   ]
  },
  {
   "cell_type": "markdown",
   "metadata": {},
   "source": [
    "### Alternative: average data"
   ]
  },
  {
   "cell_type": "code",
   "execution_count": 16,
   "metadata": {
    "ExecuteTime": {
     "end_time": "2018-11-14T14:14:55.082368Z",
     "start_time": "2018-11-14T14:11:30.306540Z"
    },
    "collapsed": true
   },
   "outputs": [],
   "source": [
    "### calculate non-cpm average from loompy\n",
    "df_avg = df.mean(axis=1, level=1)\n",
    "df_avg.index.name = \"gene\"\n",
    "df_avg.to_csv(\"mousebrain-L5.average.ensembl_musculus.csv\", compression=\"gzip\")"
   ]
  },
  {
   "cell_type": "markdown",
   "metadata": {},
   "source": [
    "### Alternative: log-transform, then average data (that is, not ctc normalization)"
   ]
  },
  {
   "cell_type": "code",
   "execution_count": 17,
   "metadata": {
    "ExecuteTime": {
     "end_time": "2018-11-14T14:19:57.830481Z",
     "start_time": "2018-11-14T14:14:55.086069Z"
    },
    "collapsed": true
   },
   "outputs": [],
   "source": [
    "# first log-transform, then average\n",
    "df_avg_log = np.log(1+df).mean(axis=1, level=1)\n",
    "df_avg_log.index.name = \"gene\"\n",
    "df_avg_log.to_csv(\"mousebrain-L5.log_average.ensembl_musculus.csv\", compression=\"gzip\")"
   ]
  },
  {
   "cell_type": "markdown",
   "metadata": {},
   "source": [
    "### Alternative: average, then log transform - BUT WE DON'T CARE ABOUT THIS!"
   ]
  },
  {
   "cell_type": "code",
   "execution_count": null,
   "metadata": {
    "ExecuteTime": {
     "end_time": "2018-10-31T12:37:18.491302Z",
     "start_time": "2018-10-31T12:37:18.390611Z"
    },
    "collapsed": true
   },
   "outputs": [],
   "source": [
    "\n"
   ]
  },
  {
   "cell_type": "code",
   "execution_count": 60,
   "metadata": {
    "ExecuteTime": {
     "end_time": "2018-10-31T12:38:07.432773Z",
     "start_time": "2018-10-31T12:37:57.453137Z"
    },
    "collapsed": true
   },
   "outputs": [],
   "source": []
  },
  {
   "cell_type": "code",
   "execution_count": 52,
   "metadata": {
    "ExecuteTime": {
     "end_time": "2018-10-31T12:28:55.768257Z",
     "start_time": "2018-10-31T12:28:45.820343Z"
    },
    "collapsed": true
   },
   "outputs": [],
   "source": []
  },
  {
   "cell_type": "code",
   "execution_count": null,
   "metadata": {
    "collapsed": true
   },
   "outputs": [],
   "source": []
  },
  {
   "cell_type": "markdown",
   "metadata": {},
   "source": [
    "### Compare to Linnarson .agg file"
   ]
  },
  {
   "cell_type": "code",
   "execution_count": 56,
   "metadata": {
    "ExecuteTime": {
     "end_time": "2018-10-31T12:36:56.608699Z",
     "start_time": "2018-10-31T12:34:10.035539Z"
    },
    "collapsed": true
   },
   "outputs": [],
   "source": [
    "# CONCLUSION: df_avg and loom.agg data is EXACTLY the same"
   ]
  },
  {
   "cell_type": "code",
   "execution_count": 53,
   "metadata": {
    "ExecuteTime": {
     "end_time": "2018-10-31T12:31:31.017882Z",
     "start_time": "2018-10-31T12:31:31.008919Z"
    },
    "collapsed": true
   },
   "outputs": [],
   "source": [
    "### load agg data\n",
    "file_loom_agg = \"/data/pub-others/zeisel-biorxiv-2018/data/L5_All.agg.loom\"\n",
    "ds_agg = loompy.connect(file_loom_agg)"
   ]
  },
  {
   "cell_type": "code",
   "execution_count": 55,
   "metadata": {
    "ExecuteTime": {
     "end_time": "2018-10-31T12:33:07.515069Z",
     "start_time": "2018-10-31T12:33:07.118863Z"
    }
   },
   "outputs": [
    {
     "data": {
      "text/html": [
       "<div>\n",
       "<style scoped>\n",
       "    .dataframe tbody tr th:only-of-type {\n",
       "        vertical-align: middle;\n",
       "    }\n",
       "\n",
       "    .dataframe tbody tr th {\n",
       "        vertical-align: top;\n",
       "    }\n",
       "\n",
       "    .dataframe thead th {\n",
       "        text-align: right;\n",
       "    }\n",
       "</style>\n",
       "<table border=\"1\" class=\"dataframe\">\n",
       "  <thead>\n",
       "    <tr style=\"text-align: right;\">\n",
       "      <th></th>\n",
       "      <th>ENT9</th>\n",
       "      <th>ENT8</th>\n",
       "      <th>ENT6</th>\n",
       "      <th>ENT5</th>\n",
       "      <th>ENT4</th>\n",
       "      <th>ENT7</th>\n",
       "      <th>ENT3</th>\n",
       "      <th>ENT2</th>\n",
       "      <th>ENT1</th>\n",
       "      <th>ENTG1</th>\n",
       "      <th>...</th>\n",
       "      <th>PSPEP8</th>\n",
       "      <th>PSNF2</th>\n",
       "      <th>PSNF3</th>\n",
       "      <th>PSNF1</th>\n",
       "      <th>PSNP1</th>\n",
       "      <th>PSNP3</th>\n",
       "      <th>PSNP2</th>\n",
       "      <th>PSNP5</th>\n",
       "      <th>PSNP4</th>\n",
       "      <th>PSNP6</th>\n",
       "    </tr>\n",
       "  </thead>\n",
       "  <tbody>\n",
       "    <tr>\n",
       "      <th>ENSMUSG00000024647</th>\n",
       "      <td>13.976331</td>\n",
       "      <td>0.422680</td>\n",
       "      <td>0.127119</td>\n",
       "      <td>0.084942</td>\n",
       "      <td>0.038710</td>\n",
       "      <td>0.000000</td>\n",
       "      <td>0.006452</td>\n",
       "      <td>0.018692</td>\n",
       "      <td>0.071429</td>\n",
       "      <td>0.012270</td>\n",
       "      <td>...</td>\n",
       "      <td>0.000000</td>\n",
       "      <td>2.245614</td>\n",
       "      <td>0.193548</td>\n",
       "      <td>3.026316</td>\n",
       "      <td>0.273050</td>\n",
       "      <td>0.000000</td>\n",
       "      <td>0.000000</td>\n",
       "      <td>0.011364</td>\n",
       "      <td>0.000000</td>\n",
       "      <td>0.007576</td>\n",
       "    </tr>\n",
       "    <tr>\n",
       "      <th>ENSMUSG00000041544</th>\n",
       "      <td>0.390533</td>\n",
       "      <td>0.000000</td>\n",
       "      <td>0.000000</td>\n",
       "      <td>0.000000</td>\n",
       "      <td>0.000000</td>\n",
       "      <td>0.032258</td>\n",
       "      <td>0.000000</td>\n",
       "      <td>0.009346</td>\n",
       "      <td>0.000000</td>\n",
       "      <td>0.000000</td>\n",
       "      <td>...</td>\n",
       "      <td>0.071429</td>\n",
       "      <td>0.105263</td>\n",
       "      <td>0.096774</td>\n",
       "      <td>0.105263</td>\n",
       "      <td>0.000000</td>\n",
       "      <td>0.003704</td>\n",
       "      <td>0.097222</td>\n",
       "      <td>0.011364</td>\n",
       "      <td>0.000000</td>\n",
       "      <td>0.007576</td>\n",
       "    </tr>\n",
       "    <tr>\n",
       "      <th>ENSMUSG00000029503</th>\n",
       "      <td>7.609467</td>\n",
       "      <td>1.381443</td>\n",
       "      <td>0.186441</td>\n",
       "      <td>0.517375</td>\n",
       "      <td>0.412903</td>\n",
       "      <td>1.322581</td>\n",
       "      <td>1.219355</td>\n",
       "      <td>1.373832</td>\n",
       "      <td>1.714286</td>\n",
       "      <td>0.006135</td>\n",
       "      <td>...</td>\n",
       "      <td>0.035714</td>\n",
       "      <td>0.000000</td>\n",
       "      <td>0.000000</td>\n",
       "      <td>0.000000</td>\n",
       "      <td>0.010638</td>\n",
       "      <td>0.003704</td>\n",
       "      <td>0.000000</td>\n",
       "      <td>0.238636</td>\n",
       "      <td>0.022222</td>\n",
       "      <td>1.590909</td>\n",
       "    </tr>\n",
       "    <tr>\n",
       "      <th>ENSMUSG00000039942</th>\n",
       "      <td>0.928994</td>\n",
       "      <td>0.092784</td>\n",
       "      <td>0.194915</td>\n",
       "      <td>0.127413</td>\n",
       "      <td>0.148387</td>\n",
       "      <td>0.193548</td>\n",
       "      <td>0.070968</td>\n",
       "      <td>0.214953</td>\n",
       "      <td>0.142857</td>\n",
       "      <td>0.000000</td>\n",
       "      <td>...</td>\n",
       "      <td>0.000000</td>\n",
       "      <td>0.122807</td>\n",
       "      <td>0.161290</td>\n",
       "      <td>0.052632</td>\n",
       "      <td>0.042553</td>\n",
       "      <td>0.040741</td>\n",
       "      <td>0.055556</td>\n",
       "      <td>0.079545</td>\n",
       "      <td>0.155556</td>\n",
       "      <td>0.159091</td>\n",
       "    </tr>\n",
       "    <tr>\n",
       "      <th>ENSMUSG00000059187</th>\n",
       "      <td>8.739645</td>\n",
       "      <td>9.000000</td>\n",
       "      <td>3.601695</td>\n",
       "      <td>1.752896</td>\n",
       "      <td>1.103226</td>\n",
       "      <td>1.870968</td>\n",
       "      <td>0.090323</td>\n",
       "      <td>0.065421</td>\n",
       "      <td>2.214286</td>\n",
       "      <td>0.000000</td>\n",
       "      <td>...</td>\n",
       "      <td>0.000000</td>\n",
       "      <td>0.192982</td>\n",
       "      <td>0.548387</td>\n",
       "      <td>0.078947</td>\n",
       "      <td>0.007092</td>\n",
       "      <td>0.011111</td>\n",
       "      <td>0.000000</td>\n",
       "      <td>0.011364</td>\n",
       "      <td>0.000000</td>\n",
       "      <td>0.007576</td>\n",
       "    </tr>\n",
       "  </tbody>\n",
       "</table>\n",
       "<p>5 rows × 265 columns</p>\n",
       "</div>"
      ],
      "text/plain": [
       "                         ENT9      ENT8      ENT6      ENT5      ENT4  \\\n",
       "ENSMUSG00000024647  13.976331  0.422680  0.127119  0.084942  0.038710   \n",
       "ENSMUSG00000041544   0.390533  0.000000  0.000000  0.000000  0.000000   \n",
       "ENSMUSG00000029503   7.609467  1.381443  0.186441  0.517375  0.412903   \n",
       "ENSMUSG00000039942   0.928994  0.092784  0.194915  0.127413  0.148387   \n",
       "ENSMUSG00000059187   8.739645  9.000000  3.601695  1.752896  1.103226   \n",
       "\n",
       "                        ENT7      ENT3      ENT2      ENT1     ENTG1  \\\n",
       "ENSMUSG00000024647  0.000000  0.006452  0.018692  0.071429  0.012270   \n",
       "ENSMUSG00000041544  0.032258  0.000000  0.009346  0.000000  0.000000   \n",
       "ENSMUSG00000029503  1.322581  1.219355  1.373832  1.714286  0.006135   \n",
       "ENSMUSG00000039942  0.193548  0.070968  0.214953  0.142857  0.000000   \n",
       "ENSMUSG00000059187  1.870968  0.090323  0.065421  2.214286  0.000000   \n",
       "\n",
       "                      ...       PSPEP8     PSNF2     PSNF3     PSNF1  \\\n",
       "ENSMUSG00000024647    ...     0.000000  2.245614  0.193548  3.026316   \n",
       "ENSMUSG00000041544    ...     0.071429  0.105263  0.096774  0.105263   \n",
       "ENSMUSG00000029503    ...     0.035714  0.000000  0.000000  0.000000   \n",
       "ENSMUSG00000039942    ...     0.000000  0.122807  0.161290  0.052632   \n",
       "ENSMUSG00000059187    ...     0.000000  0.192982  0.548387  0.078947   \n",
       "\n",
       "                       PSNP1     PSNP3     PSNP2     PSNP5     PSNP4     PSNP6  \n",
       "ENSMUSG00000024647  0.273050  0.000000  0.000000  0.011364  0.000000  0.007576  \n",
       "ENSMUSG00000041544  0.000000  0.003704  0.097222  0.011364  0.000000  0.007576  \n",
       "ENSMUSG00000029503  0.010638  0.003704  0.000000  0.238636  0.022222  1.590909  \n",
       "ENSMUSG00000039942  0.042553  0.040741  0.055556  0.079545  0.155556  0.159091  \n",
       "ENSMUSG00000059187  0.007092  0.011111  0.000000  0.011364  0.000000  0.007576  \n",
       "\n",
       "[5 rows x 265 columns]"
      ]
     },
     "execution_count": 55,
     "metadata": {},
     "output_type": "execute_result"
    }
   ],
   "source": [
    "df_agg = pd.DataFrame(data=ds_agg[:,:], columns=ds_agg.ca.ClusterName, index=ds_agg.ra.Accession)\n",
    "df_agg.head()"
   ]
  },
  {
   "cell_type": "code",
   "execution_count": 57,
   "metadata": {
    "ExecuteTime": {
     "end_time": "2018-10-31T12:36:56.656879Z",
     "start_time": "2018-10-31T12:36:56.612126Z"
    }
   },
   "outputs": [
    {
     "data": {
      "text/html": [
       "<div>\n",
       "<style scoped>\n",
       "    .dataframe tbody tr th:only-of-type {\n",
       "        vertical-align: middle;\n",
       "    }\n",
       "\n",
       "    .dataframe tbody tr th {\n",
       "        vertical-align: top;\n",
       "    }\n",
       "\n",
       "    .dataframe thead th {\n",
       "        text-align: right;\n",
       "    }\n",
       "</style>\n",
       "<table border=\"1\" class=\"dataframe\">\n",
       "  <thead>\n",
       "    <tr style=\"text-align: right;\">\n",
       "      <th>ClusterName</th>\n",
       "      <th>ENT9</th>\n",
       "      <th>ENT8</th>\n",
       "      <th>ENT6</th>\n",
       "      <th>ENT5</th>\n",
       "      <th>ENT4</th>\n",
       "      <th>ENT7</th>\n",
       "      <th>ENT3</th>\n",
       "      <th>ENT2</th>\n",
       "      <th>ENT1</th>\n",
       "      <th>ENTG1</th>\n",
       "      <th>...</th>\n",
       "      <th>PSPEP8</th>\n",
       "      <th>PSNF2</th>\n",
       "      <th>PSNF3</th>\n",
       "      <th>PSNF1</th>\n",
       "      <th>PSNP1</th>\n",
       "      <th>PSNP3</th>\n",
       "      <th>PSNP2</th>\n",
       "      <th>PSNP5</th>\n",
       "      <th>PSNP4</th>\n",
       "      <th>PSNP6</th>\n",
       "    </tr>\n",
       "  </thead>\n",
       "  <tbody>\n",
       "    <tr>\n",
       "      <th>ENSMUSG00000024647</th>\n",
       "      <td>13.976331</td>\n",
       "      <td>0.422680</td>\n",
       "      <td>0.127119</td>\n",
       "      <td>0.084942</td>\n",
       "      <td>0.038710</td>\n",
       "      <td>0.000000</td>\n",
       "      <td>0.006452</td>\n",
       "      <td>0.018692</td>\n",
       "      <td>0.071429</td>\n",
       "      <td>0.012270</td>\n",
       "      <td>...</td>\n",
       "      <td>0.000000</td>\n",
       "      <td>2.245614</td>\n",
       "      <td>0.193548</td>\n",
       "      <td>3.026316</td>\n",
       "      <td>0.273050</td>\n",
       "      <td>0.000000</td>\n",
       "      <td>0.000000</td>\n",
       "      <td>0.011364</td>\n",
       "      <td>0.000000</td>\n",
       "      <td>0.007576</td>\n",
       "    </tr>\n",
       "    <tr>\n",
       "      <th>ENSMUSG00000041544</th>\n",
       "      <td>0.390533</td>\n",
       "      <td>0.000000</td>\n",
       "      <td>0.000000</td>\n",
       "      <td>0.000000</td>\n",
       "      <td>0.000000</td>\n",
       "      <td>0.032258</td>\n",
       "      <td>0.000000</td>\n",
       "      <td>0.009346</td>\n",
       "      <td>0.000000</td>\n",
       "      <td>0.000000</td>\n",
       "      <td>...</td>\n",
       "      <td>0.071429</td>\n",
       "      <td>0.105263</td>\n",
       "      <td>0.096774</td>\n",
       "      <td>0.105263</td>\n",
       "      <td>0.000000</td>\n",
       "      <td>0.003704</td>\n",
       "      <td>0.097222</td>\n",
       "      <td>0.011364</td>\n",
       "      <td>0.000000</td>\n",
       "      <td>0.007576</td>\n",
       "    </tr>\n",
       "    <tr>\n",
       "      <th>ENSMUSG00000029503</th>\n",
       "      <td>7.609467</td>\n",
       "      <td>1.381443</td>\n",
       "      <td>0.186441</td>\n",
       "      <td>0.517375</td>\n",
       "      <td>0.412903</td>\n",
       "      <td>1.322581</td>\n",
       "      <td>1.219355</td>\n",
       "      <td>1.373832</td>\n",
       "      <td>1.714286</td>\n",
       "      <td>0.006135</td>\n",
       "      <td>...</td>\n",
       "      <td>0.035714</td>\n",
       "      <td>0.000000</td>\n",
       "      <td>0.000000</td>\n",
       "      <td>0.000000</td>\n",
       "      <td>0.010638</td>\n",
       "      <td>0.003704</td>\n",
       "      <td>0.000000</td>\n",
       "      <td>0.238636</td>\n",
       "      <td>0.022222</td>\n",
       "      <td>1.590909</td>\n",
       "    </tr>\n",
       "    <tr>\n",
       "      <th>ENSMUSG00000039942</th>\n",
       "      <td>0.928994</td>\n",
       "      <td>0.092784</td>\n",
       "      <td>0.194915</td>\n",
       "      <td>0.127413</td>\n",
       "      <td>0.148387</td>\n",
       "      <td>0.193548</td>\n",
       "      <td>0.070968</td>\n",
       "      <td>0.214953</td>\n",
       "      <td>0.142857</td>\n",
       "      <td>0.000000</td>\n",
       "      <td>...</td>\n",
       "      <td>0.000000</td>\n",
       "      <td>0.122807</td>\n",
       "      <td>0.161290</td>\n",
       "      <td>0.052632</td>\n",
       "      <td>0.042553</td>\n",
       "      <td>0.040741</td>\n",
       "      <td>0.055556</td>\n",
       "      <td>0.079545</td>\n",
       "      <td>0.155556</td>\n",
       "      <td>0.159091</td>\n",
       "    </tr>\n",
       "    <tr>\n",
       "      <th>ENSMUSG00000059187</th>\n",
       "      <td>8.739645</td>\n",
       "      <td>9.000000</td>\n",
       "      <td>3.601695</td>\n",
       "      <td>1.752896</td>\n",
       "      <td>1.103226</td>\n",
       "      <td>1.870968</td>\n",
       "      <td>0.090323</td>\n",
       "      <td>0.065421</td>\n",
       "      <td>2.214286</td>\n",
       "      <td>0.000000</td>\n",
       "      <td>...</td>\n",
       "      <td>0.000000</td>\n",
       "      <td>0.192982</td>\n",
       "      <td>0.548387</td>\n",
       "      <td>0.078947</td>\n",
       "      <td>0.007092</td>\n",
       "      <td>0.011111</td>\n",
       "      <td>0.000000</td>\n",
       "      <td>0.011364</td>\n",
       "      <td>0.000000</td>\n",
       "      <td>0.007576</td>\n",
       "    </tr>\n",
       "  </tbody>\n",
       "</table>\n",
       "<p>5 rows × 265 columns</p>\n",
       "</div>"
      ],
      "text/plain": [
       "ClusterName              ENT9      ENT8      ENT6      ENT5      ENT4  \\\n",
       "ENSMUSG00000024647  13.976331  0.422680  0.127119  0.084942  0.038710   \n",
       "ENSMUSG00000041544   0.390533  0.000000  0.000000  0.000000  0.000000   \n",
       "ENSMUSG00000029503   7.609467  1.381443  0.186441  0.517375  0.412903   \n",
       "ENSMUSG00000039942   0.928994  0.092784  0.194915  0.127413  0.148387   \n",
       "ENSMUSG00000059187   8.739645  9.000000  3.601695  1.752896  1.103226   \n",
       "\n",
       "ClusterName             ENT7      ENT3      ENT2      ENT1     ENTG1  \\\n",
       "ENSMUSG00000024647  0.000000  0.006452  0.018692  0.071429  0.012270   \n",
       "ENSMUSG00000041544  0.032258  0.000000  0.009346  0.000000  0.000000   \n",
       "ENSMUSG00000029503  1.322581  1.219355  1.373832  1.714286  0.006135   \n",
       "ENSMUSG00000039942  0.193548  0.070968  0.214953  0.142857  0.000000   \n",
       "ENSMUSG00000059187  1.870968  0.090323  0.065421  2.214286  0.000000   \n",
       "\n",
       "ClusterName           ...       PSPEP8     PSNF2     PSNF3     PSNF1  \\\n",
       "ENSMUSG00000024647    ...     0.000000  2.245614  0.193548  3.026316   \n",
       "ENSMUSG00000041544    ...     0.071429  0.105263  0.096774  0.105263   \n",
       "ENSMUSG00000029503    ...     0.035714  0.000000  0.000000  0.000000   \n",
       "ENSMUSG00000039942    ...     0.000000  0.122807  0.161290  0.052632   \n",
       "ENSMUSG00000059187    ...     0.000000  0.192982  0.548387  0.078947   \n",
       "\n",
       "ClusterName            PSNP1     PSNP3     PSNP2     PSNP5     PSNP4     PSNP6  \n",
       "ENSMUSG00000024647  0.273050  0.000000  0.000000  0.011364  0.000000  0.007576  \n",
       "ENSMUSG00000041544  0.000000  0.003704  0.097222  0.011364  0.000000  0.007576  \n",
       "ENSMUSG00000029503  0.010638  0.003704  0.000000  0.238636  0.022222  1.590909  \n",
       "ENSMUSG00000039942  0.042553  0.040741  0.055556  0.079545  0.155556  0.159091  \n",
       "ENSMUSG00000059187  0.007092  0.011111  0.000000  0.011364  0.000000  0.007576  \n",
       "\n",
       "[5 rows x 265 columns]"
      ]
     },
     "execution_count": 57,
     "metadata": {},
     "output_type": "execute_result"
    }
   ],
   "source": [
    "df_avg.head()"
   ]
  },
  {
   "cell_type": "code",
   "execution_count": null,
   "metadata": {
    "collapsed": true
   },
   "outputs": [],
   "source": []
  },
  {
   "cell_type": "code",
   "execution_count": null,
   "metadata": {
    "collapsed": true
   },
   "outputs": [],
   "source": []
  },
  {
   "cell_type": "code",
   "execution_count": null,
   "metadata": {
    "collapsed": true
   },
   "outputs": [],
   "source": []
  },
  {
   "cell_type": "code",
   "execution_count": null,
   "metadata": {
    "collapsed": true
   },
   "outputs": [],
   "source": []
  },
  {
   "cell_type": "code",
   "execution_count": null,
   "metadata": {
    "collapsed": true
   },
   "outputs": [],
   "source": []
  },
  {
   "cell_type": "code",
   "execution_count": null,
   "metadata": {
    "collapsed": true
   },
   "outputs": [],
   "source": []
  },
  {
   "cell_type": "code",
   "execution_count": null,
   "metadata": {
    "collapsed": true
   },
   "outputs": [],
   "source": []
  },
  {
   "cell_type": "code",
   "execution_count": null,
   "metadata": {
    "collapsed": true
   },
   "outputs": [],
   "source": []
  },
  {
   "cell_type": "code",
   "execution_count": null,
   "metadata": {
    "collapsed": true
   },
   "outputs": [],
   "source": []
  },
  {
   "cell_type": "code",
   "execution_count": null,
   "metadata": {
    "collapsed": true
   },
   "outputs": [],
   "source": []
  },
  {
   "cell_type": "markdown",
   "metadata": {},
   "source": [
    "### TESTING ON SMALLER DATA FRAME"
   ]
  },
  {
   "cell_type": "code",
   "execution_count": 7,
   "metadata": {
    "ExecuteTime": {
     "end_time": "2018-10-31T11:36:49.729193Z",
     "start_time": "2018-10-31T11:36:49.724369Z"
    },
    "collapsed": true
   },
   "outputs": [],
   "source": []
  },
  {
   "cell_type": "code",
   "execution_count": 8,
   "metadata": {
    "ExecuteTime": {
     "end_time": "2018-10-31T11:36:50.520400Z",
     "start_time": "2018-10-31T11:36:50.104902Z"
    }
   },
   "outputs": [
    {
     "data": {
      "text/plain": [
       "1584"
      ]
     },
     "execution_count": 8,
     "metadata": {},
     "output_type": "execute_result"
    }
   ],
   "source": [
    "cell_types_extract = [\"MEINH7\",\"HBINH9\",\"DEGLU4\",\"MEINH2\",\"MEGLU6\",\"DEINH3\",\"HBINH3\",\"HBGLU10\",\"HBINH4\",\"HBGLU3\"]\n",
    "bool_cells_extract = np.isin(ds.ca.ClusterName, cell_types_extract)\n",
    "ds_extract = df_extract = pd.DataFrame(ds[:, bool_cells_extract].astype(int), index=ds.ra.Gene, columns=ds.ca.CellID[bool_cells_extract])"
   ]
  },
  {
   "cell_type": "code",
   "execution_count": null,
   "metadata": {
    "ExecuteTime": {
     "start_time": "2018-07-13T08:39:20.895Z"
    },
    "collapsed": true
   },
   "outputs": [],
   "source": []
  },
  {
   "cell_type": "code",
   "execution_count": null,
   "metadata": {
    "collapsed": true
   },
   "outputs": [],
   "source": []
  }
 ],
 "metadata": {
  "kernelspec": {
   "display_name": "Python [conda env:py3_anaconda3_PT180510]",
   "language": "python",
   "name": "conda-env-py3_anaconda3_PT180510-py"
  },
  "language_info": {
   "codemirror_mode": {
    "name": "ipython",
    "version": 3
   },
   "file_extension": ".py",
   "mimetype": "text/x-python",
   "name": "python",
   "nbconvert_exporter": "python",
   "pygments_lexer": "ipython3",
   "version": "3.6.6"
  },
  "toc": {
   "colors": {
    "hover_highlight": "#DAA520",
    "navigate_num": "#000000",
    "navigate_text": "#333333",
    "running_highlight": "#FF0000",
    "selected_highlight": "#FFD700",
    "sidebar_border": "#EEEEEE",
    "wrapper_background": "#FFFFFF"
   },
   "moveMenuLeft": true,
   "nav_menu": {
    "height": "12px",
    "width": "252px"
   },
   "navigate_menu": true,
   "number_sections": true,
   "sideBar": true,
   "threshold": 4,
   "toc_cell": false,
   "toc_section_display": "block",
   "toc_window_display": false,
   "widenNotebook": false
  }
 },
 "nbformat": 4,
 "nbformat_minor": 2
}
