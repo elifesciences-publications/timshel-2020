{
 "cells": [
  {
   "cell_type": "code",
   "execution_count": 1,
   "metadata": {
    "ExecuteTime": {
     "end_time": "2018-11-18T15:01:35.218084Z",
     "start_time": "2018-11-18T15:01:33.931505Z"
    },
    "collapsed": true,
    "scrolled": true
   },
   "outputs": [],
   "source": [
    "import loompy\n",
    "import numpy as np\n",
    "import pandas as pd\n",
    "\n",
    "from dfply import *\n",
    "\n",
    "### from ggplot import *\n",
    "# from plotnine import *\n",
    "\n",
    "### Make sure you use the Python 3 (py3_anaconda3_PT180510) environment\n",
    "# import sys\n",
    "# print(sys.executable) # /tools/anaconda/3-4.4.0/envs/py3_anaconda3_PT180510/bin/python\n",
    "# print(sys.version) # 3.6.4 |Anaconda, Inc.| (default, Jan 16 2018, 18:10:19) [GCC 7.2.0]"
   ]
  },
  {
   "cell_type": "code",
   "execution_count": 4,
   "metadata": {
    "ExecuteTime": {
     "end_time": "2018-11-16T09:30:10.691262Z",
     "start_time": "2018-11-16T09:30:10.563829Z"
    }
   },
   "outputs": [
    {
     "name": "stdout",
     "output_type": "stream",
     "text": [
      "explore_and_export_mousebrain_loom_agg.ipynb\r\n",
      "explore_mousebrain.R\r\n",
      "export_mousebrain_ctc_log_avg_data.ipynb\r\n",
      "export_mousebrain_loom.ipynb\r\n",
      "import_mousebrain_to_seurat.R\r\n",
      "mousebrain_anova.ipynb\r\n",
      "mousebrain_beta.ipynb\r\n",
      "mousebrain_ges.ipynb\r\n",
      "mousebrain-SEM_models-old_workflow.R\r\n",
      "mousebrain-SEM_models.R\r\n",
      "mousebrain-SEM_models-skene_quick_and_dirty.R\r\n"
     ]
    }
   ],
   "source": [
    "!ls"
   ]
  },
  {
   "cell_type": "markdown",
   "metadata": {
    "ExecuteTime": {
     "end_time": "2018-05-10T18:55:15.289598Z",
     "start_time": "2018-05-10T18:55:15.287125Z"
    },
    "collapsed": true
   },
   "source": [
    "### Coonect to loompy and make data frame"
   ]
  },
  {
   "cell_type": "code",
   "execution_count": 5,
   "metadata": {
    "ExecuteTime": {
     "end_time": "2018-11-16T09:32:11.735931Z",
     "start_time": "2018-11-16T09:30:10.692995Z"
    },
    "collapsed": true
   },
   "outputs": [],
   "source": [
    "file_loom = \"/data/pub-others/zeisel-biorxiv-2018/data/l5_all.loom\"\n",
    "with loompy.connect(file_loom) as ds:\n",
    "    ### Make data frame\n",
    "    # ds.ra.Gene (Gene names) contains 66 duplicate gene names\n",
    "    df = pd.DataFrame(ds[:, :].astype(int), index=ds.ra.Accession, columns=ds.ca.CellID)\n",
    "    df.columns = pd.MultiIndex.from_arrays([ds.ca.CellID, ds.ca.ClusterName], names=[\"CellID\", \"ClusterName\"])"
   ]
  },
  {
   "cell_type": "code",
   "execution_count": 6,
   "metadata": {
    "ExecuteTime": {
     "end_time": "2018-11-16T09:32:11.759758Z",
     "start_time": "2018-11-16T09:32:11.738222Z"
    }
   },
   "outputs": [
    {
     "data": {
      "text/plain": [
       "Index(['ENT9', 'ENT9', 'ENT9', 'ENT9', 'ENT9', 'ENT9', 'ENT9', 'ENT9', 'ENT9',\n",
       "       'ENT9',\n",
       "       ...\n",
       "       'PSNP6', 'PSNP6', 'PSNP6', 'PSNP6', 'PSNP6', 'PSNP6', 'PSNP6', 'PSNP6',\n",
       "       'PSNP6', 'PSNP6'],\n",
       "      dtype='object', name='ClusterName', length=160796)"
      ]
     },
     "execution_count": 6,
     "metadata": {},
     "output_type": "execute_result"
    }
   ],
   "source": [
    "df.columns.get_level_values(level=0) # --> CellID\n",
    "df.columns.get_level_values(level=1) # --> ClusterName"
   ]
  },
  {
   "cell_type": "markdown",
   "metadata": {
    "ExecuteTime": {
     "end_time": "2018-10-31T12:03:11.194493Z",
     "start_time": "2018-10-31T12:03:11.180993Z"
    }
   },
   "source": [
    "### common transcript count (ctc) normalization and log-transformation"
   ]
  },
  {
   "cell_type": "code",
   "execution_count": 7,
   "metadata": {
    "ExecuteTime": {
     "end_time": "2018-11-16T09:32:38.192593Z",
     "start_time": "2018-11-16T09:32:11.761584Z"
    },
    "scrolled": true
   },
   "outputs": [
    {
     "ename": "KeyboardInterrupt",
     "evalue": "",
     "output_type": "error",
     "traceback": [
      "\u001b[0;31m---------------------------------------------------------------------------\u001b[0m",
      "\u001b[0;31mKeyboardInterrupt\u001b[0m                         Traceback (most recent call last)",
      "\u001b[0;32m<ipython-input-7-9c0dad335411>\u001b[0m in \u001b[0;36m<module>\u001b[0;34m()\u001b[0m\n\u001b[1;32m      1\u001b[0m \u001b[0;31m### OBS INEFFICIENT: this creates a COPY of the data frame.\u001b[0m\u001b[0;34m\u001b[0m\u001b[0;34m\u001b[0m\u001b[0m\n\u001b[0;32m----> 2\u001b[0;31m \u001b[0mdf_ctc_log\u001b[0m \u001b[0;34m=\u001b[0m \u001b[0mnp\u001b[0m\u001b[0;34m.\u001b[0m\u001b[0mlog\u001b[0m\u001b[0;34m(\u001b[0m\u001b[0;36m1\u001b[0m\u001b[0;34m+\u001b[0m\u001b[0mdf\u001b[0m\u001b[0;34m/\u001b[0m\u001b[0mdf\u001b[0m\u001b[0;34m.\u001b[0m\u001b[0msum\u001b[0m\u001b[0;34m(\u001b[0m\u001b[0maxis\u001b[0m\u001b[0;34m=\u001b[0m\u001b[0;36m0\u001b[0m\u001b[0;34m)\u001b[0m\u001b[0;34m*\u001b[0m\u001b[0;36m1e4\u001b[0m\u001b[0;34m)\u001b[0m \u001b[0;31m# column sum. Seurat default scale.factor is '10000'\u001b[0m\u001b[0;34m\u001b[0m\u001b[0m\n\u001b[0m\u001b[1;32m      3\u001b[0m \u001b[0;32mdel\u001b[0m \u001b[0mdf\u001b[0m \u001b[0;31m# clean up\u001b[0m\u001b[0;34m\u001b[0m\u001b[0m\n",
      "\u001b[0;32m/tools/anaconda/3-4.4.0/envs/py3_anaconda3_PT180510/lib/python3.6/site-packages/pandas/core/generic.py\u001b[0m in \u001b[0;36mstat_func\u001b[0;34m(self, axis, skipna, level, numeric_only, min_count, **kwargs)\u001b[0m\n\u001b[1;32m   9567\u001b[0m                                       skipna=skipna, min_count=min_count)\n\u001b[1;32m   9568\u001b[0m         return self._reduce(f, name, axis=axis, skipna=skipna,\n\u001b[0;32m-> 9569\u001b[0;31m                             numeric_only=numeric_only, min_count=min_count)\n\u001b[0m\u001b[1;32m   9570\u001b[0m \u001b[0;34m\u001b[0m\u001b[0m\n\u001b[1;32m   9571\u001b[0m     \u001b[0;32mreturn\u001b[0m \u001b[0mset_function_name\u001b[0m\u001b[0;34m(\u001b[0m\u001b[0mstat_func\u001b[0m\u001b[0;34m,\u001b[0m \u001b[0mname\u001b[0m\u001b[0;34m,\u001b[0m \u001b[0mcls\u001b[0m\u001b[0;34m)\u001b[0m\u001b[0;34m\u001b[0m\u001b[0m\n",
      "\u001b[0;32m/tools/anaconda/3-4.4.0/envs/py3_anaconda3_PT180510/lib/python3.6/site-packages/pandas/core/frame.py\u001b[0m in \u001b[0;36m_reduce\u001b[0;34m(self, op, name, axis, skipna, numeric_only, filter_type, **kwds)\u001b[0m\n\u001b[1;32m   6859\u001b[0m             \u001b[0;32mtry\u001b[0m\u001b[0;34m:\u001b[0m\u001b[0;34m\u001b[0m\u001b[0m\n\u001b[1;32m   6860\u001b[0m                 \u001b[0mvalues\u001b[0m \u001b[0;34m=\u001b[0m \u001b[0mself\u001b[0m\u001b[0;34m.\u001b[0m\u001b[0mvalues\u001b[0m\u001b[0;34m\u001b[0m\u001b[0m\n\u001b[0;32m-> 6861\u001b[0;31m                 \u001b[0mresult\u001b[0m \u001b[0;34m=\u001b[0m \u001b[0mf\u001b[0m\u001b[0;34m(\u001b[0m\u001b[0mvalues\u001b[0m\u001b[0;34m)\u001b[0m\u001b[0;34m\u001b[0m\u001b[0m\n\u001b[0m\u001b[1;32m   6862\u001b[0m             \u001b[0;32mexcept\u001b[0m \u001b[0mException\u001b[0m \u001b[0;32mas\u001b[0m \u001b[0me\u001b[0m\u001b[0;34m:\u001b[0m\u001b[0;34m\u001b[0m\u001b[0m\n\u001b[1;32m   6863\u001b[0m \u001b[0;34m\u001b[0m\u001b[0m\n",
      "\u001b[0;32m/tools/anaconda/3-4.4.0/envs/py3_anaconda3_PT180510/lib/python3.6/site-packages/pandas/core/frame.py\u001b[0m in \u001b[0;36mf\u001b[0;34m(x)\u001b[0m\n\u001b[1;32m   6848\u001b[0m \u001b[0;34m\u001b[0m\u001b[0m\n\u001b[1;32m   6849\u001b[0m         \u001b[0;32mdef\u001b[0m \u001b[0mf\u001b[0m\u001b[0;34m(\u001b[0m\u001b[0mx\u001b[0m\u001b[0;34m)\u001b[0m\u001b[0;34m:\u001b[0m\u001b[0;34m\u001b[0m\u001b[0m\n\u001b[0;32m-> 6850\u001b[0;31m             \u001b[0;32mreturn\u001b[0m \u001b[0mop\u001b[0m\u001b[0;34m(\u001b[0m\u001b[0mx\u001b[0m\u001b[0;34m,\u001b[0m \u001b[0maxis\u001b[0m\u001b[0;34m=\u001b[0m\u001b[0maxis\u001b[0m\u001b[0;34m,\u001b[0m \u001b[0mskipna\u001b[0m\u001b[0;34m=\u001b[0m\u001b[0mskipna\u001b[0m\u001b[0;34m,\u001b[0m \u001b[0;34m**\u001b[0m\u001b[0mkwds\u001b[0m\u001b[0;34m)\u001b[0m\u001b[0;34m\u001b[0m\u001b[0m\n\u001b[0m\u001b[1;32m   6851\u001b[0m \u001b[0;34m\u001b[0m\u001b[0m\n\u001b[1;32m   6852\u001b[0m         \u001b[0mlabels\u001b[0m \u001b[0;34m=\u001b[0m \u001b[0mself\u001b[0m\u001b[0;34m.\u001b[0m\u001b[0m_get_agg_axis\u001b[0m\u001b[0;34m(\u001b[0m\u001b[0maxis\u001b[0m\u001b[0;34m)\u001b[0m\u001b[0;34m\u001b[0m\u001b[0m\n",
      "\u001b[0;32m/tools/anaconda/3-4.4.0/envs/py3_anaconda3_PT180510/lib/python3.6/site-packages/pandas/core/nanops.py\u001b[0m in \u001b[0;36m_f\u001b[0;34m(*args, **kwargs)\u001b[0m\n\u001b[1;32m     75\u001b[0m             \u001b[0;32mtry\u001b[0m\u001b[0;34m:\u001b[0m\u001b[0;34m\u001b[0m\u001b[0m\n\u001b[1;32m     76\u001b[0m                 \u001b[0;32mwith\u001b[0m \u001b[0mnp\u001b[0m\u001b[0;34m.\u001b[0m\u001b[0merrstate\u001b[0m\u001b[0;34m(\u001b[0m\u001b[0minvalid\u001b[0m\u001b[0;34m=\u001b[0m\u001b[0;34m'ignore'\u001b[0m\u001b[0;34m)\u001b[0m\u001b[0;34m:\u001b[0m\u001b[0;34m\u001b[0m\u001b[0m\n\u001b[0;32m---> 77\u001b[0;31m                     \u001b[0;32mreturn\u001b[0m \u001b[0mf\u001b[0m\u001b[0;34m(\u001b[0m\u001b[0;34m*\u001b[0m\u001b[0margs\u001b[0m\u001b[0;34m,\u001b[0m \u001b[0;34m**\u001b[0m\u001b[0mkwargs\u001b[0m\u001b[0;34m)\u001b[0m\u001b[0;34m\u001b[0m\u001b[0m\n\u001b[0m\u001b[1;32m     78\u001b[0m             \u001b[0;32mexcept\u001b[0m \u001b[0mValueError\u001b[0m \u001b[0;32mas\u001b[0m \u001b[0me\u001b[0m\u001b[0;34m:\u001b[0m\u001b[0;34m\u001b[0m\u001b[0m\n\u001b[1;32m     79\u001b[0m                 \u001b[0;31m# we want to transform an object array\u001b[0m\u001b[0;34m\u001b[0m\u001b[0;34m\u001b[0m\u001b[0m\n",
      "\u001b[0;32m/tools/anaconda/3-4.4.0/envs/py3_anaconda3_PT180510/lib/python3.6/site-packages/pandas/core/nanops.py\u001b[0m in \u001b[0;36mnansum\u001b[0;34m(values, axis, skipna, min_count)\u001b[0m\n\u001b[1;32m    328\u001b[0m \u001b[0;34m@\u001b[0m\u001b[0mdisallow\u001b[0m\u001b[0;34m(\u001b[0m\u001b[0;34m'M8'\u001b[0m\u001b[0;34m)\u001b[0m\u001b[0;34m\u001b[0m\u001b[0m\n\u001b[1;32m    329\u001b[0m \u001b[0;32mdef\u001b[0m \u001b[0mnansum\u001b[0m\u001b[0;34m(\u001b[0m\u001b[0mvalues\u001b[0m\u001b[0;34m,\u001b[0m \u001b[0maxis\u001b[0m\u001b[0;34m=\u001b[0m\u001b[0;32mNone\u001b[0m\u001b[0;34m,\u001b[0m \u001b[0mskipna\u001b[0m\u001b[0;34m=\u001b[0m\u001b[0;32mTrue\u001b[0m\u001b[0;34m,\u001b[0m \u001b[0mmin_count\u001b[0m\u001b[0;34m=\u001b[0m\u001b[0;36m0\u001b[0m\u001b[0;34m)\u001b[0m\u001b[0;34m:\u001b[0m\u001b[0;34m\u001b[0m\u001b[0m\n\u001b[0;32m--> 330\u001b[0;31m     \u001b[0mvalues\u001b[0m\u001b[0;34m,\u001b[0m \u001b[0mmask\u001b[0m\u001b[0;34m,\u001b[0m \u001b[0mdtype\u001b[0m\u001b[0;34m,\u001b[0m \u001b[0mdtype_max\u001b[0m \u001b[0;34m=\u001b[0m \u001b[0m_get_values\u001b[0m\u001b[0;34m(\u001b[0m\u001b[0mvalues\u001b[0m\u001b[0;34m,\u001b[0m \u001b[0mskipna\u001b[0m\u001b[0;34m,\u001b[0m \u001b[0;36m0\u001b[0m\u001b[0;34m)\u001b[0m\u001b[0;34m\u001b[0m\u001b[0m\n\u001b[0m\u001b[1;32m    331\u001b[0m     \u001b[0mdtype_sum\u001b[0m \u001b[0;34m=\u001b[0m \u001b[0mdtype_max\u001b[0m\u001b[0;34m\u001b[0m\u001b[0m\n\u001b[1;32m    332\u001b[0m     \u001b[0;32mif\u001b[0m \u001b[0mis_float_dtype\u001b[0m\u001b[0;34m(\u001b[0m\u001b[0mdtype\u001b[0m\u001b[0;34m)\u001b[0m\u001b[0;34m:\u001b[0m\u001b[0;34m\u001b[0m\u001b[0m\n",
      "\u001b[0;32m/tools/anaconda/3-4.4.0/envs/py3_anaconda3_PT180510/lib/python3.6/site-packages/pandas/core/nanops.py\u001b[0m in \u001b[0;36m_get_values\u001b[0;34m(values, skipna, fill_value, fill_value_typ, isfinite, copy)\u001b[0m\n\u001b[1;32m    210\u001b[0m         \u001b[0mmask\u001b[0m \u001b[0;34m=\u001b[0m \u001b[0m_isfinite\u001b[0m\u001b[0;34m(\u001b[0m\u001b[0mvalues\u001b[0m\u001b[0;34m)\u001b[0m\u001b[0;34m\u001b[0m\u001b[0m\n\u001b[1;32m    211\u001b[0m     \u001b[0;32melse\u001b[0m\u001b[0;34m:\u001b[0m\u001b[0;34m\u001b[0m\u001b[0m\n\u001b[0;32m--> 212\u001b[0;31m         \u001b[0mmask\u001b[0m \u001b[0;34m=\u001b[0m \u001b[0misna\u001b[0m\u001b[0;34m(\u001b[0m\u001b[0mvalues\u001b[0m\u001b[0;34m)\u001b[0m\u001b[0;34m\u001b[0m\u001b[0m\n\u001b[0m\u001b[1;32m    213\u001b[0m \u001b[0;34m\u001b[0m\u001b[0m\n\u001b[1;32m    214\u001b[0m     \u001b[0mdtype\u001b[0m \u001b[0;34m=\u001b[0m \u001b[0mvalues\u001b[0m\u001b[0;34m.\u001b[0m\u001b[0mdtype\u001b[0m\u001b[0;34m\u001b[0m\u001b[0m\n",
      "\u001b[0;32m/tools/anaconda/3-4.4.0/envs/py3_anaconda3_PT180510/lib/python3.6/site-packages/pandas/core/dtypes/missing.py\u001b[0m in \u001b[0;36misna\u001b[0;34m(obj)\u001b[0m\n\u001b[1;32m    104\u001b[0m     \u001b[0mName\u001b[0m\u001b[0;34m:\u001b[0m \u001b[0;36m1\u001b[0m\u001b[0;34m,\u001b[0m \u001b[0mdtype\u001b[0m\u001b[0;34m:\u001b[0m \u001b[0mbool\u001b[0m\u001b[0;34m\u001b[0m\u001b[0m\n\u001b[1;32m    105\u001b[0m     \"\"\"\n\u001b[0;32m--> 106\u001b[0;31m     \u001b[0;32mreturn\u001b[0m \u001b[0m_isna\u001b[0m\u001b[0;34m(\u001b[0m\u001b[0mobj\u001b[0m\u001b[0;34m)\u001b[0m\u001b[0;34m\u001b[0m\u001b[0m\n\u001b[0m\u001b[1;32m    107\u001b[0m \u001b[0;34m\u001b[0m\u001b[0m\n\u001b[1;32m    108\u001b[0m \u001b[0;34m\u001b[0m\u001b[0m\n",
      "\u001b[0;32m/tools/anaconda/3-4.4.0/envs/py3_anaconda3_PT180510/lib/python3.6/site-packages/pandas/core/dtypes/missing.py\u001b[0m in \u001b[0;36m_isna_new\u001b[0;34m(obj)\u001b[0m\n\u001b[1;32m    118\u001b[0m     elif isinstance(obj, (ABCSeries, np.ndarray, ABCIndexClass,\n\u001b[1;32m    119\u001b[0m                           ABCExtensionArray)):\n\u001b[0;32m--> 120\u001b[0;31m         \u001b[0;32mreturn\u001b[0m \u001b[0m_isna_ndarraylike\u001b[0m\u001b[0;34m(\u001b[0m\u001b[0mobj\u001b[0m\u001b[0;34m)\u001b[0m\u001b[0;34m\u001b[0m\u001b[0m\n\u001b[0m\u001b[1;32m    121\u001b[0m     \u001b[0;32melif\u001b[0m \u001b[0misinstance\u001b[0m\u001b[0;34m(\u001b[0m\u001b[0mobj\u001b[0m\u001b[0;34m,\u001b[0m \u001b[0mABCGeneric\u001b[0m\u001b[0;34m)\u001b[0m\u001b[0;34m:\u001b[0m\u001b[0;34m\u001b[0m\u001b[0m\n\u001b[1;32m    122\u001b[0m         \u001b[0;32mreturn\u001b[0m \u001b[0mobj\u001b[0m\u001b[0;34m.\u001b[0m\u001b[0m_constructor\u001b[0m\u001b[0;34m(\u001b[0m\u001b[0mobj\u001b[0m\u001b[0;34m.\u001b[0m\u001b[0m_data\u001b[0m\u001b[0;34m.\u001b[0m\u001b[0misna\u001b[0m\u001b[0;34m(\u001b[0m\u001b[0mfunc\u001b[0m\u001b[0;34m=\u001b[0m\u001b[0misna\u001b[0m\u001b[0;34m)\u001b[0m\u001b[0;34m)\u001b[0m\u001b[0;34m\u001b[0m\u001b[0m\n",
      "\u001b[0;32m/tools/anaconda/3-4.4.0/envs/py3_anaconda3_PT180510/lib/python3.6/site-packages/pandas/core/dtypes/missing.py\u001b[0m in \u001b[0;36m_isna_ndarraylike\u001b[0;34m(obj)\u001b[0m\n\u001b[1;32m    218\u001b[0m         \u001b[0mresult\u001b[0m \u001b[0;34m=\u001b[0m \u001b[0mvalues\u001b[0m\u001b[0;34m.\u001b[0m\u001b[0mview\u001b[0m\u001b[0;34m(\u001b[0m\u001b[0;34m'i8'\u001b[0m\u001b[0;34m)\u001b[0m \u001b[0;34m==\u001b[0m \u001b[0miNaT\u001b[0m\u001b[0;34m\u001b[0m\u001b[0m\n\u001b[1;32m    219\u001b[0m     \u001b[0;32melse\u001b[0m\u001b[0;34m:\u001b[0m\u001b[0;34m\u001b[0m\u001b[0m\n\u001b[0;32m--> 220\u001b[0;31m         \u001b[0mresult\u001b[0m \u001b[0;34m=\u001b[0m \u001b[0mnp\u001b[0m\u001b[0;34m.\u001b[0m\u001b[0misnan\u001b[0m\u001b[0;34m(\u001b[0m\u001b[0mvalues\u001b[0m\u001b[0;34m)\u001b[0m\u001b[0;34m\u001b[0m\u001b[0m\n\u001b[0m\u001b[1;32m    221\u001b[0m \u001b[0;34m\u001b[0m\u001b[0m\n\u001b[1;32m    222\u001b[0m     \u001b[0;31m# box\u001b[0m\u001b[0;34m\u001b[0m\u001b[0;34m\u001b[0m\u001b[0m\n",
      "\u001b[0;31mKeyboardInterrupt\u001b[0m: "
     ]
    }
   ],
   "source": [
    "### OBS INEFFICIENT: this creates a COPY of the data frame.\n",
    "df_ctc_log = np.log(1+df/df.sum(axis=0)*1e4) # column sum. Seurat default scale.factor is '10000'\n",
    "del df # clean up"
   ]
  },
  {
   "cell_type": "code",
   "execution_count": null,
   "metadata": {
    "collapsed": true
   },
   "outputs": [],
   "source": []
  },
  {
   "cell_type": "markdown",
   "metadata": {},
   "source": [
    "### Split into groups"
   ]
  },
  {
   "cell_type": "code",
   "execution_count": null,
   "metadata": {
    "ExecuteTime": {
     "end_time": "2018-11-16T09:32:38.193332Z",
     "start_time": "2018-11-16T09:30:10.098Z"
    },
    "collapsed": true
   },
   "outputs": [],
   "source": [
    "list_arrays = []\n",
    "for lvl in df_ctc_log.columns.get_level_values(level=\"ClusterName\").unique():\n",
    "    print(lvl)\n",
    "    list_arrays.append(df_ctc_log.xs(lvl, level=\"ClusterName\", axis=1))\n",
    "    # REF xs() : https://pandas.pydata.org/pandas-docs/stable/advanced.html#cross-section"
   ]
  },
  {
   "cell_type": "code",
   "execution_count": null,
   "metadata": {
    "ExecuteTime": {
     "end_time": "2018-11-16T09:26:27.361073Z",
     "start_time": "2018-11-16T09:26:27.354378Z"
    },
    "collapsed": true
   },
   "outputs": [],
   "source": []
  },
  {
   "cell_type": "code",
   "execution_count": null,
   "metadata": {
    "ExecuteTime": {
     "end_time": "2018-11-13T17:16:55.774491Z",
     "start_time": "2018-11-13T17:16:55.652730Z"
    },
    "collapsed": true
   },
   "outputs": [],
   "source": []
  },
  {
   "cell_type": "markdown",
   "metadata": {
    "ExecuteTime": {
     "end_time": "2018-10-31T12:03:11.194493Z",
     "start_time": "2018-10-31T12:03:11.180993Z"
    }
   },
   "source": [
    "### Run ANOVA"
   ]
  },
  {
   "cell_type": "code",
   "execution_count": null,
   "metadata": {
    "ExecuteTime": {
     "end_time": "2018-11-13T17:27:22.772123Z",
     "start_time": "2018-11-13T17:27:22.752079Z"
    },
    "collapsed": true
   },
   "outputs": [],
   "source": []
  },
  {
   "cell_type": "code",
   "execution_count": null,
   "metadata": {
    "ExecuteTime": {
     "end_time": "2018-11-16T09:32:38.194242Z",
     "start_time": "2018-11-16T09:30:10.103Z"
    },
    "collapsed": true,
    "scrolled": true
   },
   "outputs": [],
   "source": [
    "from scipy import stats\n",
    "# https://docs.scipy.org/doc/scipy-0.16.1/reference/generated/scipy.stats.f_oneway.html\n",
    "# dict_results = {}\n",
    "df_anova = pd.DataFrame(index=df_ctc_log.index)\n",
    "for idx_gene in range(len(df_ctc_log.index)): # loop over all genes\n",
    "    if idx_gene % 100 == 0:\n",
    "        print(idx_gene)\n",
    "    gene_id = df_ctc_log.index[idx_gene]\n",
    "    f = stats.f_oneway(*[df_tmp.values[idx_gene,:] for df_tmp in list_arrays])\n",
    "    df_anova.loc[gene_id, \"pvalue\"] = f.pvalue\n",
    "    df_anova.loc[gene_id, \"statistic\"] = f.statistic\n",
    "    # dict_results[gene_id] = f.pvalue\n",
    "    # dict_results[gene_id] = f.statistic\n",
    "\n",
    "### INFO\n",
    "# stats.f_oneway("
   ]
  },
  {
   "cell_type": "code",
   "execution_count": null,
   "metadata": {
    "ExecuteTime": {
     "end_time": "2018-11-16T09:32:38.194990Z",
     "start_time": "2018-11-16T09:30:10.105Z"
    },
    "collapsed": true
   },
   "outputs": [],
   "source": [
    "# Inspect results\n",
    "# df_anova[df_anova['pvalue'] > 0.00001]\n",
    "\n",
    "### Sort\n",
    "df_anova.sort_values(\"pvalue\",ascending=False, inplace=True)"
   ]
  },
  {
   "cell_type": "code",
   "execution_count": 44,
   "metadata": {
    "ExecuteTime": {
     "end_time": "2018-11-18T15:22:54.297147Z",
     "start_time": "2018-11-18T15:22:54.288731Z"
    }
   },
   "outputs": [
    {
     "name": "stdout",
     "output_type": "stream",
     "text": [
      "nan\n",
      "-2.2160019704933293e+17\n"
     ]
    }
   ],
   "source": [
    "from scipy import stats\n",
    "### Testing\n",
    "# x = np.array([1,2,3,4,1,2,3])\n",
    "# y = np.array([11,22,53,43,12,12,10])\n",
    "x = np.array([1]*101)\n",
    "y = np.array([0]*6)\n",
    "# z = np.array([2]*10)\n",
    "z = np.array([0]*10)\n",
    "f = stats.f_oneway(*[x, y, z])\n",
    "print(f.pvalue)\n",
    "print(f.statistic)\n",
    "\n",
    "# Z5: 0.0 / inf\n",
    "# Z10: nan / -3.4983318534038676e+16\n",
    "# Z100: 0.0 / inf\n",
    "\n",
    "\n",
    "### Warning if all groups are constants\n",
    "# RuntimeWarning: divide by zero encountered in double_scalars\n",
    "# f = msb / msw"
   ]
  },
  {
   "cell_type": "code",
   "execution_count": 18,
   "metadata": {
    "ExecuteTime": {
     "end_time": "2018-11-18T15:07:02.605245Z",
     "start_time": "2018-11-18T15:07:02.595673Z"
    }
   },
   "outputs": [
    {
     "data": {
      "text/plain": [
       "array([2, 2, 2, 2, 2, 2, 2, 2, 2, 2])"
      ]
     },
     "execution_count": 18,
     "metadata": {},
     "output_type": "execute_result"
    }
   ],
   "source": [
    "z = np.array([2]*10)\n",
    "z"
   ]
  },
  {
   "cell_type": "markdown",
   "metadata": {},
   "source": [
    "### Export results"
   ]
  },
  {
   "cell_type": "code",
   "execution_count": null,
   "metadata": {
    "ExecuteTime": {
     "end_time": "2018-11-16T09:32:38.196431Z",
     "start_time": "2018-11-16T09:30:10.110Z"
    },
    "collapsed": true
   },
   "outputs": [],
   "source": [
    "df_anova.to_csv(\"mousebrain.pre_calc.sporadically_expressed_genes.anova.csv.gz\", compression=\"gzip\")"
   ]
  },
  {
   "cell_type": "code",
   "execution_count": null,
   "metadata": {
    "ExecuteTime": {
     "end_time": "2018-11-16T09:24:26.589379Z",
     "start_time": "2018-11-16T09:24:26.512454Z"
    },
    "collapsed": true
   },
   "outputs": [],
   "source": []
  },
  {
   "cell_type": "markdown",
   "metadata": {
    "collapsed": true
   },
   "source": [
    "### Count how many genes are present after ortholog mapping"
   ]
  },
  {
   "cell_type": "code",
   "execution_count": null,
   "metadata": {
    "ExecuteTime": {
     "end_time": "2018-11-16T09:32:38.197186Z",
     "start_time": "2018-11-16T09:30:10.113Z"
    },
    "collapsed": true
   },
   "outputs": [],
   "source": [
    "### Define sporatically expressed genes\n",
    "genes_sporadically = df_anova[df_anova['pvalue'] > 0.00001].index # 0.00001 is Skene cut-off\n",
    "genes_sporadically"
   ]
  },
  {
   "cell_type": "code",
   "execution_count": null,
   "metadata": {
    "ExecuteTime": {
     "end_time": "2018-11-16T09:32:38.197916Z",
     "start_time": "2018-11-16T09:30:10.115Z"
    },
    "collapsed": true
   },
   "outputs": [],
   "source": [
    "file_ortholog = \"/projects/timshel/sc-genetics/sc-genetics/data/gene_annotations/gene_annotation.hsapiens_mmusculus_unique_orthologs.GRCh37.ens_v91.txt.gz\"\n",
    "df_ortho = pd.read_csv(file_ortholog, sep=\"\\t\")\n",
    "df_ortho.head()"
   ]
  },
  {
   "cell_type": "code",
   "execution_count": null,
   "metadata": {
    "ExecuteTime": {
     "end_time": "2018-11-16T09:32:38.198667Z",
     "start_time": "2018-11-16T09:30:10.118Z"
    },
    "collapsed": true
   },
   "outputs": [],
   "source": [
    "### Get sporadically genes that has orthologs\n",
    "genes_sporadically_ortholog = genes_sporadically[genes_sporadically.isin(df_ortho[\"mmusculus_homolog_ensembl_gene\"])]\n",
    "genes_sporadically_ortholog \n",
    "# ---> 462 genes with NO ctc_log transformation\n",
    "# ---> XXX genes with ctc_log transformation"
   ]
  },
  {
   "cell_type": "code",
   "execution_count": null,
   "metadata": {
    "ExecuteTime": {
     "end_time": "2018-11-16T09:32:38.199759Z",
     "start_time": "2018-11-16T09:30:10.120Z"
    },
    "collapsed": true
   },
   "outputs": [],
   "source": [
    "### Ortholog map to human\n",
    "genes_sporadically_ortholog_human_id = df_ortho[df_ortho[\"mmusculus_homolog_ensembl_gene\"].isin(genes_sporadically_ortholog)][\"ensembl_gene_id\"]\n",
    "genes_sporadically_ortholog_human_id.head()"
   ]
  },
  {
   "cell_type": "code",
   "execution_count": null,
   "metadata": {
    "collapsed": true
   },
   "outputs": [],
   "source": []
  },
  {
   "cell_type": "code",
   "execution_count": null,
   "metadata": {
    "collapsed": true
   },
   "outputs": [],
   "source": []
  },
  {
   "cell_type": "code",
   "execution_count": null,
   "metadata": {
    "collapsed": true
   },
   "outputs": [],
   "source": []
  },
  {
   "cell_type": "markdown",
   "metadata": {},
   "source": [
    "### Check average expression"
   ]
  },
  {
   "cell_type": "code",
   "execution_count": 104,
   "metadata": {
    "ExecuteTime": {
     "end_time": "2018-11-13T17:54:07.604968Z",
     "start_time": "2018-11-13T17:54:06.199373Z"
    }
   },
   "outputs": [
    {
     "data": {
      "text/html": [
       "<div>\n",
       "<style scoped>\n",
       "    .dataframe tbody tr th:only-of-type {\n",
       "        vertical-align: middle;\n",
       "    }\n",
       "\n",
       "    .dataframe tbody tr th {\n",
       "        vertical-align: top;\n",
       "    }\n",
       "\n",
       "    .dataframe thead th {\n",
       "        text-align: right;\n",
       "    }\n",
       "</style>\n",
       "<table border=\"1\" class=\"dataframe\">\n",
       "  <thead>\n",
       "    <tr style=\"text-align: right;\">\n",
       "      <th></th>\n",
       "      <th>ENT9</th>\n",
       "      <th>ENT8</th>\n",
       "      <th>ENT6</th>\n",
       "      <th>ENT5</th>\n",
       "      <th>ENT4</th>\n",
       "      <th>ENT7</th>\n",
       "      <th>ENT3</th>\n",
       "      <th>ENT2</th>\n",
       "      <th>ENT1</th>\n",
       "      <th>ENTG1</th>\n",
       "      <th>...</th>\n",
       "      <th>PSPEP8</th>\n",
       "      <th>PSNF2</th>\n",
       "      <th>PSNF3</th>\n",
       "      <th>PSNF1</th>\n",
       "      <th>PSNP1</th>\n",
       "      <th>PSNP3</th>\n",
       "      <th>PSNP2</th>\n",
       "      <th>PSNP5</th>\n",
       "      <th>PSNP4</th>\n",
       "      <th>PSNP6</th>\n",
       "    </tr>\n",
       "    <tr>\n",
       "      <th>gene</th>\n",
       "      <th></th>\n",
       "      <th></th>\n",
       "      <th></th>\n",
       "      <th></th>\n",
       "      <th></th>\n",
       "      <th></th>\n",
       "      <th></th>\n",
       "      <th></th>\n",
       "      <th></th>\n",
       "      <th></th>\n",
       "      <th></th>\n",
       "      <th></th>\n",
       "      <th></th>\n",
       "      <th></th>\n",
       "      <th></th>\n",
       "      <th></th>\n",
       "      <th></th>\n",
       "      <th></th>\n",
       "      <th></th>\n",
       "      <th></th>\n",
       "      <th></th>\n",
       "    </tr>\n",
       "  </thead>\n",
       "  <tbody>\n",
       "    <tr>\n",
       "      <th>ENSG00000141668</th>\n",
       "      <td>2.330858</td>\n",
       "      <td>0.268913</td>\n",
       "      <td>0.188568</td>\n",
       "      <td>0.090219</td>\n",
       "      <td>0.046593</td>\n",
       "      <td>0.000000</td>\n",
       "      <td>0.011692</td>\n",
       "      <td>0.015235</td>\n",
       "      <td>0.072049</td>\n",
       "      <td>0.035456</td>\n",
       "      <td>...</td>\n",
       "      <td>0.000000</td>\n",
       "      <td>1.237977</td>\n",
       "      <td>0.230941</td>\n",
       "      <td>1.519044</td>\n",
       "      <td>0.245476</td>\n",
       "      <td>0.000000</td>\n",
       "      <td>0.000000</td>\n",
       "      <td>0.011752</td>\n",
       "      <td>0.000000</td>\n",
       "      <td>0.002043</td>\n",
       "    </tr>\n",
       "    <tr>\n",
       "      <th>ENSG00000204624</th>\n",
       "      <td>0.341488</td>\n",
       "      <td>0.000000</td>\n",
       "      <td>0.000000</td>\n",
       "      <td>0.000000</td>\n",
       "      <td>0.000000</td>\n",
       "      <td>0.059498</td>\n",
       "      <td>0.000000</td>\n",
       "      <td>0.008833</td>\n",
       "      <td>0.000000</td>\n",
       "      <td>0.000000</td>\n",
       "      <td>...</td>\n",
       "      <td>0.136221</td>\n",
       "      <td>0.109006</td>\n",
       "      <td>0.049078</td>\n",
       "      <td>0.087294</td>\n",
       "      <td>0.000000</td>\n",
       "      <td>0.001218</td>\n",
       "      <td>0.070288</td>\n",
       "      <td>0.010621</td>\n",
       "      <td>0.000000</td>\n",
       "      <td>0.010962</td>\n",
       "    </tr>\n",
       "    <tr>\n",
       "      <th>ENSG00000187848</th>\n",
       "      <td>2.058074</td>\n",
       "      <td>0.655755</td>\n",
       "      <td>0.137839</td>\n",
       "      <td>0.585869</td>\n",
       "      <td>0.470494</td>\n",
       "      <td>0.966922</td>\n",
       "      <td>0.945266</td>\n",
       "      <td>0.747460</td>\n",
       "      <td>1.040404</td>\n",
       "      <td>0.011592</td>\n",
       "      <td>...</td>\n",
       "      <td>0.022039</td>\n",
       "      <td>0.000000</td>\n",
       "      <td>0.000000</td>\n",
       "      <td>0.000000</td>\n",
       "      <td>0.009232</td>\n",
       "      <td>0.002483</td>\n",
       "      <td>0.000000</td>\n",
       "      <td>0.188068</td>\n",
       "      <td>0.018544</td>\n",
       "      <td>0.662790</td>\n",
       "    </tr>\n",
       "    <tr>\n",
       "      <th>ENSG00000171522</th>\n",
       "      <td>0.526382</td>\n",
       "      <td>0.071253</td>\n",
       "      <td>0.223404</td>\n",
       "      <td>0.212315</td>\n",
       "      <td>0.190167</td>\n",
       "      <td>0.200587</td>\n",
       "      <td>0.088043</td>\n",
       "      <td>0.161336</td>\n",
       "      <td>0.271647</td>\n",
       "      <td>0.000000</td>\n",
       "      <td>...</td>\n",
       "      <td>0.000000</td>\n",
       "      <td>0.107090</td>\n",
       "      <td>0.169826</td>\n",
       "      <td>0.073189</td>\n",
       "      <td>0.039981</td>\n",
       "      <td>0.024541</td>\n",
       "      <td>0.047702</td>\n",
       "      <td>0.064767</td>\n",
       "      <td>0.087250</td>\n",
       "      <td>0.093792</td>\n",
       "    </tr>\n",
       "    <tr>\n",
       "      <th>ENSG00000183662</th>\n",
       "      <td>2.130974</td>\n",
       "      <td>2.112896</td>\n",
       "      <td>1.763393</td>\n",
       "      <td>1.362093</td>\n",
       "      <td>0.988794</td>\n",
       "      <td>1.209140</td>\n",
       "      <td>0.078839</td>\n",
       "      <td>0.095011</td>\n",
       "      <td>1.260892</td>\n",
       "      <td>0.000000</td>\n",
       "      <td>...</td>\n",
       "      <td>0.000000</td>\n",
       "      <td>0.290153</td>\n",
       "      <td>0.423142</td>\n",
       "      <td>0.061954</td>\n",
       "      <td>0.007465</td>\n",
       "      <td>0.006114</td>\n",
       "      <td>0.000000</td>\n",
       "      <td>0.006742</td>\n",
       "      <td>0.000000</td>\n",
       "      <td>0.003821</td>\n",
       "    </tr>\n",
       "  </tbody>\n",
       "</table>\n",
       "<p>5 rows × 265 columns</p>\n",
       "</div>"
      ],
      "text/plain": [
       "                     ENT9      ENT8      ENT6      ENT5      ENT4      ENT7  \\\n",
       "gene                                                                          \n",
       "ENSG00000141668  2.330858  0.268913  0.188568  0.090219  0.046593  0.000000   \n",
       "ENSG00000204624  0.341488  0.000000  0.000000  0.000000  0.000000  0.059498   \n",
       "ENSG00000187848  2.058074  0.655755  0.137839  0.585869  0.470494  0.966922   \n",
       "ENSG00000171522  0.526382  0.071253  0.223404  0.212315  0.190167  0.200587   \n",
       "ENSG00000183662  2.130974  2.112896  1.763393  1.362093  0.988794  1.209140   \n",
       "\n",
       "                     ENT3      ENT2      ENT1     ENTG1    ...       PSPEP8  \\\n",
       "gene                                                       ...                \n",
       "ENSG00000141668  0.011692  0.015235  0.072049  0.035456    ...     0.000000   \n",
       "ENSG00000204624  0.000000  0.008833  0.000000  0.000000    ...     0.136221   \n",
       "ENSG00000187848  0.945266  0.747460  1.040404  0.011592    ...     0.022039   \n",
       "ENSG00000171522  0.088043  0.161336  0.271647  0.000000    ...     0.000000   \n",
       "ENSG00000183662  0.078839  0.095011  1.260892  0.000000    ...     0.000000   \n",
       "\n",
       "                    PSNF2     PSNF3     PSNF1     PSNP1     PSNP3     PSNP2  \\\n",
       "gene                                                                          \n",
       "ENSG00000141668  1.237977  0.230941  1.519044  0.245476  0.000000  0.000000   \n",
       "ENSG00000204624  0.109006  0.049078  0.087294  0.000000  0.001218  0.070288   \n",
       "ENSG00000187848  0.000000  0.000000  0.000000  0.009232  0.002483  0.000000   \n",
       "ENSG00000171522  0.107090  0.169826  0.073189  0.039981  0.024541  0.047702   \n",
       "ENSG00000183662  0.290153  0.423142  0.061954  0.007465  0.006114  0.000000   \n",
       "\n",
       "                    PSNP5     PSNP4     PSNP6  \n",
       "gene                                           \n",
       "ENSG00000141668  0.011752  0.000000  0.002043  \n",
       "ENSG00000204624  0.010621  0.000000  0.010962  \n",
       "ENSG00000187848  0.188068  0.018544  0.662790  \n",
       "ENSG00000171522  0.064767  0.087250  0.093792  \n",
       "ENSG00000183662  0.006742  0.000000  0.003821  \n",
       "\n",
       "[5 rows x 265 columns]"
      ]
     },
     "execution_count": 104,
     "metadata": {},
     "output_type": "execute_result"
    }
   ],
   "source": [
    "### Read expression data\n",
    "file_expr = \"/projects/timshel/sc-genetics/sc-genetics/data/expression/mousebrain/mousebrain.celltype_expr.avg_expr.hsapiens_orthologs.csv.gz\"\n",
    "df_expr = pd.read_csv(file_expr, index_col=0)\n",
    "df_expr.head()"
   ]
  },
  {
   "cell_type": "code",
   "execution_count": 107,
   "metadata": {
    "ExecuteTime": {
     "end_time": "2018-11-13T17:54:54.070415Z",
     "start_time": "2018-11-13T17:54:54.047425Z"
    }
   },
   "outputs": [
    {
     "data": {
      "text/html": [
       "<div>\n",
       "<style scoped>\n",
       "    .dataframe tbody tr th:only-of-type {\n",
       "        vertical-align: middle;\n",
       "    }\n",
       "\n",
       "    .dataframe tbody tr th {\n",
       "        vertical-align: top;\n",
       "    }\n",
       "\n",
       "    .dataframe thead th {\n",
       "        text-align: right;\n",
       "    }\n",
       "</style>\n",
       "<table border=\"1\" class=\"dataframe\">\n",
       "  <thead>\n",
       "    <tr style=\"text-align: right;\">\n",
       "      <th></th>\n",
       "      <th>ENT9</th>\n",
       "      <th>ENT8</th>\n",
       "      <th>ENT6</th>\n",
       "      <th>ENT5</th>\n",
       "      <th>ENT4</th>\n",
       "      <th>ENT7</th>\n",
       "      <th>ENT3</th>\n",
       "      <th>ENT2</th>\n",
       "      <th>ENT1</th>\n",
       "      <th>ENTG1</th>\n",
       "      <th>...</th>\n",
       "      <th>PSPEP8</th>\n",
       "      <th>PSNF2</th>\n",
       "      <th>PSNF3</th>\n",
       "      <th>PSNF1</th>\n",
       "      <th>PSNP1</th>\n",
       "      <th>PSNP3</th>\n",
       "      <th>PSNP2</th>\n",
       "      <th>PSNP5</th>\n",
       "      <th>PSNP4</th>\n",
       "      <th>PSNP6</th>\n",
       "    </tr>\n",
       "    <tr>\n",
       "      <th>gene</th>\n",
       "      <th></th>\n",
       "      <th></th>\n",
       "      <th></th>\n",
       "      <th></th>\n",
       "      <th></th>\n",
       "      <th></th>\n",
       "      <th></th>\n",
       "      <th></th>\n",
       "      <th></th>\n",
       "      <th></th>\n",
       "      <th></th>\n",
       "      <th></th>\n",
       "      <th></th>\n",
       "      <th></th>\n",
       "      <th></th>\n",
       "      <th></th>\n",
       "      <th></th>\n",
       "      <th></th>\n",
       "      <th></th>\n",
       "      <th></th>\n",
       "      <th></th>\n",
       "    </tr>\n",
       "  </thead>\n",
       "  <tbody>\n",
       "    <tr>\n",
       "      <th>ENSG00000176136</th>\n",
       "      <td>0.0</td>\n",
       "      <td>0.0</td>\n",
       "      <td>0.0</td>\n",
       "      <td>0.0</td>\n",
       "      <td>0.0</td>\n",
       "      <td>0.0</td>\n",
       "      <td>0.0</td>\n",
       "      <td>0.000000</td>\n",
       "      <td>0.0</td>\n",
       "      <td>0.0</td>\n",
       "      <td>...</td>\n",
       "      <td>0.0</td>\n",
       "      <td>0.0</td>\n",
       "      <td>0.0</td>\n",
       "      <td>0.0</td>\n",
       "      <td>0.0</td>\n",
       "      <td>0.0</td>\n",
       "      <td>0.0</td>\n",
       "      <td>0.0</td>\n",
       "      <td>0.0</td>\n",
       "      <td>0.0</td>\n",
       "    </tr>\n",
       "    <tr>\n",
       "      <th>ENSG00000185231</th>\n",
       "      <td>0.0</td>\n",
       "      <td>0.0</td>\n",
       "      <td>0.0</td>\n",
       "      <td>0.0</td>\n",
       "      <td>0.0</td>\n",
       "      <td>0.0</td>\n",
       "      <td>0.0</td>\n",
       "      <td>0.000000</td>\n",
       "      <td>0.0</td>\n",
       "      <td>0.0</td>\n",
       "      <td>...</td>\n",
       "      <td>0.0</td>\n",
       "      <td>0.0</td>\n",
       "      <td>0.0</td>\n",
       "      <td>0.0</td>\n",
       "      <td>0.0</td>\n",
       "      <td>0.0</td>\n",
       "      <td>0.0</td>\n",
       "      <td>0.0</td>\n",
       "      <td>0.0</td>\n",
       "      <td>0.0</td>\n",
       "    </tr>\n",
       "    <tr>\n",
       "      <th>ENSG00000215474</th>\n",
       "      <td>0.0</td>\n",
       "      <td>0.0</td>\n",
       "      <td>0.0</td>\n",
       "      <td>0.0</td>\n",
       "      <td>0.0</td>\n",
       "      <td>0.0</td>\n",
       "      <td>0.0</td>\n",
       "      <td>0.000000</td>\n",
       "      <td>0.0</td>\n",
       "      <td>0.0</td>\n",
       "      <td>...</td>\n",
       "      <td>0.0</td>\n",
       "      <td>0.0</td>\n",
       "      <td>0.0</td>\n",
       "      <td>0.0</td>\n",
       "      <td>0.0</td>\n",
       "      <td>0.0</td>\n",
       "      <td>0.0</td>\n",
       "      <td>0.0</td>\n",
       "      <td>0.0</td>\n",
       "      <td>0.0</td>\n",
       "    </tr>\n",
       "    <tr>\n",
       "      <th>ENSG00000258713</th>\n",
       "      <td>0.0</td>\n",
       "      <td>0.0</td>\n",
       "      <td>0.0</td>\n",
       "      <td>0.0</td>\n",
       "      <td>0.0</td>\n",
       "      <td>0.0</td>\n",
       "      <td>0.0</td>\n",
       "      <td>0.000000</td>\n",
       "      <td>0.0</td>\n",
       "      <td>0.0</td>\n",
       "      <td>...</td>\n",
       "      <td>0.0</td>\n",
       "      <td>0.0</td>\n",
       "      <td>0.0</td>\n",
       "      <td>0.0</td>\n",
       "      <td>0.0</td>\n",
       "      <td>0.0</td>\n",
       "      <td>0.0</td>\n",
       "      <td>0.0</td>\n",
       "      <td>0.0</td>\n",
       "      <td>0.0</td>\n",
       "    </tr>\n",
       "    <tr>\n",
       "      <th>ENSG00000124092</th>\n",
       "      <td>0.0</td>\n",
       "      <td>0.0</td>\n",
       "      <td>0.0</td>\n",
       "      <td>0.0</td>\n",
       "      <td>0.0</td>\n",
       "      <td>0.0</td>\n",
       "      <td>0.0</td>\n",
       "      <td>0.014775</td>\n",
       "      <td>0.0</td>\n",
       "      <td>0.0</td>\n",
       "      <td>...</td>\n",
       "      <td>0.0</td>\n",
       "      <td>0.0</td>\n",
       "      <td>0.0</td>\n",
       "      <td>0.0</td>\n",
       "      <td>0.0</td>\n",
       "      <td>0.0</td>\n",
       "      <td>0.0</td>\n",
       "      <td>0.0</td>\n",
       "      <td>0.0</td>\n",
       "      <td>0.0</td>\n",
       "    </tr>\n",
       "  </tbody>\n",
       "</table>\n",
       "<p>5 rows × 265 columns</p>\n",
       "</div>"
      ],
      "text/plain": [
       "                 ENT9  ENT8  ENT6  ENT5  ENT4  ENT7  ENT3      ENT2  ENT1  \\\n",
       "gene                                                                        \n",
       "ENSG00000176136   0.0   0.0   0.0   0.0   0.0   0.0   0.0  0.000000   0.0   \n",
       "ENSG00000185231   0.0   0.0   0.0   0.0   0.0   0.0   0.0  0.000000   0.0   \n",
       "ENSG00000215474   0.0   0.0   0.0   0.0   0.0   0.0   0.0  0.000000   0.0   \n",
       "ENSG00000258713   0.0   0.0   0.0   0.0   0.0   0.0   0.0  0.000000   0.0   \n",
       "ENSG00000124092   0.0   0.0   0.0   0.0   0.0   0.0   0.0  0.014775   0.0   \n",
       "\n",
       "                 ENTG1  ...    PSPEP8  PSNF2  PSNF3  PSNF1  PSNP1  PSNP3  \\\n",
       "gene                    ...                                                \n",
       "ENSG00000176136    0.0  ...       0.0    0.0    0.0    0.0    0.0    0.0   \n",
       "ENSG00000185231    0.0  ...       0.0    0.0    0.0    0.0    0.0    0.0   \n",
       "ENSG00000215474    0.0  ...       0.0    0.0    0.0    0.0    0.0    0.0   \n",
       "ENSG00000258713    0.0  ...       0.0    0.0    0.0    0.0    0.0    0.0   \n",
       "ENSG00000124092    0.0  ...       0.0    0.0    0.0    0.0    0.0    0.0   \n",
       "\n",
       "                 PSNP2  PSNP5  PSNP4  PSNP6  \n",
       "gene                                         \n",
       "ENSG00000176136    0.0    0.0    0.0    0.0  \n",
       "ENSG00000185231    0.0    0.0    0.0    0.0  \n",
       "ENSG00000215474    0.0    0.0    0.0    0.0  \n",
       "ENSG00000258713    0.0    0.0    0.0    0.0  \n",
       "ENSG00000124092    0.0    0.0    0.0    0.0  \n",
       "\n",
       "[5 rows x 265 columns]"
      ]
     },
     "execution_count": 107,
     "metadata": {},
     "output_type": "execute_result"
    }
   ],
   "source": [
    "### Get spradically\n",
    "df_expr_sporadically = df_expr.loc[genes_sporadically_ortholog_human_id]\n",
    "df_expr_sporadically.head()"
   ]
  },
  {
   "cell_type": "code",
   "execution_count": null,
   "metadata": {
    "collapsed": true
   },
   "outputs": [],
   "source": []
  },
  {
   "cell_type": "code",
   "execution_count": 110,
   "metadata": {
    "ExecuteTime": {
     "end_time": "2018-11-13T17:57:24.451803Z",
     "start_time": "2018-11-13T17:57:24.305655Z"
    }
   },
   "outputs": [
    {
     "data": {
      "text/plain": [
       "<matplotlib.axes._subplots.AxesSubplot at 0x7f7e8be62588>"
      ]
     },
     "execution_count": 110,
     "metadata": {},
     "output_type": "execute_result"
    },
    {
     "data": {
      "image/png": "[encoded data removed]",
      "text/plain": [
       "<Figure size 432x288 with 1 Axes>"
      ]
     },
     "metadata": {},
     "output_type": "display_data"
    }
   ],
   "source": [
    "%matplotlib inline\n",
    "df_expr_sporadically.sum(axis=1).plot()"
   ]
  },
  {
   "cell_type": "code",
   "execution_count": null,
   "metadata": {
    "collapsed": true
   },
   "outputs": [],
   "source": []
  },
  {
   "cell_type": "code",
   "execution_count": null,
   "metadata": {
    "collapsed": true
   },
   "outputs": [],
   "source": []
  },
  {
   "cell_type": "code",
   "execution_count": null,
   "metadata": {
    "collapsed": true
   },
   "outputs": [],
   "source": []
  },
  {
   "cell_type": "code",
   "execution_count": null,
   "metadata": {
    "collapsed": true
   },
   "outputs": [],
   "source": []
  },
  {
   "cell_type": "code",
   "execution_count": null,
   "metadata": {
    "ExecuteTime": {
     "start_time": "2018-07-13T08:39:20.895Z"
    },
    "collapsed": true
   },
   "outputs": [],
   "source": []
  },
  {
   "cell_type": "code",
   "execution_count": null,
   "metadata": {
    "collapsed": true
   },
   "outputs": [],
   "source": []
  }
 ],
 "metadata": {
  "kernelspec": {
   "display_name": "Python [conda env:py3_anaconda3_PT180510]",
   "language": "python",
   "name": "conda-env-py3_anaconda3_PT180510-py"
  },
  "language_info": {
   "codemirror_mode": {
    "name": "ipython",
    "version": 3
   },
   "file_extension": ".py",
   "mimetype": "text/x-python",
   "name": "python",
   "nbconvert_exporter": "python",
   "pygments_lexer": "ipython3",
   "version": "3.6.6"
  },
  "toc": {
   "colors": {
    "hover_highlight": "#DAA520",
    "navigate_num": "#000000",
    "navigate_text": "#333333",
    "running_highlight": "#FF0000",
    "selected_highlight": "#FFD700",
    "sidebar_border": "#EEEEEE",
    "wrapper_background": "#FFFFFF"
   },
   "moveMenuLeft": true,
   "nav_menu": {
    "height": "12px",
    "width": "252px"
   },
   "navigate_menu": true,
   "number_sections": true,
   "sideBar": true,
   "threshold": 4,
   "toc_cell": false,
   "toc_section_display": "block",
   "toc_window_display": false,
   "widenNotebook": false
  }
 },
 "nbformat": 4,
 "nbformat_minor": 2
}
